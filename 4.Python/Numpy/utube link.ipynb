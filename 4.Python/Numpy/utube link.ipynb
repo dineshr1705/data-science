{
 "cells": [
  {
   "cell_type": "code",
   "execution_count": 7,
   "id": "eb6cf2ef",
   "metadata": {},
   "outputs": [],
   "source": [
    "import pandas as pd"
   ]
  },
  {
   "cell_type": "code",
   "execution_count": 8,
   "id": "bdb41e06",
   "metadata": {},
   "outputs": [],
   "source": [
    "name = 'dinesh rd'"
   ]
  },
  {
   "cell_type": "code",
   "execution_count": 9,
   "id": "01c7b5f5",
   "metadata": {},
   "outputs": [
    {
     "data": {
      "text/plain": [
       "'dinesh rd'"
      ]
     },
     "execution_count": 9,
     "metadata": {},
     "output_type": "execute_result"
    }
   ],
   "source": [
    "name"
   ]
  },
  {
   "cell_type": "code",
   "execution_count": 10,
   "id": "5c94b5b3",
   "metadata": {},
   "outputs": [
    {
     "name": "stdout",
     "output_type": "stream",
     "text": [
      "sowdambika\n"
     ]
    }
   ],
   "source": [
    "NAME =input()"
   ]
  },
  {
   "cell_type": "code",
   "execution_count": 11,
   "id": "23c90247",
   "metadata": {},
   "outputs": [
    {
     "data": {
      "text/plain": [
       "'sowdambika'"
      ]
     },
     "execution_count": 11,
     "metadata": {},
     "output_type": "execute_result"
    }
   ],
   "source": [
    "NAME"
   ]
  },
  {
   "cell_type": "code",
   "execution_count": 12,
   "id": "54d780b1",
   "metadata": {},
   "outputs": [
    {
     "name": "stdout",
     "output_type": "stream",
     "text": [
      "Enter your name\n",
      "sowdambika\n",
      "Enter your age\n",
      "22\n",
      "your name is sowdambika and your age is 22\n"
     ]
    }
   ],
   "source": [
    "print(\"Enter your name\")\n",
    "Name =input()\n",
    "print(\"Enter your age\")\n",
    "age =input()\n",
    "print(\"your name is\",Name,\"and your age is\",age)"
   ]
  },
  {
   "cell_type": "code",
   "execution_count": 13,
   "id": "2e66cc1d",
   "metadata": {},
   "outputs": [
    {
     "data": {
      "text/plain": [
       "str"
      ]
     },
     "execution_count": 13,
     "metadata": {},
     "output_type": "execute_result"
    }
   ],
   "source": [
    "type(name)"
   ]
  },
  {
   "cell_type": "code",
   "execution_count": 14,
   "id": "143839d4",
   "metadata": {},
   "outputs": [],
   "source": [
    "age =22"
   ]
  },
  {
   "cell_type": "code",
   "execution_count": 15,
   "id": "4b6f63a6",
   "metadata": {},
   "outputs": [
    {
     "data": {
      "text/plain": [
       "22"
      ]
     },
     "execution_count": 15,
     "metadata": {},
     "output_type": "execute_result"
    }
   ],
   "source": [
    "age"
   ]
  },
  {
   "cell_type": "code",
   "execution_count": 16,
   "id": "9794fc1c",
   "metadata": {},
   "outputs": [
    {
     "data": {
      "text/plain": [
       "int"
      ]
     },
     "execution_count": 16,
     "metadata": {},
     "output_type": "execute_result"
    }
   ],
   "source": [
    "type(age)"
   ]
  },
  {
   "cell_type": "code",
   "execution_count": 24,
   "id": "4e8bffec",
   "metadata": {},
   "outputs": [],
   "source": [
    "list =[1,2,3,4,5]"
   ]
  },
  {
   "cell_type": "code",
   "execution_count": 25,
   "id": "0bd270a2",
   "metadata": {},
   "outputs": [],
   "source": [
    "list.append(6)"
   ]
  },
  {
   "cell_type": "code",
   "execution_count": 26,
   "id": "af87b67c",
   "metadata": {},
   "outputs": [],
   "source": [
    "list = list +[7,8,9,0]"
   ]
  },
  {
   "cell_type": "code",
   "execution_count": 27,
   "id": "9d7916f8",
   "metadata": {},
   "outputs": [
    {
     "data": {
      "text/plain": [
       "[1, 2, 3, 4, 5, 6, 7, 8, 9, 0]"
      ]
     },
     "execution_count": 27,
     "metadata": {},
     "output_type": "execute_result"
    }
   ],
   "source": [
    "list"
   ]
  },
  {
   "cell_type": "code",
   "execution_count": 28,
   "id": "39af5198",
   "metadata": {},
   "outputs": [],
   "source": [
    "list.insert(0,3)"
   ]
  },
  {
   "cell_type": "code",
   "execution_count": 29,
   "id": "dd446a76",
   "metadata": {},
   "outputs": [
    {
     "data": {
      "text/plain": [
       "[3, 1, 2, 3, 4, 5, 6, 7, 8, 9, 0]"
      ]
     },
     "execution_count": 29,
     "metadata": {},
     "output_type": "execute_result"
    }
   ],
   "source": [
    "list"
   ]
  },
  {
   "cell_type": "code",
   "execution_count": 30,
   "id": "755dad4d",
   "metadata": {},
   "outputs": [],
   "source": [
    "del list[7:8:9]"
   ]
  },
  {
   "cell_type": "code",
   "execution_count": 31,
   "id": "7ae1c7f4",
   "metadata": {},
   "outputs": [
    {
     "data": {
      "text/plain": [
       "[3, 1, 2, 3, 4, 5, 6, 8, 9, 0]"
      ]
     },
     "execution_count": 31,
     "metadata": {},
     "output_type": "execute_result"
    }
   ],
   "source": [
    "list"
   ]
  },
  {
   "cell_type": "code",
   "execution_count": 32,
   "id": "39b87a24",
   "metadata": {},
   "outputs": [
    {
     "data": {
      "text/plain": [
       "10"
      ]
     },
     "execution_count": 32,
     "metadata": {},
     "output_type": "execute_result"
    }
   ],
   "source": [
    "len(list)"
   ]
  },
  {
   "cell_type": "code",
   "execution_count": 33,
   "id": "30118797",
   "metadata": {},
   "outputs": [
    {
     "data": {
      "text/plain": [
       "9"
      ]
     },
     "execution_count": 33,
     "metadata": {},
     "output_type": "execute_result"
    }
   ],
   "source": [
    "list.index(0)"
   ]
  },
  {
   "cell_type": "code",
   "execution_count": 34,
   "id": "67aa8605",
   "metadata": {},
   "outputs": [
    {
     "name": "stdout",
     "output_type": "stream",
     "text": [
      "Enter the value of a:\n",
      "24\n",
      "Enter the value of b:\n",
      "67\n",
      "SUM=  91\n",
      "SUB=  -43\n"
     ]
    }
   ],
   "source": [
    "print('Enter the value of a:')\n",
    "num1 =input()\n",
    "print('Enter the value of b:')\n",
    "num2 =input()\n",
    "results = []\n",
    "sum = int(num1) + int(num2)\n",
    "sub = int(num1) - int(num2)\n",
    "results.append(sum)\n",
    "results.append(sub)\n",
    "print(\"SUM= \",results[0])\n",
    "print(\"SUB= \",results[1])"
   ]
  },
  {
   "cell_type": "code",
   "execution_count": 35,
   "id": "3c348534",
   "metadata": {},
   "outputs": [
    {
     "name": "stdout",
     "output_type": "stream",
     "text": [
      "Enter the value of a:\n",
      "99\n",
      "Enter the value of b:\n",
      "100\n",
      "SUM=  199\n",
      "SUB=  -1\n"
     ]
    }
   ],
   "source": [
    "print('Enter the value of a:')\n",
    "num1 =input()\n",
    "print('Enter the value of b:')\n",
    "num2 =input()\n",
    "results = []\n",
    "results.append(int(num1) + int(num2))\n",
    "results.append(int(num1) - int(num2))\n",
    "print(\"SUM= \",results[0])\n",
    "print(\"SUB= \",results[1])"
   ]
  },
  {
   "cell_type": "code",
   "execution_count": 36,
   "id": "7f3538d6",
   "metadata": {},
   "outputs": [
    {
     "name": "stdout",
     "output_type": "stream",
     "text": [
      "Enter the first_number: \n",
      "Enter the second_number: \n",
      "98\n",
      "88\n",
      "Enter the first_number: \n",
      "Enter the second_number: \n",
      "76\n",
      "67\n",
      "Enter the first_number: \n",
      "Enter the second_number: \n",
      "56\n",
      "65\n",
      "Enter the first_number: \n",
      "Enter the second_number: \n",
      "90\n",
      "98\n",
      "Enter the first_number: \n",
      "Enter the second_number: \n",
      "34\n",
      "75\n",
      "Enter the first_number: \n",
      "Enter the second_number: \n",
      "93\n",
      "27\n",
      "Enter the first_number: \n",
      "Enter the second_number: \n",
      "87\n",
      "29\n",
      "Enter the first_number: \n",
      "Enter the second_number: \n",
      "87\n",
      "44\n",
      "Enter the first_number: \n",
      "Enter the second_number: \n",
      "66\n",
      "28\n",
      "Enter the first_number: \n",
      "Enter the second_number: \n",
      "99\n",
      "100\n",
      "[199, -1, [186.0, 10.0], [143.0, 9.0], [121.0, -9.0], [188.0, -8.0], [109.0, -41.0], [120.0, 66.0], [116.0, 58.0], [131.0, 43.0], [94.0, 38.0], [199.0, -1.0]]\n"
     ]
    }
   ],
   "source": [
    "def add_sub():\n",
    "    print(\"Enter the first_number: \")\n",
    "    print(\"Enter the second_number: \")\n",
    "    first_number = float(input())\n",
    "    second_number = float(input())\n",
    "    add_result = first_number + second_number\n",
    "    sub_result = first_number - second_number\n",
    "    return[add_result, sub_result]\n",
    "\n",
    "for i in range(10):\n",
    "    results.append(add_sub())\n",
    "    \n",
    "print(results)"
   ]
  },
  {
   "cell_type": "code",
   "execution_count": 1,
   "id": "f4678c26",
   "metadata": {},
   "outputs": [
    {
     "name": "stdout",
     "output_type": "stream",
     "text": [
      "          Name  Age         City\n",
      "0     John Doe   30     New York\n",
      "1   Jane Smith   25  Los Angeles\n",
      "2  Bob Johnson   35      Chicago\n",
      "3    Dinesh rd   22      Chennai\n"
     ]
    }
   ],
   "source": [
    "import pandas as pd\n",
    "\n",
    "# create a new DataFrame\n",
    "df = pd.DataFrame(columns=[\"Name\", \"Age\", \"City\"])\n",
    "\n",
    "# add data to the DataFrame\n",
    "df.loc[0] = [\"John Doe\", 30, \"New York\"]\n",
    "df.loc[1] = [\"Jane Smith\", 25, \"Los Angeles\"]\n",
    "df.loc[2] = [\"Bob Johnson\", 35, \"Chicago\"]\n",
    "df.loc[3] = [\"Dinesh rd\",22, \"Chennai\"]\n",
    "# display the DataFrame\n",
    "print(df)"
   ]
  },
  {
   "cell_type": "code",
   "execution_count": null,
   "id": "fe8555b9",
   "metadata": {},
   "outputs": [],
   "source": [
    "print(\"dinesh rd\")"
   ]
  },
  {
   "cell_type": "code",
   "execution_count": null,
   "id": "9435263e",
   "metadata": {},
   "outputs": [],
   "source": []
  },
  {
   "cell_type": "code",
   "execution_count": null,
   "id": "b426d6f1",
   "metadata": {},
   "outputs": [],
   "source": []
  },
  {
   "cell_type": "code",
   "execution_count": null,
   "id": "d48265c7",
   "metadata": {},
   "outputs": [],
   "source": []
  },
  {
   "cell_type": "code",
   "execution_count": null,
   "id": "c36ea909",
   "metadata": {},
   "outputs": [],
   "source": []
  },
  {
   "cell_type": "code",
   "execution_count": null,
   "id": "10920c4c",
   "metadata": {},
   "outputs": [],
   "source": []
  },
  {
   "cell_type": "code",
   "execution_count": null,
   "id": "f12ad0f3",
   "metadata": {},
   "outputs": [],
   "source": []
  },
  {
   "cell_type": "code",
   "execution_count": null,
   "id": "161680db",
   "metadata": {},
   "outputs": [],
   "source": []
  },
  {
   "cell_type": "code",
   "execution_count": null,
   "id": "6b80e10e",
   "metadata": {},
   "outputs": [],
   "source": []
  },
  {
   "cell_type": "code",
   "execution_count": null,
   "id": "6ec87d66",
   "metadata": {},
   "outputs": [],
   "source": []
  },
  {
   "cell_type": "code",
   "execution_count": null,
   "id": "478e03d3",
   "metadata": {},
   "outputs": [],
   "source": []
  },
  {
   "cell_type": "code",
   "execution_count": null,
   "id": "465c6120",
   "metadata": {},
   "outputs": [],
   "source": []
  },
  {
   "cell_type": "code",
   "execution_count": null,
   "id": "9108865d",
   "metadata": {},
   "outputs": [],
   "source": []
  },
  {
   "cell_type": "code",
   "execution_count": null,
   "id": "f17b187e",
   "metadata": {},
   "outputs": [],
   "source": []
  },
  {
   "cell_type": "code",
   "execution_count": null,
   "id": "9687d583",
   "metadata": {},
   "outputs": [],
   "source": []
  },
  {
   "cell_type": "code",
   "execution_count": null,
   "id": "ae87a1e4",
   "metadata": {},
   "outputs": [],
   "source": []
  },
  {
   "cell_type": "code",
   "execution_count": null,
   "id": "fc849085",
   "metadata": {},
   "outputs": [],
   "source": []
  },
  {
   "cell_type": "code",
   "execution_count": null,
   "id": "d7115477",
   "metadata": {},
   "outputs": [],
   "source": []
  },
  {
   "cell_type": "code",
   "execution_count": null,
   "id": "d56fe7ea",
   "metadata": {},
   "outputs": [],
   "source": []
  },
  {
   "cell_type": "code",
   "execution_count": null,
   "id": "68fb55bc",
   "metadata": {},
   "outputs": [],
   "source": []
  },
  {
   "cell_type": "code",
   "execution_count": null,
   "id": "5cc47876",
   "metadata": {},
   "outputs": [],
   "source": []
  },
  {
   "cell_type": "code",
   "execution_count": null,
   "id": "9d267602",
   "metadata": {},
   "outputs": [],
   "source": []
  },
  {
   "cell_type": "code",
   "execution_count": null,
   "id": "6478e601",
   "metadata": {},
   "outputs": [],
   "source": []
  },
  {
   "cell_type": "code",
   "execution_count": null,
   "id": "2baadc99",
   "metadata": {},
   "outputs": [],
   "source": []
  },
  {
   "cell_type": "code",
   "execution_count": null,
   "id": "f68f8195",
   "metadata": {},
   "outputs": [],
   "source": []
  },
  {
   "cell_type": "code",
   "execution_count": null,
   "id": "e15a557d",
   "metadata": {},
   "outputs": [],
   "source": []
  },
  {
   "cell_type": "code",
   "execution_count": null,
   "id": "82f7aaac",
   "metadata": {},
   "outputs": [],
   "source": []
  },
  {
   "cell_type": "code",
   "execution_count": null,
   "id": "dcafad1c",
   "metadata": {},
   "outputs": [],
   "source": []
  },
  {
   "cell_type": "code",
   "execution_count": null,
   "id": "c6a241b4",
   "metadata": {},
   "outputs": [],
   "source": []
  },
  {
   "cell_type": "code",
   "execution_count": null,
   "id": "906e1bcc",
   "metadata": {},
   "outputs": [],
   "source": []
  },
  {
   "cell_type": "code",
   "execution_count": null,
   "id": "1842c557",
   "metadata": {},
   "outputs": [],
   "source": []
  },
  {
   "cell_type": "code",
   "execution_count": null,
   "id": "954b3adc",
   "metadata": {},
   "outputs": [],
   "source": []
  },
  {
   "cell_type": "code",
   "execution_count": null,
   "id": "bdc0b88d",
   "metadata": {},
   "outputs": [],
   "source": []
  },
  {
   "cell_type": "code",
   "execution_count": null,
   "id": "8bd86df3",
   "metadata": {},
   "outputs": [],
   "source": []
  },
  {
   "cell_type": "code",
   "execution_count": null,
   "id": "95afa978",
   "metadata": {},
   "outputs": [],
   "source": []
  },
  {
   "cell_type": "code",
   "execution_count": null,
   "id": "fbeabc21",
   "metadata": {},
   "outputs": [],
   "source": []
  },
  {
   "cell_type": "code",
   "execution_count": null,
   "id": "b2a288dc",
   "metadata": {},
   "outputs": [],
   "source": []
  },
  {
   "cell_type": "code",
   "execution_count": null,
   "id": "06045256",
   "metadata": {},
   "outputs": [],
   "source": []
  },
  {
   "cell_type": "code",
   "execution_count": null,
   "id": "0952b829",
   "metadata": {},
   "outputs": [],
   "source": []
  },
  {
   "cell_type": "code",
   "execution_count": null,
   "id": "e46fd50e",
   "metadata": {},
   "outputs": [],
   "source": []
  },
  {
   "cell_type": "code",
   "execution_count": null,
   "id": "1463a2b7",
   "metadata": {},
   "outputs": [],
   "source": []
  },
  {
   "cell_type": "code",
   "execution_count": null,
   "id": "6fedc539",
   "metadata": {},
   "outputs": [],
   "source": []
  },
  {
   "cell_type": "code",
   "execution_count": null,
   "id": "ab92cda8",
   "metadata": {},
   "outputs": [],
   "source": []
  },
  {
   "cell_type": "code",
   "execution_count": null,
   "id": "de018c2e",
   "metadata": {},
   "outputs": [],
   "source": []
  },
  {
   "cell_type": "code",
   "execution_count": null,
   "id": "0e991fb0",
   "metadata": {},
   "outputs": [],
   "source": []
  },
  {
   "cell_type": "code",
   "execution_count": null,
   "id": "fc960006",
   "metadata": {},
   "outputs": [],
   "source": []
  },
  {
   "cell_type": "code",
   "execution_count": null,
   "id": "1354a670",
   "metadata": {},
   "outputs": [],
   "source": []
  },
  {
   "cell_type": "code",
   "execution_count": null,
   "id": "ea946dda",
   "metadata": {},
   "outputs": [],
   "source": []
  },
  {
   "cell_type": "code",
   "execution_count": null,
   "id": "90ae7aa2",
   "metadata": {},
   "outputs": [],
   "source": []
  },
  {
   "cell_type": "code",
   "execution_count": null,
   "id": "9a132f9c",
   "metadata": {},
   "outputs": [],
   "source": []
  },
  {
   "cell_type": "code",
   "execution_count": null,
   "id": "09548eaa",
   "metadata": {},
   "outputs": [],
   "source": []
  },
  {
   "cell_type": "code",
   "execution_count": null,
   "id": "b71736b2",
   "metadata": {},
   "outputs": [],
   "source": []
  },
  {
   "cell_type": "code",
   "execution_count": null,
   "id": "60c19095",
   "metadata": {},
   "outputs": [],
   "source": []
  },
  {
   "cell_type": "code",
   "execution_count": null,
   "id": "88ea8162",
   "metadata": {},
   "outputs": [],
   "source": []
  },
  {
   "cell_type": "code",
   "execution_count": null,
   "id": "ab64ba90",
   "metadata": {},
   "outputs": [],
   "source": []
  },
  {
   "cell_type": "code",
   "execution_count": null,
   "id": "321b74cd",
   "metadata": {},
   "outputs": [],
   "source": []
  },
  {
   "cell_type": "code",
   "execution_count": null,
   "id": "98c4e59e",
   "metadata": {},
   "outputs": [],
   "source": []
  },
  {
   "cell_type": "code",
   "execution_count": null,
   "id": "1884a8c0",
   "metadata": {},
   "outputs": [],
   "source": []
  },
  {
   "cell_type": "code",
   "execution_count": null,
   "id": "7eff7e5f",
   "metadata": {},
   "outputs": [],
   "source": []
  },
  {
   "cell_type": "code",
   "execution_count": null,
   "id": "2d7dd58e",
   "metadata": {},
   "outputs": [],
   "source": []
  },
  {
   "cell_type": "code",
   "execution_count": null,
   "id": "dc20e1ef",
   "metadata": {},
   "outputs": [],
   "source": []
  }
 ],
 "metadata": {
  "kernelspec": {
   "display_name": "Python 3 (ipykernel)",
   "language": "python",
   "name": "python3"
  },
  "language_info": {
   "codemirror_mode": {
    "name": "ipython",
    "version": 3
   },
   "file_extension": ".py",
   "mimetype": "text/x-python",
   "name": "python",
   "nbconvert_exporter": "python",
   "pygments_lexer": "ipython3",
   "version": "3.9.13"
  }
 },
 "nbformat": 4,
 "nbformat_minor": 5
}
