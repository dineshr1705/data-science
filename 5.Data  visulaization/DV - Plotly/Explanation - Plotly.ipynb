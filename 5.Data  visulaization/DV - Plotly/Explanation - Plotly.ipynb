{
 "cells": [
  {
   "cell_type": "markdown",
   "id": "bc2e6d77",
   "metadata": {},
   "source": [
    "# Plotly and cufflinks \n",
    "\n",
    "Plotly is a library that allows you to create interactive plots that you can use in dashboards or websites (you can save them as html files or static images).\n"
   ]
  },
  {
   "cell_type": "markdown",
   "id": "38663a20",
   "metadata": {},
   "source": [
    "## What is Plotly in Python?\n",
    "\n",
    "Plotly is a free and open-source graphing library for Python. We recommend you read our Getting Started guide for the latest installation or upgrade instructions, then move on to our Plotly Fundamentals tutorials or dive straight in to some Basic Charts tutorials.\n"
   ]
  },
  {
   "cell_type": "markdown",
   "id": "493c01b0",
   "metadata": {},
   "source": [
    "## What is Cufflink in Python?\n",
    "\n",
    "Cufflink is also a python library that connects plotly with pandas so that we can create charts directly on data frames. It basically acts as a plugin.\n",
    "\n"
   ]
  },
  {
   "cell_type": "markdown",
   "id": "a0a09628",
   "metadata": {},
   "source": [
    "## Why plotly is better than Seaborn?\n",
    "\n",
    "Plotly provides interactive plots and are easily readable to audience who doesn't have much knowledge on  reading plots. There are ways to use seaborn type plots in plotly with a touch of plotly."
   ]
  },
  {
   "cell_type": "markdown",
   "id": "608c86c3",
   "metadata": {},
   "source": [
    "## Installation\n",
    "In order for this all to work, you'll need to install plotly and cufflinks to call plots directly off of a pandas dataframe. These libraries are not currently available through **conda** but are available through **pip**. Install the libraries at your command line/terminal using:\n",
    "\n",
    "pip install plotly\n",
    "pip install cufflinks\n",
    "\n",
    "** NOTE: Make sure you only have one installation of Python on your computer when you do this, otherwise the installation may not work. **"
   ]
  },
  {
   "cell_type": "code",
   "execution_count": 1,
   "id": "10f002dc",
   "metadata": {},
   "outputs": [],
   "source": [
    "import pandas as pd\n",
    "import numpy as np\n",
    "%matplotlib inline"
   ]
  },
  {
   "cell_type": "code",
   "execution_count": 2,
   "id": "1ac701d7",
   "metadata": {},
   "outputs": [
    {
     "name": "stdout",
     "output_type": "stream",
     "text": [
      "5.9.0\n"
     ]
    }
   ],
   "source": [
    "from plotly import __version__\n",
    "from plotly.offline import download_plotlyjs, init_notebook_mode, plot, iplot\n",
    "\n",
    "print(__version__) # requires version >= 1.9.0"
   ]
  },
  {
   "cell_type": "code",
   "execution_count": 3,
   "id": "1c9f222a",
   "metadata": {},
   "outputs": [],
   "source": [
    "import cufflinks as cf"
   ]
  },
  {
   "cell_type": "code",
   "execution_count": 4,
   "id": "951fb659",
   "metadata": {},
   "outputs": [
    {
     "data": {
      "text/html": [
       "        <script type=\"text/javascript\">\n",
       "        window.PlotlyConfig = {MathJaxConfig: 'local'};\n",
       "        if (window.MathJax && window.MathJax.Hub && window.MathJax.Hub.Config) {window.MathJax.Hub.Config({SVG: {font: \"STIX-Web\"}});}\n",
       "        if (typeof require !== 'undefined') {\n",
       "        require.undef(\"plotly\");\n",
       "        requirejs.config({\n",
       "            paths: {\n",
       "                'plotly': ['https://cdn.plot.ly/plotly-2.12.1.min']\n",
       "            }\n",
       "        });\n",
       "        require(['plotly'], function(Plotly) {\n",
       "            window._Plotly = Plotly;\n",
       "        });\n",
       "        }\n",
       "        </script>\n",
       "        "
      ]
     },
     "metadata": {},
     "output_type": "display_data"
    }
   ],
   "source": [
    "# For Notebooks\n",
    "init_notebook_mode(connected=True)"
   ]
  },
  {
   "cell_type": "code",
   "execution_count": 5,
   "id": "206427d3",
   "metadata": {},
   "outputs": [
    {
     "data": {
      "text/html": [
       "        <script type=\"text/javascript\">\n",
       "        window.PlotlyConfig = {MathJaxConfig: 'local'};\n",
       "        if (window.MathJax && window.MathJax.Hub && window.MathJax.Hub.Config) {window.MathJax.Hub.Config({SVG: {font: \"STIX-Web\"}});}\n",
       "        if (typeof require !== 'undefined') {\n",
       "        require.undef(\"plotly\");\n",
       "        requirejs.config({\n",
       "            paths: {\n",
       "                'plotly': ['https://cdn.plot.ly/plotly-2.12.1.min']\n",
       "            }\n",
       "        });\n",
       "        require(['plotly'], function(Plotly) {\n",
       "            window._Plotly = Plotly;\n",
       "        });\n",
       "        }\n",
       "        </script>\n",
       "        "
      ]
     },
     "metadata": {},
     "output_type": "display_data"
    }
   ],
   "source": [
    "# For offline use\n",
    "cf.go_offline()"
   ]
  },
  {
   "cell_type": "markdown",
   "id": "874f2fb5",
   "metadata": {},
   "source": [
    "# Fake Data"
   ]
  },
  {
   "cell_type": "code",
   "execution_count": 6,
   "id": "20311972",
   "metadata": {},
   "outputs": [],
   "source": [
    "df = pd.DataFrame(np.random.randn(100,4),columns = 'A B C D '.split())"
   ]
  },
  {
   "cell_type": "code",
   "execution_count": 7,
   "id": "6087eea5",
   "metadata": {},
   "outputs": [
    {
     "data": {
      "text/html": [
       "<div>\n",
       "<style scoped>\n",
       "    .dataframe tbody tr th:only-of-type {\n",
       "        vertical-align: middle;\n",
       "    }\n",
       "\n",
       "    .dataframe tbody tr th {\n",
       "        vertical-align: top;\n",
       "    }\n",
       "\n",
       "    .dataframe thead th {\n",
       "        text-align: right;\n",
       "    }\n",
       "</style>\n",
       "<table border=\"1\" class=\"dataframe\">\n",
       "  <thead>\n",
       "    <tr style=\"text-align: right;\">\n",
       "      <th></th>\n",
       "      <th>A</th>\n",
       "      <th>B</th>\n",
       "      <th>C</th>\n",
       "      <th>D</th>\n",
       "    </tr>\n",
       "  </thead>\n",
       "  <tbody>\n",
       "    <tr>\n",
       "      <th>0</th>\n",
       "      <td>-0.669522</td>\n",
       "      <td>-0.047250</td>\n",
       "      <td>-1.269297</td>\n",
       "      <td>0.381224</td>\n",
       "    </tr>\n",
       "    <tr>\n",
       "      <th>1</th>\n",
       "      <td>-0.291927</td>\n",
       "      <td>0.580798</td>\n",
       "      <td>-1.008016</td>\n",
       "      <td>-0.463404</td>\n",
       "    </tr>\n",
       "    <tr>\n",
       "      <th>2</th>\n",
       "      <td>-0.983165</td>\n",
       "      <td>-0.584080</td>\n",
       "      <td>-1.204257</td>\n",
       "      <td>0.616744</td>\n",
       "    </tr>\n",
       "    <tr>\n",
       "      <th>3</th>\n",
       "      <td>0.013263</td>\n",
       "      <td>-2.025644</td>\n",
       "      <td>-0.752334</td>\n",
       "      <td>1.079813</td>\n",
       "    </tr>\n",
       "    <tr>\n",
       "      <th>4</th>\n",
       "      <td>0.564903</td>\n",
       "      <td>-2.717758</td>\n",
       "      <td>-0.430205</td>\n",
       "      <td>-1.438337</td>\n",
       "    </tr>\n",
       "  </tbody>\n",
       "</table>\n",
       "</div>"
      ],
      "text/plain": [
       "          A         B         C         D\n",
       "0 -0.669522 -0.047250 -1.269297  0.381224\n",
       "1 -0.291927  0.580798 -1.008016 -0.463404\n",
       "2 -0.983165 -0.584080 -1.204257  0.616744\n",
       "3  0.013263 -2.025644 -0.752334  1.079813\n",
       "4  0.564903 -2.717758 -0.430205 -1.438337"
      ]
     },
     "execution_count": 7,
     "metadata": {},
     "output_type": "execute_result"
    }
   ],
   "source": [
    "df.head()"
   ]
  },
  {
   "cell_type": "code",
   "execution_count": 8,
   "id": "0ebf3996",
   "metadata": {},
   "outputs": [],
   "source": [
    "df2 = pd.DataFrame({'Category':['A','B','C',],'Values':[23,40,55]})"
   ]
  },
  {
   "cell_type": "code",
   "execution_count": 9,
   "id": "9bfed3e3",
   "metadata": {},
   "outputs": [
    {
     "data": {
      "text/html": [
       "<div>\n",
       "<style scoped>\n",
       "    .dataframe tbody tr th:only-of-type {\n",
       "        vertical-align: middle;\n",
       "    }\n",
       "\n",
       "    .dataframe tbody tr th {\n",
       "        vertical-align: top;\n",
       "    }\n",
       "\n",
       "    .dataframe thead th {\n",
       "        text-align: right;\n",
       "    }\n",
       "</style>\n",
       "<table border=\"1\" class=\"dataframe\">\n",
       "  <thead>\n",
       "    <tr style=\"text-align: right;\">\n",
       "      <th></th>\n",
       "      <th>Category</th>\n",
       "      <th>Values</th>\n",
       "    </tr>\n",
       "  </thead>\n",
       "  <tbody>\n",
       "    <tr>\n",
       "      <th>0</th>\n",
       "      <td>A</td>\n",
       "      <td>23</td>\n",
       "    </tr>\n",
       "    <tr>\n",
       "      <th>1</th>\n",
       "      <td>B</td>\n",
       "      <td>40</td>\n",
       "    </tr>\n",
       "    <tr>\n",
       "      <th>2</th>\n",
       "      <td>C</td>\n",
       "      <td>55</td>\n",
       "    </tr>\n",
       "  </tbody>\n",
       "</table>\n",
       "</div>"
      ],
      "text/plain": [
       "  Category  Values\n",
       "0        A      23\n",
       "1        B      40\n",
       "2        C      55"
      ]
     },
     "execution_count": 9,
     "metadata": {},
     "output_type": "execute_result"
    }
   ],
   "source": [
    "df2"
   ]
  },
  {
   "cell_type": "markdown",
   "id": "86fafa18",
   "metadata": {},
   "source": [
    "# Using Cufflinks and iplot()\n",
    "        \n",
    "* scatter\n",
    "* bar\n",
    "* box\n",
    "* spread\n",
    "* ratio\n",
    "* heatmap\n",
    "* surface\n",
    "* histogram\n",
    "* bubble"
   ]
  },
  {
   "cell_type": "markdown",
   "id": "e3b48173",
   "metadata": {},
   "source": [
    "# Scatter"
   ]
  },
  {
   "cell_type": "code",
   "execution_count": 10,
   "id": "b33ef323",
   "metadata": {},
   "outputs": [
    {
     "data": {
      "application/vnd.plotly.v1+json": {
       "config": {
        "linkText": "Export to plot.ly",
        "plotlyServerURL": "https://plot.ly",
        "showLink": true
       },
       "data": [
        {
         "line": {
          "color": "rgba(255, 153, 51, 1.0)",
          "dash": "solid",
          "shape": "linear",
          "width": 1.3
         },
         "marker": {
          "size": 10,
          "symbol": "circle"
         },
         "mode": "markers",
         "name": "B",
         "text": "",
         "type": "scatter",
         "x": [
          -0.6695219310356675,
          -0.29192670023127143,
          -0.9831645059332843,
          0.013262990475593704,
          0.5649025921315125,
          0.8064216811322935,
          -0.29053318946379497,
          -1.4553394975965468,
          -0.9334780727469513,
          0.15212781268808825,
          -0.12953561519924947,
          -0.07330120498823028,
          -1.3212460499566323,
          0.5375075631006219,
          -1.5383600487242233,
          1.6479766696245695,
          -1.5151166106018252,
          -0.9487373016303247,
          0.9868363720026039,
          0.8271021762057945,
          0.532847912728279,
          -1.215084246154703,
          -1.06990447666004,
          -0.20423732405811862,
          0.25645744237289564,
          1.1652515725779797,
          0.8666463172667327,
          0.9183747549879647,
          0.6504874381746459,
          -0.8243955949582988,
          0.31764589789799386,
          0.32842115742546457,
          -0.4879250309366784,
          0.9660099268240899,
          -0.4349598763157151,
          0.14565487905762764,
          0.7436189282138251,
          0.9409054661531387,
          -0.6465452666750505,
          -0.0024073828422344406,
          1.7067230767581596,
          -0.4121497707683924,
          -0.11389940712513696,
          -1.798138144899698,
          0.48662376592093887,
          1.0405713605422415,
          1.9209486289049162,
          0.6143066558160502,
          1.533611421591724,
          0.281317373014399,
          0.04453499041913694,
          0.3254655849440727,
          -1.7235950007111245,
          1.0474474785050598,
          0.9103859418107295,
          0.8525517635466807,
          -0.30410879772455135,
          1.6990988245338592,
          -1.4839797836397264,
          0.3832562237229985,
          0.7053168306901907,
          0.4203017735137733,
          0.5074159914678656,
          -0.959297650112034,
          -3.033106810373578,
          -1.1905978134391508,
          -0.28594306994798296,
          1.0009980764514175,
          0.10196558416155194,
          -0.4481953355572154,
          1.561038458049401,
          -1.8510860765324897,
          -0.6915435845117376,
          -1.1887437544871862,
          -0.20891836331908248,
          -1.5645319943763776,
          -0.5071826248289197,
          0.9745002772010514,
          0.5654902978301094,
          1.2781291327972075,
          -0.28550517136639925,
          0.15340572181957526,
          0.8636950655469798,
          -0.5646385664757835,
          2.5955468026902735,
          0.5495383901436504,
          0.12991333229427834,
          1.885651971234061,
          2.3101851334619705,
          -0.7212478669014187,
          1.2248866341084266,
          -0.07861993937764342,
          -1.632126443311677,
          0.817222682609708,
          -1.4875712692802876,
          -0.8284793569588998,
          -0.6147511519801087,
          -0.6260783806020203,
          0.0761575550680676,
          0.6386446816040392
         ],
         "y": [
          -0.047249781195183846,
          0.5807979722191119,
          -0.5840803964125373,
          -2.0256441041451843,
          -2.717758433269804,
          0.8087501871373753,
          0.6808476657323692,
          -1.4517045352576345,
          -1.077566689559306,
          0.5761038177773498,
          -1.7365254614618182,
          -0.18196412399397116,
          0.6326136100827379,
          1.1507282085712174,
          0.5898260705822608,
          0.10035344857577091,
          -1.619410125275257,
          0.6674956593402991,
          -1.1198386404292284,
          -1.2510378091859844,
          0.8895570166309362,
          -0.3692521794513197,
          -0.930071334761612,
          1.0351120663640652,
          -0.1391421027530557,
          0.5966769499472159,
          0.07951570107527746,
          1.039322440493506,
          -1.0403484710164908,
          -0.008916864350763918,
          0.7605828958467573,
          1.316981609729183,
          0.18141931559657465,
          0.04412730738103606,
          0.6215623194712838,
          0.8297396307092603,
          -1.0976640935673252,
          1.1255496523105701,
          1.1656054314719215,
          -0.6129034501836317,
          -0.629216183370437,
          -0.6073399976273386,
          1.8639308196488213,
          0.2867514857577595,
          0.8401257870911673,
          -0.10536946095031792,
          0.6797613470589414,
          0.5336194715918102,
          1.2559348778753936,
          0.4923636697054773,
          -2.161063539331115,
          0.0728617663004551,
          0.8364208839679473,
          -0.12832774187838877,
          1.900093292135524,
          -0.8740842697369767,
          2.2417282144106516,
          -0.38953536213565704,
          -0.23976651362572157,
          -1.5826663125676441,
          -0.3209706218622201,
          0.2105394304809266,
          -1.031877527830503,
          1.4878929073514255,
          0.8602115753808353,
          -1.1136405139370515,
          0.8825996436964001,
          -1.7428085811833083,
          -0.15635544863752787,
          0.7490067955117746,
          -0.3239075025790853,
          0.038532297017919166,
          1.3993657988093093,
          1.1992934839067848,
          -0.36249786145583274,
          2.4394185211403494,
          -0.1793756206531476,
          -0.4576517146060599,
          0.09262337925826437,
          -0.011713327619057282,
          -0.3156445170519262,
          -0.29876236993757893,
          -0.6478579022789553,
          0.7517042293677587,
          1.081513421865064,
          0.44739213512439696,
          -0.9448629749815547,
          -0.575126837808124,
          -0.05765011398142731,
          -0.2820600532547387,
          -0.19546551834527293,
          1.589656469566828,
          -0.20582042289236055,
          -1.2982061633734652,
          -1.2146393062199856,
          0.32144986438176754,
          -0.48218801944586104,
          0.5457219900911298,
          0.9457138531063372,
          -0.04393831853309557
         ]
        }
       ],
       "layout": {
        "legend": {
         "bgcolor": "#F5F6F9",
         "font": {
          "color": "#4D5663"
         }
        },
        "paper_bgcolor": "#F5F6F9",
        "plot_bgcolor": "#F5F6F9",
        "template": {
         "data": {
          "bar": [
           {
            "error_x": {
             "color": "#2a3f5f"
            },
            "error_y": {
             "color": "#2a3f5f"
            },
            "marker": {
             "line": {
              "color": "#E5ECF6",
              "width": 0.5
             },
             "pattern": {
              "fillmode": "overlay",
              "size": 10,
              "solidity": 0.2
             }
            },
            "type": "bar"
           }
          ],
          "barpolar": [
           {
            "marker": {
             "line": {
              "color": "#E5ECF6",
              "width": 0.5
             },
             "pattern": {
              "fillmode": "overlay",
              "size": 10,
              "solidity": 0.2
             }
            },
            "type": "barpolar"
           }
          ],
          "carpet": [
           {
            "aaxis": {
             "endlinecolor": "#2a3f5f",
             "gridcolor": "white",
             "linecolor": "white",
             "minorgridcolor": "white",
             "startlinecolor": "#2a3f5f"
            },
            "baxis": {
             "endlinecolor": "#2a3f5f",
             "gridcolor": "white",
             "linecolor": "white",
             "minorgridcolor": "white",
             "startlinecolor": "#2a3f5f"
            },
            "type": "carpet"
           }
          ],
          "choropleth": [
           {
            "colorbar": {
             "outlinewidth": 0,
             "ticks": ""
            },
            "type": "choropleth"
           }
          ],
          "contour": [
           {
            "colorbar": {
             "outlinewidth": 0,
             "ticks": ""
            },
            "colorscale": [
             [
              0,
              "#0d0887"
             ],
             [
              0.1111111111111111,
              "#46039f"
             ],
             [
              0.2222222222222222,
              "#7201a8"
             ],
             [
              0.3333333333333333,
              "#9c179e"
             ],
             [
              0.4444444444444444,
              "#bd3786"
             ],
             [
              0.5555555555555556,
              "#d8576b"
             ],
             [
              0.6666666666666666,
              "#ed7953"
             ],
             [
              0.7777777777777778,
              "#fb9f3a"
             ],
             [
              0.8888888888888888,
              "#fdca26"
             ],
             [
              1,
              "#f0f921"
             ]
            ],
            "type": "contour"
           }
          ],
          "contourcarpet": [
           {
            "colorbar": {
             "outlinewidth": 0,
             "ticks": ""
            },
            "type": "contourcarpet"
           }
          ],
          "heatmap": [
           {
            "colorbar": {
             "outlinewidth": 0,
             "ticks": ""
            },
            "colorscale": [
             [
              0,
              "#0d0887"
             ],
             [
              0.1111111111111111,
              "#46039f"
             ],
             [
              0.2222222222222222,
              "#7201a8"
             ],
             [
              0.3333333333333333,
              "#9c179e"
             ],
             [
              0.4444444444444444,
              "#bd3786"
             ],
             [
              0.5555555555555556,
              "#d8576b"
             ],
             [
              0.6666666666666666,
              "#ed7953"
             ],
             [
              0.7777777777777778,
              "#fb9f3a"
             ],
             [
              0.8888888888888888,
              "#fdca26"
             ],
             [
              1,
              "#f0f921"
             ]
            ],
            "type": "heatmap"
           }
          ],
          "heatmapgl": [
           {
            "colorbar": {
             "outlinewidth": 0,
             "ticks": ""
            },
            "colorscale": [
             [
              0,
              "#0d0887"
             ],
             [
              0.1111111111111111,
              "#46039f"
             ],
             [
              0.2222222222222222,
              "#7201a8"
             ],
             [
              0.3333333333333333,
              "#9c179e"
             ],
             [
              0.4444444444444444,
              "#bd3786"
             ],
             [
              0.5555555555555556,
              "#d8576b"
             ],
             [
              0.6666666666666666,
              "#ed7953"
             ],
             [
              0.7777777777777778,
              "#fb9f3a"
             ],
             [
              0.8888888888888888,
              "#fdca26"
             ],
             [
              1,
              "#f0f921"
             ]
            ],
            "type": "heatmapgl"
           }
          ],
          "histogram": [
           {
            "marker": {
             "pattern": {
              "fillmode": "overlay",
              "size": 10,
              "solidity": 0.2
             }
            },
            "type": "histogram"
           }
          ],
          "histogram2d": [
           {
            "colorbar": {
             "outlinewidth": 0,
             "ticks": ""
            },
            "colorscale": [
             [
              0,
              "#0d0887"
             ],
             [
              0.1111111111111111,
              "#46039f"
             ],
             [
              0.2222222222222222,
              "#7201a8"
             ],
             [
              0.3333333333333333,
              "#9c179e"
             ],
             [
              0.4444444444444444,
              "#bd3786"
             ],
             [
              0.5555555555555556,
              "#d8576b"
             ],
             [
              0.6666666666666666,
              "#ed7953"
             ],
             [
              0.7777777777777778,
              "#fb9f3a"
             ],
             [
              0.8888888888888888,
              "#fdca26"
             ],
             [
              1,
              "#f0f921"
             ]
            ],
            "type": "histogram2d"
           }
          ],
          "histogram2dcontour": [
           {
            "colorbar": {
             "outlinewidth": 0,
             "ticks": ""
            },
            "colorscale": [
             [
              0,
              "#0d0887"
             ],
             [
              0.1111111111111111,
              "#46039f"
             ],
             [
              0.2222222222222222,
              "#7201a8"
             ],
             [
              0.3333333333333333,
              "#9c179e"
             ],
             [
              0.4444444444444444,
              "#bd3786"
             ],
             [
              0.5555555555555556,
              "#d8576b"
             ],
             [
              0.6666666666666666,
              "#ed7953"
             ],
             [
              0.7777777777777778,
              "#fb9f3a"
             ],
             [
              0.8888888888888888,
              "#fdca26"
             ],
             [
              1,
              "#f0f921"
             ]
            ],
            "type": "histogram2dcontour"
           }
          ],
          "mesh3d": [
           {
            "colorbar": {
             "outlinewidth": 0,
             "ticks": ""
            },
            "type": "mesh3d"
           }
          ],
          "parcoords": [
           {
            "line": {
             "colorbar": {
              "outlinewidth": 0,
              "ticks": ""
             }
            },
            "type": "parcoords"
           }
          ],
          "pie": [
           {
            "automargin": true,
            "type": "pie"
           }
          ],
          "scatter": [
           {
            "fillpattern": {
             "fillmode": "overlay",
             "size": 10,
             "solidity": 0.2
            },
            "type": "scatter"
           }
          ],
          "scatter3d": [
           {
            "line": {
             "colorbar": {
              "outlinewidth": 0,
              "ticks": ""
             }
            },
            "marker": {
             "colorbar": {
              "outlinewidth": 0,
              "ticks": ""
             }
            },
            "type": "scatter3d"
           }
          ],
          "scattercarpet": [
           {
            "marker": {
             "colorbar": {
              "outlinewidth": 0,
              "ticks": ""
             }
            },
            "type": "scattercarpet"
           }
          ],
          "scattergeo": [
           {
            "marker": {
             "colorbar": {
              "outlinewidth": 0,
              "ticks": ""
             }
            },
            "type": "scattergeo"
           }
          ],
          "scattergl": [
           {
            "marker": {
             "colorbar": {
              "outlinewidth": 0,
              "ticks": ""
             }
            },
            "type": "scattergl"
           }
          ],
          "scattermapbox": [
           {
            "marker": {
             "colorbar": {
              "outlinewidth": 0,
              "ticks": ""
             }
            },
            "type": "scattermapbox"
           }
          ],
          "scatterpolar": [
           {
            "marker": {
             "colorbar": {
              "outlinewidth": 0,
              "ticks": ""
             }
            },
            "type": "scatterpolar"
           }
          ],
          "scatterpolargl": [
           {
            "marker": {
             "colorbar": {
              "outlinewidth": 0,
              "ticks": ""
             }
            },
            "type": "scatterpolargl"
           }
          ],
          "scatterternary": [
           {
            "marker": {
             "colorbar": {
              "outlinewidth": 0,
              "ticks": ""
             }
            },
            "type": "scatterternary"
           }
          ],
          "surface": [
           {
            "colorbar": {
             "outlinewidth": 0,
             "ticks": ""
            },
            "colorscale": [
             [
              0,
              "#0d0887"
             ],
             [
              0.1111111111111111,
              "#46039f"
             ],
             [
              0.2222222222222222,
              "#7201a8"
             ],
             [
              0.3333333333333333,
              "#9c179e"
             ],
             [
              0.4444444444444444,
              "#bd3786"
             ],
             [
              0.5555555555555556,
              "#d8576b"
             ],
             [
              0.6666666666666666,
              "#ed7953"
             ],
             [
              0.7777777777777778,
              "#fb9f3a"
             ],
             [
              0.8888888888888888,
              "#fdca26"
             ],
             [
              1,
              "#f0f921"
             ]
            ],
            "type": "surface"
           }
          ],
          "table": [
           {
            "cells": {
             "fill": {
              "color": "#EBF0F8"
             },
             "line": {
              "color": "white"
             }
            },
            "header": {
             "fill": {
              "color": "#C8D4E3"
             },
             "line": {
              "color": "white"
             }
            },
            "type": "table"
           }
          ]
         },
         "layout": {
          "annotationdefaults": {
           "arrowcolor": "#2a3f5f",
           "arrowhead": 0,
           "arrowwidth": 1
          },
          "autotypenumbers": "strict",
          "coloraxis": {
           "colorbar": {
            "outlinewidth": 0,
            "ticks": ""
           }
          },
          "colorscale": {
           "diverging": [
            [
             0,
             "#8e0152"
            ],
            [
             0.1,
             "#c51b7d"
            ],
            [
             0.2,
             "#de77ae"
            ],
            [
             0.3,
             "#f1b6da"
            ],
            [
             0.4,
             "#fde0ef"
            ],
            [
             0.5,
             "#f7f7f7"
            ],
            [
             0.6,
             "#e6f5d0"
            ],
            [
             0.7,
             "#b8e186"
            ],
            [
             0.8,
             "#7fbc41"
            ],
            [
             0.9,
             "#4d9221"
            ],
            [
             1,
             "#276419"
            ]
           ],
           "sequential": [
            [
             0,
             "#0d0887"
            ],
            [
             0.1111111111111111,
             "#46039f"
            ],
            [
             0.2222222222222222,
             "#7201a8"
            ],
            [
             0.3333333333333333,
             "#9c179e"
            ],
            [
             0.4444444444444444,
             "#bd3786"
            ],
            [
             0.5555555555555556,
             "#d8576b"
            ],
            [
             0.6666666666666666,
             "#ed7953"
            ],
            [
             0.7777777777777778,
             "#fb9f3a"
            ],
            [
             0.8888888888888888,
             "#fdca26"
            ],
            [
             1,
             "#f0f921"
            ]
           ],
           "sequentialminus": [
            [
             0,
             "#0d0887"
            ],
            [
             0.1111111111111111,
             "#46039f"
            ],
            [
             0.2222222222222222,
             "#7201a8"
            ],
            [
             0.3333333333333333,
             "#9c179e"
            ],
            [
             0.4444444444444444,
             "#bd3786"
            ],
            [
             0.5555555555555556,
             "#d8576b"
            ],
            [
             0.6666666666666666,
             "#ed7953"
            ],
            [
             0.7777777777777778,
             "#fb9f3a"
            ],
            [
             0.8888888888888888,
             "#fdca26"
            ],
            [
             1,
             "#f0f921"
            ]
           ]
          },
          "colorway": [
           "#636efa",
           "#EF553B",
           "#00cc96",
           "#ab63fa",
           "#FFA15A",
           "#19d3f3",
           "#FF6692",
           "#B6E880",
           "#FF97FF",
           "#FECB52"
          ],
          "font": {
           "color": "#2a3f5f"
          },
          "geo": {
           "bgcolor": "white",
           "lakecolor": "white",
           "landcolor": "#E5ECF6",
           "showlakes": true,
           "showland": true,
           "subunitcolor": "white"
          },
          "hoverlabel": {
           "align": "left"
          },
          "hovermode": "closest",
          "mapbox": {
           "style": "light"
          },
          "paper_bgcolor": "white",
          "plot_bgcolor": "#E5ECF6",
          "polar": {
           "angularaxis": {
            "gridcolor": "white",
            "linecolor": "white",
            "ticks": ""
           },
           "bgcolor": "#E5ECF6",
           "radialaxis": {
            "gridcolor": "white",
            "linecolor": "white",
            "ticks": ""
           }
          },
          "scene": {
           "xaxis": {
            "backgroundcolor": "#E5ECF6",
            "gridcolor": "white",
            "gridwidth": 2,
            "linecolor": "white",
            "showbackground": true,
            "ticks": "",
            "zerolinecolor": "white"
           },
           "yaxis": {
            "backgroundcolor": "#E5ECF6",
            "gridcolor": "white",
            "gridwidth": 2,
            "linecolor": "white",
            "showbackground": true,
            "ticks": "",
            "zerolinecolor": "white"
           },
           "zaxis": {
            "backgroundcolor": "#E5ECF6",
            "gridcolor": "white",
            "gridwidth": 2,
            "linecolor": "white",
            "showbackground": true,
            "ticks": "",
            "zerolinecolor": "white"
           }
          },
          "shapedefaults": {
           "line": {
            "color": "#2a3f5f"
           }
          },
          "ternary": {
           "aaxis": {
            "gridcolor": "white",
            "linecolor": "white",
            "ticks": ""
           },
           "baxis": {
            "gridcolor": "white",
            "linecolor": "white",
            "ticks": ""
           },
           "bgcolor": "#E5ECF6",
           "caxis": {
            "gridcolor": "white",
            "linecolor": "white",
            "ticks": ""
           }
          },
          "title": {
           "x": 0.05
          },
          "xaxis": {
           "automargin": true,
           "gridcolor": "white",
           "linecolor": "white",
           "ticks": "",
           "title": {
            "standoff": 15
           },
           "zerolinecolor": "white",
           "zerolinewidth": 2
          },
          "yaxis": {
           "automargin": true,
           "gridcolor": "white",
           "linecolor": "white",
           "ticks": "",
           "title": {
            "standoff": 15
           },
           "zerolinecolor": "white",
           "zerolinewidth": 2
          }
         }
        },
        "title": {
         "font": {
          "color": "#4D5663"
         }
        },
        "xaxis": {
         "gridcolor": "#E1E5ED",
         "showgrid": true,
         "tickfont": {
          "color": "#4D5663"
         },
         "title": {
          "font": {
           "color": "#4D5663"
          },
          "text": ""
         },
         "zerolinecolor": "#E1E5ED"
        },
        "yaxis": {
         "gridcolor": "#E1E5ED",
         "showgrid": true,
         "tickfont": {
          "color": "#4D5663"
         },
         "title": {
          "font": {
           "color": "#4D5663"
          },
          "text": ""
         },
         "zerolinecolor": "#E1E5ED"
        }
       }
      },
      "text/html": [
       "<div>                            <div id=\"a61e94b1-4b7c-425e-b2fb-0ed9705a9c0f\" class=\"plotly-graph-div\" style=\"height:525px; width:100%;\"></div>            <script type=\"text/javascript\">                require([\"plotly\"], function(Plotly) {                    window.PLOTLYENV=window.PLOTLYENV || {};\n",
       "                    window.PLOTLYENV.BASE_URL='https://plot.ly';                                    if (document.getElementById(\"a61e94b1-4b7c-425e-b2fb-0ed9705a9c0f\")) {                    Plotly.newPlot(                        \"a61e94b1-4b7c-425e-b2fb-0ed9705a9c0f\",                        [{\"line\":{\"color\":\"rgba(255, 153, 51, 1.0)\",\"dash\":\"solid\",\"shape\":\"linear\",\"width\":1.3},\"marker\":{\"size\":10,\"symbol\":\"circle\"},\"mode\":\"markers\",\"name\":\"B\",\"text\":\"\",\"x\":[-0.6695219310356675,-0.29192670023127143,-0.9831645059332843,0.013262990475593704,0.5649025921315125,0.8064216811322935,-0.29053318946379497,-1.4553394975965468,-0.9334780727469513,0.15212781268808825,-0.12953561519924947,-0.07330120498823028,-1.3212460499566323,0.5375075631006219,-1.5383600487242233,1.6479766696245695,-1.5151166106018252,-0.9487373016303247,0.9868363720026039,0.8271021762057945,0.532847912728279,-1.215084246154703,-1.06990447666004,-0.20423732405811862,0.25645744237289564,1.1652515725779797,0.8666463172667327,0.9183747549879647,0.6504874381746459,-0.8243955949582988,0.31764589789799386,0.32842115742546457,-0.4879250309366784,0.9660099268240899,-0.4349598763157151,0.14565487905762764,0.7436189282138251,0.9409054661531387,-0.6465452666750505,-0.0024073828422344406,1.7067230767581596,-0.4121497707683924,-0.11389940712513696,-1.798138144899698,0.48662376592093887,1.0405713605422415,1.9209486289049162,0.6143066558160502,1.533611421591724,0.281317373014399,0.04453499041913694,0.3254655849440727,-1.7235950007111245,1.0474474785050598,0.9103859418107295,0.8525517635466807,-0.30410879772455135,1.6990988245338592,-1.4839797836397264,0.3832562237229985,0.7053168306901907,0.4203017735137733,0.5074159914678656,-0.959297650112034,-3.033106810373578,-1.1905978134391508,-0.28594306994798296,1.0009980764514175,0.10196558416155194,-0.4481953355572154,1.561038458049401,-1.8510860765324897,-0.6915435845117376,-1.1887437544871862,-0.20891836331908248,-1.5645319943763776,-0.5071826248289197,0.9745002772010514,0.5654902978301094,1.2781291327972075,-0.28550517136639925,0.15340572181957526,0.8636950655469798,-0.5646385664757835,2.5955468026902735,0.5495383901436504,0.12991333229427834,1.885651971234061,2.3101851334619705,-0.7212478669014187,1.2248866341084266,-0.07861993937764342,-1.632126443311677,0.817222682609708,-1.4875712692802876,-0.8284793569588998,-0.6147511519801087,-0.6260783806020203,0.0761575550680676,0.6386446816040392],\"y\":[-0.047249781195183846,0.5807979722191119,-0.5840803964125373,-2.0256441041451843,-2.717758433269804,0.8087501871373753,0.6808476657323692,-1.4517045352576345,-1.077566689559306,0.5761038177773498,-1.7365254614618182,-0.18196412399397116,0.6326136100827379,1.1507282085712174,0.5898260705822608,0.10035344857577091,-1.619410125275257,0.6674956593402991,-1.1198386404292284,-1.2510378091859844,0.8895570166309362,-0.3692521794513197,-0.930071334761612,1.0351120663640652,-0.1391421027530557,0.5966769499472159,0.07951570107527746,1.039322440493506,-1.0403484710164908,-0.008916864350763918,0.7605828958467573,1.316981609729183,0.18141931559657465,0.04412730738103606,0.6215623194712838,0.8297396307092603,-1.0976640935673252,1.1255496523105701,1.1656054314719215,-0.6129034501836317,-0.629216183370437,-0.6073399976273386,1.8639308196488213,0.2867514857577595,0.8401257870911673,-0.10536946095031792,0.6797613470589414,0.5336194715918102,1.2559348778753936,0.4923636697054773,-2.161063539331115,0.0728617663004551,0.8364208839679473,-0.12832774187838877,1.900093292135524,-0.8740842697369767,2.2417282144106516,-0.38953536213565704,-0.23976651362572157,-1.5826663125676441,-0.3209706218622201,0.2105394304809266,-1.031877527830503,1.4878929073514255,0.8602115753808353,-1.1136405139370515,0.8825996436964001,-1.7428085811833083,-0.15635544863752787,0.7490067955117746,-0.3239075025790853,0.038532297017919166,1.3993657988093093,1.1992934839067848,-0.36249786145583274,2.4394185211403494,-0.1793756206531476,-0.4576517146060599,0.09262337925826437,-0.011713327619057282,-0.3156445170519262,-0.29876236993757893,-0.6478579022789553,0.7517042293677587,1.081513421865064,0.44739213512439696,-0.9448629749815547,-0.575126837808124,-0.05765011398142731,-0.2820600532547387,-0.19546551834527293,1.589656469566828,-0.20582042289236055,-1.2982061633734652,-1.2146393062199856,0.32144986438176754,-0.48218801944586104,0.5457219900911298,0.9457138531063372,-0.04393831853309557],\"type\":\"scatter\"}],                        {\"legend\":{\"bgcolor\":\"#F5F6F9\",\"font\":{\"color\":\"#4D5663\"}},\"paper_bgcolor\":\"#F5F6F9\",\"plot_bgcolor\":\"#F5F6F9\",\"template\":{\"data\":{\"barpolar\":[{\"marker\":{\"line\":{\"color\":\"#E5ECF6\",\"width\":0.5},\"pattern\":{\"fillmode\":\"overlay\",\"size\":10,\"solidity\":0.2}},\"type\":\"barpolar\"}],\"bar\":[{\"error_x\":{\"color\":\"#2a3f5f\"},\"error_y\":{\"color\":\"#2a3f5f\"},\"marker\":{\"line\":{\"color\":\"#E5ECF6\",\"width\":0.5},\"pattern\":{\"fillmode\":\"overlay\",\"size\":10,\"solidity\":0.2}},\"type\":\"bar\"}],\"carpet\":[{\"aaxis\":{\"endlinecolor\":\"#2a3f5f\",\"gridcolor\":\"white\",\"linecolor\":\"white\",\"minorgridcolor\":\"white\",\"startlinecolor\":\"#2a3f5f\"},\"baxis\":{\"endlinecolor\":\"#2a3f5f\",\"gridcolor\":\"white\",\"linecolor\":\"white\",\"minorgridcolor\":\"white\",\"startlinecolor\":\"#2a3f5f\"},\"type\":\"carpet\"}],\"choropleth\":[{\"colorbar\":{\"outlinewidth\":0,\"ticks\":\"\"},\"type\":\"choropleth\"}],\"contourcarpet\":[{\"colorbar\":{\"outlinewidth\":0,\"ticks\":\"\"},\"type\":\"contourcarpet\"}],\"contour\":[{\"colorbar\":{\"outlinewidth\":0,\"ticks\":\"\"},\"colorscale\":[[0.0,\"#0d0887\"],[0.1111111111111111,\"#46039f\"],[0.2222222222222222,\"#7201a8\"],[0.3333333333333333,\"#9c179e\"],[0.4444444444444444,\"#bd3786\"],[0.5555555555555556,\"#d8576b\"],[0.6666666666666666,\"#ed7953\"],[0.7777777777777778,\"#fb9f3a\"],[0.8888888888888888,\"#fdca26\"],[1.0,\"#f0f921\"]],\"type\":\"contour\"}],\"heatmapgl\":[{\"colorbar\":{\"outlinewidth\":0,\"ticks\":\"\"},\"colorscale\":[[0.0,\"#0d0887\"],[0.1111111111111111,\"#46039f\"],[0.2222222222222222,\"#7201a8\"],[0.3333333333333333,\"#9c179e\"],[0.4444444444444444,\"#bd3786\"],[0.5555555555555556,\"#d8576b\"],[0.6666666666666666,\"#ed7953\"],[0.7777777777777778,\"#fb9f3a\"],[0.8888888888888888,\"#fdca26\"],[1.0,\"#f0f921\"]],\"type\":\"heatmapgl\"}],\"heatmap\":[{\"colorbar\":{\"outlinewidth\":0,\"ticks\":\"\"},\"colorscale\":[[0.0,\"#0d0887\"],[0.1111111111111111,\"#46039f\"],[0.2222222222222222,\"#7201a8\"],[0.3333333333333333,\"#9c179e\"],[0.4444444444444444,\"#bd3786\"],[0.5555555555555556,\"#d8576b\"],[0.6666666666666666,\"#ed7953\"],[0.7777777777777778,\"#fb9f3a\"],[0.8888888888888888,\"#fdca26\"],[1.0,\"#f0f921\"]],\"type\":\"heatmap\"}],\"histogram2dcontour\":[{\"colorbar\":{\"outlinewidth\":0,\"ticks\":\"\"},\"colorscale\":[[0.0,\"#0d0887\"],[0.1111111111111111,\"#46039f\"],[0.2222222222222222,\"#7201a8\"],[0.3333333333333333,\"#9c179e\"],[0.4444444444444444,\"#bd3786\"],[0.5555555555555556,\"#d8576b\"],[0.6666666666666666,\"#ed7953\"],[0.7777777777777778,\"#fb9f3a\"],[0.8888888888888888,\"#fdca26\"],[1.0,\"#f0f921\"]],\"type\":\"histogram2dcontour\"}],\"histogram2d\":[{\"colorbar\":{\"outlinewidth\":0,\"ticks\":\"\"},\"colorscale\":[[0.0,\"#0d0887\"],[0.1111111111111111,\"#46039f\"],[0.2222222222222222,\"#7201a8\"],[0.3333333333333333,\"#9c179e\"],[0.4444444444444444,\"#bd3786\"],[0.5555555555555556,\"#d8576b\"],[0.6666666666666666,\"#ed7953\"],[0.7777777777777778,\"#fb9f3a\"],[0.8888888888888888,\"#fdca26\"],[1.0,\"#f0f921\"]],\"type\":\"histogram2d\"}],\"histogram\":[{\"marker\":{\"pattern\":{\"fillmode\":\"overlay\",\"size\":10,\"solidity\":0.2}},\"type\":\"histogram\"}],\"mesh3d\":[{\"colorbar\":{\"outlinewidth\":0,\"ticks\":\"\"},\"type\":\"mesh3d\"}],\"parcoords\":[{\"line\":{\"colorbar\":{\"outlinewidth\":0,\"ticks\":\"\"}},\"type\":\"parcoords\"}],\"pie\":[{\"automargin\":true,\"type\":\"pie\"}],\"scatter3d\":[{\"line\":{\"colorbar\":{\"outlinewidth\":0,\"ticks\":\"\"}},\"marker\":{\"colorbar\":{\"outlinewidth\":0,\"ticks\":\"\"}},\"type\":\"scatter3d\"}],\"scattercarpet\":[{\"marker\":{\"colorbar\":{\"outlinewidth\":0,\"ticks\":\"\"}},\"type\":\"scattercarpet\"}],\"scattergeo\":[{\"marker\":{\"colorbar\":{\"outlinewidth\":0,\"ticks\":\"\"}},\"type\":\"scattergeo\"}],\"scattergl\":[{\"marker\":{\"colorbar\":{\"outlinewidth\":0,\"ticks\":\"\"}},\"type\":\"scattergl\"}],\"scattermapbox\":[{\"marker\":{\"colorbar\":{\"outlinewidth\":0,\"ticks\":\"\"}},\"type\":\"scattermapbox\"}],\"scatterpolargl\":[{\"marker\":{\"colorbar\":{\"outlinewidth\":0,\"ticks\":\"\"}},\"type\":\"scatterpolargl\"}],\"scatterpolar\":[{\"marker\":{\"colorbar\":{\"outlinewidth\":0,\"ticks\":\"\"}},\"type\":\"scatterpolar\"}],\"scatter\":[{\"fillpattern\":{\"fillmode\":\"overlay\",\"size\":10,\"solidity\":0.2},\"type\":\"scatter\"}],\"scatterternary\":[{\"marker\":{\"colorbar\":{\"outlinewidth\":0,\"ticks\":\"\"}},\"type\":\"scatterternary\"}],\"surface\":[{\"colorbar\":{\"outlinewidth\":0,\"ticks\":\"\"},\"colorscale\":[[0.0,\"#0d0887\"],[0.1111111111111111,\"#46039f\"],[0.2222222222222222,\"#7201a8\"],[0.3333333333333333,\"#9c179e\"],[0.4444444444444444,\"#bd3786\"],[0.5555555555555556,\"#d8576b\"],[0.6666666666666666,\"#ed7953\"],[0.7777777777777778,\"#fb9f3a\"],[0.8888888888888888,\"#fdca26\"],[1.0,\"#f0f921\"]],\"type\":\"surface\"}],\"table\":[{\"cells\":{\"fill\":{\"color\":\"#EBF0F8\"},\"line\":{\"color\":\"white\"}},\"header\":{\"fill\":{\"color\":\"#C8D4E3\"},\"line\":{\"color\":\"white\"}},\"type\":\"table\"}]},\"layout\":{\"annotationdefaults\":{\"arrowcolor\":\"#2a3f5f\",\"arrowhead\":0,\"arrowwidth\":1},\"autotypenumbers\":\"strict\",\"coloraxis\":{\"colorbar\":{\"outlinewidth\":0,\"ticks\":\"\"}},\"colorscale\":{\"diverging\":[[0,\"#8e0152\"],[0.1,\"#c51b7d\"],[0.2,\"#de77ae\"],[0.3,\"#f1b6da\"],[0.4,\"#fde0ef\"],[0.5,\"#f7f7f7\"],[0.6,\"#e6f5d0\"],[0.7,\"#b8e186\"],[0.8,\"#7fbc41\"],[0.9,\"#4d9221\"],[1,\"#276419\"]],\"sequential\":[[0.0,\"#0d0887\"],[0.1111111111111111,\"#46039f\"],[0.2222222222222222,\"#7201a8\"],[0.3333333333333333,\"#9c179e\"],[0.4444444444444444,\"#bd3786\"],[0.5555555555555556,\"#d8576b\"],[0.6666666666666666,\"#ed7953\"],[0.7777777777777778,\"#fb9f3a\"],[0.8888888888888888,\"#fdca26\"],[1.0,\"#f0f921\"]],\"sequentialminus\":[[0.0,\"#0d0887\"],[0.1111111111111111,\"#46039f\"],[0.2222222222222222,\"#7201a8\"],[0.3333333333333333,\"#9c179e\"],[0.4444444444444444,\"#bd3786\"],[0.5555555555555556,\"#d8576b\"],[0.6666666666666666,\"#ed7953\"],[0.7777777777777778,\"#fb9f3a\"],[0.8888888888888888,\"#fdca26\"],[1.0,\"#f0f921\"]]},\"colorway\":[\"#636efa\",\"#EF553B\",\"#00cc96\",\"#ab63fa\",\"#FFA15A\",\"#19d3f3\",\"#FF6692\",\"#B6E880\",\"#FF97FF\",\"#FECB52\"],\"font\":{\"color\":\"#2a3f5f\"},\"geo\":{\"bgcolor\":\"white\",\"lakecolor\":\"white\",\"landcolor\":\"#E5ECF6\",\"showlakes\":true,\"showland\":true,\"subunitcolor\":\"white\"},\"hoverlabel\":{\"align\":\"left\"},\"hovermode\":\"closest\",\"mapbox\":{\"style\":\"light\"},\"paper_bgcolor\":\"white\",\"plot_bgcolor\":\"#E5ECF6\",\"polar\":{\"angularaxis\":{\"gridcolor\":\"white\",\"linecolor\":\"white\",\"ticks\":\"\"},\"bgcolor\":\"#E5ECF6\",\"radialaxis\":{\"gridcolor\":\"white\",\"linecolor\":\"white\",\"ticks\":\"\"}},\"scene\":{\"xaxis\":{\"backgroundcolor\":\"#E5ECF6\",\"gridcolor\":\"white\",\"gridwidth\":2,\"linecolor\":\"white\",\"showbackground\":true,\"ticks\":\"\",\"zerolinecolor\":\"white\"},\"yaxis\":{\"backgroundcolor\":\"#E5ECF6\",\"gridcolor\":\"white\",\"gridwidth\":2,\"linecolor\":\"white\",\"showbackground\":true,\"ticks\":\"\",\"zerolinecolor\":\"white\"},\"zaxis\":{\"backgroundcolor\":\"#E5ECF6\",\"gridcolor\":\"white\",\"gridwidth\":2,\"linecolor\":\"white\",\"showbackground\":true,\"ticks\":\"\",\"zerolinecolor\":\"white\"}},\"shapedefaults\":{\"line\":{\"color\":\"#2a3f5f\"}},\"ternary\":{\"aaxis\":{\"gridcolor\":\"white\",\"linecolor\":\"white\",\"ticks\":\"\"},\"baxis\":{\"gridcolor\":\"white\",\"linecolor\":\"white\",\"ticks\":\"\"},\"bgcolor\":\"#E5ECF6\",\"caxis\":{\"gridcolor\":\"white\",\"linecolor\":\"white\",\"ticks\":\"\"}},\"title\":{\"x\":0.05},\"xaxis\":{\"automargin\":true,\"gridcolor\":\"white\",\"linecolor\":\"white\",\"ticks\":\"\",\"title\":{\"standoff\":15},\"zerolinecolor\":\"white\",\"zerolinewidth\":2},\"yaxis\":{\"automargin\":true,\"gridcolor\":\"white\",\"linecolor\":\"white\",\"ticks\":\"\",\"title\":{\"standoff\":15},\"zerolinecolor\":\"white\",\"zerolinewidth\":2}}},\"title\":{\"font\":{\"color\":\"#4D5663\"}},\"xaxis\":{\"gridcolor\":\"#E1E5ED\",\"showgrid\":true,\"tickfont\":{\"color\":\"#4D5663\"},\"title\":{\"font\":{\"color\":\"#4D5663\"},\"text\":\"\"},\"zerolinecolor\":\"#E1E5ED\"},\"yaxis\":{\"gridcolor\":\"#E1E5ED\",\"showgrid\":true,\"tickfont\":{\"color\":\"#4D5663\"},\"title\":{\"font\":{\"color\":\"#4D5663\"},\"text\":\"\"},\"zerolinecolor\":\"#E1E5ED\"}},                        {\"showLink\": true, \"linkText\": \"Export to plot.ly\", \"plotlyServerURL\": \"https://plot.ly\", \"responsive\": true}                    ).then(function(){\n",
       "                            \n",
       "var gd = document.getElementById('a61e94b1-4b7c-425e-b2fb-0ed9705a9c0f');\n",
       "var x = new MutationObserver(function (mutations, observer) {{\n",
       "        var display = window.getComputedStyle(gd).display;\n",
       "        if (!display || display === 'none') {{\n",
       "            console.log([gd, 'removed!']);\n",
       "            Plotly.purge(gd);\n",
       "            observer.disconnect();\n",
       "        }}\n",
       "}});\n",
       "\n",
       "// Listen for the removal of the full notebook cells\n",
       "var notebookContainer = gd.closest('#notebook-container');\n",
       "if (notebookContainer) {{\n",
       "    x.observe(notebookContainer, {childList: true});\n",
       "}}\n",
       "\n",
       "// Listen for the clearing of the current output cell\n",
       "var outputEl = gd.closest('.output');\n",
       "if (outputEl) {{\n",
       "    x.observe(outputEl, {childList: true});\n",
       "}}\n",
       "\n",
       "                        })                };                });            </script>        </div>"
      ]
     },
     "metadata": {},
     "output_type": "display_data"
    }
   ],
   "source": [
    "df.iplot(kind='scatter',x='A',y='B',mode='markers',size=10)"
   ]
  },
  {
   "cell_type": "code",
   "execution_count": 11,
   "id": "46a6804b",
   "metadata": {},
   "outputs": [
    {
     "data": {
      "application/vnd.plotly.v1+json": {
       "config": {
        "linkText": "Export to plot.ly",
        "plotlyServerURL": "https://plot.ly",
        "showLink": true
       },
       "data": [
        {
         "marker": {
          "color": "rgba(255, 153, 51, 0.6)",
          "line": {
           "color": "rgba(255, 153, 51, 1.0)",
           "width": 1
          }
         },
         "name": "Values",
         "orientation": "v",
         "text": "",
         "type": "bar",
         "x": [
          "A",
          "B",
          "C"
         ],
         "y": [
          23,
          40,
          55
         ]
        }
       ],
       "layout": {
        "legend": {
         "bgcolor": "#F5F6F9",
         "font": {
          "color": "#4D5663"
         }
        },
        "paper_bgcolor": "#F5F6F9",
        "plot_bgcolor": "#F5F6F9",
        "template": {
         "data": {
          "bar": [
           {
            "error_x": {
             "color": "#2a3f5f"
            },
            "error_y": {
             "color": "#2a3f5f"
            },
            "marker": {
             "line": {
              "color": "#E5ECF6",
              "width": 0.5
             },
             "pattern": {
              "fillmode": "overlay",
              "size": 10,
              "solidity": 0.2
             }
            },
            "type": "bar"
           }
          ],
          "barpolar": [
           {
            "marker": {
             "line": {
              "color": "#E5ECF6",
              "width": 0.5
             },
             "pattern": {
              "fillmode": "overlay",
              "size": 10,
              "solidity": 0.2
             }
            },
            "type": "barpolar"
           }
          ],
          "carpet": [
           {
            "aaxis": {
             "endlinecolor": "#2a3f5f",
             "gridcolor": "white",
             "linecolor": "white",
             "minorgridcolor": "white",
             "startlinecolor": "#2a3f5f"
            },
            "baxis": {
             "endlinecolor": "#2a3f5f",
             "gridcolor": "white",
             "linecolor": "white",
             "minorgridcolor": "white",
             "startlinecolor": "#2a3f5f"
            },
            "type": "carpet"
           }
          ],
          "choropleth": [
           {
            "colorbar": {
             "outlinewidth": 0,
             "ticks": ""
            },
            "type": "choropleth"
           }
          ],
          "contour": [
           {
            "colorbar": {
             "outlinewidth": 0,
             "ticks": ""
            },
            "colorscale": [
             [
              0,
              "#0d0887"
             ],
             [
              0.1111111111111111,
              "#46039f"
             ],
             [
              0.2222222222222222,
              "#7201a8"
             ],
             [
              0.3333333333333333,
              "#9c179e"
             ],
             [
              0.4444444444444444,
              "#bd3786"
             ],
             [
              0.5555555555555556,
              "#d8576b"
             ],
             [
              0.6666666666666666,
              "#ed7953"
             ],
             [
              0.7777777777777778,
              "#fb9f3a"
             ],
             [
              0.8888888888888888,
              "#fdca26"
             ],
             [
              1,
              "#f0f921"
             ]
            ],
            "type": "contour"
           }
          ],
          "contourcarpet": [
           {
            "colorbar": {
             "outlinewidth": 0,
             "ticks": ""
            },
            "type": "contourcarpet"
           }
          ],
          "heatmap": [
           {
            "colorbar": {
             "outlinewidth": 0,
             "ticks": ""
            },
            "colorscale": [
             [
              0,
              "#0d0887"
             ],
             [
              0.1111111111111111,
              "#46039f"
             ],
             [
              0.2222222222222222,
              "#7201a8"
             ],
             [
              0.3333333333333333,
              "#9c179e"
             ],
             [
              0.4444444444444444,
              "#bd3786"
             ],
             [
              0.5555555555555556,
              "#d8576b"
             ],
             [
              0.6666666666666666,
              "#ed7953"
             ],
             [
              0.7777777777777778,
              "#fb9f3a"
             ],
             [
              0.8888888888888888,
              "#fdca26"
             ],
             [
              1,
              "#f0f921"
             ]
            ],
            "type": "heatmap"
           }
          ],
          "heatmapgl": [
           {
            "colorbar": {
             "outlinewidth": 0,
             "ticks": ""
            },
            "colorscale": [
             [
              0,
              "#0d0887"
             ],
             [
              0.1111111111111111,
              "#46039f"
             ],
             [
              0.2222222222222222,
              "#7201a8"
             ],
             [
              0.3333333333333333,
              "#9c179e"
             ],
             [
              0.4444444444444444,
              "#bd3786"
             ],
             [
              0.5555555555555556,
              "#d8576b"
             ],
             [
              0.6666666666666666,
              "#ed7953"
             ],
             [
              0.7777777777777778,
              "#fb9f3a"
             ],
             [
              0.8888888888888888,
              "#fdca26"
             ],
             [
              1,
              "#f0f921"
             ]
            ],
            "type": "heatmapgl"
           }
          ],
          "histogram": [
           {
            "marker": {
             "pattern": {
              "fillmode": "overlay",
              "size": 10,
              "solidity": 0.2
             }
            },
            "type": "histogram"
           }
          ],
          "histogram2d": [
           {
            "colorbar": {
             "outlinewidth": 0,
             "ticks": ""
            },
            "colorscale": [
             [
              0,
              "#0d0887"
             ],
             [
              0.1111111111111111,
              "#46039f"
             ],
             [
              0.2222222222222222,
              "#7201a8"
             ],
             [
              0.3333333333333333,
              "#9c179e"
             ],
             [
              0.4444444444444444,
              "#bd3786"
             ],
             [
              0.5555555555555556,
              "#d8576b"
             ],
             [
              0.6666666666666666,
              "#ed7953"
             ],
             [
              0.7777777777777778,
              "#fb9f3a"
             ],
             [
              0.8888888888888888,
              "#fdca26"
             ],
             [
              1,
              "#f0f921"
             ]
            ],
            "type": "histogram2d"
           }
          ],
          "histogram2dcontour": [
           {
            "colorbar": {
             "outlinewidth": 0,
             "ticks": ""
            },
            "colorscale": [
             [
              0,
              "#0d0887"
             ],
             [
              0.1111111111111111,
              "#46039f"
             ],
             [
              0.2222222222222222,
              "#7201a8"
             ],
             [
              0.3333333333333333,
              "#9c179e"
             ],
             [
              0.4444444444444444,
              "#bd3786"
             ],
             [
              0.5555555555555556,
              "#d8576b"
             ],
             [
              0.6666666666666666,
              "#ed7953"
             ],
             [
              0.7777777777777778,
              "#fb9f3a"
             ],
             [
              0.8888888888888888,
              "#fdca26"
             ],
             [
              1,
              "#f0f921"
             ]
            ],
            "type": "histogram2dcontour"
           }
          ],
          "mesh3d": [
           {
            "colorbar": {
             "outlinewidth": 0,
             "ticks": ""
            },
            "type": "mesh3d"
           }
          ],
          "parcoords": [
           {
            "line": {
             "colorbar": {
              "outlinewidth": 0,
              "ticks": ""
             }
            },
            "type": "parcoords"
           }
          ],
          "pie": [
           {
            "automargin": true,
            "type": "pie"
           }
          ],
          "scatter": [
           {
            "fillpattern": {
             "fillmode": "overlay",
             "size": 10,
             "solidity": 0.2
            },
            "type": "scatter"
           }
          ],
          "scatter3d": [
           {
            "line": {
             "colorbar": {
              "outlinewidth": 0,
              "ticks": ""
             }
            },
            "marker": {
             "colorbar": {
              "outlinewidth": 0,
              "ticks": ""
             }
            },
            "type": "scatter3d"
           }
          ],
          "scattercarpet": [
           {
            "marker": {
             "colorbar": {
              "outlinewidth": 0,
              "ticks": ""
             }
            },
            "type": "scattercarpet"
           }
          ],
          "scattergeo": [
           {
            "marker": {
             "colorbar": {
              "outlinewidth": 0,
              "ticks": ""
             }
            },
            "type": "scattergeo"
           }
          ],
          "scattergl": [
           {
            "marker": {
             "colorbar": {
              "outlinewidth": 0,
              "ticks": ""
             }
            },
            "type": "scattergl"
           }
          ],
          "scattermapbox": [
           {
            "marker": {
             "colorbar": {
              "outlinewidth": 0,
              "ticks": ""
             }
            },
            "type": "scattermapbox"
           }
          ],
          "scatterpolar": [
           {
            "marker": {
             "colorbar": {
              "outlinewidth": 0,
              "ticks": ""
             }
            },
            "type": "scatterpolar"
           }
          ],
          "scatterpolargl": [
           {
            "marker": {
             "colorbar": {
              "outlinewidth": 0,
              "ticks": ""
             }
            },
            "type": "scatterpolargl"
           }
          ],
          "scatterternary": [
           {
            "marker": {
             "colorbar": {
              "outlinewidth": 0,
              "ticks": ""
             }
            },
            "type": "scatterternary"
           }
          ],
          "surface": [
           {
            "colorbar": {
             "outlinewidth": 0,
             "ticks": ""
            },
            "colorscale": [
             [
              0,
              "#0d0887"
             ],
             [
              0.1111111111111111,
              "#46039f"
             ],
             [
              0.2222222222222222,
              "#7201a8"
             ],
             [
              0.3333333333333333,
              "#9c179e"
             ],
             [
              0.4444444444444444,
              "#bd3786"
             ],
             [
              0.5555555555555556,
              "#d8576b"
             ],
             [
              0.6666666666666666,
              "#ed7953"
             ],
             [
              0.7777777777777778,
              "#fb9f3a"
             ],
             [
              0.8888888888888888,
              "#fdca26"
             ],
             [
              1,
              "#f0f921"
             ]
            ],
            "type": "surface"
           }
          ],
          "table": [
           {
            "cells": {
             "fill": {
              "color": "#EBF0F8"
             },
             "line": {
              "color": "white"
             }
            },
            "header": {
             "fill": {
              "color": "#C8D4E3"
             },
             "line": {
              "color": "white"
             }
            },
            "type": "table"
           }
          ]
         },
         "layout": {
          "annotationdefaults": {
           "arrowcolor": "#2a3f5f",
           "arrowhead": 0,
           "arrowwidth": 1
          },
          "autotypenumbers": "strict",
          "coloraxis": {
           "colorbar": {
            "outlinewidth": 0,
            "ticks": ""
           }
          },
          "colorscale": {
           "diverging": [
            [
             0,
             "#8e0152"
            ],
            [
             0.1,
             "#c51b7d"
            ],
            [
             0.2,
             "#de77ae"
            ],
            [
             0.3,
             "#f1b6da"
            ],
            [
             0.4,
             "#fde0ef"
            ],
            [
             0.5,
             "#f7f7f7"
            ],
            [
             0.6,
             "#e6f5d0"
            ],
            [
             0.7,
             "#b8e186"
            ],
            [
             0.8,
             "#7fbc41"
            ],
            [
             0.9,
             "#4d9221"
            ],
            [
             1,
             "#276419"
            ]
           ],
           "sequential": [
            [
             0,
             "#0d0887"
            ],
            [
             0.1111111111111111,
             "#46039f"
            ],
            [
             0.2222222222222222,
             "#7201a8"
            ],
            [
             0.3333333333333333,
             "#9c179e"
            ],
            [
             0.4444444444444444,
             "#bd3786"
            ],
            [
             0.5555555555555556,
             "#d8576b"
            ],
            [
             0.6666666666666666,
             "#ed7953"
            ],
            [
             0.7777777777777778,
             "#fb9f3a"
            ],
            [
             0.8888888888888888,
             "#fdca26"
            ],
            [
             1,
             "#f0f921"
            ]
           ],
           "sequentialminus": [
            [
             0,
             "#0d0887"
            ],
            [
             0.1111111111111111,
             "#46039f"
            ],
            [
             0.2222222222222222,
             "#7201a8"
            ],
            [
             0.3333333333333333,
             "#9c179e"
            ],
            [
             0.4444444444444444,
             "#bd3786"
            ],
            [
             0.5555555555555556,
             "#d8576b"
            ],
            [
             0.6666666666666666,
             "#ed7953"
            ],
            [
             0.7777777777777778,
             "#fb9f3a"
            ],
            [
             0.8888888888888888,
             "#fdca26"
            ],
            [
             1,
             "#f0f921"
            ]
           ]
          },
          "colorway": [
           "#636efa",
           "#EF553B",
           "#00cc96",
           "#ab63fa",
           "#FFA15A",
           "#19d3f3",
           "#FF6692",
           "#B6E880",
           "#FF97FF",
           "#FECB52"
          ],
          "font": {
           "color": "#2a3f5f"
          },
          "geo": {
           "bgcolor": "white",
           "lakecolor": "white",
           "landcolor": "#E5ECF6",
           "showlakes": true,
           "showland": true,
           "subunitcolor": "white"
          },
          "hoverlabel": {
           "align": "left"
          },
          "hovermode": "closest",
          "mapbox": {
           "style": "light"
          },
          "paper_bgcolor": "white",
          "plot_bgcolor": "#E5ECF6",
          "polar": {
           "angularaxis": {
            "gridcolor": "white",
            "linecolor": "white",
            "ticks": ""
           },
           "bgcolor": "#E5ECF6",
           "radialaxis": {
            "gridcolor": "white",
            "linecolor": "white",
            "ticks": ""
           }
          },
          "scene": {
           "xaxis": {
            "backgroundcolor": "#E5ECF6",
            "gridcolor": "white",
            "gridwidth": 2,
            "linecolor": "white",
            "showbackground": true,
            "ticks": "",
            "zerolinecolor": "white"
           },
           "yaxis": {
            "backgroundcolor": "#E5ECF6",
            "gridcolor": "white",
            "gridwidth": 2,
            "linecolor": "white",
            "showbackground": true,
            "ticks": "",
            "zerolinecolor": "white"
           },
           "zaxis": {
            "backgroundcolor": "#E5ECF6",
            "gridcolor": "white",
            "gridwidth": 2,
            "linecolor": "white",
            "showbackground": true,
            "ticks": "",
            "zerolinecolor": "white"
           }
          },
          "shapedefaults": {
           "line": {
            "color": "#2a3f5f"
           }
          },
          "ternary": {
           "aaxis": {
            "gridcolor": "white",
            "linecolor": "white",
            "ticks": ""
           },
           "baxis": {
            "gridcolor": "white",
            "linecolor": "white",
            "ticks": ""
           },
           "bgcolor": "#E5ECF6",
           "caxis": {
            "gridcolor": "white",
            "linecolor": "white",
            "ticks": ""
           }
          },
          "title": {
           "x": 0.05
          },
          "xaxis": {
           "automargin": true,
           "gridcolor": "white",
           "linecolor": "white",
           "ticks": "",
           "title": {
            "standoff": 15
           },
           "zerolinecolor": "white",
           "zerolinewidth": 2
          },
          "yaxis": {
           "automargin": true,
           "gridcolor": "white",
           "linecolor": "white",
           "ticks": "",
           "title": {
            "standoff": 15
           },
           "zerolinecolor": "white",
           "zerolinewidth": 2
          }
         }
        },
        "title": {
         "font": {
          "color": "#4D5663"
         }
        },
        "xaxis": {
         "gridcolor": "#E1E5ED",
         "showgrid": true,
         "tickfont": {
          "color": "#4D5663"
         },
         "title": {
          "font": {
           "color": "#4D5663"
          },
          "text": ""
         },
         "zerolinecolor": "#E1E5ED"
        },
        "yaxis": {
         "gridcolor": "#E1E5ED",
         "showgrid": true,
         "tickfont": {
          "color": "#4D5663"
         },
         "title": {
          "font": {
           "color": "#4D5663"
          },
          "text": ""
         },
         "zerolinecolor": "#E1E5ED"
        }
       }
      },
      "text/html": [
       "<div>                            <div id=\"d667eda0-04e8-4263-b306-38ca24cf48af\" class=\"plotly-graph-div\" style=\"height:525px; width:100%;\"></div>            <script type=\"text/javascript\">                require([\"plotly\"], function(Plotly) {                    window.PLOTLYENV=window.PLOTLYENV || {};\n",
       "                    window.PLOTLYENV.BASE_URL='https://plot.ly';                                    if (document.getElementById(\"d667eda0-04e8-4263-b306-38ca24cf48af\")) {                    Plotly.newPlot(                        \"d667eda0-04e8-4263-b306-38ca24cf48af\",                        [{\"marker\":{\"color\":\"rgba(255, 153, 51, 0.6)\",\"line\":{\"color\":\"rgba(255, 153, 51, 1.0)\",\"width\":1}},\"name\":\"Values\",\"orientation\":\"v\",\"text\":\"\",\"x\":[\"A\",\"B\",\"C\"],\"y\":[23,40,55],\"type\":\"bar\"}],                        {\"legend\":{\"bgcolor\":\"#F5F6F9\",\"font\":{\"color\":\"#4D5663\"}},\"paper_bgcolor\":\"#F5F6F9\",\"plot_bgcolor\":\"#F5F6F9\",\"template\":{\"data\":{\"barpolar\":[{\"marker\":{\"line\":{\"color\":\"#E5ECF6\",\"width\":0.5},\"pattern\":{\"fillmode\":\"overlay\",\"size\":10,\"solidity\":0.2}},\"type\":\"barpolar\"}],\"bar\":[{\"error_x\":{\"color\":\"#2a3f5f\"},\"error_y\":{\"color\":\"#2a3f5f\"},\"marker\":{\"line\":{\"color\":\"#E5ECF6\",\"width\":0.5},\"pattern\":{\"fillmode\":\"overlay\",\"size\":10,\"solidity\":0.2}},\"type\":\"bar\"}],\"carpet\":[{\"aaxis\":{\"endlinecolor\":\"#2a3f5f\",\"gridcolor\":\"white\",\"linecolor\":\"white\",\"minorgridcolor\":\"white\",\"startlinecolor\":\"#2a3f5f\"},\"baxis\":{\"endlinecolor\":\"#2a3f5f\",\"gridcolor\":\"white\",\"linecolor\":\"white\",\"minorgridcolor\":\"white\",\"startlinecolor\":\"#2a3f5f\"},\"type\":\"carpet\"}],\"choropleth\":[{\"colorbar\":{\"outlinewidth\":0,\"ticks\":\"\"},\"type\":\"choropleth\"}],\"contourcarpet\":[{\"colorbar\":{\"outlinewidth\":0,\"ticks\":\"\"},\"type\":\"contourcarpet\"}],\"contour\":[{\"colorbar\":{\"outlinewidth\":0,\"ticks\":\"\"},\"colorscale\":[[0.0,\"#0d0887\"],[0.1111111111111111,\"#46039f\"],[0.2222222222222222,\"#7201a8\"],[0.3333333333333333,\"#9c179e\"],[0.4444444444444444,\"#bd3786\"],[0.5555555555555556,\"#d8576b\"],[0.6666666666666666,\"#ed7953\"],[0.7777777777777778,\"#fb9f3a\"],[0.8888888888888888,\"#fdca26\"],[1.0,\"#f0f921\"]],\"type\":\"contour\"}],\"heatmapgl\":[{\"colorbar\":{\"outlinewidth\":0,\"ticks\":\"\"},\"colorscale\":[[0.0,\"#0d0887\"],[0.1111111111111111,\"#46039f\"],[0.2222222222222222,\"#7201a8\"],[0.3333333333333333,\"#9c179e\"],[0.4444444444444444,\"#bd3786\"],[0.5555555555555556,\"#d8576b\"],[0.6666666666666666,\"#ed7953\"],[0.7777777777777778,\"#fb9f3a\"],[0.8888888888888888,\"#fdca26\"],[1.0,\"#f0f921\"]],\"type\":\"heatmapgl\"}],\"heatmap\":[{\"colorbar\":{\"outlinewidth\":0,\"ticks\":\"\"},\"colorscale\":[[0.0,\"#0d0887\"],[0.1111111111111111,\"#46039f\"],[0.2222222222222222,\"#7201a8\"],[0.3333333333333333,\"#9c179e\"],[0.4444444444444444,\"#bd3786\"],[0.5555555555555556,\"#d8576b\"],[0.6666666666666666,\"#ed7953\"],[0.7777777777777778,\"#fb9f3a\"],[0.8888888888888888,\"#fdca26\"],[1.0,\"#f0f921\"]],\"type\":\"heatmap\"}],\"histogram2dcontour\":[{\"colorbar\":{\"outlinewidth\":0,\"ticks\":\"\"},\"colorscale\":[[0.0,\"#0d0887\"],[0.1111111111111111,\"#46039f\"],[0.2222222222222222,\"#7201a8\"],[0.3333333333333333,\"#9c179e\"],[0.4444444444444444,\"#bd3786\"],[0.5555555555555556,\"#d8576b\"],[0.6666666666666666,\"#ed7953\"],[0.7777777777777778,\"#fb9f3a\"],[0.8888888888888888,\"#fdca26\"],[1.0,\"#f0f921\"]],\"type\":\"histogram2dcontour\"}],\"histogram2d\":[{\"colorbar\":{\"outlinewidth\":0,\"ticks\":\"\"},\"colorscale\":[[0.0,\"#0d0887\"],[0.1111111111111111,\"#46039f\"],[0.2222222222222222,\"#7201a8\"],[0.3333333333333333,\"#9c179e\"],[0.4444444444444444,\"#bd3786\"],[0.5555555555555556,\"#d8576b\"],[0.6666666666666666,\"#ed7953\"],[0.7777777777777778,\"#fb9f3a\"],[0.8888888888888888,\"#fdca26\"],[1.0,\"#f0f921\"]],\"type\":\"histogram2d\"}],\"histogram\":[{\"marker\":{\"pattern\":{\"fillmode\":\"overlay\",\"size\":10,\"solidity\":0.2}},\"type\":\"histogram\"}],\"mesh3d\":[{\"colorbar\":{\"outlinewidth\":0,\"ticks\":\"\"},\"type\":\"mesh3d\"}],\"parcoords\":[{\"line\":{\"colorbar\":{\"outlinewidth\":0,\"ticks\":\"\"}},\"type\":\"parcoords\"}],\"pie\":[{\"automargin\":true,\"type\":\"pie\"}],\"scatter3d\":[{\"line\":{\"colorbar\":{\"outlinewidth\":0,\"ticks\":\"\"}},\"marker\":{\"colorbar\":{\"outlinewidth\":0,\"ticks\":\"\"}},\"type\":\"scatter3d\"}],\"scattercarpet\":[{\"marker\":{\"colorbar\":{\"outlinewidth\":0,\"ticks\":\"\"}},\"type\":\"scattercarpet\"}],\"scattergeo\":[{\"marker\":{\"colorbar\":{\"outlinewidth\":0,\"ticks\":\"\"}},\"type\":\"scattergeo\"}],\"scattergl\":[{\"marker\":{\"colorbar\":{\"outlinewidth\":0,\"ticks\":\"\"}},\"type\":\"scattergl\"}],\"scattermapbox\":[{\"marker\":{\"colorbar\":{\"outlinewidth\":0,\"ticks\":\"\"}},\"type\":\"scattermapbox\"}],\"scatterpolargl\":[{\"marker\":{\"colorbar\":{\"outlinewidth\":0,\"ticks\":\"\"}},\"type\":\"scatterpolargl\"}],\"scatterpolar\":[{\"marker\":{\"colorbar\":{\"outlinewidth\":0,\"ticks\":\"\"}},\"type\":\"scatterpolar\"}],\"scatter\":[{\"fillpattern\":{\"fillmode\":\"overlay\",\"size\":10,\"solidity\":0.2},\"type\":\"scatter\"}],\"scatterternary\":[{\"marker\":{\"colorbar\":{\"outlinewidth\":0,\"ticks\":\"\"}},\"type\":\"scatterternary\"}],\"surface\":[{\"colorbar\":{\"outlinewidth\":0,\"ticks\":\"\"},\"colorscale\":[[0.0,\"#0d0887\"],[0.1111111111111111,\"#46039f\"],[0.2222222222222222,\"#7201a8\"],[0.3333333333333333,\"#9c179e\"],[0.4444444444444444,\"#bd3786\"],[0.5555555555555556,\"#d8576b\"],[0.6666666666666666,\"#ed7953\"],[0.7777777777777778,\"#fb9f3a\"],[0.8888888888888888,\"#fdca26\"],[1.0,\"#f0f921\"]],\"type\":\"surface\"}],\"table\":[{\"cells\":{\"fill\":{\"color\":\"#EBF0F8\"},\"line\":{\"color\":\"white\"}},\"header\":{\"fill\":{\"color\":\"#C8D4E3\"},\"line\":{\"color\":\"white\"}},\"type\":\"table\"}]},\"layout\":{\"annotationdefaults\":{\"arrowcolor\":\"#2a3f5f\",\"arrowhead\":0,\"arrowwidth\":1},\"autotypenumbers\":\"strict\",\"coloraxis\":{\"colorbar\":{\"outlinewidth\":0,\"ticks\":\"\"}},\"colorscale\":{\"diverging\":[[0,\"#8e0152\"],[0.1,\"#c51b7d\"],[0.2,\"#de77ae\"],[0.3,\"#f1b6da\"],[0.4,\"#fde0ef\"],[0.5,\"#f7f7f7\"],[0.6,\"#e6f5d0\"],[0.7,\"#b8e186\"],[0.8,\"#7fbc41\"],[0.9,\"#4d9221\"],[1,\"#276419\"]],\"sequential\":[[0.0,\"#0d0887\"],[0.1111111111111111,\"#46039f\"],[0.2222222222222222,\"#7201a8\"],[0.3333333333333333,\"#9c179e\"],[0.4444444444444444,\"#bd3786\"],[0.5555555555555556,\"#d8576b\"],[0.6666666666666666,\"#ed7953\"],[0.7777777777777778,\"#fb9f3a\"],[0.8888888888888888,\"#fdca26\"],[1.0,\"#f0f921\"]],\"sequentialminus\":[[0.0,\"#0d0887\"],[0.1111111111111111,\"#46039f\"],[0.2222222222222222,\"#7201a8\"],[0.3333333333333333,\"#9c179e\"],[0.4444444444444444,\"#bd3786\"],[0.5555555555555556,\"#d8576b\"],[0.6666666666666666,\"#ed7953\"],[0.7777777777777778,\"#fb9f3a\"],[0.8888888888888888,\"#fdca26\"],[1.0,\"#f0f921\"]]},\"colorway\":[\"#636efa\",\"#EF553B\",\"#00cc96\",\"#ab63fa\",\"#FFA15A\",\"#19d3f3\",\"#FF6692\",\"#B6E880\",\"#FF97FF\",\"#FECB52\"],\"font\":{\"color\":\"#2a3f5f\"},\"geo\":{\"bgcolor\":\"white\",\"lakecolor\":\"white\",\"landcolor\":\"#E5ECF6\",\"showlakes\":true,\"showland\":true,\"subunitcolor\":\"white\"},\"hoverlabel\":{\"align\":\"left\"},\"hovermode\":\"closest\",\"mapbox\":{\"style\":\"light\"},\"paper_bgcolor\":\"white\",\"plot_bgcolor\":\"#E5ECF6\",\"polar\":{\"angularaxis\":{\"gridcolor\":\"white\",\"linecolor\":\"white\",\"ticks\":\"\"},\"bgcolor\":\"#E5ECF6\",\"radialaxis\":{\"gridcolor\":\"white\",\"linecolor\":\"white\",\"ticks\":\"\"}},\"scene\":{\"xaxis\":{\"backgroundcolor\":\"#E5ECF6\",\"gridcolor\":\"white\",\"gridwidth\":2,\"linecolor\":\"white\",\"showbackground\":true,\"ticks\":\"\",\"zerolinecolor\":\"white\"},\"yaxis\":{\"backgroundcolor\":\"#E5ECF6\",\"gridcolor\":\"white\",\"gridwidth\":2,\"linecolor\":\"white\",\"showbackground\":true,\"ticks\":\"\",\"zerolinecolor\":\"white\"},\"zaxis\":{\"backgroundcolor\":\"#E5ECF6\",\"gridcolor\":\"white\",\"gridwidth\":2,\"linecolor\":\"white\",\"showbackground\":true,\"ticks\":\"\",\"zerolinecolor\":\"white\"}},\"shapedefaults\":{\"line\":{\"color\":\"#2a3f5f\"}},\"ternary\":{\"aaxis\":{\"gridcolor\":\"white\",\"linecolor\":\"white\",\"ticks\":\"\"},\"baxis\":{\"gridcolor\":\"white\",\"linecolor\":\"white\",\"ticks\":\"\"},\"bgcolor\":\"#E5ECF6\",\"caxis\":{\"gridcolor\":\"white\",\"linecolor\":\"white\",\"ticks\":\"\"}},\"title\":{\"x\":0.05},\"xaxis\":{\"automargin\":true,\"gridcolor\":\"white\",\"linecolor\":\"white\",\"ticks\":\"\",\"title\":{\"standoff\":15},\"zerolinecolor\":\"white\",\"zerolinewidth\":2},\"yaxis\":{\"automargin\":true,\"gridcolor\":\"white\",\"linecolor\":\"white\",\"ticks\":\"\",\"title\":{\"standoff\":15},\"zerolinecolor\":\"white\",\"zerolinewidth\":2}}},\"title\":{\"font\":{\"color\":\"#4D5663\"}},\"xaxis\":{\"gridcolor\":\"#E1E5ED\",\"showgrid\":true,\"tickfont\":{\"color\":\"#4D5663\"},\"title\":{\"font\":{\"color\":\"#4D5663\"},\"text\":\"\"},\"zerolinecolor\":\"#E1E5ED\"},\"yaxis\":{\"gridcolor\":\"#E1E5ED\",\"showgrid\":true,\"tickfont\":{\"color\":\"#4D5663\"},\"title\":{\"font\":{\"color\":\"#4D5663\"},\"text\":\"\"},\"zerolinecolor\":\"#E1E5ED\"}},                        {\"showLink\": true, \"linkText\": \"Export to plot.ly\", \"plotlyServerURL\": \"https://plot.ly\", \"responsive\": true}                    ).then(function(){\n",
       "                            \n",
       "var gd = document.getElementById('d667eda0-04e8-4263-b306-38ca24cf48af');\n",
       "var x = new MutationObserver(function (mutations, observer) {{\n",
       "        var display = window.getComputedStyle(gd).display;\n",
       "        if (!display || display === 'none') {{\n",
       "            console.log([gd, 'removed!']);\n",
       "            Plotly.purge(gd);\n",
       "            observer.disconnect();\n",
       "        }}\n",
       "}});\n",
       "\n",
       "// Listen for the removal of the full notebook cells\n",
       "var notebookContainer = gd.closest('#notebook-container');\n",
       "if (notebookContainer) {{\n",
       "    x.observe(notebookContainer, {childList: true});\n",
       "}}\n",
       "\n",
       "// Listen for the clearing of the current output cell\n",
       "var outputEl = gd.closest('.output');\n",
       "if (outputEl) {{\n",
       "    x.observe(outputEl, {childList: true});\n",
       "}}\n",
       "\n",
       "                        })                };                });            </script>        </div>"
      ]
     },
     "metadata": {},
     "output_type": "display_data"
    }
   ],
   "source": [
    "df2.iplot(kind='bar',x='Category',y='Values')"
   ]
  },
  {
   "cell_type": "code",
   "execution_count": 12,
   "id": "6d8dab0d",
   "metadata": {},
   "outputs": [
    {
     "data": {
      "application/vnd.plotly.v1+json": {
       "config": {
        "linkText": "Export to plot.ly",
        "plotlyServerURL": "https://plot.ly",
        "showLink": true
       },
       "data": [
        {
         "marker": {
          "color": "rgba(255, 153, 51, 0.6)",
          "line": {
           "color": "rgba(255, 153, 51, 1.0)",
           "width": 1
          }
         },
         "name": "None",
         "orientation": "v",
         "text": "",
         "type": "bar",
         "x": [
          "A",
          "B",
          "C",
          "D"
         ],
         "y": [
          100,
          100,
          100,
          100
         ]
        }
       ],
       "layout": {
        "legend": {
         "bgcolor": "#F5F6F9",
         "font": {
          "color": "#4D5663"
         }
        },
        "paper_bgcolor": "#F5F6F9",
        "plot_bgcolor": "#F5F6F9",
        "template": {
         "data": {
          "bar": [
           {
            "error_x": {
             "color": "#2a3f5f"
            },
            "error_y": {
             "color": "#2a3f5f"
            },
            "marker": {
             "line": {
              "color": "#E5ECF6",
              "width": 0.5
             },
             "pattern": {
              "fillmode": "overlay",
              "size": 10,
              "solidity": 0.2
             }
            },
            "type": "bar"
           }
          ],
          "barpolar": [
           {
            "marker": {
             "line": {
              "color": "#E5ECF6",
              "width": 0.5
             },
             "pattern": {
              "fillmode": "overlay",
              "size": 10,
              "solidity": 0.2
             }
            },
            "type": "barpolar"
           }
          ],
          "carpet": [
           {
            "aaxis": {
             "endlinecolor": "#2a3f5f",
             "gridcolor": "white",
             "linecolor": "white",
             "minorgridcolor": "white",
             "startlinecolor": "#2a3f5f"
            },
            "baxis": {
             "endlinecolor": "#2a3f5f",
             "gridcolor": "white",
             "linecolor": "white",
             "minorgridcolor": "white",
             "startlinecolor": "#2a3f5f"
            },
            "type": "carpet"
           }
          ],
          "choropleth": [
           {
            "colorbar": {
             "outlinewidth": 0,
             "ticks": ""
            },
            "type": "choropleth"
           }
          ],
          "contour": [
           {
            "colorbar": {
             "outlinewidth": 0,
             "ticks": ""
            },
            "colorscale": [
             [
              0,
              "#0d0887"
             ],
             [
              0.1111111111111111,
              "#46039f"
             ],
             [
              0.2222222222222222,
              "#7201a8"
             ],
             [
              0.3333333333333333,
              "#9c179e"
             ],
             [
              0.4444444444444444,
              "#bd3786"
             ],
             [
              0.5555555555555556,
              "#d8576b"
             ],
             [
              0.6666666666666666,
              "#ed7953"
             ],
             [
              0.7777777777777778,
              "#fb9f3a"
             ],
             [
              0.8888888888888888,
              "#fdca26"
             ],
             [
              1,
              "#f0f921"
             ]
            ],
            "type": "contour"
           }
          ],
          "contourcarpet": [
           {
            "colorbar": {
             "outlinewidth": 0,
             "ticks": ""
            },
            "type": "contourcarpet"
           }
          ],
          "heatmap": [
           {
            "colorbar": {
             "outlinewidth": 0,
             "ticks": ""
            },
            "colorscale": [
             [
              0,
              "#0d0887"
             ],
             [
              0.1111111111111111,
              "#46039f"
             ],
             [
              0.2222222222222222,
              "#7201a8"
             ],
             [
              0.3333333333333333,
              "#9c179e"
             ],
             [
              0.4444444444444444,
              "#bd3786"
             ],
             [
              0.5555555555555556,
              "#d8576b"
             ],
             [
              0.6666666666666666,
              "#ed7953"
             ],
             [
              0.7777777777777778,
              "#fb9f3a"
             ],
             [
              0.8888888888888888,
              "#fdca26"
             ],
             [
              1,
              "#f0f921"
             ]
            ],
            "type": "heatmap"
           }
          ],
          "heatmapgl": [
           {
            "colorbar": {
             "outlinewidth": 0,
             "ticks": ""
            },
            "colorscale": [
             [
              0,
              "#0d0887"
             ],
             [
              0.1111111111111111,
              "#46039f"
             ],
             [
              0.2222222222222222,
              "#7201a8"
             ],
             [
              0.3333333333333333,
              "#9c179e"
             ],
             [
              0.4444444444444444,
              "#bd3786"
             ],
             [
              0.5555555555555556,
              "#d8576b"
             ],
             [
              0.6666666666666666,
              "#ed7953"
             ],
             [
              0.7777777777777778,
              "#fb9f3a"
             ],
             [
              0.8888888888888888,
              "#fdca26"
             ],
             [
              1,
              "#f0f921"
             ]
            ],
            "type": "heatmapgl"
           }
          ],
          "histogram": [
           {
            "marker": {
             "pattern": {
              "fillmode": "overlay",
              "size": 10,
              "solidity": 0.2
             }
            },
            "type": "histogram"
           }
          ],
          "histogram2d": [
           {
            "colorbar": {
             "outlinewidth": 0,
             "ticks": ""
            },
            "colorscale": [
             [
              0,
              "#0d0887"
             ],
             [
              0.1111111111111111,
              "#46039f"
             ],
             [
              0.2222222222222222,
              "#7201a8"
             ],
             [
              0.3333333333333333,
              "#9c179e"
             ],
             [
              0.4444444444444444,
              "#bd3786"
             ],
             [
              0.5555555555555556,
              "#d8576b"
             ],
             [
              0.6666666666666666,
              "#ed7953"
             ],
             [
              0.7777777777777778,
              "#fb9f3a"
             ],
             [
              0.8888888888888888,
              "#fdca26"
             ],
             [
              1,
              "#f0f921"
             ]
            ],
            "type": "histogram2d"
           }
          ],
          "histogram2dcontour": [
           {
            "colorbar": {
             "outlinewidth": 0,
             "ticks": ""
            },
            "colorscale": [
             [
              0,
              "#0d0887"
             ],
             [
              0.1111111111111111,
              "#46039f"
             ],
             [
              0.2222222222222222,
              "#7201a8"
             ],
             [
              0.3333333333333333,
              "#9c179e"
             ],
             [
              0.4444444444444444,
              "#bd3786"
             ],
             [
              0.5555555555555556,
              "#d8576b"
             ],
             [
              0.6666666666666666,
              "#ed7953"
             ],
             [
              0.7777777777777778,
              "#fb9f3a"
             ],
             [
              0.8888888888888888,
              "#fdca26"
             ],
             [
              1,
              "#f0f921"
             ]
            ],
            "type": "histogram2dcontour"
           }
          ],
          "mesh3d": [
           {
            "colorbar": {
             "outlinewidth": 0,
             "ticks": ""
            },
            "type": "mesh3d"
           }
          ],
          "parcoords": [
           {
            "line": {
             "colorbar": {
              "outlinewidth": 0,
              "ticks": ""
             }
            },
            "type": "parcoords"
           }
          ],
          "pie": [
           {
            "automargin": true,
            "type": "pie"
           }
          ],
          "scatter": [
           {
            "fillpattern": {
             "fillmode": "overlay",
             "size": 10,
             "solidity": 0.2
            },
            "type": "scatter"
           }
          ],
          "scatter3d": [
           {
            "line": {
             "colorbar": {
              "outlinewidth": 0,
              "ticks": ""
             }
            },
            "marker": {
             "colorbar": {
              "outlinewidth": 0,
              "ticks": ""
             }
            },
            "type": "scatter3d"
           }
          ],
          "scattercarpet": [
           {
            "marker": {
             "colorbar": {
              "outlinewidth": 0,
              "ticks": ""
             }
            },
            "type": "scattercarpet"
           }
          ],
          "scattergeo": [
           {
            "marker": {
             "colorbar": {
              "outlinewidth": 0,
              "ticks": ""
             }
            },
            "type": "scattergeo"
           }
          ],
          "scattergl": [
           {
            "marker": {
             "colorbar": {
              "outlinewidth": 0,
              "ticks": ""
             }
            },
            "type": "scattergl"
           }
          ],
          "scattermapbox": [
           {
            "marker": {
             "colorbar": {
              "outlinewidth": 0,
              "ticks": ""
             }
            },
            "type": "scattermapbox"
           }
          ],
          "scatterpolar": [
           {
            "marker": {
             "colorbar": {
              "outlinewidth": 0,
              "ticks": ""
             }
            },
            "type": "scatterpolar"
           }
          ],
          "scatterpolargl": [
           {
            "marker": {
             "colorbar": {
              "outlinewidth": 0,
              "ticks": ""
             }
            },
            "type": "scatterpolargl"
           }
          ],
          "scatterternary": [
           {
            "marker": {
             "colorbar": {
              "outlinewidth": 0,
              "ticks": ""
             }
            },
            "type": "scatterternary"
           }
          ],
          "surface": [
           {
            "colorbar": {
             "outlinewidth": 0,
             "ticks": ""
            },
            "colorscale": [
             [
              0,
              "#0d0887"
             ],
             [
              0.1111111111111111,
              "#46039f"
             ],
             [
              0.2222222222222222,
              "#7201a8"
             ],
             [
              0.3333333333333333,
              "#9c179e"
             ],
             [
              0.4444444444444444,
              "#bd3786"
             ],
             [
              0.5555555555555556,
              "#d8576b"
             ],
             [
              0.6666666666666666,
              "#ed7953"
             ],
             [
              0.7777777777777778,
              "#fb9f3a"
             ],
             [
              0.8888888888888888,
              "#fdca26"
             ],
             [
              1,
              "#f0f921"
             ]
            ],
            "type": "surface"
           }
          ],
          "table": [
           {
            "cells": {
             "fill": {
              "color": "#EBF0F8"
             },
             "line": {
              "color": "white"
             }
            },
            "header": {
             "fill": {
              "color": "#C8D4E3"
             },
             "line": {
              "color": "white"
             }
            },
            "type": "table"
           }
          ]
         },
         "layout": {
          "annotationdefaults": {
           "arrowcolor": "#2a3f5f",
           "arrowhead": 0,
           "arrowwidth": 1
          },
          "autotypenumbers": "strict",
          "coloraxis": {
           "colorbar": {
            "outlinewidth": 0,
            "ticks": ""
           }
          },
          "colorscale": {
           "diverging": [
            [
             0,
             "#8e0152"
            ],
            [
             0.1,
             "#c51b7d"
            ],
            [
             0.2,
             "#de77ae"
            ],
            [
             0.3,
             "#f1b6da"
            ],
            [
             0.4,
             "#fde0ef"
            ],
            [
             0.5,
             "#f7f7f7"
            ],
            [
             0.6,
             "#e6f5d0"
            ],
            [
             0.7,
             "#b8e186"
            ],
            [
             0.8,
             "#7fbc41"
            ],
            [
             0.9,
             "#4d9221"
            ],
            [
             1,
             "#276419"
            ]
           ],
           "sequential": [
            [
             0,
             "#0d0887"
            ],
            [
             0.1111111111111111,
             "#46039f"
            ],
            [
             0.2222222222222222,
             "#7201a8"
            ],
            [
             0.3333333333333333,
             "#9c179e"
            ],
            [
             0.4444444444444444,
             "#bd3786"
            ],
            [
             0.5555555555555556,
             "#d8576b"
            ],
            [
             0.6666666666666666,
             "#ed7953"
            ],
            [
             0.7777777777777778,
             "#fb9f3a"
            ],
            [
             0.8888888888888888,
             "#fdca26"
            ],
            [
             1,
             "#f0f921"
            ]
           ],
           "sequentialminus": [
            [
             0,
             "#0d0887"
            ],
            [
             0.1111111111111111,
             "#46039f"
            ],
            [
             0.2222222222222222,
             "#7201a8"
            ],
            [
             0.3333333333333333,
             "#9c179e"
            ],
            [
             0.4444444444444444,
             "#bd3786"
            ],
            [
             0.5555555555555556,
             "#d8576b"
            ],
            [
             0.6666666666666666,
             "#ed7953"
            ],
            [
             0.7777777777777778,
             "#fb9f3a"
            ],
            [
             0.8888888888888888,
             "#fdca26"
            ],
            [
             1,
             "#f0f921"
            ]
           ]
          },
          "colorway": [
           "#636efa",
           "#EF553B",
           "#00cc96",
           "#ab63fa",
           "#FFA15A",
           "#19d3f3",
           "#FF6692",
           "#B6E880",
           "#FF97FF",
           "#FECB52"
          ],
          "font": {
           "color": "#2a3f5f"
          },
          "geo": {
           "bgcolor": "white",
           "lakecolor": "white",
           "landcolor": "#E5ECF6",
           "showlakes": true,
           "showland": true,
           "subunitcolor": "white"
          },
          "hoverlabel": {
           "align": "left"
          },
          "hovermode": "closest",
          "mapbox": {
           "style": "light"
          },
          "paper_bgcolor": "white",
          "plot_bgcolor": "#E5ECF6",
          "polar": {
           "angularaxis": {
            "gridcolor": "white",
            "linecolor": "white",
            "ticks": ""
           },
           "bgcolor": "#E5ECF6",
           "radialaxis": {
            "gridcolor": "white",
            "linecolor": "white",
            "ticks": ""
           }
          },
          "scene": {
           "xaxis": {
            "backgroundcolor": "#E5ECF6",
            "gridcolor": "white",
            "gridwidth": 2,
            "linecolor": "white",
            "showbackground": true,
            "ticks": "",
            "zerolinecolor": "white"
           },
           "yaxis": {
            "backgroundcolor": "#E5ECF6",
            "gridcolor": "white",
            "gridwidth": 2,
            "linecolor": "white",
            "showbackground": true,
            "ticks": "",
            "zerolinecolor": "white"
           },
           "zaxis": {
            "backgroundcolor": "#E5ECF6",
            "gridcolor": "white",
            "gridwidth": 2,
            "linecolor": "white",
            "showbackground": true,
            "ticks": "",
            "zerolinecolor": "white"
           }
          },
          "shapedefaults": {
           "line": {
            "color": "#2a3f5f"
           }
          },
          "ternary": {
           "aaxis": {
            "gridcolor": "white",
            "linecolor": "white",
            "ticks": ""
           },
           "baxis": {
            "gridcolor": "white",
            "linecolor": "white",
            "ticks": ""
           },
           "bgcolor": "#E5ECF6",
           "caxis": {
            "gridcolor": "white",
            "linecolor": "white",
            "ticks": ""
           }
          },
          "title": {
           "x": 0.05
          },
          "xaxis": {
           "automargin": true,
           "gridcolor": "white",
           "linecolor": "white",
           "ticks": "",
           "title": {
            "standoff": 15
           },
           "zerolinecolor": "white",
           "zerolinewidth": 2
          },
          "yaxis": {
           "automargin": true,
           "gridcolor": "white",
           "linecolor": "white",
           "ticks": "",
           "title": {
            "standoff": 15
           },
           "zerolinecolor": "white",
           "zerolinewidth": 2
          }
         }
        },
        "title": {
         "font": {
          "color": "#4D5663"
         }
        },
        "xaxis": {
         "gridcolor": "#E1E5ED",
         "showgrid": true,
         "tickfont": {
          "color": "#4D5663"
         },
         "title": {
          "font": {
           "color": "#4D5663"
          },
          "text": ""
         },
         "zerolinecolor": "#E1E5ED"
        },
        "yaxis": {
         "gridcolor": "#E1E5ED",
         "showgrid": true,
         "tickfont": {
          "color": "#4D5663"
         },
         "title": {
          "font": {
           "color": "#4D5663"
          },
          "text": ""
         },
         "zerolinecolor": "#E1E5ED"
        }
       }
      },
      "text/html": [
       "<div>                            <div id=\"92629c8c-8c3d-4a35-8c18-f6183cd6671f\" class=\"plotly-graph-div\" style=\"height:525px; width:100%;\"></div>            <script type=\"text/javascript\">                require([\"plotly\"], function(Plotly) {                    window.PLOTLYENV=window.PLOTLYENV || {};\n",
       "                    window.PLOTLYENV.BASE_URL='https://plot.ly';                                    if (document.getElementById(\"92629c8c-8c3d-4a35-8c18-f6183cd6671f\")) {                    Plotly.newPlot(                        \"92629c8c-8c3d-4a35-8c18-f6183cd6671f\",                        [{\"marker\":{\"color\":\"rgba(255, 153, 51, 0.6)\",\"line\":{\"color\":\"rgba(255, 153, 51, 1.0)\",\"width\":1}},\"name\":\"None\",\"orientation\":\"v\",\"text\":\"\",\"x\":[\"A\",\"B\",\"C\",\"D\"],\"y\":[100,100,100,100],\"type\":\"bar\"}],                        {\"legend\":{\"bgcolor\":\"#F5F6F9\",\"font\":{\"color\":\"#4D5663\"}},\"paper_bgcolor\":\"#F5F6F9\",\"plot_bgcolor\":\"#F5F6F9\",\"template\":{\"data\":{\"barpolar\":[{\"marker\":{\"line\":{\"color\":\"#E5ECF6\",\"width\":0.5},\"pattern\":{\"fillmode\":\"overlay\",\"size\":10,\"solidity\":0.2}},\"type\":\"barpolar\"}],\"bar\":[{\"error_x\":{\"color\":\"#2a3f5f\"},\"error_y\":{\"color\":\"#2a3f5f\"},\"marker\":{\"line\":{\"color\":\"#E5ECF6\",\"width\":0.5},\"pattern\":{\"fillmode\":\"overlay\",\"size\":10,\"solidity\":0.2}},\"type\":\"bar\"}],\"carpet\":[{\"aaxis\":{\"endlinecolor\":\"#2a3f5f\",\"gridcolor\":\"white\",\"linecolor\":\"white\",\"minorgridcolor\":\"white\",\"startlinecolor\":\"#2a3f5f\"},\"baxis\":{\"endlinecolor\":\"#2a3f5f\",\"gridcolor\":\"white\",\"linecolor\":\"white\",\"minorgridcolor\":\"white\",\"startlinecolor\":\"#2a3f5f\"},\"type\":\"carpet\"}],\"choropleth\":[{\"colorbar\":{\"outlinewidth\":0,\"ticks\":\"\"},\"type\":\"choropleth\"}],\"contourcarpet\":[{\"colorbar\":{\"outlinewidth\":0,\"ticks\":\"\"},\"type\":\"contourcarpet\"}],\"contour\":[{\"colorbar\":{\"outlinewidth\":0,\"ticks\":\"\"},\"colorscale\":[[0.0,\"#0d0887\"],[0.1111111111111111,\"#46039f\"],[0.2222222222222222,\"#7201a8\"],[0.3333333333333333,\"#9c179e\"],[0.4444444444444444,\"#bd3786\"],[0.5555555555555556,\"#d8576b\"],[0.6666666666666666,\"#ed7953\"],[0.7777777777777778,\"#fb9f3a\"],[0.8888888888888888,\"#fdca26\"],[1.0,\"#f0f921\"]],\"type\":\"contour\"}],\"heatmapgl\":[{\"colorbar\":{\"outlinewidth\":0,\"ticks\":\"\"},\"colorscale\":[[0.0,\"#0d0887\"],[0.1111111111111111,\"#46039f\"],[0.2222222222222222,\"#7201a8\"],[0.3333333333333333,\"#9c179e\"],[0.4444444444444444,\"#bd3786\"],[0.5555555555555556,\"#d8576b\"],[0.6666666666666666,\"#ed7953\"],[0.7777777777777778,\"#fb9f3a\"],[0.8888888888888888,\"#fdca26\"],[1.0,\"#f0f921\"]],\"type\":\"heatmapgl\"}],\"heatmap\":[{\"colorbar\":{\"outlinewidth\":0,\"ticks\":\"\"},\"colorscale\":[[0.0,\"#0d0887\"],[0.1111111111111111,\"#46039f\"],[0.2222222222222222,\"#7201a8\"],[0.3333333333333333,\"#9c179e\"],[0.4444444444444444,\"#bd3786\"],[0.5555555555555556,\"#d8576b\"],[0.6666666666666666,\"#ed7953\"],[0.7777777777777778,\"#fb9f3a\"],[0.8888888888888888,\"#fdca26\"],[1.0,\"#f0f921\"]],\"type\":\"heatmap\"}],\"histogram2dcontour\":[{\"colorbar\":{\"outlinewidth\":0,\"ticks\":\"\"},\"colorscale\":[[0.0,\"#0d0887\"],[0.1111111111111111,\"#46039f\"],[0.2222222222222222,\"#7201a8\"],[0.3333333333333333,\"#9c179e\"],[0.4444444444444444,\"#bd3786\"],[0.5555555555555556,\"#d8576b\"],[0.6666666666666666,\"#ed7953\"],[0.7777777777777778,\"#fb9f3a\"],[0.8888888888888888,\"#fdca26\"],[1.0,\"#f0f921\"]],\"type\":\"histogram2dcontour\"}],\"histogram2d\":[{\"colorbar\":{\"outlinewidth\":0,\"ticks\":\"\"},\"colorscale\":[[0.0,\"#0d0887\"],[0.1111111111111111,\"#46039f\"],[0.2222222222222222,\"#7201a8\"],[0.3333333333333333,\"#9c179e\"],[0.4444444444444444,\"#bd3786\"],[0.5555555555555556,\"#d8576b\"],[0.6666666666666666,\"#ed7953\"],[0.7777777777777778,\"#fb9f3a\"],[0.8888888888888888,\"#fdca26\"],[1.0,\"#f0f921\"]],\"type\":\"histogram2d\"}],\"histogram\":[{\"marker\":{\"pattern\":{\"fillmode\":\"overlay\",\"size\":10,\"solidity\":0.2}},\"type\":\"histogram\"}],\"mesh3d\":[{\"colorbar\":{\"outlinewidth\":0,\"ticks\":\"\"},\"type\":\"mesh3d\"}],\"parcoords\":[{\"line\":{\"colorbar\":{\"outlinewidth\":0,\"ticks\":\"\"}},\"type\":\"parcoords\"}],\"pie\":[{\"automargin\":true,\"type\":\"pie\"}],\"scatter3d\":[{\"line\":{\"colorbar\":{\"outlinewidth\":0,\"ticks\":\"\"}},\"marker\":{\"colorbar\":{\"outlinewidth\":0,\"ticks\":\"\"}},\"type\":\"scatter3d\"}],\"scattercarpet\":[{\"marker\":{\"colorbar\":{\"outlinewidth\":0,\"ticks\":\"\"}},\"type\":\"scattercarpet\"}],\"scattergeo\":[{\"marker\":{\"colorbar\":{\"outlinewidth\":0,\"ticks\":\"\"}},\"type\":\"scattergeo\"}],\"scattergl\":[{\"marker\":{\"colorbar\":{\"outlinewidth\":0,\"ticks\":\"\"}},\"type\":\"scattergl\"}],\"scattermapbox\":[{\"marker\":{\"colorbar\":{\"outlinewidth\":0,\"ticks\":\"\"}},\"type\":\"scattermapbox\"}],\"scatterpolargl\":[{\"marker\":{\"colorbar\":{\"outlinewidth\":0,\"ticks\":\"\"}},\"type\":\"scatterpolargl\"}],\"scatterpolar\":[{\"marker\":{\"colorbar\":{\"outlinewidth\":0,\"ticks\":\"\"}},\"type\":\"scatterpolar\"}],\"scatter\":[{\"fillpattern\":{\"fillmode\":\"overlay\",\"size\":10,\"solidity\":0.2},\"type\":\"scatter\"}],\"scatterternary\":[{\"marker\":{\"colorbar\":{\"outlinewidth\":0,\"ticks\":\"\"}},\"type\":\"scatterternary\"}],\"surface\":[{\"colorbar\":{\"outlinewidth\":0,\"ticks\":\"\"},\"colorscale\":[[0.0,\"#0d0887\"],[0.1111111111111111,\"#46039f\"],[0.2222222222222222,\"#7201a8\"],[0.3333333333333333,\"#9c179e\"],[0.4444444444444444,\"#bd3786\"],[0.5555555555555556,\"#d8576b\"],[0.6666666666666666,\"#ed7953\"],[0.7777777777777778,\"#fb9f3a\"],[0.8888888888888888,\"#fdca26\"],[1.0,\"#f0f921\"]],\"type\":\"surface\"}],\"table\":[{\"cells\":{\"fill\":{\"color\":\"#EBF0F8\"},\"line\":{\"color\":\"white\"}},\"header\":{\"fill\":{\"color\":\"#C8D4E3\"},\"line\":{\"color\":\"white\"}},\"type\":\"table\"}]},\"layout\":{\"annotationdefaults\":{\"arrowcolor\":\"#2a3f5f\",\"arrowhead\":0,\"arrowwidth\":1},\"autotypenumbers\":\"strict\",\"coloraxis\":{\"colorbar\":{\"outlinewidth\":0,\"ticks\":\"\"}},\"colorscale\":{\"diverging\":[[0,\"#8e0152\"],[0.1,\"#c51b7d\"],[0.2,\"#de77ae\"],[0.3,\"#f1b6da\"],[0.4,\"#fde0ef\"],[0.5,\"#f7f7f7\"],[0.6,\"#e6f5d0\"],[0.7,\"#b8e186\"],[0.8,\"#7fbc41\"],[0.9,\"#4d9221\"],[1,\"#276419\"]],\"sequential\":[[0.0,\"#0d0887\"],[0.1111111111111111,\"#46039f\"],[0.2222222222222222,\"#7201a8\"],[0.3333333333333333,\"#9c179e\"],[0.4444444444444444,\"#bd3786\"],[0.5555555555555556,\"#d8576b\"],[0.6666666666666666,\"#ed7953\"],[0.7777777777777778,\"#fb9f3a\"],[0.8888888888888888,\"#fdca26\"],[1.0,\"#f0f921\"]],\"sequentialminus\":[[0.0,\"#0d0887\"],[0.1111111111111111,\"#46039f\"],[0.2222222222222222,\"#7201a8\"],[0.3333333333333333,\"#9c179e\"],[0.4444444444444444,\"#bd3786\"],[0.5555555555555556,\"#d8576b\"],[0.6666666666666666,\"#ed7953\"],[0.7777777777777778,\"#fb9f3a\"],[0.8888888888888888,\"#fdca26\"],[1.0,\"#f0f921\"]]},\"colorway\":[\"#636efa\",\"#EF553B\",\"#00cc96\",\"#ab63fa\",\"#FFA15A\",\"#19d3f3\",\"#FF6692\",\"#B6E880\",\"#FF97FF\",\"#FECB52\"],\"font\":{\"color\":\"#2a3f5f\"},\"geo\":{\"bgcolor\":\"white\",\"lakecolor\":\"white\",\"landcolor\":\"#E5ECF6\",\"showlakes\":true,\"showland\":true,\"subunitcolor\":\"white\"},\"hoverlabel\":{\"align\":\"left\"},\"hovermode\":\"closest\",\"mapbox\":{\"style\":\"light\"},\"paper_bgcolor\":\"white\",\"plot_bgcolor\":\"#E5ECF6\",\"polar\":{\"angularaxis\":{\"gridcolor\":\"white\",\"linecolor\":\"white\",\"ticks\":\"\"},\"bgcolor\":\"#E5ECF6\",\"radialaxis\":{\"gridcolor\":\"white\",\"linecolor\":\"white\",\"ticks\":\"\"}},\"scene\":{\"xaxis\":{\"backgroundcolor\":\"#E5ECF6\",\"gridcolor\":\"white\",\"gridwidth\":2,\"linecolor\":\"white\",\"showbackground\":true,\"ticks\":\"\",\"zerolinecolor\":\"white\"},\"yaxis\":{\"backgroundcolor\":\"#E5ECF6\",\"gridcolor\":\"white\",\"gridwidth\":2,\"linecolor\":\"white\",\"showbackground\":true,\"ticks\":\"\",\"zerolinecolor\":\"white\"},\"zaxis\":{\"backgroundcolor\":\"#E5ECF6\",\"gridcolor\":\"white\",\"gridwidth\":2,\"linecolor\":\"white\",\"showbackground\":true,\"ticks\":\"\",\"zerolinecolor\":\"white\"}},\"shapedefaults\":{\"line\":{\"color\":\"#2a3f5f\"}},\"ternary\":{\"aaxis\":{\"gridcolor\":\"white\",\"linecolor\":\"white\",\"ticks\":\"\"},\"baxis\":{\"gridcolor\":\"white\",\"linecolor\":\"white\",\"ticks\":\"\"},\"bgcolor\":\"#E5ECF6\",\"caxis\":{\"gridcolor\":\"white\",\"linecolor\":\"white\",\"ticks\":\"\"}},\"title\":{\"x\":0.05},\"xaxis\":{\"automargin\":true,\"gridcolor\":\"white\",\"linecolor\":\"white\",\"ticks\":\"\",\"title\":{\"standoff\":15},\"zerolinecolor\":\"white\",\"zerolinewidth\":2},\"yaxis\":{\"automargin\":true,\"gridcolor\":\"white\",\"linecolor\":\"white\",\"ticks\":\"\",\"title\":{\"standoff\":15},\"zerolinecolor\":\"white\",\"zerolinewidth\":2}}},\"title\":{\"font\":{\"color\":\"#4D5663\"}},\"xaxis\":{\"gridcolor\":\"#E1E5ED\",\"showgrid\":true,\"tickfont\":{\"color\":\"#4D5663\"},\"title\":{\"font\":{\"color\":\"#4D5663\"},\"text\":\"\"},\"zerolinecolor\":\"#E1E5ED\"},\"yaxis\":{\"gridcolor\":\"#E1E5ED\",\"showgrid\":true,\"tickfont\":{\"color\":\"#4D5663\"},\"title\":{\"font\":{\"color\":\"#4D5663\"},\"text\":\"\"},\"zerolinecolor\":\"#E1E5ED\"}},                        {\"showLink\": true, \"linkText\": \"Export to plot.ly\", \"plotlyServerURL\": \"https://plot.ly\", \"responsive\": true}                    ).then(function(){\n",
       "                            \n",
       "var gd = document.getElementById('92629c8c-8c3d-4a35-8c18-f6183cd6671f');\n",
       "var x = new MutationObserver(function (mutations, observer) {{\n",
       "        var display = window.getComputedStyle(gd).display;\n",
       "        if (!display || display === 'none') {{\n",
       "            console.log([gd, 'removed!']);\n",
       "            Plotly.purge(gd);\n",
       "            observer.disconnect();\n",
       "        }}\n",
       "}});\n",
       "\n",
       "// Listen for the removal of the full notebook cells\n",
       "var notebookContainer = gd.closest('#notebook-container');\n",
       "if (notebookContainer) {{\n",
       "    x.observe(notebookContainer, {childList: true});\n",
       "}}\n",
       "\n",
       "// Listen for the clearing of the current output cell\n",
       "var outputEl = gd.closest('.output');\n",
       "if (outputEl) {{\n",
       "    x.observe(outputEl, {childList: true});\n",
       "}}\n",
       "\n",
       "                        })                };                });            </script>        </div>"
      ]
     },
     "metadata": {},
     "output_type": "display_data"
    }
   ],
   "source": [
    "df.count().iplot(kind = 'bar')"
   ]
  },
  {
   "cell_type": "markdown",
   "id": "68e19eec",
   "metadata": {},
   "source": [
    "# Boxplots"
   ]
  },
  {
   "cell_type": "code",
   "execution_count": 13,
   "id": "820d40b3",
   "metadata": {},
   "outputs": [
    {
     "data": {
      "application/vnd.plotly.v1+json": {
       "config": {
        "linkText": "Export to plot.ly",
        "plotlyServerURL": "https://plot.ly",
        "showLink": true
       },
       "data": [
        {
         "boxpoints": false,
         "line": {
          "width": 1.3
         },
         "marker": {
          "color": "rgba(255, 153, 51, 1.0)"
         },
         "name": "A",
         "orientation": "v",
         "type": "box",
         "y": [
          -0.6695219310356675,
          -0.29192670023127143,
          -0.9831645059332843,
          0.013262990475593704,
          0.5649025921315125,
          0.8064216811322935,
          -0.29053318946379497,
          -1.4553394975965468,
          -0.9334780727469513,
          0.15212781268808825,
          -0.12953561519924947,
          -0.07330120498823028,
          -1.3212460499566323,
          0.5375075631006219,
          -1.5383600487242233,
          1.6479766696245695,
          -1.5151166106018252,
          -0.9487373016303247,
          0.9868363720026039,
          0.8271021762057945,
          0.532847912728279,
          -1.215084246154703,
          -1.06990447666004,
          -0.20423732405811862,
          0.25645744237289564,
          1.1652515725779797,
          0.8666463172667327,
          0.9183747549879647,
          0.6504874381746459,
          -0.8243955949582988,
          0.31764589789799386,
          0.32842115742546457,
          -0.4879250309366784,
          0.9660099268240899,
          -0.4349598763157151,
          0.14565487905762764,
          0.7436189282138251,
          0.9409054661531387,
          -0.6465452666750505,
          -0.0024073828422344406,
          1.7067230767581596,
          -0.4121497707683924,
          -0.11389940712513696,
          -1.798138144899698,
          0.48662376592093887,
          1.0405713605422415,
          1.9209486289049162,
          0.6143066558160502,
          1.533611421591724,
          0.281317373014399,
          0.04453499041913694,
          0.3254655849440727,
          -1.7235950007111245,
          1.0474474785050598,
          0.9103859418107295,
          0.8525517635466807,
          -0.30410879772455135,
          1.6990988245338592,
          -1.4839797836397264,
          0.3832562237229985,
          0.7053168306901907,
          0.4203017735137733,
          0.5074159914678656,
          -0.959297650112034,
          -3.033106810373578,
          -1.1905978134391508,
          -0.28594306994798296,
          1.0009980764514175,
          0.10196558416155194,
          -0.4481953355572154,
          1.561038458049401,
          -1.8510860765324897,
          -0.6915435845117376,
          -1.1887437544871862,
          -0.20891836331908248,
          -1.5645319943763776,
          -0.5071826248289197,
          0.9745002772010514,
          0.5654902978301094,
          1.2781291327972075,
          -0.28550517136639925,
          0.15340572181957526,
          0.8636950655469798,
          -0.5646385664757835,
          2.5955468026902735,
          0.5495383901436504,
          0.12991333229427834,
          1.885651971234061,
          2.3101851334619705,
          -0.7212478669014187,
          1.2248866341084266,
          -0.07861993937764342,
          -1.632126443311677,
          0.817222682609708,
          -1.4875712692802876,
          -0.8284793569588998,
          -0.6147511519801087,
          -0.6260783806020203,
          0.0761575550680676,
          0.6386446816040392
         ]
        },
        {
         "boxpoints": false,
         "line": {
          "width": 1.3
         },
         "marker": {
          "color": "rgba(55, 128, 191, 1.0)"
         },
         "name": "B",
         "orientation": "v",
         "type": "box",
         "y": [
          -0.047249781195183846,
          0.5807979722191119,
          -0.5840803964125373,
          -2.0256441041451843,
          -2.717758433269804,
          0.8087501871373753,
          0.6808476657323692,
          -1.4517045352576345,
          -1.077566689559306,
          0.5761038177773498,
          -1.7365254614618182,
          -0.18196412399397116,
          0.6326136100827379,
          1.1507282085712174,
          0.5898260705822608,
          0.10035344857577091,
          -1.619410125275257,
          0.6674956593402991,
          -1.1198386404292284,
          -1.2510378091859844,
          0.8895570166309362,
          -0.3692521794513197,
          -0.930071334761612,
          1.0351120663640652,
          -0.1391421027530557,
          0.5966769499472159,
          0.07951570107527746,
          1.039322440493506,
          -1.0403484710164908,
          -0.008916864350763918,
          0.7605828958467573,
          1.316981609729183,
          0.18141931559657465,
          0.04412730738103606,
          0.6215623194712838,
          0.8297396307092603,
          -1.0976640935673252,
          1.1255496523105701,
          1.1656054314719215,
          -0.6129034501836317,
          -0.629216183370437,
          -0.6073399976273386,
          1.8639308196488213,
          0.2867514857577595,
          0.8401257870911673,
          -0.10536946095031792,
          0.6797613470589414,
          0.5336194715918102,
          1.2559348778753936,
          0.4923636697054773,
          -2.161063539331115,
          0.0728617663004551,
          0.8364208839679473,
          -0.12832774187838877,
          1.900093292135524,
          -0.8740842697369767,
          2.2417282144106516,
          -0.38953536213565704,
          -0.23976651362572157,
          -1.5826663125676441,
          -0.3209706218622201,
          0.2105394304809266,
          -1.031877527830503,
          1.4878929073514255,
          0.8602115753808353,
          -1.1136405139370515,
          0.8825996436964001,
          -1.7428085811833083,
          -0.15635544863752787,
          0.7490067955117746,
          -0.3239075025790853,
          0.038532297017919166,
          1.3993657988093093,
          1.1992934839067848,
          -0.36249786145583274,
          2.4394185211403494,
          -0.1793756206531476,
          -0.4576517146060599,
          0.09262337925826437,
          -0.011713327619057282,
          -0.3156445170519262,
          -0.29876236993757893,
          -0.6478579022789553,
          0.7517042293677587,
          1.081513421865064,
          0.44739213512439696,
          -0.9448629749815547,
          -0.575126837808124,
          -0.05765011398142731,
          -0.2820600532547387,
          -0.19546551834527293,
          1.589656469566828,
          -0.20582042289236055,
          -1.2982061633734652,
          -1.2146393062199856,
          0.32144986438176754,
          -0.48218801944586104,
          0.5457219900911298,
          0.9457138531063372,
          -0.04393831853309557
         ]
        },
        {
         "boxpoints": false,
         "line": {
          "width": 1.3
         },
         "marker": {
          "color": "rgba(50, 171, 96, 1.0)"
         },
         "name": "C",
         "orientation": "v",
         "type": "box",
         "y": [
          -1.269296989698203,
          -1.0080155890415854,
          -1.2042570137460005,
          -0.7523343489817734,
          -0.43020462934314735,
          0.3336358016540321,
          0.9395270060313918,
          -0.49396707631428755,
          1.6854042714870956,
          -1.1519275853360607,
          1.3934045042570897,
          0.41327568923473623,
          -0.7783005854279369,
          1.130081211873553,
          -0.5391255834525343,
          -1.241927709895697,
          0.13955167791054937,
          -0.545540348829611,
          -1.5323182277994851,
          1.1854413681856415,
          -0.6103588791438502,
          -0.05502047698401375,
          -1.5526275593486056,
          -0.2296797508695521,
          0.42418074561004593,
          -0.17475197660334327,
          1.1584780930831238,
          0.5291031129691107,
          -0.860917543530964,
          -0.5501337209076124,
          -0.3655464719441802,
          -0.7017880883634365,
          -0.20726908200891606,
          0.13086443709116227,
          -0.7948409026450902,
          0.13715348885403136,
          -0.18601720000085128,
          -0.6150416483220277,
          0.009023116028630363,
          1.0263941390302942,
          -1.2203155657290143,
          1.4563242070698132,
          -1.1176481610187825,
          0.034278414357095194,
          0.6829624892908408,
          0.07445020981186903,
          0.11345731746352025,
          0.6556803556150275,
          0.7211537051814578,
          -0.35752406419099997,
          -0.6093112408885526,
          -1.6364807636898486,
          1.5664007238603521,
          0.9084975527662472,
          -1.8669852044506083,
          -0.8659287608402915,
          -0.31128769379773674,
          0.040145949957772986,
          0.036577475753940075,
          -0.9236678953434068,
          0.22220728705653234,
          -1.6188305639741225,
          -0.7335202363998974,
          0.15511513807471974,
          0.48027922168551607,
          -1.6651611092745204,
          0.7190382345271333,
          0.25825484044436614,
          -0.5386584077017231,
          1.0122525311422148,
          0.37467011145341017,
          -0.00030687665539106085,
          -1.6767773623260784,
          -1.8392357566091053,
          0.07766647630689674,
          1.4902596513380661,
          -1.6311786209709138,
          0.9477701170146784,
          -1.8396926513227327,
          -1.010497166273908,
          -1.81161046210009,
          0.9594559363722026,
          -1.7961997808579593,
          0.7675702455962152,
          -1.2348867296957946,
          -0.9138298167524127,
          -1.0390963379177798,
          0.1060596221344798,
          -0.2506563770654563,
          0.8216316586155562,
          1.7058220161915616,
          0.9136846788674235,
          0.3334144082451351,
          0.41767936627934976,
          0.12838805206541762,
          -0.2924064851651061,
          -1.6972340857693768,
          -1.5325355411904735,
          -0.4389991758348614,
          -1.1817206651105758
         ]
        },
        {
         "boxpoints": false,
         "line": {
          "width": 1.3
         },
         "marker": {
          "color": "rgba(128, 0, 128, 1.0)"
         },
         "name": "D",
         "orientation": "v",
         "type": "box",
         "y": [
          0.3812242838491141,
          -0.46340357752793787,
          0.6167444489705141,
          1.0798134526870786,
          -1.4383366016769608,
          -0.7361847830897679,
          2.3926937180300576,
          0.7997596315884576,
          0.9207699908520541,
          0.8639841881702542,
          1.6216363166918863,
          -1.658601034201354,
          -0.7597785877173346,
          -0.4102533812305416,
          0.5259605163022608,
          0.4287236850308033,
          -1.0877905044395537,
          2.0723107094458215,
          -1.073937365541676,
          0.9090998699879687,
          -0.7365230727418189,
          1.040202698275768,
          0.8204697656486994,
          -0.6963766707216732,
          0.39686804299343503,
          0.02889397227904667,
          -0.32677751267453886,
          0.9912327592305462,
          -1.185623785364478,
          -0.13573714074175933,
          1.1486149200459752,
          -0.571162372365066,
          -0.406611360087898,
          -0.758176841987634,
          -0.6455399059030006,
          0.8548512825947828,
          0.5569022011999537,
          -1.159823177041537,
          1.8830257525414391,
          -0.9404633198474414,
          -0.32257735955203637,
          0.8375001716829175,
          -0.1605020062779592,
          -0.2942706397337943,
          1.4009698986932337,
          2.623490062841327,
          -0.08985049905516779,
          -0.4496582857338749,
          -0.8109345730362918,
          1.5277398283314625,
          2.341514349168089,
          0.5352238093734683,
          1.256757727466578,
          0.9176449769963769,
          -1.1453322650658793,
          0.9991968398333853,
          0.5578987916969835,
          0.45388482402783614,
          -0.2682435766762213,
          0.7438000253557365,
          -0.2967607836800882,
          1.7268350191622517,
          -0.5917860546489776,
          0.47380353405943,
          0.5570674383756229,
          0.3242084476632031,
          0.5287385057838155,
          0.14919247882928582,
          -0.8717080064057061,
          0.7834537736924412,
          -0.7041471911231447,
          1.1436549519895929,
          0.5388796697878669,
          0.3799859314064505,
          0.3643418097463149,
          1.3424987987656682,
          -1.244258220048376,
          0.02933955219689519,
          -1.0777066760772744,
          0.10359043065109746,
          -0.5614476219557705,
          -0.8699752902071215,
          -0.6413276178619316,
          0.43718978272824965,
          -0.3737487996766362,
          -0.8583767570606211,
          0.14824534717413057,
          -1.10762636358596,
          -1.7960195726187764,
          1.0788831365163554,
          0.42016061176645664,
          -2.105084978836787,
          -0.8603565150921293,
          0.11601266319846247,
          0.2056840418518598,
          -1.5238397181474899,
          -0.7819901822944672,
          -0.05187577552743315,
          1.3765943230152595,
          -0.1532464682524686
         ]
        }
       ],
       "layout": {
        "legend": {
         "bgcolor": "#F5F6F9",
         "font": {
          "color": "#4D5663"
         }
        },
        "paper_bgcolor": "#F5F6F9",
        "plot_bgcolor": "#F5F6F9",
        "template": {
         "data": {
          "bar": [
           {
            "error_x": {
             "color": "#2a3f5f"
            },
            "error_y": {
             "color": "#2a3f5f"
            },
            "marker": {
             "line": {
              "color": "#E5ECF6",
              "width": 0.5
             },
             "pattern": {
              "fillmode": "overlay",
              "size": 10,
              "solidity": 0.2
             }
            },
            "type": "bar"
           }
          ],
          "barpolar": [
           {
            "marker": {
             "line": {
              "color": "#E5ECF6",
              "width": 0.5
             },
             "pattern": {
              "fillmode": "overlay",
              "size": 10,
              "solidity": 0.2
             }
            },
            "type": "barpolar"
           }
          ],
          "carpet": [
           {
            "aaxis": {
             "endlinecolor": "#2a3f5f",
             "gridcolor": "white",
             "linecolor": "white",
             "minorgridcolor": "white",
             "startlinecolor": "#2a3f5f"
            },
            "baxis": {
             "endlinecolor": "#2a3f5f",
             "gridcolor": "white",
             "linecolor": "white",
             "minorgridcolor": "white",
             "startlinecolor": "#2a3f5f"
            },
            "type": "carpet"
           }
          ],
          "choropleth": [
           {
            "colorbar": {
             "outlinewidth": 0,
             "ticks": ""
            },
            "type": "choropleth"
           }
          ],
          "contour": [
           {
            "colorbar": {
             "outlinewidth": 0,
             "ticks": ""
            },
            "colorscale": [
             [
              0,
              "#0d0887"
             ],
             [
              0.1111111111111111,
              "#46039f"
             ],
             [
              0.2222222222222222,
              "#7201a8"
             ],
             [
              0.3333333333333333,
              "#9c179e"
             ],
             [
              0.4444444444444444,
              "#bd3786"
             ],
             [
              0.5555555555555556,
              "#d8576b"
             ],
             [
              0.6666666666666666,
              "#ed7953"
             ],
             [
              0.7777777777777778,
              "#fb9f3a"
             ],
             [
              0.8888888888888888,
              "#fdca26"
             ],
             [
              1,
              "#f0f921"
             ]
            ],
            "type": "contour"
           }
          ],
          "contourcarpet": [
           {
            "colorbar": {
             "outlinewidth": 0,
             "ticks": ""
            },
            "type": "contourcarpet"
           }
          ],
          "heatmap": [
           {
            "colorbar": {
             "outlinewidth": 0,
             "ticks": ""
            },
            "colorscale": [
             [
              0,
              "#0d0887"
             ],
             [
              0.1111111111111111,
              "#46039f"
             ],
             [
              0.2222222222222222,
              "#7201a8"
             ],
             [
              0.3333333333333333,
              "#9c179e"
             ],
             [
              0.4444444444444444,
              "#bd3786"
             ],
             [
              0.5555555555555556,
              "#d8576b"
             ],
             [
              0.6666666666666666,
              "#ed7953"
             ],
             [
              0.7777777777777778,
              "#fb9f3a"
             ],
             [
              0.8888888888888888,
              "#fdca26"
             ],
             [
              1,
              "#f0f921"
             ]
            ],
            "type": "heatmap"
           }
          ],
          "heatmapgl": [
           {
            "colorbar": {
             "outlinewidth": 0,
             "ticks": ""
            },
            "colorscale": [
             [
              0,
              "#0d0887"
             ],
             [
              0.1111111111111111,
              "#46039f"
             ],
             [
              0.2222222222222222,
              "#7201a8"
             ],
             [
              0.3333333333333333,
              "#9c179e"
             ],
             [
              0.4444444444444444,
              "#bd3786"
             ],
             [
              0.5555555555555556,
              "#d8576b"
             ],
             [
              0.6666666666666666,
              "#ed7953"
             ],
             [
              0.7777777777777778,
              "#fb9f3a"
             ],
             [
              0.8888888888888888,
              "#fdca26"
             ],
             [
              1,
              "#f0f921"
             ]
            ],
            "type": "heatmapgl"
           }
          ],
          "histogram": [
           {
            "marker": {
             "pattern": {
              "fillmode": "overlay",
              "size": 10,
              "solidity": 0.2
             }
            },
            "type": "histogram"
           }
          ],
          "histogram2d": [
           {
            "colorbar": {
             "outlinewidth": 0,
             "ticks": ""
            },
            "colorscale": [
             [
              0,
              "#0d0887"
             ],
             [
              0.1111111111111111,
              "#46039f"
             ],
             [
              0.2222222222222222,
              "#7201a8"
             ],
             [
              0.3333333333333333,
              "#9c179e"
             ],
             [
              0.4444444444444444,
              "#bd3786"
             ],
             [
              0.5555555555555556,
              "#d8576b"
             ],
             [
              0.6666666666666666,
              "#ed7953"
             ],
             [
              0.7777777777777778,
              "#fb9f3a"
             ],
             [
              0.8888888888888888,
              "#fdca26"
             ],
             [
              1,
              "#f0f921"
             ]
            ],
            "type": "histogram2d"
           }
          ],
          "histogram2dcontour": [
           {
            "colorbar": {
             "outlinewidth": 0,
             "ticks": ""
            },
            "colorscale": [
             [
              0,
              "#0d0887"
             ],
             [
              0.1111111111111111,
              "#46039f"
             ],
             [
              0.2222222222222222,
              "#7201a8"
             ],
             [
              0.3333333333333333,
              "#9c179e"
             ],
             [
              0.4444444444444444,
              "#bd3786"
             ],
             [
              0.5555555555555556,
              "#d8576b"
             ],
             [
              0.6666666666666666,
              "#ed7953"
             ],
             [
              0.7777777777777778,
              "#fb9f3a"
             ],
             [
              0.8888888888888888,
              "#fdca26"
             ],
             [
              1,
              "#f0f921"
             ]
            ],
            "type": "histogram2dcontour"
           }
          ],
          "mesh3d": [
           {
            "colorbar": {
             "outlinewidth": 0,
             "ticks": ""
            },
            "type": "mesh3d"
           }
          ],
          "parcoords": [
           {
            "line": {
             "colorbar": {
              "outlinewidth": 0,
              "ticks": ""
             }
            },
            "type": "parcoords"
           }
          ],
          "pie": [
           {
            "automargin": true,
            "type": "pie"
           }
          ],
          "scatter": [
           {
            "fillpattern": {
             "fillmode": "overlay",
             "size": 10,
             "solidity": 0.2
            },
            "type": "scatter"
           }
          ],
          "scatter3d": [
           {
            "line": {
             "colorbar": {
              "outlinewidth": 0,
              "ticks": ""
             }
            },
            "marker": {
             "colorbar": {
              "outlinewidth": 0,
              "ticks": ""
             }
            },
            "type": "scatter3d"
           }
          ],
          "scattercarpet": [
           {
            "marker": {
             "colorbar": {
              "outlinewidth": 0,
              "ticks": ""
             }
            },
            "type": "scattercarpet"
           }
          ],
          "scattergeo": [
           {
            "marker": {
             "colorbar": {
              "outlinewidth": 0,
              "ticks": ""
             }
            },
            "type": "scattergeo"
           }
          ],
          "scattergl": [
           {
            "marker": {
             "colorbar": {
              "outlinewidth": 0,
              "ticks": ""
             }
            },
            "type": "scattergl"
           }
          ],
          "scattermapbox": [
           {
            "marker": {
             "colorbar": {
              "outlinewidth": 0,
              "ticks": ""
             }
            },
            "type": "scattermapbox"
           }
          ],
          "scatterpolar": [
           {
            "marker": {
             "colorbar": {
              "outlinewidth": 0,
              "ticks": ""
             }
            },
            "type": "scatterpolar"
           }
          ],
          "scatterpolargl": [
           {
            "marker": {
             "colorbar": {
              "outlinewidth": 0,
              "ticks": ""
             }
            },
            "type": "scatterpolargl"
           }
          ],
          "scatterternary": [
           {
            "marker": {
             "colorbar": {
              "outlinewidth": 0,
              "ticks": ""
             }
            },
            "type": "scatterternary"
           }
          ],
          "surface": [
           {
            "colorbar": {
             "outlinewidth": 0,
             "ticks": ""
            },
            "colorscale": [
             [
              0,
              "#0d0887"
             ],
             [
              0.1111111111111111,
              "#46039f"
             ],
             [
              0.2222222222222222,
              "#7201a8"
             ],
             [
              0.3333333333333333,
              "#9c179e"
             ],
             [
              0.4444444444444444,
              "#bd3786"
             ],
             [
              0.5555555555555556,
              "#d8576b"
             ],
             [
              0.6666666666666666,
              "#ed7953"
             ],
             [
              0.7777777777777778,
              "#fb9f3a"
             ],
             [
              0.8888888888888888,
              "#fdca26"
             ],
             [
              1,
              "#f0f921"
             ]
            ],
            "type": "surface"
           }
          ],
          "table": [
           {
            "cells": {
             "fill": {
              "color": "#EBF0F8"
             },
             "line": {
              "color": "white"
             }
            },
            "header": {
             "fill": {
              "color": "#C8D4E3"
             },
             "line": {
              "color": "white"
             }
            },
            "type": "table"
           }
          ]
         },
         "layout": {
          "annotationdefaults": {
           "arrowcolor": "#2a3f5f",
           "arrowhead": 0,
           "arrowwidth": 1
          },
          "autotypenumbers": "strict",
          "coloraxis": {
           "colorbar": {
            "outlinewidth": 0,
            "ticks": ""
           }
          },
          "colorscale": {
           "diverging": [
            [
             0,
             "#8e0152"
            ],
            [
             0.1,
             "#c51b7d"
            ],
            [
             0.2,
             "#de77ae"
            ],
            [
             0.3,
             "#f1b6da"
            ],
            [
             0.4,
             "#fde0ef"
            ],
            [
             0.5,
             "#f7f7f7"
            ],
            [
             0.6,
             "#e6f5d0"
            ],
            [
             0.7,
             "#b8e186"
            ],
            [
             0.8,
             "#7fbc41"
            ],
            [
             0.9,
             "#4d9221"
            ],
            [
             1,
             "#276419"
            ]
           ],
           "sequential": [
            [
             0,
             "#0d0887"
            ],
            [
             0.1111111111111111,
             "#46039f"
            ],
            [
             0.2222222222222222,
             "#7201a8"
            ],
            [
             0.3333333333333333,
             "#9c179e"
            ],
            [
             0.4444444444444444,
             "#bd3786"
            ],
            [
             0.5555555555555556,
             "#d8576b"
            ],
            [
             0.6666666666666666,
             "#ed7953"
            ],
            [
             0.7777777777777778,
             "#fb9f3a"
            ],
            [
             0.8888888888888888,
             "#fdca26"
            ],
            [
             1,
             "#f0f921"
            ]
           ],
           "sequentialminus": [
            [
             0,
             "#0d0887"
            ],
            [
             0.1111111111111111,
             "#46039f"
            ],
            [
             0.2222222222222222,
             "#7201a8"
            ],
            [
             0.3333333333333333,
             "#9c179e"
            ],
            [
             0.4444444444444444,
             "#bd3786"
            ],
            [
             0.5555555555555556,
             "#d8576b"
            ],
            [
             0.6666666666666666,
             "#ed7953"
            ],
            [
             0.7777777777777778,
             "#fb9f3a"
            ],
            [
             0.8888888888888888,
             "#fdca26"
            ],
            [
             1,
             "#f0f921"
            ]
           ]
          },
          "colorway": [
           "#636efa",
           "#EF553B",
           "#00cc96",
           "#ab63fa",
           "#FFA15A",
           "#19d3f3",
           "#FF6692",
           "#B6E880",
           "#FF97FF",
           "#FECB52"
          ],
          "font": {
           "color": "#2a3f5f"
          },
          "geo": {
           "bgcolor": "white",
           "lakecolor": "white",
           "landcolor": "#E5ECF6",
           "showlakes": true,
           "showland": true,
           "subunitcolor": "white"
          },
          "hoverlabel": {
           "align": "left"
          },
          "hovermode": "closest",
          "mapbox": {
           "style": "light"
          },
          "paper_bgcolor": "white",
          "plot_bgcolor": "#E5ECF6",
          "polar": {
           "angularaxis": {
            "gridcolor": "white",
            "linecolor": "white",
            "ticks": ""
           },
           "bgcolor": "#E5ECF6",
           "radialaxis": {
            "gridcolor": "white",
            "linecolor": "white",
            "ticks": ""
           }
          },
          "scene": {
           "xaxis": {
            "backgroundcolor": "#E5ECF6",
            "gridcolor": "white",
            "gridwidth": 2,
            "linecolor": "white",
            "showbackground": true,
            "ticks": "",
            "zerolinecolor": "white"
           },
           "yaxis": {
            "backgroundcolor": "#E5ECF6",
            "gridcolor": "white",
            "gridwidth": 2,
            "linecolor": "white",
            "showbackground": true,
            "ticks": "",
            "zerolinecolor": "white"
           },
           "zaxis": {
            "backgroundcolor": "#E5ECF6",
            "gridcolor": "white",
            "gridwidth": 2,
            "linecolor": "white",
            "showbackground": true,
            "ticks": "",
            "zerolinecolor": "white"
           }
          },
          "shapedefaults": {
           "line": {
            "color": "#2a3f5f"
           }
          },
          "ternary": {
           "aaxis": {
            "gridcolor": "white",
            "linecolor": "white",
            "ticks": ""
           },
           "baxis": {
            "gridcolor": "white",
            "linecolor": "white",
            "ticks": ""
           },
           "bgcolor": "#E5ECF6",
           "caxis": {
            "gridcolor": "white",
            "linecolor": "white",
            "ticks": ""
           }
          },
          "title": {
           "x": 0.05
          },
          "xaxis": {
           "automargin": true,
           "gridcolor": "white",
           "linecolor": "white",
           "ticks": "",
           "title": {
            "standoff": 15
           },
           "zerolinecolor": "white",
           "zerolinewidth": 2
          },
          "yaxis": {
           "automargin": true,
           "gridcolor": "white",
           "linecolor": "white",
           "ticks": "",
           "title": {
            "standoff": 15
           },
           "zerolinecolor": "white",
           "zerolinewidth": 2
          }
         }
        },
        "title": {
         "font": {
          "color": "#4D5663"
         }
        },
        "xaxis": {
         "gridcolor": "#E1E5ED",
         "showgrid": true,
         "tickfont": {
          "color": "#4D5663"
         },
         "title": {
          "font": {
           "color": "#4D5663"
          },
          "text": ""
         },
         "zerolinecolor": "#E1E5ED"
        },
        "yaxis": {
         "gridcolor": "#E1E5ED",
         "showgrid": true,
         "tickfont": {
          "color": "#4D5663"
         },
         "title": {
          "font": {
           "color": "#4D5663"
          },
          "text": ""
         },
         "zerolinecolor": "#E1E5ED"
        }
       }
      },
      "text/html": [
       "<div>                            <div id=\"a072138c-c060-4e93-a496-b60f0ad1d8fe\" class=\"plotly-graph-div\" style=\"height:525px; width:100%;\"></div>            <script type=\"text/javascript\">                require([\"plotly\"], function(Plotly) {                    window.PLOTLYENV=window.PLOTLYENV || {};\n",
       "                    window.PLOTLYENV.BASE_URL='https://plot.ly';                                    if (document.getElementById(\"a072138c-c060-4e93-a496-b60f0ad1d8fe\")) {                    Plotly.newPlot(                        \"a072138c-c060-4e93-a496-b60f0ad1d8fe\",                        [{\"boxpoints\":false,\"line\":{\"width\":1.3},\"marker\":{\"color\":\"rgba(255, 153, 51, 1.0)\"},\"name\":\"A\",\"orientation\":\"v\",\"y\":[-0.6695219310356675,-0.29192670023127143,-0.9831645059332843,0.013262990475593704,0.5649025921315125,0.8064216811322935,-0.29053318946379497,-1.4553394975965468,-0.9334780727469513,0.15212781268808825,-0.12953561519924947,-0.07330120498823028,-1.3212460499566323,0.5375075631006219,-1.5383600487242233,1.6479766696245695,-1.5151166106018252,-0.9487373016303247,0.9868363720026039,0.8271021762057945,0.532847912728279,-1.215084246154703,-1.06990447666004,-0.20423732405811862,0.25645744237289564,1.1652515725779797,0.8666463172667327,0.9183747549879647,0.6504874381746459,-0.8243955949582988,0.31764589789799386,0.32842115742546457,-0.4879250309366784,0.9660099268240899,-0.4349598763157151,0.14565487905762764,0.7436189282138251,0.9409054661531387,-0.6465452666750505,-0.0024073828422344406,1.7067230767581596,-0.4121497707683924,-0.11389940712513696,-1.798138144899698,0.48662376592093887,1.0405713605422415,1.9209486289049162,0.6143066558160502,1.533611421591724,0.281317373014399,0.04453499041913694,0.3254655849440727,-1.7235950007111245,1.0474474785050598,0.9103859418107295,0.8525517635466807,-0.30410879772455135,1.6990988245338592,-1.4839797836397264,0.3832562237229985,0.7053168306901907,0.4203017735137733,0.5074159914678656,-0.959297650112034,-3.033106810373578,-1.1905978134391508,-0.28594306994798296,1.0009980764514175,0.10196558416155194,-0.4481953355572154,1.561038458049401,-1.8510860765324897,-0.6915435845117376,-1.1887437544871862,-0.20891836331908248,-1.5645319943763776,-0.5071826248289197,0.9745002772010514,0.5654902978301094,1.2781291327972075,-0.28550517136639925,0.15340572181957526,0.8636950655469798,-0.5646385664757835,2.5955468026902735,0.5495383901436504,0.12991333229427834,1.885651971234061,2.3101851334619705,-0.7212478669014187,1.2248866341084266,-0.07861993937764342,-1.632126443311677,0.817222682609708,-1.4875712692802876,-0.8284793569588998,-0.6147511519801087,-0.6260783806020203,0.0761575550680676,0.6386446816040392],\"type\":\"box\"},{\"boxpoints\":false,\"line\":{\"width\":1.3},\"marker\":{\"color\":\"rgba(55, 128, 191, 1.0)\"},\"name\":\"B\",\"orientation\":\"v\",\"y\":[-0.047249781195183846,0.5807979722191119,-0.5840803964125373,-2.0256441041451843,-2.717758433269804,0.8087501871373753,0.6808476657323692,-1.4517045352576345,-1.077566689559306,0.5761038177773498,-1.7365254614618182,-0.18196412399397116,0.6326136100827379,1.1507282085712174,0.5898260705822608,0.10035344857577091,-1.619410125275257,0.6674956593402991,-1.1198386404292284,-1.2510378091859844,0.8895570166309362,-0.3692521794513197,-0.930071334761612,1.0351120663640652,-0.1391421027530557,0.5966769499472159,0.07951570107527746,1.039322440493506,-1.0403484710164908,-0.008916864350763918,0.7605828958467573,1.316981609729183,0.18141931559657465,0.04412730738103606,0.6215623194712838,0.8297396307092603,-1.0976640935673252,1.1255496523105701,1.1656054314719215,-0.6129034501836317,-0.629216183370437,-0.6073399976273386,1.8639308196488213,0.2867514857577595,0.8401257870911673,-0.10536946095031792,0.6797613470589414,0.5336194715918102,1.2559348778753936,0.4923636697054773,-2.161063539331115,0.0728617663004551,0.8364208839679473,-0.12832774187838877,1.900093292135524,-0.8740842697369767,2.2417282144106516,-0.38953536213565704,-0.23976651362572157,-1.5826663125676441,-0.3209706218622201,0.2105394304809266,-1.031877527830503,1.4878929073514255,0.8602115753808353,-1.1136405139370515,0.8825996436964001,-1.7428085811833083,-0.15635544863752787,0.7490067955117746,-0.3239075025790853,0.038532297017919166,1.3993657988093093,1.1992934839067848,-0.36249786145583274,2.4394185211403494,-0.1793756206531476,-0.4576517146060599,0.09262337925826437,-0.011713327619057282,-0.3156445170519262,-0.29876236993757893,-0.6478579022789553,0.7517042293677587,1.081513421865064,0.44739213512439696,-0.9448629749815547,-0.575126837808124,-0.05765011398142731,-0.2820600532547387,-0.19546551834527293,1.589656469566828,-0.20582042289236055,-1.2982061633734652,-1.2146393062199856,0.32144986438176754,-0.48218801944586104,0.5457219900911298,0.9457138531063372,-0.04393831853309557],\"type\":\"box\"},{\"boxpoints\":false,\"line\":{\"width\":1.3},\"marker\":{\"color\":\"rgba(50, 171, 96, 1.0)\"},\"name\":\"C\",\"orientation\":\"v\",\"y\":[-1.269296989698203,-1.0080155890415854,-1.2042570137460005,-0.7523343489817734,-0.43020462934314735,0.3336358016540321,0.9395270060313918,-0.49396707631428755,1.6854042714870956,-1.1519275853360607,1.3934045042570897,0.41327568923473623,-0.7783005854279369,1.130081211873553,-0.5391255834525343,-1.241927709895697,0.13955167791054937,-0.545540348829611,-1.5323182277994851,1.1854413681856415,-0.6103588791438502,-0.05502047698401375,-1.5526275593486056,-0.2296797508695521,0.42418074561004593,-0.17475197660334327,1.1584780930831238,0.5291031129691107,-0.860917543530964,-0.5501337209076124,-0.3655464719441802,-0.7017880883634365,-0.20726908200891606,0.13086443709116227,-0.7948409026450902,0.13715348885403136,-0.18601720000085128,-0.6150416483220277,0.009023116028630363,1.0263941390302942,-1.2203155657290143,1.4563242070698132,-1.1176481610187825,0.034278414357095194,0.6829624892908408,0.07445020981186903,0.11345731746352025,0.6556803556150275,0.7211537051814578,-0.35752406419099997,-0.6093112408885526,-1.6364807636898486,1.5664007238603521,0.9084975527662472,-1.8669852044506083,-0.8659287608402915,-0.31128769379773674,0.040145949957772986,0.036577475753940075,-0.9236678953434068,0.22220728705653234,-1.6188305639741225,-0.7335202363998974,0.15511513807471974,0.48027922168551607,-1.6651611092745204,0.7190382345271333,0.25825484044436614,-0.5386584077017231,1.0122525311422148,0.37467011145341017,-0.00030687665539106085,-1.6767773623260784,-1.8392357566091053,0.07766647630689674,1.4902596513380661,-1.6311786209709138,0.9477701170146784,-1.8396926513227327,-1.010497166273908,-1.81161046210009,0.9594559363722026,-1.7961997808579593,0.7675702455962152,-1.2348867296957946,-0.9138298167524127,-1.0390963379177798,0.1060596221344798,-0.2506563770654563,0.8216316586155562,1.7058220161915616,0.9136846788674235,0.3334144082451351,0.41767936627934976,0.12838805206541762,-0.2924064851651061,-1.6972340857693768,-1.5325355411904735,-0.4389991758348614,-1.1817206651105758],\"type\":\"box\"},{\"boxpoints\":false,\"line\":{\"width\":1.3},\"marker\":{\"color\":\"rgba(128, 0, 128, 1.0)\"},\"name\":\"D\",\"orientation\":\"v\",\"y\":[0.3812242838491141,-0.46340357752793787,0.6167444489705141,1.0798134526870786,-1.4383366016769608,-0.7361847830897679,2.3926937180300576,0.7997596315884576,0.9207699908520541,0.8639841881702542,1.6216363166918863,-1.658601034201354,-0.7597785877173346,-0.4102533812305416,0.5259605163022608,0.4287236850308033,-1.0877905044395537,2.0723107094458215,-1.073937365541676,0.9090998699879687,-0.7365230727418189,1.040202698275768,0.8204697656486994,-0.6963766707216732,0.39686804299343503,0.02889397227904667,-0.32677751267453886,0.9912327592305462,-1.185623785364478,-0.13573714074175933,1.1486149200459752,-0.571162372365066,-0.406611360087898,-0.758176841987634,-0.6455399059030006,0.8548512825947828,0.5569022011999537,-1.159823177041537,1.8830257525414391,-0.9404633198474414,-0.32257735955203637,0.8375001716829175,-0.1605020062779592,-0.2942706397337943,1.4009698986932337,2.623490062841327,-0.08985049905516779,-0.4496582857338749,-0.8109345730362918,1.5277398283314625,2.341514349168089,0.5352238093734683,1.256757727466578,0.9176449769963769,-1.1453322650658793,0.9991968398333853,0.5578987916969835,0.45388482402783614,-0.2682435766762213,0.7438000253557365,-0.2967607836800882,1.7268350191622517,-0.5917860546489776,0.47380353405943,0.5570674383756229,0.3242084476632031,0.5287385057838155,0.14919247882928582,-0.8717080064057061,0.7834537736924412,-0.7041471911231447,1.1436549519895929,0.5388796697878669,0.3799859314064505,0.3643418097463149,1.3424987987656682,-1.244258220048376,0.02933955219689519,-1.0777066760772744,0.10359043065109746,-0.5614476219557705,-0.8699752902071215,-0.6413276178619316,0.43718978272824965,-0.3737487996766362,-0.8583767570606211,0.14824534717413057,-1.10762636358596,-1.7960195726187764,1.0788831365163554,0.42016061176645664,-2.105084978836787,-0.8603565150921293,0.11601266319846247,0.2056840418518598,-1.5238397181474899,-0.7819901822944672,-0.05187577552743315,1.3765943230152595,-0.1532464682524686],\"type\":\"box\"}],                        {\"legend\":{\"bgcolor\":\"#F5F6F9\",\"font\":{\"color\":\"#4D5663\"}},\"paper_bgcolor\":\"#F5F6F9\",\"plot_bgcolor\":\"#F5F6F9\",\"template\":{\"data\":{\"barpolar\":[{\"marker\":{\"line\":{\"color\":\"#E5ECF6\",\"width\":0.5},\"pattern\":{\"fillmode\":\"overlay\",\"size\":10,\"solidity\":0.2}},\"type\":\"barpolar\"}],\"bar\":[{\"error_x\":{\"color\":\"#2a3f5f\"},\"error_y\":{\"color\":\"#2a3f5f\"},\"marker\":{\"line\":{\"color\":\"#E5ECF6\",\"width\":0.5},\"pattern\":{\"fillmode\":\"overlay\",\"size\":10,\"solidity\":0.2}},\"type\":\"bar\"}],\"carpet\":[{\"aaxis\":{\"endlinecolor\":\"#2a3f5f\",\"gridcolor\":\"white\",\"linecolor\":\"white\",\"minorgridcolor\":\"white\",\"startlinecolor\":\"#2a3f5f\"},\"baxis\":{\"endlinecolor\":\"#2a3f5f\",\"gridcolor\":\"white\",\"linecolor\":\"white\",\"minorgridcolor\":\"white\",\"startlinecolor\":\"#2a3f5f\"},\"type\":\"carpet\"}],\"choropleth\":[{\"colorbar\":{\"outlinewidth\":0,\"ticks\":\"\"},\"type\":\"choropleth\"}],\"contourcarpet\":[{\"colorbar\":{\"outlinewidth\":0,\"ticks\":\"\"},\"type\":\"contourcarpet\"}],\"contour\":[{\"colorbar\":{\"outlinewidth\":0,\"ticks\":\"\"},\"colorscale\":[[0.0,\"#0d0887\"],[0.1111111111111111,\"#46039f\"],[0.2222222222222222,\"#7201a8\"],[0.3333333333333333,\"#9c179e\"],[0.4444444444444444,\"#bd3786\"],[0.5555555555555556,\"#d8576b\"],[0.6666666666666666,\"#ed7953\"],[0.7777777777777778,\"#fb9f3a\"],[0.8888888888888888,\"#fdca26\"],[1.0,\"#f0f921\"]],\"type\":\"contour\"}],\"heatmapgl\":[{\"colorbar\":{\"outlinewidth\":0,\"ticks\":\"\"},\"colorscale\":[[0.0,\"#0d0887\"],[0.1111111111111111,\"#46039f\"],[0.2222222222222222,\"#7201a8\"],[0.3333333333333333,\"#9c179e\"],[0.4444444444444444,\"#bd3786\"],[0.5555555555555556,\"#d8576b\"],[0.6666666666666666,\"#ed7953\"],[0.7777777777777778,\"#fb9f3a\"],[0.8888888888888888,\"#fdca26\"],[1.0,\"#f0f921\"]],\"type\":\"heatmapgl\"}],\"heatmap\":[{\"colorbar\":{\"outlinewidth\":0,\"ticks\":\"\"},\"colorscale\":[[0.0,\"#0d0887\"],[0.1111111111111111,\"#46039f\"],[0.2222222222222222,\"#7201a8\"],[0.3333333333333333,\"#9c179e\"],[0.4444444444444444,\"#bd3786\"],[0.5555555555555556,\"#d8576b\"],[0.6666666666666666,\"#ed7953\"],[0.7777777777777778,\"#fb9f3a\"],[0.8888888888888888,\"#fdca26\"],[1.0,\"#f0f921\"]],\"type\":\"heatmap\"}],\"histogram2dcontour\":[{\"colorbar\":{\"outlinewidth\":0,\"ticks\":\"\"},\"colorscale\":[[0.0,\"#0d0887\"],[0.1111111111111111,\"#46039f\"],[0.2222222222222222,\"#7201a8\"],[0.3333333333333333,\"#9c179e\"],[0.4444444444444444,\"#bd3786\"],[0.5555555555555556,\"#d8576b\"],[0.6666666666666666,\"#ed7953\"],[0.7777777777777778,\"#fb9f3a\"],[0.8888888888888888,\"#fdca26\"],[1.0,\"#f0f921\"]],\"type\":\"histogram2dcontour\"}],\"histogram2d\":[{\"colorbar\":{\"outlinewidth\":0,\"ticks\":\"\"},\"colorscale\":[[0.0,\"#0d0887\"],[0.1111111111111111,\"#46039f\"],[0.2222222222222222,\"#7201a8\"],[0.3333333333333333,\"#9c179e\"],[0.4444444444444444,\"#bd3786\"],[0.5555555555555556,\"#d8576b\"],[0.6666666666666666,\"#ed7953\"],[0.7777777777777778,\"#fb9f3a\"],[0.8888888888888888,\"#fdca26\"],[1.0,\"#f0f921\"]],\"type\":\"histogram2d\"}],\"histogram\":[{\"marker\":{\"pattern\":{\"fillmode\":\"overlay\",\"size\":10,\"solidity\":0.2}},\"type\":\"histogram\"}],\"mesh3d\":[{\"colorbar\":{\"outlinewidth\":0,\"ticks\":\"\"},\"type\":\"mesh3d\"}],\"parcoords\":[{\"line\":{\"colorbar\":{\"outlinewidth\":0,\"ticks\":\"\"}},\"type\":\"parcoords\"}],\"pie\":[{\"automargin\":true,\"type\":\"pie\"}],\"scatter3d\":[{\"line\":{\"colorbar\":{\"outlinewidth\":0,\"ticks\":\"\"}},\"marker\":{\"colorbar\":{\"outlinewidth\":0,\"ticks\":\"\"}},\"type\":\"scatter3d\"}],\"scattercarpet\":[{\"marker\":{\"colorbar\":{\"outlinewidth\":0,\"ticks\":\"\"}},\"type\":\"scattercarpet\"}],\"scattergeo\":[{\"marker\":{\"colorbar\":{\"outlinewidth\":0,\"ticks\":\"\"}},\"type\":\"scattergeo\"}],\"scattergl\":[{\"marker\":{\"colorbar\":{\"outlinewidth\":0,\"ticks\":\"\"}},\"type\":\"scattergl\"}],\"scattermapbox\":[{\"marker\":{\"colorbar\":{\"outlinewidth\":0,\"ticks\":\"\"}},\"type\":\"scattermapbox\"}],\"scatterpolargl\":[{\"marker\":{\"colorbar\":{\"outlinewidth\":0,\"ticks\":\"\"}},\"type\":\"scatterpolargl\"}],\"scatterpolar\":[{\"marker\":{\"colorbar\":{\"outlinewidth\":0,\"ticks\":\"\"}},\"type\":\"scatterpolar\"}],\"scatter\":[{\"fillpattern\":{\"fillmode\":\"overlay\",\"size\":10,\"solidity\":0.2},\"type\":\"scatter\"}],\"scatterternary\":[{\"marker\":{\"colorbar\":{\"outlinewidth\":0,\"ticks\":\"\"}},\"type\":\"scatterternary\"}],\"surface\":[{\"colorbar\":{\"outlinewidth\":0,\"ticks\":\"\"},\"colorscale\":[[0.0,\"#0d0887\"],[0.1111111111111111,\"#46039f\"],[0.2222222222222222,\"#7201a8\"],[0.3333333333333333,\"#9c179e\"],[0.4444444444444444,\"#bd3786\"],[0.5555555555555556,\"#d8576b\"],[0.6666666666666666,\"#ed7953\"],[0.7777777777777778,\"#fb9f3a\"],[0.8888888888888888,\"#fdca26\"],[1.0,\"#f0f921\"]],\"type\":\"surface\"}],\"table\":[{\"cells\":{\"fill\":{\"color\":\"#EBF0F8\"},\"line\":{\"color\":\"white\"}},\"header\":{\"fill\":{\"color\":\"#C8D4E3\"},\"line\":{\"color\":\"white\"}},\"type\":\"table\"}]},\"layout\":{\"annotationdefaults\":{\"arrowcolor\":\"#2a3f5f\",\"arrowhead\":0,\"arrowwidth\":1},\"autotypenumbers\":\"strict\",\"coloraxis\":{\"colorbar\":{\"outlinewidth\":0,\"ticks\":\"\"}},\"colorscale\":{\"diverging\":[[0,\"#8e0152\"],[0.1,\"#c51b7d\"],[0.2,\"#de77ae\"],[0.3,\"#f1b6da\"],[0.4,\"#fde0ef\"],[0.5,\"#f7f7f7\"],[0.6,\"#e6f5d0\"],[0.7,\"#b8e186\"],[0.8,\"#7fbc41\"],[0.9,\"#4d9221\"],[1,\"#276419\"]],\"sequential\":[[0.0,\"#0d0887\"],[0.1111111111111111,\"#46039f\"],[0.2222222222222222,\"#7201a8\"],[0.3333333333333333,\"#9c179e\"],[0.4444444444444444,\"#bd3786\"],[0.5555555555555556,\"#d8576b\"],[0.6666666666666666,\"#ed7953\"],[0.7777777777777778,\"#fb9f3a\"],[0.8888888888888888,\"#fdca26\"],[1.0,\"#f0f921\"]],\"sequentialminus\":[[0.0,\"#0d0887\"],[0.1111111111111111,\"#46039f\"],[0.2222222222222222,\"#7201a8\"],[0.3333333333333333,\"#9c179e\"],[0.4444444444444444,\"#bd3786\"],[0.5555555555555556,\"#d8576b\"],[0.6666666666666666,\"#ed7953\"],[0.7777777777777778,\"#fb9f3a\"],[0.8888888888888888,\"#fdca26\"],[1.0,\"#f0f921\"]]},\"colorway\":[\"#636efa\",\"#EF553B\",\"#00cc96\",\"#ab63fa\",\"#FFA15A\",\"#19d3f3\",\"#FF6692\",\"#B6E880\",\"#FF97FF\",\"#FECB52\"],\"font\":{\"color\":\"#2a3f5f\"},\"geo\":{\"bgcolor\":\"white\",\"lakecolor\":\"white\",\"landcolor\":\"#E5ECF6\",\"showlakes\":true,\"showland\":true,\"subunitcolor\":\"white\"},\"hoverlabel\":{\"align\":\"left\"},\"hovermode\":\"closest\",\"mapbox\":{\"style\":\"light\"},\"paper_bgcolor\":\"white\",\"plot_bgcolor\":\"#E5ECF6\",\"polar\":{\"angularaxis\":{\"gridcolor\":\"white\",\"linecolor\":\"white\",\"ticks\":\"\"},\"bgcolor\":\"#E5ECF6\",\"radialaxis\":{\"gridcolor\":\"white\",\"linecolor\":\"white\",\"ticks\":\"\"}},\"scene\":{\"xaxis\":{\"backgroundcolor\":\"#E5ECF6\",\"gridcolor\":\"white\",\"gridwidth\":2,\"linecolor\":\"white\",\"showbackground\":true,\"ticks\":\"\",\"zerolinecolor\":\"white\"},\"yaxis\":{\"backgroundcolor\":\"#E5ECF6\",\"gridcolor\":\"white\",\"gridwidth\":2,\"linecolor\":\"white\",\"showbackground\":true,\"ticks\":\"\",\"zerolinecolor\":\"white\"},\"zaxis\":{\"backgroundcolor\":\"#E5ECF6\",\"gridcolor\":\"white\",\"gridwidth\":2,\"linecolor\":\"white\",\"showbackground\":true,\"ticks\":\"\",\"zerolinecolor\":\"white\"}},\"shapedefaults\":{\"line\":{\"color\":\"#2a3f5f\"}},\"ternary\":{\"aaxis\":{\"gridcolor\":\"white\",\"linecolor\":\"white\",\"ticks\":\"\"},\"baxis\":{\"gridcolor\":\"white\",\"linecolor\":\"white\",\"ticks\":\"\"},\"bgcolor\":\"#E5ECF6\",\"caxis\":{\"gridcolor\":\"white\",\"linecolor\":\"white\",\"ticks\":\"\"}},\"title\":{\"x\":0.05},\"xaxis\":{\"automargin\":true,\"gridcolor\":\"white\",\"linecolor\":\"white\",\"ticks\":\"\",\"title\":{\"standoff\":15},\"zerolinecolor\":\"white\",\"zerolinewidth\":2},\"yaxis\":{\"automargin\":true,\"gridcolor\":\"white\",\"linecolor\":\"white\",\"ticks\":\"\",\"title\":{\"standoff\":15},\"zerolinecolor\":\"white\",\"zerolinewidth\":2}}},\"title\":{\"font\":{\"color\":\"#4D5663\"}},\"xaxis\":{\"gridcolor\":\"#E1E5ED\",\"showgrid\":true,\"tickfont\":{\"color\":\"#4D5663\"},\"title\":{\"font\":{\"color\":\"#4D5663\"},\"text\":\"\"},\"zerolinecolor\":\"#E1E5ED\"},\"yaxis\":{\"gridcolor\":\"#E1E5ED\",\"showgrid\":true,\"tickfont\":{\"color\":\"#4D5663\"},\"title\":{\"font\":{\"color\":\"#4D5663\"},\"text\":\"\"},\"zerolinecolor\":\"#E1E5ED\"}},                        {\"showLink\": true, \"linkText\": \"Export to plot.ly\", \"plotlyServerURL\": \"https://plot.ly\", \"responsive\": true}                    ).then(function(){\n",
       "                            \n",
       "var gd = document.getElementById('a072138c-c060-4e93-a496-b60f0ad1d8fe');\n",
       "var x = new MutationObserver(function (mutations, observer) {{\n",
       "        var display = window.getComputedStyle(gd).display;\n",
       "        if (!display || display === 'none') {{\n",
       "            console.log([gd, 'removed!']);\n",
       "            Plotly.purge(gd);\n",
       "            observer.disconnect();\n",
       "        }}\n",
       "}});\n",
       "\n",
       "// Listen for the removal of the full notebook cells\n",
       "var notebookContainer = gd.closest('#notebook-container');\n",
       "if (notebookContainer) {{\n",
       "    x.observe(notebookContainer, {childList: true});\n",
       "}}\n",
       "\n",
       "// Listen for the clearing of the current output cell\n",
       "var outputEl = gd.closest('.output');\n",
       "if (outputEl) {{\n",
       "    x.observe(outputEl, {childList: true});\n",
       "}}\n",
       "\n",
       "                        })                };                });            </script>        </div>"
      ]
     },
     "metadata": {},
     "output_type": "display_data"
    }
   ],
   "source": [
    "df.iplot(kind = 'box')"
   ]
  },
  {
   "cell_type": "markdown",
   "id": "5f20459c",
   "metadata": {},
   "source": [
    "# 3rd Surface"
   ]
  },
  {
   "cell_type": "code",
   "execution_count": 14,
   "id": "fd38b007",
   "metadata": {},
   "outputs": [
    {
     "data": {
      "application/vnd.plotly.v1+json": {
       "config": {
        "linkText": "Export to plot.ly",
        "plotlyServerURL": "https://plot.ly",
        "showLink": true
       },
       "data": [
        {
         "colorscale": [
          [
           0,
           "rgb(165,0,38)"
          ],
          [
           0.1,
           "rgb(215,48,39)"
          ],
          [
           0.2,
           "rgb(244,109,67)"
          ],
          [
           0.3,
           "rgb(253,174,97)"
          ],
          [
           0.4,
           "rgb(254,224,144)"
          ],
          [
           0.5,
           "rgb(255,255,191)"
          ],
          [
           0.6,
           "rgb(224,243,248)"
          ],
          [
           0.7,
           "rgb(171,217,233)"
          ],
          [
           0.8,
           "rgb(116,173,209)"
          ],
          [
           0.9,
           "rgb(69,117,180)"
          ],
          [
           1,
           "rgb(49,54,149)"
          ]
         ],
         "type": "surface",
         "x": [
          0,
          1,
          2,
          3,
          4
         ],
         "y": [
          "x",
          "y",
          "z"
         ],
         "z": [
          [
           1,
           2,
           3,
           4,
           5
          ],
          [
           10,
           20,
           30,
           20,
           10
          ],
          [
           5,
           4,
           3,
           2,
           1
          ]
         ]
        }
       ],
       "layout": {
        "legend": {
         "bgcolor": "#F5F6F9",
         "font": {
          "color": "#4D5663"
         }
        },
        "paper_bgcolor": "#F5F6F9",
        "plot_bgcolor": "#F5F6F9",
        "template": {
         "data": {
          "bar": [
           {
            "error_x": {
             "color": "#2a3f5f"
            },
            "error_y": {
             "color": "#2a3f5f"
            },
            "marker": {
             "line": {
              "color": "#E5ECF6",
              "width": 0.5
             },
             "pattern": {
              "fillmode": "overlay",
              "size": 10,
              "solidity": 0.2
             }
            },
            "type": "bar"
           }
          ],
          "barpolar": [
           {
            "marker": {
             "line": {
              "color": "#E5ECF6",
              "width": 0.5
             },
             "pattern": {
              "fillmode": "overlay",
              "size": 10,
              "solidity": 0.2
             }
            },
            "type": "barpolar"
           }
          ],
          "carpet": [
           {
            "aaxis": {
             "endlinecolor": "#2a3f5f",
             "gridcolor": "white",
             "linecolor": "white",
             "minorgridcolor": "white",
             "startlinecolor": "#2a3f5f"
            },
            "baxis": {
             "endlinecolor": "#2a3f5f",
             "gridcolor": "white",
             "linecolor": "white",
             "minorgridcolor": "white",
             "startlinecolor": "#2a3f5f"
            },
            "type": "carpet"
           }
          ],
          "choropleth": [
           {
            "colorbar": {
             "outlinewidth": 0,
             "ticks": ""
            },
            "type": "choropleth"
           }
          ],
          "contour": [
           {
            "colorbar": {
             "outlinewidth": 0,
             "ticks": ""
            },
            "colorscale": [
             [
              0,
              "#0d0887"
             ],
             [
              0.1111111111111111,
              "#46039f"
             ],
             [
              0.2222222222222222,
              "#7201a8"
             ],
             [
              0.3333333333333333,
              "#9c179e"
             ],
             [
              0.4444444444444444,
              "#bd3786"
             ],
             [
              0.5555555555555556,
              "#d8576b"
             ],
             [
              0.6666666666666666,
              "#ed7953"
             ],
             [
              0.7777777777777778,
              "#fb9f3a"
             ],
             [
              0.8888888888888888,
              "#fdca26"
             ],
             [
              1,
              "#f0f921"
             ]
            ],
            "type": "contour"
           }
          ],
          "contourcarpet": [
           {
            "colorbar": {
             "outlinewidth": 0,
             "ticks": ""
            },
            "type": "contourcarpet"
           }
          ],
          "heatmap": [
           {
            "colorbar": {
             "outlinewidth": 0,
             "ticks": ""
            },
            "colorscale": [
             [
              0,
              "#0d0887"
             ],
             [
              0.1111111111111111,
              "#46039f"
             ],
             [
              0.2222222222222222,
              "#7201a8"
             ],
             [
              0.3333333333333333,
              "#9c179e"
             ],
             [
              0.4444444444444444,
              "#bd3786"
             ],
             [
              0.5555555555555556,
              "#d8576b"
             ],
             [
              0.6666666666666666,
              "#ed7953"
             ],
             [
              0.7777777777777778,
              "#fb9f3a"
             ],
             [
              0.8888888888888888,
              "#fdca26"
             ],
             [
              1,
              "#f0f921"
             ]
            ],
            "type": "heatmap"
           }
          ],
          "heatmapgl": [
           {
            "colorbar": {
             "outlinewidth": 0,
             "ticks": ""
            },
            "colorscale": [
             [
              0,
              "#0d0887"
             ],
             [
              0.1111111111111111,
              "#46039f"
             ],
             [
              0.2222222222222222,
              "#7201a8"
             ],
             [
              0.3333333333333333,
              "#9c179e"
             ],
             [
              0.4444444444444444,
              "#bd3786"
             ],
             [
              0.5555555555555556,
              "#d8576b"
             ],
             [
              0.6666666666666666,
              "#ed7953"
             ],
             [
              0.7777777777777778,
              "#fb9f3a"
             ],
             [
              0.8888888888888888,
              "#fdca26"
             ],
             [
              1,
              "#f0f921"
             ]
            ],
            "type": "heatmapgl"
           }
          ],
          "histogram": [
           {
            "marker": {
             "pattern": {
              "fillmode": "overlay",
              "size": 10,
              "solidity": 0.2
             }
            },
            "type": "histogram"
           }
          ],
          "histogram2d": [
           {
            "colorbar": {
             "outlinewidth": 0,
             "ticks": ""
            },
            "colorscale": [
             [
              0,
              "#0d0887"
             ],
             [
              0.1111111111111111,
              "#46039f"
             ],
             [
              0.2222222222222222,
              "#7201a8"
             ],
             [
              0.3333333333333333,
              "#9c179e"
             ],
             [
              0.4444444444444444,
              "#bd3786"
             ],
             [
              0.5555555555555556,
              "#d8576b"
             ],
             [
              0.6666666666666666,
              "#ed7953"
             ],
             [
              0.7777777777777778,
              "#fb9f3a"
             ],
             [
              0.8888888888888888,
              "#fdca26"
             ],
             [
              1,
              "#f0f921"
             ]
            ],
            "type": "histogram2d"
           }
          ],
          "histogram2dcontour": [
           {
            "colorbar": {
             "outlinewidth": 0,
             "ticks": ""
            },
            "colorscale": [
             [
              0,
              "#0d0887"
             ],
             [
              0.1111111111111111,
              "#46039f"
             ],
             [
              0.2222222222222222,
              "#7201a8"
             ],
             [
              0.3333333333333333,
              "#9c179e"
             ],
             [
              0.4444444444444444,
              "#bd3786"
             ],
             [
              0.5555555555555556,
              "#d8576b"
             ],
             [
              0.6666666666666666,
              "#ed7953"
             ],
             [
              0.7777777777777778,
              "#fb9f3a"
             ],
             [
              0.8888888888888888,
              "#fdca26"
             ],
             [
              1,
              "#f0f921"
             ]
            ],
            "type": "histogram2dcontour"
           }
          ],
          "mesh3d": [
           {
            "colorbar": {
             "outlinewidth": 0,
             "ticks": ""
            },
            "type": "mesh3d"
           }
          ],
          "parcoords": [
           {
            "line": {
             "colorbar": {
              "outlinewidth": 0,
              "ticks": ""
             }
            },
            "type": "parcoords"
           }
          ],
          "pie": [
           {
            "automargin": true,
            "type": "pie"
           }
          ],
          "scatter": [
           {
            "fillpattern": {
             "fillmode": "overlay",
             "size": 10,
             "solidity": 0.2
            },
            "type": "scatter"
           }
          ],
          "scatter3d": [
           {
            "line": {
             "colorbar": {
              "outlinewidth": 0,
              "ticks": ""
             }
            },
            "marker": {
             "colorbar": {
              "outlinewidth": 0,
              "ticks": ""
             }
            },
            "type": "scatter3d"
           }
          ],
          "scattercarpet": [
           {
            "marker": {
             "colorbar": {
              "outlinewidth": 0,
              "ticks": ""
             }
            },
            "type": "scattercarpet"
           }
          ],
          "scattergeo": [
           {
            "marker": {
             "colorbar": {
              "outlinewidth": 0,
              "ticks": ""
             }
            },
            "type": "scattergeo"
           }
          ],
          "scattergl": [
           {
            "marker": {
             "colorbar": {
              "outlinewidth": 0,
              "ticks": ""
             }
            },
            "type": "scattergl"
           }
          ],
          "scattermapbox": [
           {
            "marker": {
             "colorbar": {
              "outlinewidth": 0,
              "ticks": ""
             }
            },
            "type": "scattermapbox"
           }
          ],
          "scatterpolar": [
           {
            "marker": {
             "colorbar": {
              "outlinewidth": 0,
              "ticks": ""
             }
            },
            "type": "scatterpolar"
           }
          ],
          "scatterpolargl": [
           {
            "marker": {
             "colorbar": {
              "outlinewidth": 0,
              "ticks": ""
             }
            },
            "type": "scatterpolargl"
           }
          ],
          "scatterternary": [
           {
            "marker": {
             "colorbar": {
              "outlinewidth": 0,
              "ticks": ""
             }
            },
            "type": "scatterternary"
           }
          ],
          "surface": [
           {
            "colorbar": {
             "outlinewidth": 0,
             "ticks": ""
            },
            "colorscale": [
             [
              0,
              "#0d0887"
             ],
             [
              0.1111111111111111,
              "#46039f"
             ],
             [
              0.2222222222222222,
              "#7201a8"
             ],
             [
              0.3333333333333333,
              "#9c179e"
             ],
             [
              0.4444444444444444,
              "#bd3786"
             ],
             [
              0.5555555555555556,
              "#d8576b"
             ],
             [
              0.6666666666666666,
              "#ed7953"
             ],
             [
              0.7777777777777778,
              "#fb9f3a"
             ],
             [
              0.8888888888888888,
              "#fdca26"
             ],
             [
              1,
              "#f0f921"
             ]
            ],
            "type": "surface"
           }
          ],
          "table": [
           {
            "cells": {
             "fill": {
              "color": "#EBF0F8"
             },
             "line": {
              "color": "white"
             }
            },
            "header": {
             "fill": {
              "color": "#C8D4E3"
             },
             "line": {
              "color": "white"
             }
            },
            "type": "table"
           }
          ]
         },
         "layout": {
          "annotationdefaults": {
           "arrowcolor": "#2a3f5f",
           "arrowhead": 0,
           "arrowwidth": 1
          },
          "autotypenumbers": "strict",
          "coloraxis": {
           "colorbar": {
            "outlinewidth": 0,
            "ticks": ""
           }
          },
          "colorscale": {
           "diverging": [
            [
             0,
             "#8e0152"
            ],
            [
             0.1,
             "#c51b7d"
            ],
            [
             0.2,
             "#de77ae"
            ],
            [
             0.3,
             "#f1b6da"
            ],
            [
             0.4,
             "#fde0ef"
            ],
            [
             0.5,
             "#f7f7f7"
            ],
            [
             0.6,
             "#e6f5d0"
            ],
            [
             0.7,
             "#b8e186"
            ],
            [
             0.8,
             "#7fbc41"
            ],
            [
             0.9,
             "#4d9221"
            ],
            [
             1,
             "#276419"
            ]
           ],
           "sequential": [
            [
             0,
             "#0d0887"
            ],
            [
             0.1111111111111111,
             "#46039f"
            ],
            [
             0.2222222222222222,
             "#7201a8"
            ],
            [
             0.3333333333333333,
             "#9c179e"
            ],
            [
             0.4444444444444444,
             "#bd3786"
            ],
            [
             0.5555555555555556,
             "#d8576b"
            ],
            [
             0.6666666666666666,
             "#ed7953"
            ],
            [
             0.7777777777777778,
             "#fb9f3a"
            ],
            [
             0.8888888888888888,
             "#fdca26"
            ],
            [
             1,
             "#f0f921"
            ]
           ],
           "sequentialminus": [
            [
             0,
             "#0d0887"
            ],
            [
             0.1111111111111111,
             "#46039f"
            ],
            [
             0.2222222222222222,
             "#7201a8"
            ],
            [
             0.3333333333333333,
             "#9c179e"
            ],
            [
             0.4444444444444444,
             "#bd3786"
            ],
            [
             0.5555555555555556,
             "#d8576b"
            ],
            [
             0.6666666666666666,
             "#ed7953"
            ],
            [
             0.7777777777777778,
             "#fb9f3a"
            ],
            [
             0.8888888888888888,
             "#fdca26"
            ],
            [
             1,
             "#f0f921"
            ]
           ]
          },
          "colorway": [
           "#636efa",
           "#EF553B",
           "#00cc96",
           "#ab63fa",
           "#FFA15A",
           "#19d3f3",
           "#FF6692",
           "#B6E880",
           "#FF97FF",
           "#FECB52"
          ],
          "font": {
           "color": "#2a3f5f"
          },
          "geo": {
           "bgcolor": "white",
           "lakecolor": "white",
           "landcolor": "#E5ECF6",
           "showlakes": true,
           "showland": true,
           "subunitcolor": "white"
          },
          "hoverlabel": {
           "align": "left"
          },
          "hovermode": "closest",
          "mapbox": {
           "style": "light"
          },
          "paper_bgcolor": "white",
          "plot_bgcolor": "#E5ECF6",
          "polar": {
           "angularaxis": {
            "gridcolor": "white",
            "linecolor": "white",
            "ticks": ""
           },
           "bgcolor": "#E5ECF6",
           "radialaxis": {
            "gridcolor": "white",
            "linecolor": "white",
            "ticks": ""
           }
          },
          "scene": {
           "xaxis": {
            "backgroundcolor": "#E5ECF6",
            "gridcolor": "white",
            "gridwidth": 2,
            "linecolor": "white",
            "showbackground": true,
            "ticks": "",
            "zerolinecolor": "white"
           },
           "yaxis": {
            "backgroundcolor": "#E5ECF6",
            "gridcolor": "white",
            "gridwidth": 2,
            "linecolor": "white",
            "showbackground": true,
            "ticks": "",
            "zerolinecolor": "white"
           },
           "zaxis": {
            "backgroundcolor": "#E5ECF6",
            "gridcolor": "white",
            "gridwidth": 2,
            "linecolor": "white",
            "showbackground": true,
            "ticks": "",
            "zerolinecolor": "white"
           }
          },
          "shapedefaults": {
           "line": {
            "color": "#2a3f5f"
           }
          },
          "ternary": {
           "aaxis": {
            "gridcolor": "white",
            "linecolor": "white",
            "ticks": ""
           },
           "baxis": {
            "gridcolor": "white",
            "linecolor": "white",
            "ticks": ""
           },
           "bgcolor": "#E5ECF6",
           "caxis": {
            "gridcolor": "white",
            "linecolor": "white",
            "ticks": ""
           }
          },
          "title": {
           "x": 0.05
          },
          "xaxis": {
           "automargin": true,
           "gridcolor": "white",
           "linecolor": "white",
           "ticks": "",
           "title": {
            "standoff": 15
           },
           "zerolinecolor": "white",
           "zerolinewidth": 2
          },
          "yaxis": {
           "automargin": true,
           "gridcolor": "white",
           "linecolor": "white",
           "ticks": "",
           "title": {
            "standoff": 15
           },
           "zerolinecolor": "white",
           "zerolinewidth": 2
          }
         }
        },
        "title": {
         "font": {
          "color": "#4D5663"
         }
        },
        "xaxis": {
         "gridcolor": "#E1E5ED",
         "showgrid": true,
         "tickfont": {
          "color": "#4D5663"
         },
         "title": {
          "font": {
           "color": "#4D5663"
          },
          "text": ""
         },
         "zerolinecolor": "#E1E5ED"
        },
        "yaxis": {
         "gridcolor": "#E1E5ED",
         "showgrid": true,
         "tickfont": {
          "color": "#4D5663"
         },
         "title": {
          "font": {
           "color": "#4D5663"
          },
          "text": ""
         },
         "zerolinecolor": "#E1E5ED"
        }
       }
      },
      "text/html": [
       "<div>                            <div id=\"2fe3ded9-4ee3-437a-9886-f68651f25cc3\" class=\"plotly-graph-div\" style=\"height:525px; width:100%;\"></div>            <script type=\"text/javascript\">                require([\"plotly\"], function(Plotly) {                    window.PLOTLYENV=window.PLOTLYENV || {};\n",
       "                    window.PLOTLYENV.BASE_URL='https://plot.ly';                                    if (document.getElementById(\"2fe3ded9-4ee3-437a-9886-f68651f25cc3\")) {                    Plotly.newPlot(                        \"2fe3ded9-4ee3-437a-9886-f68651f25cc3\",                        [{\"colorscale\":[[0.0,\"rgb(165,0,38)\"],[0.1,\"rgb(215,48,39)\"],[0.2,\"rgb(244,109,67)\"],[0.3,\"rgb(253,174,97)\"],[0.4,\"rgb(254,224,144)\"],[0.5,\"rgb(255,255,191)\"],[0.6,\"rgb(224,243,248)\"],[0.7,\"rgb(171,217,233)\"],[0.8,\"rgb(116,173,209)\"],[0.9,\"rgb(69,117,180)\"],[1.0,\"rgb(49,54,149)\"]],\"x\":[0,1,2,3,4],\"y\":[\"x\",\"y\",\"z\"],\"z\":[[1,2,3,4,5],[10,20,30,20,10],[5,4,3,2,1]],\"type\":\"surface\"}],                        {\"legend\":{\"bgcolor\":\"#F5F6F9\",\"font\":{\"color\":\"#4D5663\"}},\"paper_bgcolor\":\"#F5F6F9\",\"plot_bgcolor\":\"#F5F6F9\",\"template\":{\"data\":{\"barpolar\":[{\"marker\":{\"line\":{\"color\":\"#E5ECF6\",\"width\":0.5},\"pattern\":{\"fillmode\":\"overlay\",\"size\":10,\"solidity\":0.2}},\"type\":\"barpolar\"}],\"bar\":[{\"error_x\":{\"color\":\"#2a3f5f\"},\"error_y\":{\"color\":\"#2a3f5f\"},\"marker\":{\"line\":{\"color\":\"#E5ECF6\",\"width\":0.5},\"pattern\":{\"fillmode\":\"overlay\",\"size\":10,\"solidity\":0.2}},\"type\":\"bar\"}],\"carpet\":[{\"aaxis\":{\"endlinecolor\":\"#2a3f5f\",\"gridcolor\":\"white\",\"linecolor\":\"white\",\"minorgridcolor\":\"white\",\"startlinecolor\":\"#2a3f5f\"},\"baxis\":{\"endlinecolor\":\"#2a3f5f\",\"gridcolor\":\"white\",\"linecolor\":\"white\",\"minorgridcolor\":\"white\",\"startlinecolor\":\"#2a3f5f\"},\"type\":\"carpet\"}],\"choropleth\":[{\"colorbar\":{\"outlinewidth\":0,\"ticks\":\"\"},\"type\":\"choropleth\"}],\"contourcarpet\":[{\"colorbar\":{\"outlinewidth\":0,\"ticks\":\"\"},\"type\":\"contourcarpet\"}],\"contour\":[{\"colorbar\":{\"outlinewidth\":0,\"ticks\":\"\"},\"colorscale\":[[0.0,\"#0d0887\"],[0.1111111111111111,\"#46039f\"],[0.2222222222222222,\"#7201a8\"],[0.3333333333333333,\"#9c179e\"],[0.4444444444444444,\"#bd3786\"],[0.5555555555555556,\"#d8576b\"],[0.6666666666666666,\"#ed7953\"],[0.7777777777777778,\"#fb9f3a\"],[0.8888888888888888,\"#fdca26\"],[1.0,\"#f0f921\"]],\"type\":\"contour\"}],\"heatmapgl\":[{\"colorbar\":{\"outlinewidth\":0,\"ticks\":\"\"},\"colorscale\":[[0.0,\"#0d0887\"],[0.1111111111111111,\"#46039f\"],[0.2222222222222222,\"#7201a8\"],[0.3333333333333333,\"#9c179e\"],[0.4444444444444444,\"#bd3786\"],[0.5555555555555556,\"#d8576b\"],[0.6666666666666666,\"#ed7953\"],[0.7777777777777778,\"#fb9f3a\"],[0.8888888888888888,\"#fdca26\"],[1.0,\"#f0f921\"]],\"type\":\"heatmapgl\"}],\"heatmap\":[{\"colorbar\":{\"outlinewidth\":0,\"ticks\":\"\"},\"colorscale\":[[0.0,\"#0d0887\"],[0.1111111111111111,\"#46039f\"],[0.2222222222222222,\"#7201a8\"],[0.3333333333333333,\"#9c179e\"],[0.4444444444444444,\"#bd3786\"],[0.5555555555555556,\"#d8576b\"],[0.6666666666666666,\"#ed7953\"],[0.7777777777777778,\"#fb9f3a\"],[0.8888888888888888,\"#fdca26\"],[1.0,\"#f0f921\"]],\"type\":\"heatmap\"}],\"histogram2dcontour\":[{\"colorbar\":{\"outlinewidth\":0,\"ticks\":\"\"},\"colorscale\":[[0.0,\"#0d0887\"],[0.1111111111111111,\"#46039f\"],[0.2222222222222222,\"#7201a8\"],[0.3333333333333333,\"#9c179e\"],[0.4444444444444444,\"#bd3786\"],[0.5555555555555556,\"#d8576b\"],[0.6666666666666666,\"#ed7953\"],[0.7777777777777778,\"#fb9f3a\"],[0.8888888888888888,\"#fdca26\"],[1.0,\"#f0f921\"]],\"type\":\"histogram2dcontour\"}],\"histogram2d\":[{\"colorbar\":{\"outlinewidth\":0,\"ticks\":\"\"},\"colorscale\":[[0.0,\"#0d0887\"],[0.1111111111111111,\"#46039f\"],[0.2222222222222222,\"#7201a8\"],[0.3333333333333333,\"#9c179e\"],[0.4444444444444444,\"#bd3786\"],[0.5555555555555556,\"#d8576b\"],[0.6666666666666666,\"#ed7953\"],[0.7777777777777778,\"#fb9f3a\"],[0.8888888888888888,\"#fdca26\"],[1.0,\"#f0f921\"]],\"type\":\"histogram2d\"}],\"histogram\":[{\"marker\":{\"pattern\":{\"fillmode\":\"overlay\",\"size\":10,\"solidity\":0.2}},\"type\":\"histogram\"}],\"mesh3d\":[{\"colorbar\":{\"outlinewidth\":0,\"ticks\":\"\"},\"type\":\"mesh3d\"}],\"parcoords\":[{\"line\":{\"colorbar\":{\"outlinewidth\":0,\"ticks\":\"\"}},\"type\":\"parcoords\"}],\"pie\":[{\"automargin\":true,\"type\":\"pie\"}],\"scatter3d\":[{\"line\":{\"colorbar\":{\"outlinewidth\":0,\"ticks\":\"\"}},\"marker\":{\"colorbar\":{\"outlinewidth\":0,\"ticks\":\"\"}},\"type\":\"scatter3d\"}],\"scattercarpet\":[{\"marker\":{\"colorbar\":{\"outlinewidth\":0,\"ticks\":\"\"}},\"type\":\"scattercarpet\"}],\"scattergeo\":[{\"marker\":{\"colorbar\":{\"outlinewidth\":0,\"ticks\":\"\"}},\"type\":\"scattergeo\"}],\"scattergl\":[{\"marker\":{\"colorbar\":{\"outlinewidth\":0,\"ticks\":\"\"}},\"type\":\"scattergl\"}],\"scattermapbox\":[{\"marker\":{\"colorbar\":{\"outlinewidth\":0,\"ticks\":\"\"}},\"type\":\"scattermapbox\"}],\"scatterpolargl\":[{\"marker\":{\"colorbar\":{\"outlinewidth\":0,\"ticks\":\"\"}},\"type\":\"scatterpolargl\"}],\"scatterpolar\":[{\"marker\":{\"colorbar\":{\"outlinewidth\":0,\"ticks\":\"\"}},\"type\":\"scatterpolar\"}],\"scatter\":[{\"fillpattern\":{\"fillmode\":\"overlay\",\"size\":10,\"solidity\":0.2},\"type\":\"scatter\"}],\"scatterternary\":[{\"marker\":{\"colorbar\":{\"outlinewidth\":0,\"ticks\":\"\"}},\"type\":\"scatterternary\"}],\"surface\":[{\"colorbar\":{\"outlinewidth\":0,\"ticks\":\"\"},\"colorscale\":[[0.0,\"#0d0887\"],[0.1111111111111111,\"#46039f\"],[0.2222222222222222,\"#7201a8\"],[0.3333333333333333,\"#9c179e\"],[0.4444444444444444,\"#bd3786\"],[0.5555555555555556,\"#d8576b\"],[0.6666666666666666,\"#ed7953\"],[0.7777777777777778,\"#fb9f3a\"],[0.8888888888888888,\"#fdca26\"],[1.0,\"#f0f921\"]],\"type\":\"surface\"}],\"table\":[{\"cells\":{\"fill\":{\"color\":\"#EBF0F8\"},\"line\":{\"color\":\"white\"}},\"header\":{\"fill\":{\"color\":\"#C8D4E3\"},\"line\":{\"color\":\"white\"}},\"type\":\"table\"}]},\"layout\":{\"annotationdefaults\":{\"arrowcolor\":\"#2a3f5f\",\"arrowhead\":0,\"arrowwidth\":1},\"autotypenumbers\":\"strict\",\"coloraxis\":{\"colorbar\":{\"outlinewidth\":0,\"ticks\":\"\"}},\"colorscale\":{\"diverging\":[[0,\"#8e0152\"],[0.1,\"#c51b7d\"],[0.2,\"#de77ae\"],[0.3,\"#f1b6da\"],[0.4,\"#fde0ef\"],[0.5,\"#f7f7f7\"],[0.6,\"#e6f5d0\"],[0.7,\"#b8e186\"],[0.8,\"#7fbc41\"],[0.9,\"#4d9221\"],[1,\"#276419\"]],\"sequential\":[[0.0,\"#0d0887\"],[0.1111111111111111,\"#46039f\"],[0.2222222222222222,\"#7201a8\"],[0.3333333333333333,\"#9c179e\"],[0.4444444444444444,\"#bd3786\"],[0.5555555555555556,\"#d8576b\"],[0.6666666666666666,\"#ed7953\"],[0.7777777777777778,\"#fb9f3a\"],[0.8888888888888888,\"#fdca26\"],[1.0,\"#f0f921\"]],\"sequentialminus\":[[0.0,\"#0d0887\"],[0.1111111111111111,\"#46039f\"],[0.2222222222222222,\"#7201a8\"],[0.3333333333333333,\"#9c179e\"],[0.4444444444444444,\"#bd3786\"],[0.5555555555555556,\"#d8576b\"],[0.6666666666666666,\"#ed7953\"],[0.7777777777777778,\"#fb9f3a\"],[0.8888888888888888,\"#fdca26\"],[1.0,\"#f0f921\"]]},\"colorway\":[\"#636efa\",\"#EF553B\",\"#00cc96\",\"#ab63fa\",\"#FFA15A\",\"#19d3f3\",\"#FF6692\",\"#B6E880\",\"#FF97FF\",\"#FECB52\"],\"font\":{\"color\":\"#2a3f5f\"},\"geo\":{\"bgcolor\":\"white\",\"lakecolor\":\"white\",\"landcolor\":\"#E5ECF6\",\"showlakes\":true,\"showland\":true,\"subunitcolor\":\"white\"},\"hoverlabel\":{\"align\":\"left\"},\"hovermode\":\"closest\",\"mapbox\":{\"style\":\"light\"},\"paper_bgcolor\":\"white\",\"plot_bgcolor\":\"#E5ECF6\",\"polar\":{\"angularaxis\":{\"gridcolor\":\"white\",\"linecolor\":\"white\",\"ticks\":\"\"},\"bgcolor\":\"#E5ECF6\",\"radialaxis\":{\"gridcolor\":\"white\",\"linecolor\":\"white\",\"ticks\":\"\"}},\"scene\":{\"xaxis\":{\"backgroundcolor\":\"#E5ECF6\",\"gridcolor\":\"white\",\"gridwidth\":2,\"linecolor\":\"white\",\"showbackground\":true,\"ticks\":\"\",\"zerolinecolor\":\"white\"},\"yaxis\":{\"backgroundcolor\":\"#E5ECF6\",\"gridcolor\":\"white\",\"gridwidth\":2,\"linecolor\":\"white\",\"showbackground\":true,\"ticks\":\"\",\"zerolinecolor\":\"white\"},\"zaxis\":{\"backgroundcolor\":\"#E5ECF6\",\"gridcolor\":\"white\",\"gridwidth\":2,\"linecolor\":\"white\",\"showbackground\":true,\"ticks\":\"\",\"zerolinecolor\":\"white\"}},\"shapedefaults\":{\"line\":{\"color\":\"#2a3f5f\"}},\"ternary\":{\"aaxis\":{\"gridcolor\":\"white\",\"linecolor\":\"white\",\"ticks\":\"\"},\"baxis\":{\"gridcolor\":\"white\",\"linecolor\":\"white\",\"ticks\":\"\"},\"bgcolor\":\"#E5ECF6\",\"caxis\":{\"gridcolor\":\"white\",\"linecolor\":\"white\",\"ticks\":\"\"}},\"title\":{\"x\":0.05},\"xaxis\":{\"automargin\":true,\"gridcolor\":\"white\",\"linecolor\":\"white\",\"ticks\":\"\",\"title\":{\"standoff\":15},\"zerolinecolor\":\"white\",\"zerolinewidth\":2},\"yaxis\":{\"automargin\":true,\"gridcolor\":\"white\",\"linecolor\":\"white\",\"ticks\":\"\",\"title\":{\"standoff\":15},\"zerolinecolor\":\"white\",\"zerolinewidth\":2}}},\"title\":{\"font\":{\"color\":\"#4D5663\"}},\"xaxis\":{\"gridcolor\":\"#E1E5ED\",\"showgrid\":true,\"tickfont\":{\"color\":\"#4D5663\"},\"title\":{\"font\":{\"color\":\"#4D5663\"},\"text\":\"\"},\"zerolinecolor\":\"#E1E5ED\"},\"yaxis\":{\"gridcolor\":\"#E1E5ED\",\"showgrid\":true,\"tickfont\":{\"color\":\"#4D5663\"},\"title\":{\"font\":{\"color\":\"#4D5663\"},\"text\":\"\"},\"zerolinecolor\":\"#E1E5ED\"}},                        {\"showLink\": true, \"linkText\": \"Export to plot.ly\", \"plotlyServerURL\": \"https://plot.ly\", \"responsive\": true}                    ).then(function(){\n",
       "                            \n",
       "var gd = document.getElementById('2fe3ded9-4ee3-437a-9886-f68651f25cc3');\n",
       "var x = new MutationObserver(function (mutations, observer) {{\n",
       "        var display = window.getComputedStyle(gd).display;\n",
       "        if (!display || display === 'none') {{\n",
       "            console.log([gd, 'removed!']);\n",
       "            Plotly.purge(gd);\n",
       "            observer.disconnect();\n",
       "        }}\n",
       "}});\n",
       "\n",
       "// Listen for the removal of the full notebook cells\n",
       "var notebookContainer = gd.closest('#notebook-container');\n",
       "if (notebookContainer) {{\n",
       "    x.observe(notebookContainer, {childList: true});\n",
       "}}\n",
       "\n",
       "// Listen for the clearing of the current output cell\n",
       "var outputEl = gd.closest('.output');\n",
       "if (outputEl) {{\n",
       "    x.observe(outputEl, {childList: true});\n",
       "}}\n",
       "\n",
       "                        })                };                });            </script>        </div>"
      ]
     },
     "metadata": {},
     "output_type": "display_data"
    }
   ],
   "source": [
    "df3 = pd.DataFrame({'x':[1,2,3,4,5],'y':[10,20,30,20,10],'z':[5,4,3,2,1]})\n",
    "df3.iplot(kind = 'surface',colorscale = 'rdylbu')"
   ]
  },
  {
   "cell_type": "markdown",
   "id": "423c87d3",
   "metadata": {},
   "source": [
    "# Spread"
   ]
  },
  {
   "cell_type": "code",
   "execution_count": 15,
   "id": "7126e430",
   "metadata": {},
   "outputs": [
    {
     "name": "stderr",
     "output_type": "stream",
     "text": [
      "C:\\Users\\dines\\AppData\\Roaming\\Python\\Python39\\site-packages\\cufflinks\\plotlytools.py:849: FutureWarning:\n",
      "\n",
      "The pandas.np module is deprecated and will be removed from pandas in a future version. Import numpy directly instead.\n",
      "\n",
      "C:\\Users\\dines\\AppData\\Roaming\\Python\\Python39\\site-packages\\cufflinks\\plotlytools.py:850: FutureWarning:\n",
      "\n",
      "The pandas.np module is deprecated and will be removed from pandas in a future version. Import numpy directly instead.\n",
      "\n"
     ]
    },
    {
     "data": {
      "application/vnd.plotly.v1+json": {
       "config": {
        "linkText": "Export to plot.ly",
        "plotlyServerURL": "https://plot.ly",
        "showLink": true
       },
       "data": [
        {
         "line": {
          "color": "rgba(255, 153, 51, 1.0)",
          "dash": "solid",
          "shape": "linear",
          "width": 1.3
         },
         "mode": "lines",
         "name": "A",
         "text": "",
         "type": "scatter",
         "x": [
          0,
          1,
          2,
          3,
          4,
          5,
          6,
          7,
          8,
          9,
          10,
          11,
          12,
          13,
          14,
          15,
          16,
          17,
          18,
          19,
          20,
          21,
          22,
          23,
          24,
          25,
          26,
          27,
          28,
          29,
          30,
          31,
          32,
          33,
          34,
          35,
          36,
          37,
          38,
          39,
          40,
          41,
          42,
          43,
          44,
          45,
          46,
          47,
          48,
          49,
          50,
          51,
          52,
          53,
          54,
          55,
          56,
          57,
          58,
          59,
          60,
          61,
          62,
          63,
          64,
          65,
          66,
          67,
          68,
          69,
          70,
          71,
          72,
          73,
          74,
          75,
          76,
          77,
          78,
          79,
          80,
          81,
          82,
          83,
          84,
          85,
          86,
          87,
          88,
          89,
          90,
          91,
          92,
          93,
          94,
          95,
          96,
          97,
          98,
          99
         ],
         "y": [
          -0.6695219310356675,
          -0.29192670023127143,
          -0.9831645059332843,
          0.013262990475593704,
          0.5649025921315125,
          0.8064216811322935,
          -0.29053318946379497,
          -1.4553394975965468,
          -0.9334780727469513,
          0.15212781268808825,
          -0.12953561519924947,
          -0.07330120498823028,
          -1.3212460499566323,
          0.5375075631006219,
          -1.5383600487242233,
          1.6479766696245695,
          -1.5151166106018252,
          -0.9487373016303247,
          0.9868363720026039,
          0.8271021762057945,
          0.532847912728279,
          -1.215084246154703,
          -1.06990447666004,
          -0.20423732405811862,
          0.25645744237289564,
          1.1652515725779797,
          0.8666463172667327,
          0.9183747549879647,
          0.6504874381746459,
          -0.8243955949582988,
          0.31764589789799386,
          0.32842115742546457,
          -0.4879250309366784,
          0.9660099268240899,
          -0.4349598763157151,
          0.14565487905762764,
          0.7436189282138251,
          0.9409054661531387,
          -0.6465452666750505,
          -0.0024073828422344406,
          1.7067230767581596,
          -0.4121497707683924,
          -0.11389940712513696,
          -1.798138144899698,
          0.48662376592093887,
          1.0405713605422415,
          1.9209486289049162,
          0.6143066558160502,
          1.533611421591724,
          0.281317373014399,
          0.04453499041913694,
          0.3254655849440727,
          -1.7235950007111245,
          1.0474474785050598,
          0.9103859418107295,
          0.8525517635466807,
          -0.30410879772455135,
          1.6990988245338592,
          -1.4839797836397264,
          0.3832562237229985,
          0.7053168306901907,
          0.4203017735137733,
          0.5074159914678656,
          -0.959297650112034,
          -3.033106810373578,
          -1.1905978134391508,
          -0.28594306994798296,
          1.0009980764514175,
          0.10196558416155194,
          -0.4481953355572154,
          1.561038458049401,
          -1.8510860765324897,
          -0.6915435845117376,
          -1.1887437544871862,
          -0.20891836331908248,
          -1.5645319943763776,
          -0.5071826248289197,
          0.9745002772010514,
          0.5654902978301094,
          1.2781291327972075,
          -0.28550517136639925,
          0.15340572181957526,
          0.8636950655469798,
          -0.5646385664757835,
          2.5955468026902735,
          0.5495383901436504,
          0.12991333229427834,
          1.885651971234061,
          2.3101851334619705,
          -0.7212478669014187,
          1.2248866341084266,
          -0.07861993937764342,
          -1.632126443311677,
          0.817222682609708,
          -1.4875712692802876,
          -0.8284793569588998,
          -0.6147511519801087,
          -0.6260783806020203,
          0.0761575550680676,
          0.6386446816040392
         ]
        },
        {
         "line": {
          "color": "rgba(55, 128, 191, 1.0)",
          "dash": "solid",
          "shape": "linear",
          "width": 1.3
         },
         "mode": "lines",
         "name": "B",
         "text": "",
         "type": "scatter",
         "x": [
          0,
          1,
          2,
          3,
          4,
          5,
          6,
          7,
          8,
          9,
          10,
          11,
          12,
          13,
          14,
          15,
          16,
          17,
          18,
          19,
          20,
          21,
          22,
          23,
          24,
          25,
          26,
          27,
          28,
          29,
          30,
          31,
          32,
          33,
          34,
          35,
          36,
          37,
          38,
          39,
          40,
          41,
          42,
          43,
          44,
          45,
          46,
          47,
          48,
          49,
          50,
          51,
          52,
          53,
          54,
          55,
          56,
          57,
          58,
          59,
          60,
          61,
          62,
          63,
          64,
          65,
          66,
          67,
          68,
          69,
          70,
          71,
          72,
          73,
          74,
          75,
          76,
          77,
          78,
          79,
          80,
          81,
          82,
          83,
          84,
          85,
          86,
          87,
          88,
          89,
          90,
          91,
          92,
          93,
          94,
          95,
          96,
          97,
          98,
          99
         ],
         "y": [
          -0.047249781195183846,
          0.5807979722191119,
          -0.5840803964125373,
          -2.0256441041451843,
          -2.717758433269804,
          0.8087501871373753,
          0.6808476657323692,
          -1.4517045352576345,
          -1.077566689559306,
          0.5761038177773498,
          -1.7365254614618182,
          -0.18196412399397116,
          0.6326136100827379,
          1.1507282085712174,
          0.5898260705822608,
          0.10035344857577091,
          -1.619410125275257,
          0.6674956593402991,
          -1.1198386404292284,
          -1.2510378091859844,
          0.8895570166309362,
          -0.3692521794513197,
          -0.930071334761612,
          1.0351120663640652,
          -0.1391421027530557,
          0.5966769499472159,
          0.07951570107527746,
          1.039322440493506,
          -1.0403484710164908,
          -0.008916864350763918,
          0.7605828958467573,
          1.316981609729183,
          0.18141931559657465,
          0.04412730738103606,
          0.6215623194712838,
          0.8297396307092603,
          -1.0976640935673252,
          1.1255496523105701,
          1.1656054314719215,
          -0.6129034501836317,
          -0.629216183370437,
          -0.6073399976273386,
          1.8639308196488213,
          0.2867514857577595,
          0.8401257870911673,
          -0.10536946095031792,
          0.6797613470589414,
          0.5336194715918102,
          1.2559348778753936,
          0.4923636697054773,
          -2.161063539331115,
          0.0728617663004551,
          0.8364208839679473,
          -0.12832774187838877,
          1.900093292135524,
          -0.8740842697369767,
          2.2417282144106516,
          -0.38953536213565704,
          -0.23976651362572157,
          -1.5826663125676441,
          -0.3209706218622201,
          0.2105394304809266,
          -1.031877527830503,
          1.4878929073514255,
          0.8602115753808353,
          -1.1136405139370515,
          0.8825996436964001,
          -1.7428085811833083,
          -0.15635544863752787,
          0.7490067955117746,
          -0.3239075025790853,
          0.038532297017919166,
          1.3993657988093093,
          1.1992934839067848,
          -0.36249786145583274,
          2.4394185211403494,
          -0.1793756206531476,
          -0.4576517146060599,
          0.09262337925826437,
          -0.011713327619057282,
          -0.3156445170519262,
          -0.29876236993757893,
          -0.6478579022789553,
          0.7517042293677587,
          1.081513421865064,
          0.44739213512439696,
          -0.9448629749815547,
          -0.575126837808124,
          -0.05765011398142731,
          -0.2820600532547387,
          -0.19546551834527293,
          1.589656469566828,
          -0.20582042289236055,
          -1.2982061633734652,
          -1.2146393062199856,
          0.32144986438176754,
          -0.48218801944586104,
          0.5457219900911298,
          0.9457138531063372,
          -0.04393831853309557
         ]
        },
        {
         "connectgaps": false,
         "fill": "tozeroy",
         "line": {
          "color": "green",
          "dash": "solid",
          "shape": "linear",
          "width": 0.5
         },
         "mode": "lines",
         "name": "Spread",
         "showlegend": false,
         "type": "scatter",
         "x": [
          0,
          1,
          2,
          3,
          4,
          5,
          6,
          7,
          8,
          9,
          10,
          11,
          12,
          13,
          14,
          15,
          16,
          17,
          18,
          19,
          20,
          21,
          22,
          23,
          24,
          25,
          26,
          27,
          28,
          29,
          30,
          31,
          32,
          33,
          34,
          35,
          36,
          37,
          38,
          39,
          40,
          41,
          42,
          43,
          44,
          45,
          46,
          47,
          48,
          49,
          50,
          51,
          52,
          53,
          54,
          55,
          56,
          57,
          58,
          59,
          60,
          61,
          62,
          63,
          64,
          65,
          66,
          67,
          68,
          69,
          70,
          71,
          72,
          73,
          74,
          75,
          76,
          77,
          78,
          79,
          80,
          81,
          82,
          83,
          84,
          85,
          86,
          87,
          88,
          89,
          90,
          91,
          92,
          93,
          94,
          95,
          96,
          97,
          98,
          99
         ],
         "xaxis": "x2",
         "y": [
          "",
          "",
          "",
          2.038907094620778,
          3.2826610254013167,
          "",
          "",
          "",
          0.14408861681235463,
          "",
          1.6069898462625687,
          0.10866291900574088,
          "",
          "",
          "",
          1.5476232210487986,
          0.10429351467343184,
          "",
          2.1066750124318325,
          2.078139985391779,
          "",
          "",
          "",
          "",
          0.3955995451259513,
          0.5685746226307639,
          0.7871306161914552,
          "",
          1.6908359091911367,
          "",
          "",
          "",
          "",
          0.9218826194430538,
          "",
          "",
          1.8412830217811504,
          "",
          "",
          0.6104960673413973,
          2.3359392601285967,
          0.19519022685894621,
          "",
          "",
          "",
          1.1459408214925595,
          1.2411872818459748,
          0.08068718422423993,
          0.27767654371633044,
          "",
          2.205598529750252,
          0.2526038186436176,
          "",
          1.1757752203834486,
          "",
          1.7266360332836574,
          "",
          2.088634186669516,
          "",
          1.9659225362906425,
          1.0262874525524108,
          0.2097623430328467,
          1.5392935192983686,
          "",
          "",
          "",
          "",
          2.7438066576347255,
          0.2583210327990798,
          "",
          1.8849459606284862,
          "",
          "",
          "",
          0.15357949813675026,
          "",
          "",
          1.4321519918071113,
          0.47286691857184504,
          1.2898424604162648,
          0.030139345685526953,
          0.4521680917571542,
          1.5115529678259352,
          "",
          1.5140333808252096,
          0.1021462550192534,
          1.074776307275833,
          2.4607788090421847,
          2.3678352474433977,
          "",
          1.4203521524536995,
          "",
          "",
          2.115428845983173,
          "",
          "",
          "",
          "",
          "",
          0.6825830001371348
         ],
         "yaxis": "y2"
        },
        {
         "connectgaps": false,
         "fill": "tozeroy",
         "line": {
          "color": "red",
          "dash": "solid",
          "shape": "linear",
          "width": 0.5
         },
         "mode": "lines",
         "name": "Spread",
         "showlegend": false,
         "type": "scatter",
         "x": [
          0,
          1,
          2,
          3,
          4,
          5,
          6,
          7,
          8,
          9,
          10,
          11,
          12,
          13,
          14,
          15,
          16,
          17,
          18,
          19,
          20,
          21,
          22,
          23,
          24,
          25,
          26,
          27,
          28,
          29,
          30,
          31,
          32,
          33,
          34,
          35,
          36,
          37,
          38,
          39,
          40,
          41,
          42,
          43,
          44,
          45,
          46,
          47,
          48,
          49,
          50,
          51,
          52,
          53,
          54,
          55,
          56,
          57,
          58,
          59,
          60,
          61,
          62,
          63,
          64,
          65,
          66,
          67,
          68,
          69,
          70,
          71,
          72,
          73,
          74,
          75,
          76,
          77,
          78,
          79,
          80,
          81,
          82,
          83,
          84,
          85,
          86,
          87,
          88,
          89,
          90,
          91,
          92,
          93,
          94,
          95,
          96,
          97,
          98,
          99
         ],
         "xaxis": "x2",
         "y": [
          -0.6222721498404836,
          -0.8727246724503833,
          -0.399084109520747,
          "",
          "",
          -0.002328506005081832,
          -0.9713808551961642,
          -0.003634962338912251,
          "",
          -0.4239760050892615,
          "",
          "",
          -1.9538596600393703,
          -0.6132206454705955,
          -2.128186119306484,
          "",
          "",
          -1.6162329609706236,
          "",
          "",
          -0.3567091039026572,
          -0.8458320667033832,
          -0.1398331418984281,
          -1.2393493904221837,
          "",
          "",
          "",
          -0.12094768550554125,
          "",
          -0.815478730607535,
          -0.44293699794876346,
          -0.9885604523037186,
          -0.669344346533253,
          "",
          -1.0565221957869988,
          -0.6840847516516326,
          "",
          -0.1846441861574314,
          -1.8121506981469722,
          "",
          "",
          "",
          -1.9778302267739583,
          -2.0848896306574574,
          -0.3535020211702284,
          "",
          "",
          "",
          "",
          -0.21104629669107827,
          "",
          "",
          -2.5600158846790717,
          "",
          -0.9897073503247945,
          "",
          -2.5458370121352027,
          "",
          -1.2442132700140047,
          "",
          "",
          "",
          "",
          -2.4471905574634594,
          -3.893318385754413,
          -0.07695729950209929,
          -1.1685427136443831,
          "",
          "",
          -1.19720213106899,
          "",
          -1.8896183735504088,
          -2.090909383321047,
          -2.388037238393971,
          "",
          -4.003950515516727,
          -0.32780700417577213,
          "",
          "",
          "",
          "",
          "",
          "",
          -1.3163427958435423,
          "",
          "",
          "",
          "",
          "",
          -0.43918781364668,
          "",
          -1.6682764089444715,
          -1.4263060204193165,
          "",
          -0.272931963060302,
          -1.1499292213406673,
          -0.13256313253424762,
          -1.1718003706931501,
          -0.8695562980382696,
          ""
         ],
         "yaxis": "y2"
        }
       ],
       "layout": {
        "hovermode": "x",
        "legend": {
         "bgcolor": "#F5F6F9",
         "font": {
          "color": "#4D5663"
         }
        },
        "paper_bgcolor": "#F5F6F9",
        "plot_bgcolor": "#F5F6F9",
        "template": {
         "data": {
          "bar": [
           {
            "error_x": {
             "color": "#2a3f5f"
            },
            "error_y": {
             "color": "#2a3f5f"
            },
            "marker": {
             "line": {
              "color": "#E5ECF6",
              "width": 0.5
             },
             "pattern": {
              "fillmode": "overlay",
              "size": 10,
              "solidity": 0.2
             }
            },
            "type": "bar"
           }
          ],
          "barpolar": [
           {
            "marker": {
             "line": {
              "color": "#E5ECF6",
              "width": 0.5
             },
             "pattern": {
              "fillmode": "overlay",
              "size": 10,
              "solidity": 0.2
             }
            },
            "type": "barpolar"
           }
          ],
          "carpet": [
           {
            "aaxis": {
             "endlinecolor": "#2a3f5f",
             "gridcolor": "white",
             "linecolor": "white",
             "minorgridcolor": "white",
             "startlinecolor": "#2a3f5f"
            },
            "baxis": {
             "endlinecolor": "#2a3f5f",
             "gridcolor": "white",
             "linecolor": "white",
             "minorgridcolor": "white",
             "startlinecolor": "#2a3f5f"
            },
            "type": "carpet"
           }
          ],
          "choropleth": [
           {
            "colorbar": {
             "outlinewidth": 0,
             "ticks": ""
            },
            "type": "choropleth"
           }
          ],
          "contour": [
           {
            "colorbar": {
             "outlinewidth": 0,
             "ticks": ""
            },
            "colorscale": [
             [
              0,
              "#0d0887"
             ],
             [
              0.1111111111111111,
              "#46039f"
             ],
             [
              0.2222222222222222,
              "#7201a8"
             ],
             [
              0.3333333333333333,
              "#9c179e"
             ],
             [
              0.4444444444444444,
              "#bd3786"
             ],
             [
              0.5555555555555556,
              "#d8576b"
             ],
             [
              0.6666666666666666,
              "#ed7953"
             ],
             [
              0.7777777777777778,
              "#fb9f3a"
             ],
             [
              0.8888888888888888,
              "#fdca26"
             ],
             [
              1,
              "#f0f921"
             ]
            ],
            "type": "contour"
           }
          ],
          "contourcarpet": [
           {
            "colorbar": {
             "outlinewidth": 0,
             "ticks": ""
            },
            "type": "contourcarpet"
           }
          ],
          "heatmap": [
           {
            "colorbar": {
             "outlinewidth": 0,
             "ticks": ""
            },
            "colorscale": [
             [
              0,
              "#0d0887"
             ],
             [
              0.1111111111111111,
              "#46039f"
             ],
             [
              0.2222222222222222,
              "#7201a8"
             ],
             [
              0.3333333333333333,
              "#9c179e"
             ],
             [
              0.4444444444444444,
              "#bd3786"
             ],
             [
              0.5555555555555556,
              "#d8576b"
             ],
             [
              0.6666666666666666,
              "#ed7953"
             ],
             [
              0.7777777777777778,
              "#fb9f3a"
             ],
             [
              0.8888888888888888,
              "#fdca26"
             ],
             [
              1,
              "#f0f921"
             ]
            ],
            "type": "heatmap"
           }
          ],
          "heatmapgl": [
           {
            "colorbar": {
             "outlinewidth": 0,
             "ticks": ""
            },
            "colorscale": [
             [
              0,
              "#0d0887"
             ],
             [
              0.1111111111111111,
              "#46039f"
             ],
             [
              0.2222222222222222,
              "#7201a8"
             ],
             [
              0.3333333333333333,
              "#9c179e"
             ],
             [
              0.4444444444444444,
              "#bd3786"
             ],
             [
              0.5555555555555556,
              "#d8576b"
             ],
             [
              0.6666666666666666,
              "#ed7953"
             ],
             [
              0.7777777777777778,
              "#fb9f3a"
             ],
             [
              0.8888888888888888,
              "#fdca26"
             ],
             [
              1,
              "#f0f921"
             ]
            ],
            "type": "heatmapgl"
           }
          ],
          "histogram": [
           {
            "marker": {
             "pattern": {
              "fillmode": "overlay",
              "size": 10,
              "solidity": 0.2
             }
            },
            "type": "histogram"
           }
          ],
          "histogram2d": [
           {
            "colorbar": {
             "outlinewidth": 0,
             "ticks": ""
            },
            "colorscale": [
             [
              0,
              "#0d0887"
             ],
             [
              0.1111111111111111,
              "#46039f"
             ],
             [
              0.2222222222222222,
              "#7201a8"
             ],
             [
              0.3333333333333333,
              "#9c179e"
             ],
             [
              0.4444444444444444,
              "#bd3786"
             ],
             [
              0.5555555555555556,
              "#d8576b"
             ],
             [
              0.6666666666666666,
              "#ed7953"
             ],
             [
              0.7777777777777778,
              "#fb9f3a"
             ],
             [
              0.8888888888888888,
              "#fdca26"
             ],
             [
              1,
              "#f0f921"
             ]
            ],
            "type": "histogram2d"
           }
          ],
          "histogram2dcontour": [
           {
            "colorbar": {
             "outlinewidth": 0,
             "ticks": ""
            },
            "colorscale": [
             [
              0,
              "#0d0887"
             ],
             [
              0.1111111111111111,
              "#46039f"
             ],
             [
              0.2222222222222222,
              "#7201a8"
             ],
             [
              0.3333333333333333,
              "#9c179e"
             ],
             [
              0.4444444444444444,
              "#bd3786"
             ],
             [
              0.5555555555555556,
              "#d8576b"
             ],
             [
              0.6666666666666666,
              "#ed7953"
             ],
             [
              0.7777777777777778,
              "#fb9f3a"
             ],
             [
              0.8888888888888888,
              "#fdca26"
             ],
             [
              1,
              "#f0f921"
             ]
            ],
            "type": "histogram2dcontour"
           }
          ],
          "mesh3d": [
           {
            "colorbar": {
             "outlinewidth": 0,
             "ticks": ""
            },
            "type": "mesh3d"
           }
          ],
          "parcoords": [
           {
            "line": {
             "colorbar": {
              "outlinewidth": 0,
              "ticks": ""
             }
            },
            "type": "parcoords"
           }
          ],
          "pie": [
           {
            "automargin": true,
            "type": "pie"
           }
          ],
          "scatter": [
           {
            "fillpattern": {
             "fillmode": "overlay",
             "size": 10,
             "solidity": 0.2
            },
            "type": "scatter"
           }
          ],
          "scatter3d": [
           {
            "line": {
             "colorbar": {
              "outlinewidth": 0,
              "ticks": ""
             }
            },
            "marker": {
             "colorbar": {
              "outlinewidth": 0,
              "ticks": ""
             }
            },
            "type": "scatter3d"
           }
          ],
          "scattercarpet": [
           {
            "marker": {
             "colorbar": {
              "outlinewidth": 0,
              "ticks": ""
             }
            },
            "type": "scattercarpet"
           }
          ],
          "scattergeo": [
           {
            "marker": {
             "colorbar": {
              "outlinewidth": 0,
              "ticks": ""
             }
            },
            "type": "scattergeo"
           }
          ],
          "scattergl": [
           {
            "marker": {
             "colorbar": {
              "outlinewidth": 0,
              "ticks": ""
             }
            },
            "type": "scattergl"
           }
          ],
          "scattermapbox": [
           {
            "marker": {
             "colorbar": {
              "outlinewidth": 0,
              "ticks": ""
             }
            },
            "type": "scattermapbox"
           }
          ],
          "scatterpolar": [
           {
            "marker": {
             "colorbar": {
              "outlinewidth": 0,
              "ticks": ""
             }
            },
            "type": "scatterpolar"
           }
          ],
          "scatterpolargl": [
           {
            "marker": {
             "colorbar": {
              "outlinewidth": 0,
              "ticks": ""
             }
            },
            "type": "scatterpolargl"
           }
          ],
          "scatterternary": [
           {
            "marker": {
             "colorbar": {
              "outlinewidth": 0,
              "ticks": ""
             }
            },
            "type": "scatterternary"
           }
          ],
          "surface": [
           {
            "colorbar": {
             "outlinewidth": 0,
             "ticks": ""
            },
            "colorscale": [
             [
              0,
              "#0d0887"
             ],
             [
              0.1111111111111111,
              "#46039f"
             ],
             [
              0.2222222222222222,
              "#7201a8"
             ],
             [
              0.3333333333333333,
              "#9c179e"
             ],
             [
              0.4444444444444444,
              "#bd3786"
             ],
             [
              0.5555555555555556,
              "#d8576b"
             ],
             [
              0.6666666666666666,
              "#ed7953"
             ],
             [
              0.7777777777777778,
              "#fb9f3a"
             ],
             [
              0.8888888888888888,
              "#fdca26"
             ],
             [
              1,
              "#f0f921"
             ]
            ],
            "type": "surface"
           }
          ],
          "table": [
           {
            "cells": {
             "fill": {
              "color": "#EBF0F8"
             },
             "line": {
              "color": "white"
             }
            },
            "header": {
             "fill": {
              "color": "#C8D4E3"
             },
             "line": {
              "color": "white"
             }
            },
            "type": "table"
           }
          ]
         },
         "layout": {
          "annotationdefaults": {
           "arrowcolor": "#2a3f5f",
           "arrowhead": 0,
           "arrowwidth": 1
          },
          "autotypenumbers": "strict",
          "coloraxis": {
           "colorbar": {
            "outlinewidth": 0,
            "ticks": ""
           }
          },
          "colorscale": {
           "diverging": [
            [
             0,
             "#8e0152"
            ],
            [
             0.1,
             "#c51b7d"
            ],
            [
             0.2,
             "#de77ae"
            ],
            [
             0.3,
             "#f1b6da"
            ],
            [
             0.4,
             "#fde0ef"
            ],
            [
             0.5,
             "#f7f7f7"
            ],
            [
             0.6,
             "#e6f5d0"
            ],
            [
             0.7,
             "#b8e186"
            ],
            [
             0.8,
             "#7fbc41"
            ],
            [
             0.9,
             "#4d9221"
            ],
            [
             1,
             "#276419"
            ]
           ],
           "sequential": [
            [
             0,
             "#0d0887"
            ],
            [
             0.1111111111111111,
             "#46039f"
            ],
            [
             0.2222222222222222,
             "#7201a8"
            ],
            [
             0.3333333333333333,
             "#9c179e"
            ],
            [
             0.4444444444444444,
             "#bd3786"
            ],
            [
             0.5555555555555556,
             "#d8576b"
            ],
            [
             0.6666666666666666,
             "#ed7953"
            ],
            [
             0.7777777777777778,
             "#fb9f3a"
            ],
            [
             0.8888888888888888,
             "#fdca26"
            ],
            [
             1,
             "#f0f921"
            ]
           ],
           "sequentialminus": [
            [
             0,
             "#0d0887"
            ],
            [
             0.1111111111111111,
             "#46039f"
            ],
            [
             0.2222222222222222,
             "#7201a8"
            ],
            [
             0.3333333333333333,
             "#9c179e"
            ],
            [
             0.4444444444444444,
             "#bd3786"
            ],
            [
             0.5555555555555556,
             "#d8576b"
            ],
            [
             0.6666666666666666,
             "#ed7953"
            ],
            [
             0.7777777777777778,
             "#fb9f3a"
            ],
            [
             0.8888888888888888,
             "#fdca26"
            ],
            [
             1,
             "#f0f921"
            ]
           ]
          },
          "colorway": [
           "#636efa",
           "#EF553B",
           "#00cc96",
           "#ab63fa",
           "#FFA15A",
           "#19d3f3",
           "#FF6692",
           "#B6E880",
           "#FF97FF",
           "#FECB52"
          ],
          "font": {
           "color": "#2a3f5f"
          },
          "geo": {
           "bgcolor": "white",
           "lakecolor": "white",
           "landcolor": "#E5ECF6",
           "showlakes": true,
           "showland": true,
           "subunitcolor": "white"
          },
          "hoverlabel": {
           "align": "left"
          },
          "hovermode": "closest",
          "mapbox": {
           "style": "light"
          },
          "paper_bgcolor": "white",
          "plot_bgcolor": "#E5ECF6",
          "polar": {
           "angularaxis": {
            "gridcolor": "white",
            "linecolor": "white",
            "ticks": ""
           },
           "bgcolor": "#E5ECF6",
           "radialaxis": {
            "gridcolor": "white",
            "linecolor": "white",
            "ticks": ""
           }
          },
          "scene": {
           "xaxis": {
            "backgroundcolor": "#E5ECF6",
            "gridcolor": "white",
            "gridwidth": 2,
            "linecolor": "white",
            "showbackground": true,
            "ticks": "",
            "zerolinecolor": "white"
           },
           "yaxis": {
            "backgroundcolor": "#E5ECF6",
            "gridcolor": "white",
            "gridwidth": 2,
            "linecolor": "white",
            "showbackground": true,
            "ticks": "",
            "zerolinecolor": "white"
           },
           "zaxis": {
            "backgroundcolor": "#E5ECF6",
            "gridcolor": "white",
            "gridwidth": 2,
            "linecolor": "white",
            "showbackground": true,
            "ticks": "",
            "zerolinecolor": "white"
           }
          },
          "shapedefaults": {
           "line": {
            "color": "#2a3f5f"
           }
          },
          "ternary": {
           "aaxis": {
            "gridcolor": "white",
            "linecolor": "white",
            "ticks": ""
           },
           "baxis": {
            "gridcolor": "white",
            "linecolor": "white",
            "ticks": ""
           },
           "bgcolor": "#E5ECF6",
           "caxis": {
            "gridcolor": "white",
            "linecolor": "white",
            "ticks": ""
           }
          },
          "title": {
           "x": 0.05
          },
          "xaxis": {
           "automargin": true,
           "gridcolor": "white",
           "linecolor": "white",
           "ticks": "",
           "title": {
            "standoff": 15
           },
           "zerolinecolor": "white",
           "zerolinewidth": 2
          },
          "yaxis": {
           "automargin": true,
           "gridcolor": "white",
           "linecolor": "white",
           "ticks": "",
           "title": {
            "standoff": 15
           },
           "zerolinecolor": "white",
           "zerolinewidth": 2
          }
         }
        },
        "title": {
         "font": {
          "color": "#4D5663"
         }
        },
        "xaxis": {
         "gridcolor": "#E1E5ED",
         "showgrid": true,
         "tickfont": {
          "color": "#4D5663"
         },
         "title": {
          "font": {
           "color": "#4D5663"
          },
          "text": ""
         },
         "zerolinecolor": "#E1E5ED"
        },
        "xaxis2": {
         "anchor": "y2",
         "gridcolor": "#E1E5ED",
         "showgrid": true,
         "showticklabels": false,
         "tickfont": {
          "color": "#4D5663"
         },
         "title": {
          "font": {
           "color": "#4D5663"
          },
          "text": ""
         },
         "zerolinecolor": "#E1E5ED"
        },
        "yaxis": {
         "domain": [
          0.3,
          1
         ],
         "gridcolor": "#E1E5ED",
         "showgrid": true,
         "tickfont": {
          "color": "#4D5663"
         },
         "title": {
          "font": {
           "color": "#4D5663"
          },
          "text": ""
         },
         "zerolinecolor": "#E1E5ED"
        },
        "yaxis2": {
         "domain": [
          0,
          0.25
         ],
         "gridcolor": "#E1E5ED",
         "showgrid": true,
         "tickfont": {
          "color": "#4D5663"
         },
         "title": {
          "font": {
           "color": "#4D5663"
          },
          "text": "Spread"
         },
         "zerolinecolor": "#E1E5ED"
        }
       }
      },
      "text/html": [
       "<div>                            <div id=\"5e1ef027-bb65-4e6f-9864-8b714507b397\" class=\"plotly-graph-div\" style=\"height:525px; width:100%;\"></div>            <script type=\"text/javascript\">                require([\"plotly\"], function(Plotly) {                    window.PLOTLYENV=window.PLOTLYENV || {};\n",
       "                    window.PLOTLYENV.BASE_URL='https://plot.ly';                                    if (document.getElementById(\"5e1ef027-bb65-4e6f-9864-8b714507b397\")) {                    Plotly.newPlot(                        \"5e1ef027-bb65-4e6f-9864-8b714507b397\",                        [{\"line\":{\"color\":\"rgba(255, 153, 51, 1.0)\",\"dash\":\"solid\",\"shape\":\"linear\",\"width\":1.3},\"mode\":\"lines\",\"name\":\"A\",\"text\":\"\",\"x\":[0,1,2,3,4,5,6,7,8,9,10,11,12,13,14,15,16,17,18,19,20,21,22,23,24,25,26,27,28,29,30,31,32,33,34,35,36,37,38,39,40,41,42,43,44,45,46,47,48,49,50,51,52,53,54,55,56,57,58,59,60,61,62,63,64,65,66,67,68,69,70,71,72,73,74,75,76,77,78,79,80,81,82,83,84,85,86,87,88,89,90,91,92,93,94,95,96,97,98,99],\"y\":[-0.6695219310356675,-0.29192670023127143,-0.9831645059332843,0.013262990475593704,0.5649025921315125,0.8064216811322935,-0.29053318946379497,-1.4553394975965468,-0.9334780727469513,0.15212781268808825,-0.12953561519924947,-0.07330120498823028,-1.3212460499566323,0.5375075631006219,-1.5383600487242233,1.6479766696245695,-1.5151166106018252,-0.9487373016303247,0.9868363720026039,0.8271021762057945,0.532847912728279,-1.215084246154703,-1.06990447666004,-0.20423732405811862,0.25645744237289564,1.1652515725779797,0.8666463172667327,0.9183747549879647,0.6504874381746459,-0.8243955949582988,0.31764589789799386,0.32842115742546457,-0.4879250309366784,0.9660099268240899,-0.4349598763157151,0.14565487905762764,0.7436189282138251,0.9409054661531387,-0.6465452666750505,-0.0024073828422344406,1.7067230767581596,-0.4121497707683924,-0.11389940712513696,-1.798138144899698,0.48662376592093887,1.0405713605422415,1.9209486289049162,0.6143066558160502,1.533611421591724,0.281317373014399,0.04453499041913694,0.3254655849440727,-1.7235950007111245,1.0474474785050598,0.9103859418107295,0.8525517635466807,-0.30410879772455135,1.6990988245338592,-1.4839797836397264,0.3832562237229985,0.7053168306901907,0.4203017735137733,0.5074159914678656,-0.959297650112034,-3.033106810373578,-1.1905978134391508,-0.28594306994798296,1.0009980764514175,0.10196558416155194,-0.4481953355572154,1.561038458049401,-1.8510860765324897,-0.6915435845117376,-1.1887437544871862,-0.20891836331908248,-1.5645319943763776,-0.5071826248289197,0.9745002772010514,0.5654902978301094,1.2781291327972075,-0.28550517136639925,0.15340572181957526,0.8636950655469798,-0.5646385664757835,2.5955468026902735,0.5495383901436504,0.12991333229427834,1.885651971234061,2.3101851334619705,-0.7212478669014187,1.2248866341084266,-0.07861993937764342,-1.632126443311677,0.817222682609708,-1.4875712692802876,-0.8284793569588998,-0.6147511519801087,-0.6260783806020203,0.0761575550680676,0.6386446816040392],\"type\":\"scatter\"},{\"line\":{\"color\":\"rgba(55, 128, 191, 1.0)\",\"dash\":\"solid\",\"shape\":\"linear\",\"width\":1.3},\"mode\":\"lines\",\"name\":\"B\",\"text\":\"\",\"x\":[0,1,2,3,4,5,6,7,8,9,10,11,12,13,14,15,16,17,18,19,20,21,22,23,24,25,26,27,28,29,30,31,32,33,34,35,36,37,38,39,40,41,42,43,44,45,46,47,48,49,50,51,52,53,54,55,56,57,58,59,60,61,62,63,64,65,66,67,68,69,70,71,72,73,74,75,76,77,78,79,80,81,82,83,84,85,86,87,88,89,90,91,92,93,94,95,96,97,98,99],\"y\":[-0.047249781195183846,0.5807979722191119,-0.5840803964125373,-2.0256441041451843,-2.717758433269804,0.8087501871373753,0.6808476657323692,-1.4517045352576345,-1.077566689559306,0.5761038177773498,-1.7365254614618182,-0.18196412399397116,0.6326136100827379,1.1507282085712174,0.5898260705822608,0.10035344857577091,-1.619410125275257,0.6674956593402991,-1.1198386404292284,-1.2510378091859844,0.8895570166309362,-0.3692521794513197,-0.930071334761612,1.0351120663640652,-0.1391421027530557,0.5966769499472159,0.07951570107527746,1.039322440493506,-1.0403484710164908,-0.008916864350763918,0.7605828958467573,1.316981609729183,0.18141931559657465,0.04412730738103606,0.6215623194712838,0.8297396307092603,-1.0976640935673252,1.1255496523105701,1.1656054314719215,-0.6129034501836317,-0.629216183370437,-0.6073399976273386,1.8639308196488213,0.2867514857577595,0.8401257870911673,-0.10536946095031792,0.6797613470589414,0.5336194715918102,1.2559348778753936,0.4923636697054773,-2.161063539331115,0.0728617663004551,0.8364208839679473,-0.12832774187838877,1.900093292135524,-0.8740842697369767,2.2417282144106516,-0.38953536213565704,-0.23976651362572157,-1.5826663125676441,-0.3209706218622201,0.2105394304809266,-1.031877527830503,1.4878929073514255,0.8602115753808353,-1.1136405139370515,0.8825996436964001,-1.7428085811833083,-0.15635544863752787,0.7490067955117746,-0.3239075025790853,0.038532297017919166,1.3993657988093093,1.1992934839067848,-0.36249786145583274,2.4394185211403494,-0.1793756206531476,-0.4576517146060599,0.09262337925826437,-0.011713327619057282,-0.3156445170519262,-0.29876236993757893,-0.6478579022789553,0.7517042293677587,1.081513421865064,0.44739213512439696,-0.9448629749815547,-0.575126837808124,-0.05765011398142731,-0.2820600532547387,-0.19546551834527293,1.589656469566828,-0.20582042289236055,-1.2982061633734652,-1.2146393062199856,0.32144986438176754,-0.48218801944586104,0.5457219900911298,0.9457138531063372,-0.04393831853309557],\"type\":\"scatter\"},{\"connectgaps\":false,\"fill\":\"tozeroy\",\"line\":{\"color\":\"green\",\"dash\":\"solid\",\"shape\":\"linear\",\"width\":0.5},\"mode\":\"lines\",\"name\":\"Spread\",\"showlegend\":false,\"x\":[0,1,2,3,4,5,6,7,8,9,10,11,12,13,14,15,16,17,18,19,20,21,22,23,24,25,26,27,28,29,30,31,32,33,34,35,36,37,38,39,40,41,42,43,44,45,46,47,48,49,50,51,52,53,54,55,56,57,58,59,60,61,62,63,64,65,66,67,68,69,70,71,72,73,74,75,76,77,78,79,80,81,82,83,84,85,86,87,88,89,90,91,92,93,94,95,96,97,98,99],\"xaxis\":\"x2\",\"y\":[\"\",\"\",\"\",2.038907094620778,3.2826610254013167,\"\",\"\",\"\",0.14408861681235463,\"\",1.6069898462625687,0.10866291900574088,\"\",\"\",\"\",1.5476232210487986,0.10429351467343184,\"\",2.1066750124318325,2.078139985391779,\"\",\"\",\"\",\"\",0.3955995451259513,0.5685746226307639,0.7871306161914552,\"\",1.6908359091911367,\"\",\"\",\"\",\"\",0.9218826194430538,\"\",\"\",1.8412830217811504,\"\",\"\",0.6104960673413973,2.3359392601285967,0.19519022685894621,\"\",\"\",\"\",1.1459408214925595,1.2411872818459748,0.08068718422423993,0.27767654371633044,\"\",2.205598529750252,0.2526038186436176,\"\",1.1757752203834486,\"\",1.7266360332836574,\"\",2.088634186669516,\"\",1.9659225362906425,1.0262874525524108,0.2097623430328467,1.5392935192983686,\"\",\"\",\"\",\"\",2.7438066576347255,0.2583210327990798,\"\",1.8849459606284862,\"\",\"\",\"\",0.15357949813675026,\"\",\"\",1.4321519918071113,0.47286691857184504,1.2898424604162648,0.030139345685526953,0.4521680917571542,1.5115529678259352,\"\",1.5140333808252096,0.1021462550192534,1.074776307275833,2.4607788090421847,2.3678352474433977,\"\",1.4203521524536995,\"\",\"\",2.115428845983173,\"\",\"\",\"\",\"\",\"\",0.6825830001371348],\"yaxis\":\"y2\",\"type\":\"scatter\"},{\"connectgaps\":false,\"fill\":\"tozeroy\",\"line\":{\"color\":\"red\",\"dash\":\"solid\",\"shape\":\"linear\",\"width\":0.5},\"mode\":\"lines\",\"name\":\"Spread\",\"showlegend\":false,\"x\":[0,1,2,3,4,5,6,7,8,9,10,11,12,13,14,15,16,17,18,19,20,21,22,23,24,25,26,27,28,29,30,31,32,33,34,35,36,37,38,39,40,41,42,43,44,45,46,47,48,49,50,51,52,53,54,55,56,57,58,59,60,61,62,63,64,65,66,67,68,69,70,71,72,73,74,75,76,77,78,79,80,81,82,83,84,85,86,87,88,89,90,91,92,93,94,95,96,97,98,99],\"xaxis\":\"x2\",\"y\":[-0.6222721498404836,-0.8727246724503833,-0.399084109520747,\"\",\"\",-0.002328506005081832,-0.9713808551961642,-0.003634962338912251,\"\",-0.4239760050892615,\"\",\"\",-1.9538596600393703,-0.6132206454705955,-2.128186119306484,\"\",\"\",-1.6162329609706236,\"\",\"\",-0.3567091039026572,-0.8458320667033832,-0.1398331418984281,-1.2393493904221837,\"\",\"\",\"\",-0.12094768550554125,\"\",-0.815478730607535,-0.44293699794876346,-0.9885604523037186,-0.669344346533253,\"\",-1.0565221957869988,-0.6840847516516326,\"\",-0.1846441861574314,-1.8121506981469722,\"\",\"\",\"\",-1.9778302267739583,-2.0848896306574574,-0.3535020211702284,\"\",\"\",\"\",\"\",-0.21104629669107827,\"\",\"\",-2.5600158846790717,\"\",-0.9897073503247945,\"\",-2.5458370121352027,\"\",-1.2442132700140047,\"\",\"\",\"\",\"\",-2.4471905574634594,-3.893318385754413,-0.07695729950209929,-1.1685427136443831,\"\",\"\",-1.19720213106899,\"\",-1.8896183735504088,-2.090909383321047,-2.388037238393971,\"\",-4.003950515516727,-0.32780700417577213,\"\",\"\",\"\",\"\",\"\",\"\",-1.3163427958435423,\"\",\"\",\"\",\"\",\"\",-0.43918781364668,\"\",-1.6682764089444715,-1.4263060204193165,\"\",-0.272931963060302,-1.1499292213406673,-0.13256313253424762,-1.1718003706931501,-0.8695562980382696,\"\"],\"yaxis\":\"y2\",\"type\":\"scatter\"}],                        {\"hovermode\":\"x\",\"legend\":{\"bgcolor\":\"#F5F6F9\",\"font\":{\"color\":\"#4D5663\"}},\"paper_bgcolor\":\"#F5F6F9\",\"plot_bgcolor\":\"#F5F6F9\",\"template\":{\"data\":{\"barpolar\":[{\"marker\":{\"line\":{\"color\":\"#E5ECF6\",\"width\":0.5},\"pattern\":{\"fillmode\":\"overlay\",\"size\":10,\"solidity\":0.2}},\"type\":\"barpolar\"}],\"bar\":[{\"error_x\":{\"color\":\"#2a3f5f\"},\"error_y\":{\"color\":\"#2a3f5f\"},\"marker\":{\"line\":{\"color\":\"#E5ECF6\",\"width\":0.5},\"pattern\":{\"fillmode\":\"overlay\",\"size\":10,\"solidity\":0.2}},\"type\":\"bar\"}],\"carpet\":[{\"aaxis\":{\"endlinecolor\":\"#2a3f5f\",\"gridcolor\":\"white\",\"linecolor\":\"white\",\"minorgridcolor\":\"white\",\"startlinecolor\":\"#2a3f5f\"},\"baxis\":{\"endlinecolor\":\"#2a3f5f\",\"gridcolor\":\"white\",\"linecolor\":\"white\",\"minorgridcolor\":\"white\",\"startlinecolor\":\"#2a3f5f\"},\"type\":\"carpet\"}],\"choropleth\":[{\"colorbar\":{\"outlinewidth\":0,\"ticks\":\"\"},\"type\":\"choropleth\"}],\"contourcarpet\":[{\"colorbar\":{\"outlinewidth\":0,\"ticks\":\"\"},\"type\":\"contourcarpet\"}],\"contour\":[{\"colorbar\":{\"outlinewidth\":0,\"ticks\":\"\"},\"colorscale\":[[0.0,\"#0d0887\"],[0.1111111111111111,\"#46039f\"],[0.2222222222222222,\"#7201a8\"],[0.3333333333333333,\"#9c179e\"],[0.4444444444444444,\"#bd3786\"],[0.5555555555555556,\"#d8576b\"],[0.6666666666666666,\"#ed7953\"],[0.7777777777777778,\"#fb9f3a\"],[0.8888888888888888,\"#fdca26\"],[1.0,\"#f0f921\"]],\"type\":\"contour\"}],\"heatmapgl\":[{\"colorbar\":{\"outlinewidth\":0,\"ticks\":\"\"},\"colorscale\":[[0.0,\"#0d0887\"],[0.1111111111111111,\"#46039f\"],[0.2222222222222222,\"#7201a8\"],[0.3333333333333333,\"#9c179e\"],[0.4444444444444444,\"#bd3786\"],[0.5555555555555556,\"#d8576b\"],[0.6666666666666666,\"#ed7953\"],[0.7777777777777778,\"#fb9f3a\"],[0.8888888888888888,\"#fdca26\"],[1.0,\"#f0f921\"]],\"type\":\"heatmapgl\"}],\"heatmap\":[{\"colorbar\":{\"outlinewidth\":0,\"ticks\":\"\"},\"colorscale\":[[0.0,\"#0d0887\"],[0.1111111111111111,\"#46039f\"],[0.2222222222222222,\"#7201a8\"],[0.3333333333333333,\"#9c179e\"],[0.4444444444444444,\"#bd3786\"],[0.5555555555555556,\"#d8576b\"],[0.6666666666666666,\"#ed7953\"],[0.7777777777777778,\"#fb9f3a\"],[0.8888888888888888,\"#fdca26\"],[1.0,\"#f0f921\"]],\"type\":\"heatmap\"}],\"histogram2dcontour\":[{\"colorbar\":{\"outlinewidth\":0,\"ticks\":\"\"},\"colorscale\":[[0.0,\"#0d0887\"],[0.1111111111111111,\"#46039f\"],[0.2222222222222222,\"#7201a8\"],[0.3333333333333333,\"#9c179e\"],[0.4444444444444444,\"#bd3786\"],[0.5555555555555556,\"#d8576b\"],[0.6666666666666666,\"#ed7953\"],[0.7777777777777778,\"#fb9f3a\"],[0.8888888888888888,\"#fdca26\"],[1.0,\"#f0f921\"]],\"type\":\"histogram2dcontour\"}],\"histogram2d\":[{\"colorbar\":{\"outlinewidth\":0,\"ticks\":\"\"},\"colorscale\":[[0.0,\"#0d0887\"],[0.1111111111111111,\"#46039f\"],[0.2222222222222222,\"#7201a8\"],[0.3333333333333333,\"#9c179e\"],[0.4444444444444444,\"#bd3786\"],[0.5555555555555556,\"#d8576b\"],[0.6666666666666666,\"#ed7953\"],[0.7777777777777778,\"#fb9f3a\"],[0.8888888888888888,\"#fdca26\"],[1.0,\"#f0f921\"]],\"type\":\"histogram2d\"}],\"histogram\":[{\"marker\":{\"pattern\":{\"fillmode\":\"overlay\",\"size\":10,\"solidity\":0.2}},\"type\":\"histogram\"}],\"mesh3d\":[{\"colorbar\":{\"outlinewidth\":0,\"ticks\":\"\"},\"type\":\"mesh3d\"}],\"parcoords\":[{\"line\":{\"colorbar\":{\"outlinewidth\":0,\"ticks\":\"\"}},\"type\":\"parcoords\"}],\"pie\":[{\"automargin\":true,\"type\":\"pie\"}],\"scatter3d\":[{\"line\":{\"colorbar\":{\"outlinewidth\":0,\"ticks\":\"\"}},\"marker\":{\"colorbar\":{\"outlinewidth\":0,\"ticks\":\"\"}},\"type\":\"scatter3d\"}],\"scattercarpet\":[{\"marker\":{\"colorbar\":{\"outlinewidth\":0,\"ticks\":\"\"}},\"type\":\"scattercarpet\"}],\"scattergeo\":[{\"marker\":{\"colorbar\":{\"outlinewidth\":0,\"ticks\":\"\"}},\"type\":\"scattergeo\"}],\"scattergl\":[{\"marker\":{\"colorbar\":{\"outlinewidth\":0,\"ticks\":\"\"}},\"type\":\"scattergl\"}],\"scattermapbox\":[{\"marker\":{\"colorbar\":{\"outlinewidth\":0,\"ticks\":\"\"}},\"type\":\"scattermapbox\"}],\"scatterpolargl\":[{\"marker\":{\"colorbar\":{\"outlinewidth\":0,\"ticks\":\"\"}},\"type\":\"scatterpolargl\"}],\"scatterpolar\":[{\"marker\":{\"colorbar\":{\"outlinewidth\":0,\"ticks\":\"\"}},\"type\":\"scatterpolar\"}],\"scatter\":[{\"fillpattern\":{\"fillmode\":\"overlay\",\"size\":10,\"solidity\":0.2},\"type\":\"scatter\"}],\"scatterternary\":[{\"marker\":{\"colorbar\":{\"outlinewidth\":0,\"ticks\":\"\"}},\"type\":\"scatterternary\"}],\"surface\":[{\"colorbar\":{\"outlinewidth\":0,\"ticks\":\"\"},\"colorscale\":[[0.0,\"#0d0887\"],[0.1111111111111111,\"#46039f\"],[0.2222222222222222,\"#7201a8\"],[0.3333333333333333,\"#9c179e\"],[0.4444444444444444,\"#bd3786\"],[0.5555555555555556,\"#d8576b\"],[0.6666666666666666,\"#ed7953\"],[0.7777777777777778,\"#fb9f3a\"],[0.8888888888888888,\"#fdca26\"],[1.0,\"#f0f921\"]],\"type\":\"surface\"}],\"table\":[{\"cells\":{\"fill\":{\"color\":\"#EBF0F8\"},\"line\":{\"color\":\"white\"}},\"header\":{\"fill\":{\"color\":\"#C8D4E3\"},\"line\":{\"color\":\"white\"}},\"type\":\"table\"}]},\"layout\":{\"annotationdefaults\":{\"arrowcolor\":\"#2a3f5f\",\"arrowhead\":0,\"arrowwidth\":1},\"autotypenumbers\":\"strict\",\"coloraxis\":{\"colorbar\":{\"outlinewidth\":0,\"ticks\":\"\"}},\"colorscale\":{\"diverging\":[[0,\"#8e0152\"],[0.1,\"#c51b7d\"],[0.2,\"#de77ae\"],[0.3,\"#f1b6da\"],[0.4,\"#fde0ef\"],[0.5,\"#f7f7f7\"],[0.6,\"#e6f5d0\"],[0.7,\"#b8e186\"],[0.8,\"#7fbc41\"],[0.9,\"#4d9221\"],[1,\"#276419\"]],\"sequential\":[[0.0,\"#0d0887\"],[0.1111111111111111,\"#46039f\"],[0.2222222222222222,\"#7201a8\"],[0.3333333333333333,\"#9c179e\"],[0.4444444444444444,\"#bd3786\"],[0.5555555555555556,\"#d8576b\"],[0.6666666666666666,\"#ed7953\"],[0.7777777777777778,\"#fb9f3a\"],[0.8888888888888888,\"#fdca26\"],[1.0,\"#f0f921\"]],\"sequentialminus\":[[0.0,\"#0d0887\"],[0.1111111111111111,\"#46039f\"],[0.2222222222222222,\"#7201a8\"],[0.3333333333333333,\"#9c179e\"],[0.4444444444444444,\"#bd3786\"],[0.5555555555555556,\"#d8576b\"],[0.6666666666666666,\"#ed7953\"],[0.7777777777777778,\"#fb9f3a\"],[0.8888888888888888,\"#fdca26\"],[1.0,\"#f0f921\"]]},\"colorway\":[\"#636efa\",\"#EF553B\",\"#00cc96\",\"#ab63fa\",\"#FFA15A\",\"#19d3f3\",\"#FF6692\",\"#B6E880\",\"#FF97FF\",\"#FECB52\"],\"font\":{\"color\":\"#2a3f5f\"},\"geo\":{\"bgcolor\":\"white\",\"lakecolor\":\"white\",\"landcolor\":\"#E5ECF6\",\"showlakes\":true,\"showland\":true,\"subunitcolor\":\"white\"},\"hoverlabel\":{\"align\":\"left\"},\"hovermode\":\"closest\",\"mapbox\":{\"style\":\"light\"},\"paper_bgcolor\":\"white\",\"plot_bgcolor\":\"#E5ECF6\",\"polar\":{\"angularaxis\":{\"gridcolor\":\"white\",\"linecolor\":\"white\",\"ticks\":\"\"},\"bgcolor\":\"#E5ECF6\",\"radialaxis\":{\"gridcolor\":\"white\",\"linecolor\":\"white\",\"ticks\":\"\"}},\"scene\":{\"xaxis\":{\"backgroundcolor\":\"#E5ECF6\",\"gridcolor\":\"white\",\"gridwidth\":2,\"linecolor\":\"white\",\"showbackground\":true,\"ticks\":\"\",\"zerolinecolor\":\"white\"},\"yaxis\":{\"backgroundcolor\":\"#E5ECF6\",\"gridcolor\":\"white\",\"gridwidth\":2,\"linecolor\":\"white\",\"showbackground\":true,\"ticks\":\"\",\"zerolinecolor\":\"white\"},\"zaxis\":{\"backgroundcolor\":\"#E5ECF6\",\"gridcolor\":\"white\",\"gridwidth\":2,\"linecolor\":\"white\",\"showbackground\":true,\"ticks\":\"\",\"zerolinecolor\":\"white\"}},\"shapedefaults\":{\"line\":{\"color\":\"#2a3f5f\"}},\"ternary\":{\"aaxis\":{\"gridcolor\":\"white\",\"linecolor\":\"white\",\"ticks\":\"\"},\"baxis\":{\"gridcolor\":\"white\",\"linecolor\":\"white\",\"ticks\":\"\"},\"bgcolor\":\"#E5ECF6\",\"caxis\":{\"gridcolor\":\"white\",\"linecolor\":\"white\",\"ticks\":\"\"}},\"title\":{\"x\":0.05},\"xaxis\":{\"automargin\":true,\"gridcolor\":\"white\",\"linecolor\":\"white\",\"ticks\":\"\",\"title\":{\"standoff\":15},\"zerolinecolor\":\"white\",\"zerolinewidth\":2},\"yaxis\":{\"automargin\":true,\"gridcolor\":\"white\",\"linecolor\":\"white\",\"ticks\":\"\",\"title\":{\"standoff\":15},\"zerolinecolor\":\"white\",\"zerolinewidth\":2}}},\"title\":{\"font\":{\"color\":\"#4D5663\"}},\"xaxis\":{\"gridcolor\":\"#E1E5ED\",\"showgrid\":true,\"tickfont\":{\"color\":\"#4D5663\"},\"title\":{\"font\":{\"color\":\"#4D5663\"},\"text\":\"\"},\"zerolinecolor\":\"#E1E5ED\"},\"yaxis\":{\"domain\":[0.3,1],\"gridcolor\":\"#E1E5ED\",\"showgrid\":true,\"tickfont\":{\"color\":\"#4D5663\"},\"title\":{\"font\":{\"color\":\"#4D5663\"},\"text\":\"\"},\"zerolinecolor\":\"#E1E5ED\"},\"yaxis2\":{\"domain\":[0,0.25],\"gridcolor\":\"#E1E5ED\",\"showgrid\":true,\"tickfont\":{\"color\":\"#4D5663\"},\"title\":{\"font\":{\"color\":\"#4D5663\"},\"text\":\"Spread\"},\"zerolinecolor\":\"#E1E5ED\"},\"xaxis2\":{\"anchor\":\"y2\",\"gridcolor\":\"#E1E5ED\",\"showgrid\":true,\"showticklabels\":false,\"tickfont\":{\"color\":\"#4D5663\"},\"title\":{\"font\":{\"color\":\"#4D5663\"},\"text\":\"\"},\"zerolinecolor\":\"#E1E5ED\"}},                        {\"showLink\": true, \"linkText\": \"Export to plot.ly\", \"plotlyServerURL\": \"https://plot.ly\", \"responsive\": true}                    ).then(function(){\n",
       "                            \n",
       "var gd = document.getElementById('5e1ef027-bb65-4e6f-9864-8b714507b397');\n",
       "var x = new MutationObserver(function (mutations, observer) {{\n",
       "        var display = window.getComputedStyle(gd).display;\n",
       "        if (!display || display === 'none') {{\n",
       "            console.log([gd, 'removed!']);\n",
       "            Plotly.purge(gd);\n",
       "            observer.disconnect();\n",
       "        }}\n",
       "}});\n",
       "\n",
       "// Listen for the removal of the full notebook cells\n",
       "var notebookContainer = gd.closest('#notebook-container');\n",
       "if (notebookContainer) {{\n",
       "    x.observe(notebookContainer, {childList: true});\n",
       "}}\n",
       "\n",
       "// Listen for the clearing of the current output cell\n",
       "var outputEl = gd.closest('.output');\n",
       "if (outputEl) {{\n",
       "    x.observe(outputEl, {childList: true});\n",
       "}}\n",
       "\n",
       "                        })                };                });            </script>        </div>"
      ]
     },
     "metadata": {},
     "output_type": "display_data"
    }
   ],
   "source": [
    "df[['A','B']].iplot(kind = 'spread')"
   ]
  },
  {
   "cell_type": "markdown",
   "id": "8a70258e",
   "metadata": {},
   "source": [
    "# histogram"
   ]
  },
  {
   "cell_type": "code",
   "execution_count": 16,
   "id": "2a25e274",
   "metadata": {},
   "outputs": [
    {
     "data": {
      "application/vnd.plotly.v1+json": {
       "config": {
        "linkText": "Export to plot.ly",
        "plotlyServerURL": "https://plot.ly",
        "showLink": true
       },
       "data": [
        {
         "histfunc": "count",
         "histnorm": "",
         "marker": {
          "color": "rgba(255, 153, 51, 1.0)",
          "line": {
           "color": "#4D5663",
           "width": 1.3
          }
         },
         "name": "A",
         "nbinsx": 25,
         "opacity": 0.8,
         "orientation": "v",
         "type": "histogram",
         "x": [
          -0.6695219310356675,
          -0.29192670023127143,
          -0.9831645059332843,
          0.013262990475593704,
          0.5649025921315125,
          0.8064216811322935,
          -0.29053318946379497,
          -1.4553394975965468,
          -0.9334780727469513,
          0.15212781268808825,
          -0.12953561519924947,
          -0.07330120498823028,
          -1.3212460499566323,
          0.5375075631006219,
          -1.5383600487242233,
          1.6479766696245695,
          -1.5151166106018252,
          -0.9487373016303247,
          0.9868363720026039,
          0.8271021762057945,
          0.532847912728279,
          -1.215084246154703,
          -1.06990447666004,
          -0.20423732405811862,
          0.25645744237289564,
          1.1652515725779797,
          0.8666463172667327,
          0.9183747549879647,
          0.6504874381746459,
          -0.8243955949582988,
          0.31764589789799386,
          0.32842115742546457,
          -0.4879250309366784,
          0.9660099268240899,
          -0.4349598763157151,
          0.14565487905762764,
          0.7436189282138251,
          0.9409054661531387,
          -0.6465452666750505,
          -0.0024073828422344406,
          1.7067230767581596,
          -0.4121497707683924,
          -0.11389940712513696,
          -1.798138144899698,
          0.48662376592093887,
          1.0405713605422415,
          1.9209486289049162,
          0.6143066558160502,
          1.533611421591724,
          0.281317373014399,
          0.04453499041913694,
          0.3254655849440727,
          -1.7235950007111245,
          1.0474474785050598,
          0.9103859418107295,
          0.8525517635466807,
          -0.30410879772455135,
          1.6990988245338592,
          -1.4839797836397264,
          0.3832562237229985,
          0.7053168306901907,
          0.4203017735137733,
          0.5074159914678656,
          -0.959297650112034,
          -3.033106810373578,
          -1.1905978134391508,
          -0.28594306994798296,
          1.0009980764514175,
          0.10196558416155194,
          -0.4481953355572154,
          1.561038458049401,
          -1.8510860765324897,
          -0.6915435845117376,
          -1.1887437544871862,
          -0.20891836331908248,
          -1.5645319943763776,
          -0.5071826248289197,
          0.9745002772010514,
          0.5654902978301094,
          1.2781291327972075,
          -0.28550517136639925,
          0.15340572181957526,
          0.8636950655469798,
          -0.5646385664757835,
          2.5955468026902735,
          0.5495383901436504,
          0.12991333229427834,
          1.885651971234061,
          2.3101851334619705,
          -0.7212478669014187,
          1.2248866341084266,
          -0.07861993937764342,
          -1.632126443311677,
          0.817222682609708,
          -1.4875712692802876,
          -0.8284793569588998,
          -0.6147511519801087,
          -0.6260783806020203,
          0.0761575550680676,
          0.6386446816040392
         ]
        }
       ],
       "layout": {
        "barmode": "overlay",
        "legend": {
         "bgcolor": "#F5F6F9",
         "font": {
          "color": "#4D5663"
         }
        },
        "paper_bgcolor": "#F5F6F9",
        "plot_bgcolor": "#F5F6F9",
        "template": {
         "data": {
          "bar": [
           {
            "error_x": {
             "color": "#2a3f5f"
            },
            "error_y": {
             "color": "#2a3f5f"
            },
            "marker": {
             "line": {
              "color": "#E5ECF6",
              "width": 0.5
             },
             "pattern": {
              "fillmode": "overlay",
              "size": 10,
              "solidity": 0.2
             }
            },
            "type": "bar"
           }
          ],
          "barpolar": [
           {
            "marker": {
             "line": {
              "color": "#E5ECF6",
              "width": 0.5
             },
             "pattern": {
              "fillmode": "overlay",
              "size": 10,
              "solidity": 0.2
             }
            },
            "type": "barpolar"
           }
          ],
          "carpet": [
           {
            "aaxis": {
             "endlinecolor": "#2a3f5f",
             "gridcolor": "white",
             "linecolor": "white",
             "minorgridcolor": "white",
             "startlinecolor": "#2a3f5f"
            },
            "baxis": {
             "endlinecolor": "#2a3f5f",
             "gridcolor": "white",
             "linecolor": "white",
             "minorgridcolor": "white",
             "startlinecolor": "#2a3f5f"
            },
            "type": "carpet"
           }
          ],
          "choropleth": [
           {
            "colorbar": {
             "outlinewidth": 0,
             "ticks": ""
            },
            "type": "choropleth"
           }
          ],
          "contour": [
           {
            "colorbar": {
             "outlinewidth": 0,
             "ticks": ""
            },
            "colorscale": [
             [
              0,
              "#0d0887"
             ],
             [
              0.1111111111111111,
              "#46039f"
             ],
             [
              0.2222222222222222,
              "#7201a8"
             ],
             [
              0.3333333333333333,
              "#9c179e"
             ],
             [
              0.4444444444444444,
              "#bd3786"
             ],
             [
              0.5555555555555556,
              "#d8576b"
             ],
             [
              0.6666666666666666,
              "#ed7953"
             ],
             [
              0.7777777777777778,
              "#fb9f3a"
             ],
             [
              0.8888888888888888,
              "#fdca26"
             ],
             [
              1,
              "#f0f921"
             ]
            ],
            "type": "contour"
           }
          ],
          "contourcarpet": [
           {
            "colorbar": {
             "outlinewidth": 0,
             "ticks": ""
            },
            "type": "contourcarpet"
           }
          ],
          "heatmap": [
           {
            "colorbar": {
             "outlinewidth": 0,
             "ticks": ""
            },
            "colorscale": [
             [
              0,
              "#0d0887"
             ],
             [
              0.1111111111111111,
              "#46039f"
             ],
             [
              0.2222222222222222,
              "#7201a8"
             ],
             [
              0.3333333333333333,
              "#9c179e"
             ],
             [
              0.4444444444444444,
              "#bd3786"
             ],
             [
              0.5555555555555556,
              "#d8576b"
             ],
             [
              0.6666666666666666,
              "#ed7953"
             ],
             [
              0.7777777777777778,
              "#fb9f3a"
             ],
             [
              0.8888888888888888,
              "#fdca26"
             ],
             [
              1,
              "#f0f921"
             ]
            ],
            "type": "heatmap"
           }
          ],
          "heatmapgl": [
           {
            "colorbar": {
             "outlinewidth": 0,
             "ticks": ""
            },
            "colorscale": [
             [
              0,
              "#0d0887"
             ],
             [
              0.1111111111111111,
              "#46039f"
             ],
             [
              0.2222222222222222,
              "#7201a8"
             ],
             [
              0.3333333333333333,
              "#9c179e"
             ],
             [
              0.4444444444444444,
              "#bd3786"
             ],
             [
              0.5555555555555556,
              "#d8576b"
             ],
             [
              0.6666666666666666,
              "#ed7953"
             ],
             [
              0.7777777777777778,
              "#fb9f3a"
             ],
             [
              0.8888888888888888,
              "#fdca26"
             ],
             [
              1,
              "#f0f921"
             ]
            ],
            "type": "heatmapgl"
           }
          ],
          "histogram": [
           {
            "marker": {
             "pattern": {
              "fillmode": "overlay",
              "size": 10,
              "solidity": 0.2
             }
            },
            "type": "histogram"
           }
          ],
          "histogram2d": [
           {
            "colorbar": {
             "outlinewidth": 0,
             "ticks": ""
            },
            "colorscale": [
             [
              0,
              "#0d0887"
             ],
             [
              0.1111111111111111,
              "#46039f"
             ],
             [
              0.2222222222222222,
              "#7201a8"
             ],
             [
              0.3333333333333333,
              "#9c179e"
             ],
             [
              0.4444444444444444,
              "#bd3786"
             ],
             [
              0.5555555555555556,
              "#d8576b"
             ],
             [
              0.6666666666666666,
              "#ed7953"
             ],
             [
              0.7777777777777778,
              "#fb9f3a"
             ],
             [
              0.8888888888888888,
              "#fdca26"
             ],
             [
              1,
              "#f0f921"
             ]
            ],
            "type": "histogram2d"
           }
          ],
          "histogram2dcontour": [
           {
            "colorbar": {
             "outlinewidth": 0,
             "ticks": ""
            },
            "colorscale": [
             [
              0,
              "#0d0887"
             ],
             [
              0.1111111111111111,
              "#46039f"
             ],
             [
              0.2222222222222222,
              "#7201a8"
             ],
             [
              0.3333333333333333,
              "#9c179e"
             ],
             [
              0.4444444444444444,
              "#bd3786"
             ],
             [
              0.5555555555555556,
              "#d8576b"
             ],
             [
              0.6666666666666666,
              "#ed7953"
             ],
             [
              0.7777777777777778,
              "#fb9f3a"
             ],
             [
              0.8888888888888888,
              "#fdca26"
             ],
             [
              1,
              "#f0f921"
             ]
            ],
            "type": "histogram2dcontour"
           }
          ],
          "mesh3d": [
           {
            "colorbar": {
             "outlinewidth": 0,
             "ticks": ""
            },
            "type": "mesh3d"
           }
          ],
          "parcoords": [
           {
            "line": {
             "colorbar": {
              "outlinewidth": 0,
              "ticks": ""
             }
            },
            "type": "parcoords"
           }
          ],
          "pie": [
           {
            "automargin": true,
            "type": "pie"
           }
          ],
          "scatter": [
           {
            "fillpattern": {
             "fillmode": "overlay",
             "size": 10,
             "solidity": 0.2
            },
            "type": "scatter"
           }
          ],
          "scatter3d": [
           {
            "line": {
             "colorbar": {
              "outlinewidth": 0,
              "ticks": ""
             }
            },
            "marker": {
             "colorbar": {
              "outlinewidth": 0,
              "ticks": ""
             }
            },
            "type": "scatter3d"
           }
          ],
          "scattercarpet": [
           {
            "marker": {
             "colorbar": {
              "outlinewidth": 0,
              "ticks": ""
             }
            },
            "type": "scattercarpet"
           }
          ],
          "scattergeo": [
           {
            "marker": {
             "colorbar": {
              "outlinewidth": 0,
              "ticks": ""
             }
            },
            "type": "scattergeo"
           }
          ],
          "scattergl": [
           {
            "marker": {
             "colorbar": {
              "outlinewidth": 0,
              "ticks": ""
             }
            },
            "type": "scattergl"
           }
          ],
          "scattermapbox": [
           {
            "marker": {
             "colorbar": {
              "outlinewidth": 0,
              "ticks": ""
             }
            },
            "type": "scattermapbox"
           }
          ],
          "scatterpolar": [
           {
            "marker": {
             "colorbar": {
              "outlinewidth": 0,
              "ticks": ""
             }
            },
            "type": "scatterpolar"
           }
          ],
          "scatterpolargl": [
           {
            "marker": {
             "colorbar": {
              "outlinewidth": 0,
              "ticks": ""
             }
            },
            "type": "scatterpolargl"
           }
          ],
          "scatterternary": [
           {
            "marker": {
             "colorbar": {
              "outlinewidth": 0,
              "ticks": ""
             }
            },
            "type": "scatterternary"
           }
          ],
          "surface": [
           {
            "colorbar": {
             "outlinewidth": 0,
             "ticks": ""
            },
            "colorscale": [
             [
              0,
              "#0d0887"
             ],
             [
              0.1111111111111111,
              "#46039f"
             ],
             [
              0.2222222222222222,
              "#7201a8"
             ],
             [
              0.3333333333333333,
              "#9c179e"
             ],
             [
              0.4444444444444444,
              "#bd3786"
             ],
             [
              0.5555555555555556,
              "#d8576b"
             ],
             [
              0.6666666666666666,
              "#ed7953"
             ],
             [
              0.7777777777777778,
              "#fb9f3a"
             ],
             [
              0.8888888888888888,
              "#fdca26"
             ],
             [
              1,
              "#f0f921"
             ]
            ],
            "type": "surface"
           }
          ],
          "table": [
           {
            "cells": {
             "fill": {
              "color": "#EBF0F8"
             },
             "line": {
              "color": "white"
             }
            },
            "header": {
             "fill": {
              "color": "#C8D4E3"
             },
             "line": {
              "color": "white"
             }
            },
            "type": "table"
           }
          ]
         },
         "layout": {
          "annotationdefaults": {
           "arrowcolor": "#2a3f5f",
           "arrowhead": 0,
           "arrowwidth": 1
          },
          "autotypenumbers": "strict",
          "coloraxis": {
           "colorbar": {
            "outlinewidth": 0,
            "ticks": ""
           }
          },
          "colorscale": {
           "diverging": [
            [
             0,
             "#8e0152"
            ],
            [
             0.1,
             "#c51b7d"
            ],
            [
             0.2,
             "#de77ae"
            ],
            [
             0.3,
             "#f1b6da"
            ],
            [
             0.4,
             "#fde0ef"
            ],
            [
             0.5,
             "#f7f7f7"
            ],
            [
             0.6,
             "#e6f5d0"
            ],
            [
             0.7,
             "#b8e186"
            ],
            [
             0.8,
             "#7fbc41"
            ],
            [
             0.9,
             "#4d9221"
            ],
            [
             1,
             "#276419"
            ]
           ],
           "sequential": [
            [
             0,
             "#0d0887"
            ],
            [
             0.1111111111111111,
             "#46039f"
            ],
            [
             0.2222222222222222,
             "#7201a8"
            ],
            [
             0.3333333333333333,
             "#9c179e"
            ],
            [
             0.4444444444444444,
             "#bd3786"
            ],
            [
             0.5555555555555556,
             "#d8576b"
            ],
            [
             0.6666666666666666,
             "#ed7953"
            ],
            [
             0.7777777777777778,
             "#fb9f3a"
            ],
            [
             0.8888888888888888,
             "#fdca26"
            ],
            [
             1,
             "#f0f921"
            ]
           ],
           "sequentialminus": [
            [
             0,
             "#0d0887"
            ],
            [
             0.1111111111111111,
             "#46039f"
            ],
            [
             0.2222222222222222,
             "#7201a8"
            ],
            [
             0.3333333333333333,
             "#9c179e"
            ],
            [
             0.4444444444444444,
             "#bd3786"
            ],
            [
             0.5555555555555556,
             "#d8576b"
            ],
            [
             0.6666666666666666,
             "#ed7953"
            ],
            [
             0.7777777777777778,
             "#fb9f3a"
            ],
            [
             0.8888888888888888,
             "#fdca26"
            ],
            [
             1,
             "#f0f921"
            ]
           ]
          },
          "colorway": [
           "#636efa",
           "#EF553B",
           "#00cc96",
           "#ab63fa",
           "#FFA15A",
           "#19d3f3",
           "#FF6692",
           "#B6E880",
           "#FF97FF",
           "#FECB52"
          ],
          "font": {
           "color": "#2a3f5f"
          },
          "geo": {
           "bgcolor": "white",
           "lakecolor": "white",
           "landcolor": "#E5ECF6",
           "showlakes": true,
           "showland": true,
           "subunitcolor": "white"
          },
          "hoverlabel": {
           "align": "left"
          },
          "hovermode": "closest",
          "mapbox": {
           "style": "light"
          },
          "paper_bgcolor": "white",
          "plot_bgcolor": "#E5ECF6",
          "polar": {
           "angularaxis": {
            "gridcolor": "white",
            "linecolor": "white",
            "ticks": ""
           },
           "bgcolor": "#E5ECF6",
           "radialaxis": {
            "gridcolor": "white",
            "linecolor": "white",
            "ticks": ""
           }
          },
          "scene": {
           "xaxis": {
            "backgroundcolor": "#E5ECF6",
            "gridcolor": "white",
            "gridwidth": 2,
            "linecolor": "white",
            "showbackground": true,
            "ticks": "",
            "zerolinecolor": "white"
           },
           "yaxis": {
            "backgroundcolor": "#E5ECF6",
            "gridcolor": "white",
            "gridwidth": 2,
            "linecolor": "white",
            "showbackground": true,
            "ticks": "",
            "zerolinecolor": "white"
           },
           "zaxis": {
            "backgroundcolor": "#E5ECF6",
            "gridcolor": "white",
            "gridwidth": 2,
            "linecolor": "white",
            "showbackground": true,
            "ticks": "",
            "zerolinecolor": "white"
           }
          },
          "shapedefaults": {
           "line": {
            "color": "#2a3f5f"
           }
          },
          "ternary": {
           "aaxis": {
            "gridcolor": "white",
            "linecolor": "white",
            "ticks": ""
           },
           "baxis": {
            "gridcolor": "white",
            "linecolor": "white",
            "ticks": ""
           },
           "bgcolor": "#E5ECF6",
           "caxis": {
            "gridcolor": "white",
            "linecolor": "white",
            "ticks": ""
           }
          },
          "title": {
           "x": 0.05
          },
          "xaxis": {
           "automargin": true,
           "gridcolor": "white",
           "linecolor": "white",
           "ticks": "",
           "title": {
            "standoff": 15
           },
           "zerolinecolor": "white",
           "zerolinewidth": 2
          },
          "yaxis": {
           "automargin": true,
           "gridcolor": "white",
           "linecolor": "white",
           "ticks": "",
           "title": {
            "standoff": 15
           },
           "zerolinecolor": "white",
           "zerolinewidth": 2
          }
         }
        },
        "title": {
         "font": {
          "color": "#4D5663"
         }
        },
        "xaxis": {
         "gridcolor": "#E1E5ED",
         "showgrid": true,
         "tickfont": {
          "color": "#4D5663"
         },
         "title": {
          "font": {
           "color": "#4D5663"
          },
          "text": ""
         },
         "zerolinecolor": "#E1E5ED"
        },
        "yaxis": {
         "gridcolor": "#E1E5ED",
         "showgrid": true,
         "tickfont": {
          "color": "#4D5663"
         },
         "title": {
          "font": {
           "color": "#4D5663"
          },
          "text": ""
         },
         "zerolinecolor": "#E1E5ED"
        }
       }
      },
      "text/html": [
       "<div>                            <div id=\"5e8dd601-1b4a-483f-b587-ae2a8cab302b\" class=\"plotly-graph-div\" style=\"height:525px; width:100%;\"></div>            <script type=\"text/javascript\">                require([\"plotly\"], function(Plotly) {                    window.PLOTLYENV=window.PLOTLYENV || {};\n",
       "                    window.PLOTLYENV.BASE_URL='https://plot.ly';                                    if (document.getElementById(\"5e8dd601-1b4a-483f-b587-ae2a8cab302b\")) {                    Plotly.newPlot(                        \"5e8dd601-1b4a-483f-b587-ae2a8cab302b\",                        [{\"histfunc\":\"count\",\"histnorm\":\"\",\"marker\":{\"color\":\"rgba(255, 153, 51, 1.0)\",\"line\":{\"color\":\"#4D5663\",\"width\":1.3}},\"name\":\"A\",\"nbinsx\":25,\"opacity\":0.8,\"orientation\":\"v\",\"x\":[-0.6695219310356675,-0.29192670023127143,-0.9831645059332843,0.013262990475593704,0.5649025921315125,0.8064216811322935,-0.29053318946379497,-1.4553394975965468,-0.9334780727469513,0.15212781268808825,-0.12953561519924947,-0.07330120498823028,-1.3212460499566323,0.5375075631006219,-1.5383600487242233,1.6479766696245695,-1.5151166106018252,-0.9487373016303247,0.9868363720026039,0.8271021762057945,0.532847912728279,-1.215084246154703,-1.06990447666004,-0.20423732405811862,0.25645744237289564,1.1652515725779797,0.8666463172667327,0.9183747549879647,0.6504874381746459,-0.8243955949582988,0.31764589789799386,0.32842115742546457,-0.4879250309366784,0.9660099268240899,-0.4349598763157151,0.14565487905762764,0.7436189282138251,0.9409054661531387,-0.6465452666750505,-0.0024073828422344406,1.7067230767581596,-0.4121497707683924,-0.11389940712513696,-1.798138144899698,0.48662376592093887,1.0405713605422415,1.9209486289049162,0.6143066558160502,1.533611421591724,0.281317373014399,0.04453499041913694,0.3254655849440727,-1.7235950007111245,1.0474474785050598,0.9103859418107295,0.8525517635466807,-0.30410879772455135,1.6990988245338592,-1.4839797836397264,0.3832562237229985,0.7053168306901907,0.4203017735137733,0.5074159914678656,-0.959297650112034,-3.033106810373578,-1.1905978134391508,-0.28594306994798296,1.0009980764514175,0.10196558416155194,-0.4481953355572154,1.561038458049401,-1.8510860765324897,-0.6915435845117376,-1.1887437544871862,-0.20891836331908248,-1.5645319943763776,-0.5071826248289197,0.9745002772010514,0.5654902978301094,1.2781291327972075,-0.28550517136639925,0.15340572181957526,0.8636950655469798,-0.5646385664757835,2.5955468026902735,0.5495383901436504,0.12991333229427834,1.885651971234061,2.3101851334619705,-0.7212478669014187,1.2248866341084266,-0.07861993937764342,-1.632126443311677,0.817222682609708,-1.4875712692802876,-0.8284793569588998,-0.6147511519801087,-0.6260783806020203,0.0761575550680676,0.6386446816040392],\"type\":\"histogram\"}],                        {\"barmode\":\"overlay\",\"legend\":{\"bgcolor\":\"#F5F6F9\",\"font\":{\"color\":\"#4D5663\"}},\"paper_bgcolor\":\"#F5F6F9\",\"plot_bgcolor\":\"#F5F6F9\",\"template\":{\"data\":{\"barpolar\":[{\"marker\":{\"line\":{\"color\":\"#E5ECF6\",\"width\":0.5},\"pattern\":{\"fillmode\":\"overlay\",\"size\":10,\"solidity\":0.2}},\"type\":\"barpolar\"}],\"bar\":[{\"error_x\":{\"color\":\"#2a3f5f\"},\"error_y\":{\"color\":\"#2a3f5f\"},\"marker\":{\"line\":{\"color\":\"#E5ECF6\",\"width\":0.5},\"pattern\":{\"fillmode\":\"overlay\",\"size\":10,\"solidity\":0.2}},\"type\":\"bar\"}],\"carpet\":[{\"aaxis\":{\"endlinecolor\":\"#2a3f5f\",\"gridcolor\":\"white\",\"linecolor\":\"white\",\"minorgridcolor\":\"white\",\"startlinecolor\":\"#2a3f5f\"},\"baxis\":{\"endlinecolor\":\"#2a3f5f\",\"gridcolor\":\"white\",\"linecolor\":\"white\",\"minorgridcolor\":\"white\",\"startlinecolor\":\"#2a3f5f\"},\"type\":\"carpet\"}],\"choropleth\":[{\"colorbar\":{\"outlinewidth\":0,\"ticks\":\"\"},\"type\":\"choropleth\"}],\"contourcarpet\":[{\"colorbar\":{\"outlinewidth\":0,\"ticks\":\"\"},\"type\":\"contourcarpet\"}],\"contour\":[{\"colorbar\":{\"outlinewidth\":0,\"ticks\":\"\"},\"colorscale\":[[0.0,\"#0d0887\"],[0.1111111111111111,\"#46039f\"],[0.2222222222222222,\"#7201a8\"],[0.3333333333333333,\"#9c179e\"],[0.4444444444444444,\"#bd3786\"],[0.5555555555555556,\"#d8576b\"],[0.6666666666666666,\"#ed7953\"],[0.7777777777777778,\"#fb9f3a\"],[0.8888888888888888,\"#fdca26\"],[1.0,\"#f0f921\"]],\"type\":\"contour\"}],\"heatmapgl\":[{\"colorbar\":{\"outlinewidth\":0,\"ticks\":\"\"},\"colorscale\":[[0.0,\"#0d0887\"],[0.1111111111111111,\"#46039f\"],[0.2222222222222222,\"#7201a8\"],[0.3333333333333333,\"#9c179e\"],[0.4444444444444444,\"#bd3786\"],[0.5555555555555556,\"#d8576b\"],[0.6666666666666666,\"#ed7953\"],[0.7777777777777778,\"#fb9f3a\"],[0.8888888888888888,\"#fdca26\"],[1.0,\"#f0f921\"]],\"type\":\"heatmapgl\"}],\"heatmap\":[{\"colorbar\":{\"outlinewidth\":0,\"ticks\":\"\"},\"colorscale\":[[0.0,\"#0d0887\"],[0.1111111111111111,\"#46039f\"],[0.2222222222222222,\"#7201a8\"],[0.3333333333333333,\"#9c179e\"],[0.4444444444444444,\"#bd3786\"],[0.5555555555555556,\"#d8576b\"],[0.6666666666666666,\"#ed7953\"],[0.7777777777777778,\"#fb9f3a\"],[0.8888888888888888,\"#fdca26\"],[1.0,\"#f0f921\"]],\"type\":\"heatmap\"}],\"histogram2dcontour\":[{\"colorbar\":{\"outlinewidth\":0,\"ticks\":\"\"},\"colorscale\":[[0.0,\"#0d0887\"],[0.1111111111111111,\"#46039f\"],[0.2222222222222222,\"#7201a8\"],[0.3333333333333333,\"#9c179e\"],[0.4444444444444444,\"#bd3786\"],[0.5555555555555556,\"#d8576b\"],[0.6666666666666666,\"#ed7953\"],[0.7777777777777778,\"#fb9f3a\"],[0.8888888888888888,\"#fdca26\"],[1.0,\"#f0f921\"]],\"type\":\"histogram2dcontour\"}],\"histogram2d\":[{\"colorbar\":{\"outlinewidth\":0,\"ticks\":\"\"},\"colorscale\":[[0.0,\"#0d0887\"],[0.1111111111111111,\"#46039f\"],[0.2222222222222222,\"#7201a8\"],[0.3333333333333333,\"#9c179e\"],[0.4444444444444444,\"#bd3786\"],[0.5555555555555556,\"#d8576b\"],[0.6666666666666666,\"#ed7953\"],[0.7777777777777778,\"#fb9f3a\"],[0.8888888888888888,\"#fdca26\"],[1.0,\"#f0f921\"]],\"type\":\"histogram2d\"}],\"histogram\":[{\"marker\":{\"pattern\":{\"fillmode\":\"overlay\",\"size\":10,\"solidity\":0.2}},\"type\":\"histogram\"}],\"mesh3d\":[{\"colorbar\":{\"outlinewidth\":0,\"ticks\":\"\"},\"type\":\"mesh3d\"}],\"parcoords\":[{\"line\":{\"colorbar\":{\"outlinewidth\":0,\"ticks\":\"\"}},\"type\":\"parcoords\"}],\"pie\":[{\"automargin\":true,\"type\":\"pie\"}],\"scatter3d\":[{\"line\":{\"colorbar\":{\"outlinewidth\":0,\"ticks\":\"\"}},\"marker\":{\"colorbar\":{\"outlinewidth\":0,\"ticks\":\"\"}},\"type\":\"scatter3d\"}],\"scattercarpet\":[{\"marker\":{\"colorbar\":{\"outlinewidth\":0,\"ticks\":\"\"}},\"type\":\"scattercarpet\"}],\"scattergeo\":[{\"marker\":{\"colorbar\":{\"outlinewidth\":0,\"ticks\":\"\"}},\"type\":\"scattergeo\"}],\"scattergl\":[{\"marker\":{\"colorbar\":{\"outlinewidth\":0,\"ticks\":\"\"}},\"type\":\"scattergl\"}],\"scattermapbox\":[{\"marker\":{\"colorbar\":{\"outlinewidth\":0,\"ticks\":\"\"}},\"type\":\"scattermapbox\"}],\"scatterpolargl\":[{\"marker\":{\"colorbar\":{\"outlinewidth\":0,\"ticks\":\"\"}},\"type\":\"scatterpolargl\"}],\"scatterpolar\":[{\"marker\":{\"colorbar\":{\"outlinewidth\":0,\"ticks\":\"\"}},\"type\":\"scatterpolar\"}],\"scatter\":[{\"fillpattern\":{\"fillmode\":\"overlay\",\"size\":10,\"solidity\":0.2},\"type\":\"scatter\"}],\"scatterternary\":[{\"marker\":{\"colorbar\":{\"outlinewidth\":0,\"ticks\":\"\"}},\"type\":\"scatterternary\"}],\"surface\":[{\"colorbar\":{\"outlinewidth\":0,\"ticks\":\"\"},\"colorscale\":[[0.0,\"#0d0887\"],[0.1111111111111111,\"#46039f\"],[0.2222222222222222,\"#7201a8\"],[0.3333333333333333,\"#9c179e\"],[0.4444444444444444,\"#bd3786\"],[0.5555555555555556,\"#d8576b\"],[0.6666666666666666,\"#ed7953\"],[0.7777777777777778,\"#fb9f3a\"],[0.8888888888888888,\"#fdca26\"],[1.0,\"#f0f921\"]],\"type\":\"surface\"}],\"table\":[{\"cells\":{\"fill\":{\"color\":\"#EBF0F8\"},\"line\":{\"color\":\"white\"}},\"header\":{\"fill\":{\"color\":\"#C8D4E3\"},\"line\":{\"color\":\"white\"}},\"type\":\"table\"}]},\"layout\":{\"annotationdefaults\":{\"arrowcolor\":\"#2a3f5f\",\"arrowhead\":0,\"arrowwidth\":1},\"autotypenumbers\":\"strict\",\"coloraxis\":{\"colorbar\":{\"outlinewidth\":0,\"ticks\":\"\"}},\"colorscale\":{\"diverging\":[[0,\"#8e0152\"],[0.1,\"#c51b7d\"],[0.2,\"#de77ae\"],[0.3,\"#f1b6da\"],[0.4,\"#fde0ef\"],[0.5,\"#f7f7f7\"],[0.6,\"#e6f5d0\"],[0.7,\"#b8e186\"],[0.8,\"#7fbc41\"],[0.9,\"#4d9221\"],[1,\"#276419\"]],\"sequential\":[[0.0,\"#0d0887\"],[0.1111111111111111,\"#46039f\"],[0.2222222222222222,\"#7201a8\"],[0.3333333333333333,\"#9c179e\"],[0.4444444444444444,\"#bd3786\"],[0.5555555555555556,\"#d8576b\"],[0.6666666666666666,\"#ed7953\"],[0.7777777777777778,\"#fb9f3a\"],[0.8888888888888888,\"#fdca26\"],[1.0,\"#f0f921\"]],\"sequentialminus\":[[0.0,\"#0d0887\"],[0.1111111111111111,\"#46039f\"],[0.2222222222222222,\"#7201a8\"],[0.3333333333333333,\"#9c179e\"],[0.4444444444444444,\"#bd3786\"],[0.5555555555555556,\"#d8576b\"],[0.6666666666666666,\"#ed7953\"],[0.7777777777777778,\"#fb9f3a\"],[0.8888888888888888,\"#fdca26\"],[1.0,\"#f0f921\"]]},\"colorway\":[\"#636efa\",\"#EF553B\",\"#00cc96\",\"#ab63fa\",\"#FFA15A\",\"#19d3f3\",\"#FF6692\",\"#B6E880\",\"#FF97FF\",\"#FECB52\"],\"font\":{\"color\":\"#2a3f5f\"},\"geo\":{\"bgcolor\":\"white\",\"lakecolor\":\"white\",\"landcolor\":\"#E5ECF6\",\"showlakes\":true,\"showland\":true,\"subunitcolor\":\"white\"},\"hoverlabel\":{\"align\":\"left\"},\"hovermode\":\"closest\",\"mapbox\":{\"style\":\"light\"},\"paper_bgcolor\":\"white\",\"plot_bgcolor\":\"#E5ECF6\",\"polar\":{\"angularaxis\":{\"gridcolor\":\"white\",\"linecolor\":\"white\",\"ticks\":\"\"},\"bgcolor\":\"#E5ECF6\",\"radialaxis\":{\"gridcolor\":\"white\",\"linecolor\":\"white\",\"ticks\":\"\"}},\"scene\":{\"xaxis\":{\"backgroundcolor\":\"#E5ECF6\",\"gridcolor\":\"white\",\"gridwidth\":2,\"linecolor\":\"white\",\"showbackground\":true,\"ticks\":\"\",\"zerolinecolor\":\"white\"},\"yaxis\":{\"backgroundcolor\":\"#E5ECF6\",\"gridcolor\":\"white\",\"gridwidth\":2,\"linecolor\":\"white\",\"showbackground\":true,\"ticks\":\"\",\"zerolinecolor\":\"white\"},\"zaxis\":{\"backgroundcolor\":\"#E5ECF6\",\"gridcolor\":\"white\",\"gridwidth\":2,\"linecolor\":\"white\",\"showbackground\":true,\"ticks\":\"\",\"zerolinecolor\":\"white\"}},\"shapedefaults\":{\"line\":{\"color\":\"#2a3f5f\"}},\"ternary\":{\"aaxis\":{\"gridcolor\":\"white\",\"linecolor\":\"white\",\"ticks\":\"\"},\"baxis\":{\"gridcolor\":\"white\",\"linecolor\":\"white\",\"ticks\":\"\"},\"bgcolor\":\"#E5ECF6\",\"caxis\":{\"gridcolor\":\"white\",\"linecolor\":\"white\",\"ticks\":\"\"}},\"title\":{\"x\":0.05},\"xaxis\":{\"automargin\":true,\"gridcolor\":\"white\",\"linecolor\":\"white\",\"ticks\":\"\",\"title\":{\"standoff\":15},\"zerolinecolor\":\"white\",\"zerolinewidth\":2},\"yaxis\":{\"automargin\":true,\"gridcolor\":\"white\",\"linecolor\":\"white\",\"ticks\":\"\",\"title\":{\"standoff\":15},\"zerolinecolor\":\"white\",\"zerolinewidth\":2}}},\"title\":{\"font\":{\"color\":\"#4D5663\"}},\"xaxis\":{\"gridcolor\":\"#E1E5ED\",\"showgrid\":true,\"tickfont\":{\"color\":\"#4D5663\"},\"title\":{\"font\":{\"color\":\"#4D5663\"},\"text\":\"\"},\"zerolinecolor\":\"#E1E5ED\"},\"yaxis\":{\"gridcolor\":\"#E1E5ED\",\"showgrid\":true,\"tickfont\":{\"color\":\"#4D5663\"},\"title\":{\"font\":{\"color\":\"#4D5663\"},\"text\":\"\"},\"zerolinecolor\":\"#E1E5ED\"}},                        {\"showLink\": true, \"linkText\": \"Export to plot.ly\", \"plotlyServerURL\": \"https://plot.ly\", \"responsive\": true}                    ).then(function(){\n",
       "                            \n",
       "var gd = document.getElementById('5e8dd601-1b4a-483f-b587-ae2a8cab302b');\n",
       "var x = new MutationObserver(function (mutations, observer) {{\n",
       "        var display = window.getComputedStyle(gd).display;\n",
       "        if (!display || display === 'none') {{\n",
       "            console.log([gd, 'removed!']);\n",
       "            Plotly.purge(gd);\n",
       "            observer.disconnect();\n",
       "        }}\n",
       "}});\n",
       "\n",
       "// Listen for the removal of the full notebook cells\n",
       "var notebookContainer = gd.closest('#notebook-container');\n",
       "if (notebookContainer) {{\n",
       "    x.observe(notebookContainer, {childList: true});\n",
       "}}\n",
       "\n",
       "// Listen for the clearing of the current output cell\n",
       "var outputEl = gd.closest('.output');\n",
       "if (outputEl) {{\n",
       "    x.observe(outputEl, {childList: true});\n",
       "}}\n",
       "\n",
       "                        })                };                });            </script>        </div>"
      ]
     },
     "metadata": {},
     "output_type": "display_data"
    }
   ],
   "source": [
    "df['A'].iplot(kind = 'hist',bins = 25)"
   ]
  },
  {
   "cell_type": "code",
   "execution_count": 17,
   "id": "0c4875fc",
   "metadata": {},
   "outputs": [
    {
     "data": {
      "application/vnd.plotly.v1+json": {
       "config": {
        "linkText": "Export to plot.ly",
        "plotlyServerURL": "https://plot.ly",
        "showLink": true
       },
       "data": [
        {
         "marker": {
          "color": [
           "rgb(255, 153, 51)",
           "rgb(55, 128, 191)",
           "rgb(50, 171, 96)",
           "rgb(128, 0, 128)",
           "rgb(219, 64, 82)",
           "rgb(0, 128, 128)",
           "rgb(255, 255, 51)",
           "rgb(128, 128, 0)",
           "rgb(251, 128, 114)",
           "rgb(128, 177, 211)"
          ],
          "line": {
           "width": 1.3
          },
          "size": [
           28,
           36,
           30,
           43,
           52,
           73,
           90,
           50,
           111,
           32,
           103,
           75,
           42,
           95,
           49,
           29,
           68,
           48,
           21,
           97,
           47,
           62,
           20,
           57,
           76,
           59,
           96,
           79,
           40,
           48,
           54,
           44,
           58,
           67,
           42,
           68,
           59,
           47,
           64,
           92,
           30,
           105,
           32,
           65,
           83,
           66,
           67,
           82,
           84,
           54,
           47,
           18,
           108,
           89,
           12,
           40,
           55,
           65,
           65,
           38,
           70,
           18,
           43,
           68,
           77,
           17,
           84,
           71,
           49,
           92,
           74,
           64,
           17,
           12,
           66,
           105,
           18,
           90,
           12,
           35,
           13,
           91,
           13,
           85,
           29,
           38,
           35,
           67,
           57,
           87,
           112,
           89,
           73,
           75,
           67,
           56,
           16,
           21,
           51,
           31
          ],
          "symbol": "circle"
         },
         "mode": "markers",
         "text": "",
         "type": "scatter",
         "x": [
          -0.6695219310356675,
          -0.29192670023127143,
          -0.9831645059332843,
          0.013262990475593704,
          0.5649025921315125,
          0.8064216811322935,
          -0.29053318946379497,
          -1.4553394975965468,
          -0.9334780727469513,
          0.15212781268808825,
          -0.12953561519924947,
          -0.07330120498823028,
          -1.3212460499566323,
          0.5375075631006219,
          -1.5383600487242233,
          1.6479766696245695,
          -1.5151166106018252,
          -0.9487373016303247,
          0.9868363720026039,
          0.8271021762057945,
          0.532847912728279,
          -1.215084246154703,
          -1.06990447666004,
          -0.20423732405811862,
          0.25645744237289564,
          1.1652515725779797,
          0.8666463172667327,
          0.9183747549879647,
          0.6504874381746459,
          -0.8243955949582988,
          0.31764589789799386,
          0.32842115742546457,
          -0.4879250309366784,
          0.9660099268240899,
          -0.4349598763157151,
          0.14565487905762764,
          0.7436189282138251,
          0.9409054661531387,
          -0.6465452666750505,
          -0.0024073828422344406,
          1.7067230767581596,
          -0.4121497707683924,
          -0.11389940712513696,
          -1.798138144899698,
          0.48662376592093887,
          1.0405713605422415,
          1.9209486289049162,
          0.6143066558160502,
          1.533611421591724,
          0.281317373014399,
          0.04453499041913694,
          0.3254655849440727,
          -1.7235950007111245,
          1.0474474785050598,
          0.9103859418107295,
          0.8525517635466807,
          -0.30410879772455135,
          1.6990988245338592,
          -1.4839797836397264,
          0.3832562237229985,
          0.7053168306901907,
          0.4203017735137733,
          0.5074159914678656,
          -0.959297650112034,
          -3.033106810373578,
          -1.1905978134391508,
          -0.28594306994798296,
          1.0009980764514175,
          0.10196558416155194,
          -0.4481953355572154,
          1.561038458049401,
          -1.8510860765324897,
          -0.6915435845117376,
          -1.1887437544871862,
          -0.20891836331908248,
          -1.5645319943763776,
          -0.5071826248289197,
          0.9745002772010514,
          0.5654902978301094,
          1.2781291327972075,
          -0.28550517136639925,
          0.15340572181957526,
          0.8636950655469798,
          -0.5646385664757835,
          2.5955468026902735,
          0.5495383901436504,
          0.12991333229427834,
          1.885651971234061,
          2.3101851334619705,
          -0.7212478669014187,
          1.2248866341084266,
          -0.07861993937764342,
          -1.632126443311677,
          0.817222682609708,
          -1.4875712692802876,
          -0.8284793569588998,
          -0.6147511519801087,
          -0.6260783806020203,
          0.0761575550680676,
          0.6386446816040392
         ],
         "y": [
          -0.047249781195183846,
          0.5807979722191119,
          -0.5840803964125373,
          -2.0256441041451843,
          -2.717758433269804,
          0.8087501871373753,
          0.6808476657323692,
          -1.4517045352576345,
          -1.077566689559306,
          0.5761038177773498,
          -1.7365254614618182,
          -0.18196412399397116,
          0.6326136100827379,
          1.1507282085712174,
          0.5898260705822608,
          0.10035344857577091,
          -1.619410125275257,
          0.6674956593402991,
          -1.1198386404292284,
          -1.2510378091859844,
          0.8895570166309362,
          -0.3692521794513197,
          -0.930071334761612,
          1.0351120663640652,
          -0.1391421027530557,
          0.5966769499472159,
          0.07951570107527746,
          1.039322440493506,
          -1.0403484710164908,
          -0.008916864350763918,
          0.7605828958467573,
          1.316981609729183,
          0.18141931559657465,
          0.04412730738103606,
          0.6215623194712838,
          0.8297396307092603,
          -1.0976640935673252,
          1.1255496523105701,
          1.1656054314719215,
          -0.6129034501836317,
          -0.629216183370437,
          -0.6073399976273386,
          1.8639308196488213,
          0.2867514857577595,
          0.8401257870911673,
          -0.10536946095031792,
          0.6797613470589414,
          0.5336194715918102,
          1.2559348778753936,
          0.4923636697054773,
          -2.161063539331115,
          0.0728617663004551,
          0.8364208839679473,
          -0.12832774187838877,
          1.900093292135524,
          -0.8740842697369767,
          2.2417282144106516,
          -0.38953536213565704,
          -0.23976651362572157,
          -1.5826663125676441,
          -0.3209706218622201,
          0.2105394304809266,
          -1.031877527830503,
          1.4878929073514255,
          0.8602115753808353,
          -1.1136405139370515,
          0.8825996436964001,
          -1.7428085811833083,
          -0.15635544863752787,
          0.7490067955117746,
          -0.3239075025790853,
          0.038532297017919166,
          1.3993657988093093,
          1.1992934839067848,
          -0.36249786145583274,
          2.4394185211403494,
          -0.1793756206531476,
          -0.4576517146060599,
          0.09262337925826437,
          -0.011713327619057282,
          -0.3156445170519262,
          -0.29876236993757893,
          -0.6478579022789553,
          0.7517042293677587,
          1.081513421865064,
          0.44739213512439696,
          -0.9448629749815547,
          -0.575126837808124,
          -0.05765011398142731,
          -0.2820600532547387,
          -0.19546551834527293,
          1.589656469566828,
          -0.20582042289236055,
          -1.2982061633734652,
          -1.2146393062199856,
          0.32144986438176754,
          -0.48218801944586104,
          0.5457219900911298,
          0.9457138531063372,
          -0.04393831853309557
         ]
        }
       ],
       "layout": {
        "legend": {
         "bgcolor": "#F5F6F9",
         "font": {
          "color": "#4D5663"
         }
        },
        "paper_bgcolor": "#F5F6F9",
        "plot_bgcolor": "#F5F6F9",
        "template": {
         "data": {
          "bar": [
           {
            "error_x": {
             "color": "#2a3f5f"
            },
            "error_y": {
             "color": "#2a3f5f"
            },
            "marker": {
             "line": {
              "color": "#E5ECF6",
              "width": 0.5
             },
             "pattern": {
              "fillmode": "overlay",
              "size": 10,
              "solidity": 0.2
             }
            },
            "type": "bar"
           }
          ],
          "barpolar": [
           {
            "marker": {
             "line": {
              "color": "#E5ECF6",
              "width": 0.5
             },
             "pattern": {
              "fillmode": "overlay",
              "size": 10,
              "solidity": 0.2
             }
            },
            "type": "barpolar"
           }
          ],
          "carpet": [
           {
            "aaxis": {
             "endlinecolor": "#2a3f5f",
             "gridcolor": "white",
             "linecolor": "white",
             "minorgridcolor": "white",
             "startlinecolor": "#2a3f5f"
            },
            "baxis": {
             "endlinecolor": "#2a3f5f",
             "gridcolor": "white",
             "linecolor": "white",
             "minorgridcolor": "white",
             "startlinecolor": "#2a3f5f"
            },
            "type": "carpet"
           }
          ],
          "choropleth": [
           {
            "colorbar": {
             "outlinewidth": 0,
             "ticks": ""
            },
            "type": "choropleth"
           }
          ],
          "contour": [
           {
            "colorbar": {
             "outlinewidth": 0,
             "ticks": ""
            },
            "colorscale": [
             [
              0,
              "#0d0887"
             ],
             [
              0.1111111111111111,
              "#46039f"
             ],
             [
              0.2222222222222222,
              "#7201a8"
             ],
             [
              0.3333333333333333,
              "#9c179e"
             ],
             [
              0.4444444444444444,
              "#bd3786"
             ],
             [
              0.5555555555555556,
              "#d8576b"
             ],
             [
              0.6666666666666666,
              "#ed7953"
             ],
             [
              0.7777777777777778,
              "#fb9f3a"
             ],
             [
              0.8888888888888888,
              "#fdca26"
             ],
             [
              1,
              "#f0f921"
             ]
            ],
            "type": "contour"
           }
          ],
          "contourcarpet": [
           {
            "colorbar": {
             "outlinewidth": 0,
             "ticks": ""
            },
            "type": "contourcarpet"
           }
          ],
          "heatmap": [
           {
            "colorbar": {
             "outlinewidth": 0,
             "ticks": ""
            },
            "colorscale": [
             [
              0,
              "#0d0887"
             ],
             [
              0.1111111111111111,
              "#46039f"
             ],
             [
              0.2222222222222222,
              "#7201a8"
             ],
             [
              0.3333333333333333,
              "#9c179e"
             ],
             [
              0.4444444444444444,
              "#bd3786"
             ],
             [
              0.5555555555555556,
              "#d8576b"
             ],
             [
              0.6666666666666666,
              "#ed7953"
             ],
             [
              0.7777777777777778,
              "#fb9f3a"
             ],
             [
              0.8888888888888888,
              "#fdca26"
             ],
             [
              1,
              "#f0f921"
             ]
            ],
            "type": "heatmap"
           }
          ],
          "heatmapgl": [
           {
            "colorbar": {
             "outlinewidth": 0,
             "ticks": ""
            },
            "colorscale": [
             [
              0,
              "#0d0887"
             ],
             [
              0.1111111111111111,
              "#46039f"
             ],
             [
              0.2222222222222222,
              "#7201a8"
             ],
             [
              0.3333333333333333,
              "#9c179e"
             ],
             [
              0.4444444444444444,
              "#bd3786"
             ],
             [
              0.5555555555555556,
              "#d8576b"
             ],
             [
              0.6666666666666666,
              "#ed7953"
             ],
             [
              0.7777777777777778,
              "#fb9f3a"
             ],
             [
              0.8888888888888888,
              "#fdca26"
             ],
             [
              1,
              "#f0f921"
             ]
            ],
            "type": "heatmapgl"
           }
          ],
          "histogram": [
           {
            "marker": {
             "pattern": {
              "fillmode": "overlay",
              "size": 10,
              "solidity": 0.2
             }
            },
            "type": "histogram"
           }
          ],
          "histogram2d": [
           {
            "colorbar": {
             "outlinewidth": 0,
             "ticks": ""
            },
            "colorscale": [
             [
              0,
              "#0d0887"
             ],
             [
              0.1111111111111111,
              "#46039f"
             ],
             [
              0.2222222222222222,
              "#7201a8"
             ],
             [
              0.3333333333333333,
              "#9c179e"
             ],
             [
              0.4444444444444444,
              "#bd3786"
             ],
             [
              0.5555555555555556,
              "#d8576b"
             ],
             [
              0.6666666666666666,
              "#ed7953"
             ],
             [
              0.7777777777777778,
              "#fb9f3a"
             ],
             [
              0.8888888888888888,
              "#fdca26"
             ],
             [
              1,
              "#f0f921"
             ]
            ],
            "type": "histogram2d"
           }
          ],
          "histogram2dcontour": [
           {
            "colorbar": {
             "outlinewidth": 0,
             "ticks": ""
            },
            "colorscale": [
             [
              0,
              "#0d0887"
             ],
             [
              0.1111111111111111,
              "#46039f"
             ],
             [
              0.2222222222222222,
              "#7201a8"
             ],
             [
              0.3333333333333333,
              "#9c179e"
             ],
             [
              0.4444444444444444,
              "#bd3786"
             ],
             [
              0.5555555555555556,
              "#d8576b"
             ],
             [
              0.6666666666666666,
              "#ed7953"
             ],
             [
              0.7777777777777778,
              "#fb9f3a"
             ],
             [
              0.8888888888888888,
              "#fdca26"
             ],
             [
              1,
              "#f0f921"
             ]
            ],
            "type": "histogram2dcontour"
           }
          ],
          "mesh3d": [
           {
            "colorbar": {
             "outlinewidth": 0,
             "ticks": ""
            },
            "type": "mesh3d"
           }
          ],
          "parcoords": [
           {
            "line": {
             "colorbar": {
              "outlinewidth": 0,
              "ticks": ""
             }
            },
            "type": "parcoords"
           }
          ],
          "pie": [
           {
            "automargin": true,
            "type": "pie"
           }
          ],
          "scatter": [
           {
            "fillpattern": {
             "fillmode": "overlay",
             "size": 10,
             "solidity": 0.2
            },
            "type": "scatter"
           }
          ],
          "scatter3d": [
           {
            "line": {
             "colorbar": {
              "outlinewidth": 0,
              "ticks": ""
             }
            },
            "marker": {
             "colorbar": {
              "outlinewidth": 0,
              "ticks": ""
             }
            },
            "type": "scatter3d"
           }
          ],
          "scattercarpet": [
           {
            "marker": {
             "colorbar": {
              "outlinewidth": 0,
              "ticks": ""
             }
            },
            "type": "scattercarpet"
           }
          ],
          "scattergeo": [
           {
            "marker": {
             "colorbar": {
              "outlinewidth": 0,
              "ticks": ""
             }
            },
            "type": "scattergeo"
           }
          ],
          "scattergl": [
           {
            "marker": {
             "colorbar": {
              "outlinewidth": 0,
              "ticks": ""
             }
            },
            "type": "scattergl"
           }
          ],
          "scattermapbox": [
           {
            "marker": {
             "colorbar": {
              "outlinewidth": 0,
              "ticks": ""
             }
            },
            "type": "scattermapbox"
           }
          ],
          "scatterpolar": [
           {
            "marker": {
             "colorbar": {
              "outlinewidth": 0,
              "ticks": ""
             }
            },
            "type": "scatterpolar"
           }
          ],
          "scatterpolargl": [
           {
            "marker": {
             "colorbar": {
              "outlinewidth": 0,
              "ticks": ""
             }
            },
            "type": "scatterpolargl"
           }
          ],
          "scatterternary": [
           {
            "marker": {
             "colorbar": {
              "outlinewidth": 0,
              "ticks": ""
             }
            },
            "type": "scatterternary"
           }
          ],
          "surface": [
           {
            "colorbar": {
             "outlinewidth": 0,
             "ticks": ""
            },
            "colorscale": [
             [
              0,
              "#0d0887"
             ],
             [
              0.1111111111111111,
              "#46039f"
             ],
             [
              0.2222222222222222,
              "#7201a8"
             ],
             [
              0.3333333333333333,
              "#9c179e"
             ],
             [
              0.4444444444444444,
              "#bd3786"
             ],
             [
              0.5555555555555556,
              "#d8576b"
             ],
             [
              0.6666666666666666,
              "#ed7953"
             ],
             [
              0.7777777777777778,
              "#fb9f3a"
             ],
             [
              0.8888888888888888,
              "#fdca26"
             ],
             [
              1,
              "#f0f921"
             ]
            ],
            "type": "surface"
           }
          ],
          "table": [
           {
            "cells": {
             "fill": {
              "color": "#EBF0F8"
             },
             "line": {
              "color": "white"
             }
            },
            "header": {
             "fill": {
              "color": "#C8D4E3"
             },
             "line": {
              "color": "white"
             }
            },
            "type": "table"
           }
          ]
         },
         "layout": {
          "annotationdefaults": {
           "arrowcolor": "#2a3f5f",
           "arrowhead": 0,
           "arrowwidth": 1
          },
          "autotypenumbers": "strict",
          "coloraxis": {
           "colorbar": {
            "outlinewidth": 0,
            "ticks": ""
           }
          },
          "colorscale": {
           "diverging": [
            [
             0,
             "#8e0152"
            ],
            [
             0.1,
             "#c51b7d"
            ],
            [
             0.2,
             "#de77ae"
            ],
            [
             0.3,
             "#f1b6da"
            ],
            [
             0.4,
             "#fde0ef"
            ],
            [
             0.5,
             "#f7f7f7"
            ],
            [
             0.6,
             "#e6f5d0"
            ],
            [
             0.7,
             "#b8e186"
            ],
            [
             0.8,
             "#7fbc41"
            ],
            [
             0.9,
             "#4d9221"
            ],
            [
             1,
             "#276419"
            ]
           ],
           "sequential": [
            [
             0,
             "#0d0887"
            ],
            [
             0.1111111111111111,
             "#46039f"
            ],
            [
             0.2222222222222222,
             "#7201a8"
            ],
            [
             0.3333333333333333,
             "#9c179e"
            ],
            [
             0.4444444444444444,
             "#bd3786"
            ],
            [
             0.5555555555555556,
             "#d8576b"
            ],
            [
             0.6666666666666666,
             "#ed7953"
            ],
            [
             0.7777777777777778,
             "#fb9f3a"
            ],
            [
             0.8888888888888888,
             "#fdca26"
            ],
            [
             1,
             "#f0f921"
            ]
           ],
           "sequentialminus": [
            [
             0,
             "#0d0887"
            ],
            [
             0.1111111111111111,
             "#46039f"
            ],
            [
             0.2222222222222222,
             "#7201a8"
            ],
            [
             0.3333333333333333,
             "#9c179e"
            ],
            [
             0.4444444444444444,
             "#bd3786"
            ],
            [
             0.5555555555555556,
             "#d8576b"
            ],
            [
             0.6666666666666666,
             "#ed7953"
            ],
            [
             0.7777777777777778,
             "#fb9f3a"
            ],
            [
             0.8888888888888888,
             "#fdca26"
            ],
            [
             1,
             "#f0f921"
            ]
           ]
          },
          "colorway": [
           "#636efa",
           "#EF553B",
           "#00cc96",
           "#ab63fa",
           "#FFA15A",
           "#19d3f3",
           "#FF6692",
           "#B6E880",
           "#FF97FF",
           "#FECB52"
          ],
          "font": {
           "color": "#2a3f5f"
          },
          "geo": {
           "bgcolor": "white",
           "lakecolor": "white",
           "landcolor": "#E5ECF6",
           "showlakes": true,
           "showland": true,
           "subunitcolor": "white"
          },
          "hoverlabel": {
           "align": "left"
          },
          "hovermode": "closest",
          "mapbox": {
           "style": "light"
          },
          "paper_bgcolor": "white",
          "plot_bgcolor": "#E5ECF6",
          "polar": {
           "angularaxis": {
            "gridcolor": "white",
            "linecolor": "white",
            "ticks": ""
           },
           "bgcolor": "#E5ECF6",
           "radialaxis": {
            "gridcolor": "white",
            "linecolor": "white",
            "ticks": ""
           }
          },
          "scene": {
           "xaxis": {
            "backgroundcolor": "#E5ECF6",
            "gridcolor": "white",
            "gridwidth": 2,
            "linecolor": "white",
            "showbackground": true,
            "ticks": "",
            "zerolinecolor": "white"
           },
           "yaxis": {
            "backgroundcolor": "#E5ECF6",
            "gridcolor": "white",
            "gridwidth": 2,
            "linecolor": "white",
            "showbackground": true,
            "ticks": "",
            "zerolinecolor": "white"
           },
           "zaxis": {
            "backgroundcolor": "#E5ECF6",
            "gridcolor": "white",
            "gridwidth": 2,
            "linecolor": "white",
            "showbackground": true,
            "ticks": "",
            "zerolinecolor": "white"
           }
          },
          "shapedefaults": {
           "line": {
            "color": "#2a3f5f"
           }
          },
          "ternary": {
           "aaxis": {
            "gridcolor": "white",
            "linecolor": "white",
            "ticks": ""
           },
           "baxis": {
            "gridcolor": "white",
            "linecolor": "white",
            "ticks": ""
           },
           "bgcolor": "#E5ECF6",
           "caxis": {
            "gridcolor": "white",
            "linecolor": "white",
            "ticks": ""
           }
          },
          "title": {
           "x": 0.05
          },
          "xaxis": {
           "automargin": true,
           "gridcolor": "white",
           "linecolor": "white",
           "ticks": "",
           "title": {
            "standoff": 15
           },
           "zerolinecolor": "white",
           "zerolinewidth": 2
          },
          "yaxis": {
           "automargin": true,
           "gridcolor": "white",
           "linecolor": "white",
           "ticks": "",
           "title": {
            "standoff": 15
           },
           "zerolinecolor": "white",
           "zerolinewidth": 2
          }
         }
        },
        "title": {
         "font": {
          "color": "#4D5663"
         }
        },
        "xaxis": {
         "gridcolor": "#E1E5ED",
         "showgrid": true,
         "tickfont": {
          "color": "#4D5663"
         },
         "title": {
          "font": {
           "color": "#4D5663"
          },
          "text": ""
         },
         "zerolinecolor": "#E1E5ED"
        },
        "yaxis": {
         "gridcolor": "#E1E5ED",
         "showgrid": true,
         "tickfont": {
          "color": "#4D5663"
         },
         "title": {
          "font": {
           "color": "#4D5663"
          },
          "text": ""
         },
         "zerolinecolor": "#E1E5ED"
        }
       }
      },
      "text/html": [
       "<div>                            <div id=\"e25149ae-6636-4e8b-bfbf-0dd61fa3d970\" class=\"plotly-graph-div\" style=\"height:525px; width:100%;\"></div>            <script type=\"text/javascript\">                require([\"plotly\"], function(Plotly) {                    window.PLOTLYENV=window.PLOTLYENV || {};\n",
       "                    window.PLOTLYENV.BASE_URL='https://plot.ly';                                    if (document.getElementById(\"e25149ae-6636-4e8b-bfbf-0dd61fa3d970\")) {                    Plotly.newPlot(                        \"e25149ae-6636-4e8b-bfbf-0dd61fa3d970\",                        [{\"marker\":{\"color\":[\"rgb(255, 153, 51)\",\"rgb(55, 128, 191)\",\"rgb(50, 171, 96)\",\"rgb(128, 0, 128)\",\"rgb(219, 64, 82)\",\"rgb(0, 128, 128)\",\"rgb(255, 255, 51)\",\"rgb(128, 128, 0)\",\"rgb(251, 128, 114)\",\"rgb(128, 177, 211)\"],\"line\":{\"width\":1.3},\"size\":[28,36,30,43,52,73,90,50,111,32,103,75,42,95,49,29,68,48,21,97,47,62,20,57,76,59,96,79,40,48,54,44,58,67,42,68,59,47,64,92,30,105,32,65,83,66,67,82,84,54,47,18,108,89,12,40,55,65,65,38,70,18,43,68,77,17,84,71,49,92,74,64,17,12,66,105,18,90,12,35,13,91,13,85,29,38,35,67,57,87,112,89,73,75,67,56,16,21,51,31],\"symbol\":\"circle\"},\"mode\":\"markers\",\"text\":\"\",\"x\":[-0.6695219310356675,-0.29192670023127143,-0.9831645059332843,0.013262990475593704,0.5649025921315125,0.8064216811322935,-0.29053318946379497,-1.4553394975965468,-0.9334780727469513,0.15212781268808825,-0.12953561519924947,-0.07330120498823028,-1.3212460499566323,0.5375075631006219,-1.5383600487242233,1.6479766696245695,-1.5151166106018252,-0.9487373016303247,0.9868363720026039,0.8271021762057945,0.532847912728279,-1.215084246154703,-1.06990447666004,-0.20423732405811862,0.25645744237289564,1.1652515725779797,0.8666463172667327,0.9183747549879647,0.6504874381746459,-0.8243955949582988,0.31764589789799386,0.32842115742546457,-0.4879250309366784,0.9660099268240899,-0.4349598763157151,0.14565487905762764,0.7436189282138251,0.9409054661531387,-0.6465452666750505,-0.0024073828422344406,1.7067230767581596,-0.4121497707683924,-0.11389940712513696,-1.798138144899698,0.48662376592093887,1.0405713605422415,1.9209486289049162,0.6143066558160502,1.533611421591724,0.281317373014399,0.04453499041913694,0.3254655849440727,-1.7235950007111245,1.0474474785050598,0.9103859418107295,0.8525517635466807,-0.30410879772455135,1.6990988245338592,-1.4839797836397264,0.3832562237229985,0.7053168306901907,0.4203017735137733,0.5074159914678656,-0.959297650112034,-3.033106810373578,-1.1905978134391508,-0.28594306994798296,1.0009980764514175,0.10196558416155194,-0.4481953355572154,1.561038458049401,-1.8510860765324897,-0.6915435845117376,-1.1887437544871862,-0.20891836331908248,-1.5645319943763776,-0.5071826248289197,0.9745002772010514,0.5654902978301094,1.2781291327972075,-0.28550517136639925,0.15340572181957526,0.8636950655469798,-0.5646385664757835,2.5955468026902735,0.5495383901436504,0.12991333229427834,1.885651971234061,2.3101851334619705,-0.7212478669014187,1.2248866341084266,-0.07861993937764342,-1.632126443311677,0.817222682609708,-1.4875712692802876,-0.8284793569588998,-0.6147511519801087,-0.6260783806020203,0.0761575550680676,0.6386446816040392],\"y\":[-0.047249781195183846,0.5807979722191119,-0.5840803964125373,-2.0256441041451843,-2.717758433269804,0.8087501871373753,0.6808476657323692,-1.4517045352576345,-1.077566689559306,0.5761038177773498,-1.7365254614618182,-0.18196412399397116,0.6326136100827379,1.1507282085712174,0.5898260705822608,0.10035344857577091,-1.619410125275257,0.6674956593402991,-1.1198386404292284,-1.2510378091859844,0.8895570166309362,-0.3692521794513197,-0.930071334761612,1.0351120663640652,-0.1391421027530557,0.5966769499472159,0.07951570107527746,1.039322440493506,-1.0403484710164908,-0.008916864350763918,0.7605828958467573,1.316981609729183,0.18141931559657465,0.04412730738103606,0.6215623194712838,0.8297396307092603,-1.0976640935673252,1.1255496523105701,1.1656054314719215,-0.6129034501836317,-0.629216183370437,-0.6073399976273386,1.8639308196488213,0.2867514857577595,0.8401257870911673,-0.10536946095031792,0.6797613470589414,0.5336194715918102,1.2559348778753936,0.4923636697054773,-2.161063539331115,0.0728617663004551,0.8364208839679473,-0.12832774187838877,1.900093292135524,-0.8740842697369767,2.2417282144106516,-0.38953536213565704,-0.23976651362572157,-1.5826663125676441,-0.3209706218622201,0.2105394304809266,-1.031877527830503,1.4878929073514255,0.8602115753808353,-1.1136405139370515,0.8825996436964001,-1.7428085811833083,-0.15635544863752787,0.7490067955117746,-0.3239075025790853,0.038532297017919166,1.3993657988093093,1.1992934839067848,-0.36249786145583274,2.4394185211403494,-0.1793756206531476,-0.4576517146060599,0.09262337925826437,-0.011713327619057282,-0.3156445170519262,-0.29876236993757893,-0.6478579022789553,0.7517042293677587,1.081513421865064,0.44739213512439696,-0.9448629749815547,-0.575126837808124,-0.05765011398142731,-0.2820600532547387,-0.19546551834527293,1.589656469566828,-0.20582042289236055,-1.2982061633734652,-1.2146393062199856,0.32144986438176754,-0.48218801944586104,0.5457219900911298,0.9457138531063372,-0.04393831853309557],\"type\":\"scatter\"}],                        {\"legend\":{\"bgcolor\":\"#F5F6F9\",\"font\":{\"color\":\"#4D5663\"}},\"paper_bgcolor\":\"#F5F6F9\",\"plot_bgcolor\":\"#F5F6F9\",\"template\":{\"data\":{\"barpolar\":[{\"marker\":{\"line\":{\"color\":\"#E5ECF6\",\"width\":0.5},\"pattern\":{\"fillmode\":\"overlay\",\"size\":10,\"solidity\":0.2}},\"type\":\"barpolar\"}],\"bar\":[{\"error_x\":{\"color\":\"#2a3f5f\"},\"error_y\":{\"color\":\"#2a3f5f\"},\"marker\":{\"line\":{\"color\":\"#E5ECF6\",\"width\":0.5},\"pattern\":{\"fillmode\":\"overlay\",\"size\":10,\"solidity\":0.2}},\"type\":\"bar\"}],\"carpet\":[{\"aaxis\":{\"endlinecolor\":\"#2a3f5f\",\"gridcolor\":\"white\",\"linecolor\":\"white\",\"minorgridcolor\":\"white\",\"startlinecolor\":\"#2a3f5f\"},\"baxis\":{\"endlinecolor\":\"#2a3f5f\",\"gridcolor\":\"white\",\"linecolor\":\"white\",\"minorgridcolor\":\"white\",\"startlinecolor\":\"#2a3f5f\"},\"type\":\"carpet\"}],\"choropleth\":[{\"colorbar\":{\"outlinewidth\":0,\"ticks\":\"\"},\"type\":\"choropleth\"}],\"contourcarpet\":[{\"colorbar\":{\"outlinewidth\":0,\"ticks\":\"\"},\"type\":\"contourcarpet\"}],\"contour\":[{\"colorbar\":{\"outlinewidth\":0,\"ticks\":\"\"},\"colorscale\":[[0.0,\"#0d0887\"],[0.1111111111111111,\"#46039f\"],[0.2222222222222222,\"#7201a8\"],[0.3333333333333333,\"#9c179e\"],[0.4444444444444444,\"#bd3786\"],[0.5555555555555556,\"#d8576b\"],[0.6666666666666666,\"#ed7953\"],[0.7777777777777778,\"#fb9f3a\"],[0.8888888888888888,\"#fdca26\"],[1.0,\"#f0f921\"]],\"type\":\"contour\"}],\"heatmapgl\":[{\"colorbar\":{\"outlinewidth\":0,\"ticks\":\"\"},\"colorscale\":[[0.0,\"#0d0887\"],[0.1111111111111111,\"#46039f\"],[0.2222222222222222,\"#7201a8\"],[0.3333333333333333,\"#9c179e\"],[0.4444444444444444,\"#bd3786\"],[0.5555555555555556,\"#d8576b\"],[0.6666666666666666,\"#ed7953\"],[0.7777777777777778,\"#fb9f3a\"],[0.8888888888888888,\"#fdca26\"],[1.0,\"#f0f921\"]],\"type\":\"heatmapgl\"}],\"heatmap\":[{\"colorbar\":{\"outlinewidth\":0,\"ticks\":\"\"},\"colorscale\":[[0.0,\"#0d0887\"],[0.1111111111111111,\"#46039f\"],[0.2222222222222222,\"#7201a8\"],[0.3333333333333333,\"#9c179e\"],[0.4444444444444444,\"#bd3786\"],[0.5555555555555556,\"#d8576b\"],[0.6666666666666666,\"#ed7953\"],[0.7777777777777778,\"#fb9f3a\"],[0.8888888888888888,\"#fdca26\"],[1.0,\"#f0f921\"]],\"type\":\"heatmap\"}],\"histogram2dcontour\":[{\"colorbar\":{\"outlinewidth\":0,\"ticks\":\"\"},\"colorscale\":[[0.0,\"#0d0887\"],[0.1111111111111111,\"#46039f\"],[0.2222222222222222,\"#7201a8\"],[0.3333333333333333,\"#9c179e\"],[0.4444444444444444,\"#bd3786\"],[0.5555555555555556,\"#d8576b\"],[0.6666666666666666,\"#ed7953\"],[0.7777777777777778,\"#fb9f3a\"],[0.8888888888888888,\"#fdca26\"],[1.0,\"#f0f921\"]],\"type\":\"histogram2dcontour\"}],\"histogram2d\":[{\"colorbar\":{\"outlinewidth\":0,\"ticks\":\"\"},\"colorscale\":[[0.0,\"#0d0887\"],[0.1111111111111111,\"#46039f\"],[0.2222222222222222,\"#7201a8\"],[0.3333333333333333,\"#9c179e\"],[0.4444444444444444,\"#bd3786\"],[0.5555555555555556,\"#d8576b\"],[0.6666666666666666,\"#ed7953\"],[0.7777777777777778,\"#fb9f3a\"],[0.8888888888888888,\"#fdca26\"],[1.0,\"#f0f921\"]],\"type\":\"histogram2d\"}],\"histogram\":[{\"marker\":{\"pattern\":{\"fillmode\":\"overlay\",\"size\":10,\"solidity\":0.2}},\"type\":\"histogram\"}],\"mesh3d\":[{\"colorbar\":{\"outlinewidth\":0,\"ticks\":\"\"},\"type\":\"mesh3d\"}],\"parcoords\":[{\"line\":{\"colorbar\":{\"outlinewidth\":0,\"ticks\":\"\"}},\"type\":\"parcoords\"}],\"pie\":[{\"automargin\":true,\"type\":\"pie\"}],\"scatter3d\":[{\"line\":{\"colorbar\":{\"outlinewidth\":0,\"ticks\":\"\"}},\"marker\":{\"colorbar\":{\"outlinewidth\":0,\"ticks\":\"\"}},\"type\":\"scatter3d\"}],\"scattercarpet\":[{\"marker\":{\"colorbar\":{\"outlinewidth\":0,\"ticks\":\"\"}},\"type\":\"scattercarpet\"}],\"scattergeo\":[{\"marker\":{\"colorbar\":{\"outlinewidth\":0,\"ticks\":\"\"}},\"type\":\"scattergeo\"}],\"scattergl\":[{\"marker\":{\"colorbar\":{\"outlinewidth\":0,\"ticks\":\"\"}},\"type\":\"scattergl\"}],\"scattermapbox\":[{\"marker\":{\"colorbar\":{\"outlinewidth\":0,\"ticks\":\"\"}},\"type\":\"scattermapbox\"}],\"scatterpolargl\":[{\"marker\":{\"colorbar\":{\"outlinewidth\":0,\"ticks\":\"\"}},\"type\":\"scatterpolargl\"}],\"scatterpolar\":[{\"marker\":{\"colorbar\":{\"outlinewidth\":0,\"ticks\":\"\"}},\"type\":\"scatterpolar\"}],\"scatter\":[{\"fillpattern\":{\"fillmode\":\"overlay\",\"size\":10,\"solidity\":0.2},\"type\":\"scatter\"}],\"scatterternary\":[{\"marker\":{\"colorbar\":{\"outlinewidth\":0,\"ticks\":\"\"}},\"type\":\"scatterternary\"}],\"surface\":[{\"colorbar\":{\"outlinewidth\":0,\"ticks\":\"\"},\"colorscale\":[[0.0,\"#0d0887\"],[0.1111111111111111,\"#46039f\"],[0.2222222222222222,\"#7201a8\"],[0.3333333333333333,\"#9c179e\"],[0.4444444444444444,\"#bd3786\"],[0.5555555555555556,\"#d8576b\"],[0.6666666666666666,\"#ed7953\"],[0.7777777777777778,\"#fb9f3a\"],[0.8888888888888888,\"#fdca26\"],[1.0,\"#f0f921\"]],\"type\":\"surface\"}],\"table\":[{\"cells\":{\"fill\":{\"color\":\"#EBF0F8\"},\"line\":{\"color\":\"white\"}},\"header\":{\"fill\":{\"color\":\"#C8D4E3\"},\"line\":{\"color\":\"white\"}},\"type\":\"table\"}]},\"layout\":{\"annotationdefaults\":{\"arrowcolor\":\"#2a3f5f\",\"arrowhead\":0,\"arrowwidth\":1},\"autotypenumbers\":\"strict\",\"coloraxis\":{\"colorbar\":{\"outlinewidth\":0,\"ticks\":\"\"}},\"colorscale\":{\"diverging\":[[0,\"#8e0152\"],[0.1,\"#c51b7d\"],[0.2,\"#de77ae\"],[0.3,\"#f1b6da\"],[0.4,\"#fde0ef\"],[0.5,\"#f7f7f7\"],[0.6,\"#e6f5d0\"],[0.7,\"#b8e186\"],[0.8,\"#7fbc41\"],[0.9,\"#4d9221\"],[1,\"#276419\"]],\"sequential\":[[0.0,\"#0d0887\"],[0.1111111111111111,\"#46039f\"],[0.2222222222222222,\"#7201a8\"],[0.3333333333333333,\"#9c179e\"],[0.4444444444444444,\"#bd3786\"],[0.5555555555555556,\"#d8576b\"],[0.6666666666666666,\"#ed7953\"],[0.7777777777777778,\"#fb9f3a\"],[0.8888888888888888,\"#fdca26\"],[1.0,\"#f0f921\"]],\"sequentialminus\":[[0.0,\"#0d0887\"],[0.1111111111111111,\"#46039f\"],[0.2222222222222222,\"#7201a8\"],[0.3333333333333333,\"#9c179e\"],[0.4444444444444444,\"#bd3786\"],[0.5555555555555556,\"#d8576b\"],[0.6666666666666666,\"#ed7953\"],[0.7777777777777778,\"#fb9f3a\"],[0.8888888888888888,\"#fdca26\"],[1.0,\"#f0f921\"]]},\"colorway\":[\"#636efa\",\"#EF553B\",\"#00cc96\",\"#ab63fa\",\"#FFA15A\",\"#19d3f3\",\"#FF6692\",\"#B6E880\",\"#FF97FF\",\"#FECB52\"],\"font\":{\"color\":\"#2a3f5f\"},\"geo\":{\"bgcolor\":\"white\",\"lakecolor\":\"white\",\"landcolor\":\"#E5ECF6\",\"showlakes\":true,\"showland\":true,\"subunitcolor\":\"white\"},\"hoverlabel\":{\"align\":\"left\"},\"hovermode\":\"closest\",\"mapbox\":{\"style\":\"light\"},\"paper_bgcolor\":\"white\",\"plot_bgcolor\":\"#E5ECF6\",\"polar\":{\"angularaxis\":{\"gridcolor\":\"white\",\"linecolor\":\"white\",\"ticks\":\"\"},\"bgcolor\":\"#E5ECF6\",\"radialaxis\":{\"gridcolor\":\"white\",\"linecolor\":\"white\",\"ticks\":\"\"}},\"scene\":{\"xaxis\":{\"backgroundcolor\":\"#E5ECF6\",\"gridcolor\":\"white\",\"gridwidth\":2,\"linecolor\":\"white\",\"showbackground\":true,\"ticks\":\"\",\"zerolinecolor\":\"white\"},\"yaxis\":{\"backgroundcolor\":\"#E5ECF6\",\"gridcolor\":\"white\",\"gridwidth\":2,\"linecolor\":\"white\",\"showbackground\":true,\"ticks\":\"\",\"zerolinecolor\":\"white\"},\"zaxis\":{\"backgroundcolor\":\"#E5ECF6\",\"gridcolor\":\"white\",\"gridwidth\":2,\"linecolor\":\"white\",\"showbackground\":true,\"ticks\":\"\",\"zerolinecolor\":\"white\"}},\"shapedefaults\":{\"line\":{\"color\":\"#2a3f5f\"}},\"ternary\":{\"aaxis\":{\"gridcolor\":\"white\",\"linecolor\":\"white\",\"ticks\":\"\"},\"baxis\":{\"gridcolor\":\"white\",\"linecolor\":\"white\",\"ticks\":\"\"},\"bgcolor\":\"#E5ECF6\",\"caxis\":{\"gridcolor\":\"white\",\"linecolor\":\"white\",\"ticks\":\"\"}},\"title\":{\"x\":0.05},\"xaxis\":{\"automargin\":true,\"gridcolor\":\"white\",\"linecolor\":\"white\",\"ticks\":\"\",\"title\":{\"standoff\":15},\"zerolinecolor\":\"white\",\"zerolinewidth\":2},\"yaxis\":{\"automargin\":true,\"gridcolor\":\"white\",\"linecolor\":\"white\",\"ticks\":\"\",\"title\":{\"standoff\":15},\"zerolinecolor\":\"white\",\"zerolinewidth\":2}}},\"title\":{\"font\":{\"color\":\"#4D5663\"}},\"xaxis\":{\"gridcolor\":\"#E1E5ED\",\"showgrid\":true,\"tickfont\":{\"color\":\"#4D5663\"},\"title\":{\"font\":{\"color\":\"#4D5663\"},\"text\":\"\"},\"zerolinecolor\":\"#E1E5ED\"},\"yaxis\":{\"gridcolor\":\"#E1E5ED\",\"showgrid\":true,\"tickfont\":{\"color\":\"#4D5663\"},\"title\":{\"font\":{\"color\":\"#4D5663\"},\"text\":\"\"},\"zerolinecolor\":\"#E1E5ED\"}},                        {\"showLink\": true, \"linkText\": \"Export to plot.ly\", \"plotlyServerURL\": \"https://plot.ly\", \"responsive\": true}                    ).then(function(){\n",
       "                            \n",
       "var gd = document.getElementById('e25149ae-6636-4e8b-bfbf-0dd61fa3d970');\n",
       "var x = new MutationObserver(function (mutations, observer) {{\n",
       "        var display = window.getComputedStyle(gd).display;\n",
       "        if (!display || display === 'none') {{\n",
       "            console.log([gd, 'removed!']);\n",
       "            Plotly.purge(gd);\n",
       "            observer.disconnect();\n",
       "        }}\n",
       "}});\n",
       "\n",
       "// Listen for the removal of the full notebook cells\n",
       "var notebookContainer = gd.closest('#notebook-container');\n",
       "if (notebookContainer) {{\n",
       "    x.observe(notebookContainer, {childList: true});\n",
       "}}\n",
       "\n",
       "// Listen for the clearing of the current output cell\n",
       "var outputEl = gd.closest('.output');\n",
       "if (outputEl) {{\n",
       "    x.observe(outputEl, {childList: true});\n",
       "}}\n",
       "\n",
       "                        })                };                });            </script>        </div>"
      ]
     },
     "metadata": {},
     "output_type": "display_data"
    }
   ],
   "source": [
    "df.iplot(kind='bubble',x='A',y='B',size = 'C')"
   ]
  },
  {
   "cell_type": "markdown",
   "id": "5342d024",
   "metadata": {},
   "source": [
    "# scatter_matrix()\n",
    "\n",
    "Similar to sns.pairplot()"
   ]
  },
  {
   "cell_type": "code",
   "execution_count": 18,
   "id": "23a65df5",
   "metadata": {},
   "outputs": [
    {
     "data": {
      "application/vnd.plotly.v1+json": {
       "config": {
        "linkText": "Export to plot.ly",
        "plotlyServerURL": "https://plot.ly",
        "showLink": true
       },
       "data": [
        {
         "histfunc": "count",
         "histnorm": "",
         "marker": {
          "color": "rgba(255, 153, 51, 1.0)",
          "line": {
           "color": "#4D5663",
           "width": 1.3
          }
         },
         "name": "A",
         "nbinsx": 10,
         "opacity": 0.8,
         "orientation": "v",
         "type": "histogram",
         "x": [
          -0.6695219310356675,
          -0.29192670023127143,
          -0.9831645059332843,
          0.013262990475593704,
          0.5649025921315125,
          0.8064216811322935,
          -0.29053318946379497,
          -1.4553394975965468,
          -0.9334780727469513,
          0.15212781268808825,
          -0.12953561519924947,
          -0.07330120498823028,
          -1.3212460499566323,
          0.5375075631006219,
          -1.5383600487242233,
          1.6479766696245695,
          -1.5151166106018252,
          -0.9487373016303247,
          0.9868363720026039,
          0.8271021762057945,
          0.532847912728279,
          -1.215084246154703,
          -1.06990447666004,
          -0.20423732405811862,
          0.25645744237289564,
          1.1652515725779797,
          0.8666463172667327,
          0.9183747549879647,
          0.6504874381746459,
          -0.8243955949582988,
          0.31764589789799386,
          0.32842115742546457,
          -0.4879250309366784,
          0.9660099268240899,
          -0.4349598763157151,
          0.14565487905762764,
          0.7436189282138251,
          0.9409054661531387,
          -0.6465452666750505,
          -0.0024073828422344406,
          1.7067230767581596,
          -0.4121497707683924,
          -0.11389940712513696,
          -1.798138144899698,
          0.48662376592093887,
          1.0405713605422415,
          1.9209486289049162,
          0.6143066558160502,
          1.533611421591724,
          0.281317373014399,
          0.04453499041913694,
          0.3254655849440727,
          -1.7235950007111245,
          1.0474474785050598,
          0.9103859418107295,
          0.8525517635466807,
          -0.30410879772455135,
          1.6990988245338592,
          -1.4839797836397264,
          0.3832562237229985,
          0.7053168306901907,
          0.4203017735137733,
          0.5074159914678656,
          -0.959297650112034,
          -3.033106810373578,
          -1.1905978134391508,
          -0.28594306994798296,
          1.0009980764514175,
          0.10196558416155194,
          -0.4481953355572154,
          1.561038458049401,
          -1.8510860765324897,
          -0.6915435845117376,
          -1.1887437544871862,
          -0.20891836331908248,
          -1.5645319943763776,
          -0.5071826248289197,
          0.9745002772010514,
          0.5654902978301094,
          1.2781291327972075,
          -0.28550517136639925,
          0.15340572181957526,
          0.8636950655469798,
          -0.5646385664757835,
          2.5955468026902735,
          0.5495383901436504,
          0.12991333229427834,
          1.885651971234061,
          2.3101851334619705,
          -0.7212478669014187,
          1.2248866341084266,
          -0.07861993937764342,
          -1.632126443311677,
          0.817222682609708,
          -1.4875712692802876,
          -0.8284793569588998,
          -0.6147511519801087,
          -0.6260783806020203,
          0.0761575550680676,
          0.6386446816040392
         ],
         "xaxis": "x",
         "yaxis": "y"
        },
        {
         "line": {
          "color": "rgba(128, 128, 128, 1.0)",
          "dash": "solid",
          "shape": "linear",
          "width": 1.3
         },
         "marker": {
          "size": 2,
          "symbol": "circle"
         },
         "mode": "markers",
         "name": "A",
         "text": "",
         "type": "scatter",
         "x": [
          -0.047249781195183846,
          0.5807979722191119,
          -0.5840803964125373,
          -2.0256441041451843,
          -2.717758433269804,
          0.8087501871373753,
          0.6808476657323692,
          -1.4517045352576345,
          -1.077566689559306,
          0.5761038177773498,
          -1.7365254614618182,
          -0.18196412399397116,
          0.6326136100827379,
          1.1507282085712174,
          0.5898260705822608,
          0.10035344857577091,
          -1.619410125275257,
          0.6674956593402991,
          -1.1198386404292284,
          -1.2510378091859844,
          0.8895570166309362,
          -0.3692521794513197,
          -0.930071334761612,
          1.0351120663640652,
          -0.1391421027530557,
          0.5966769499472159,
          0.07951570107527746,
          1.039322440493506,
          -1.0403484710164908,
          -0.008916864350763918,
          0.7605828958467573,
          1.316981609729183,
          0.18141931559657465,
          0.04412730738103606,
          0.6215623194712838,
          0.8297396307092603,
          -1.0976640935673252,
          1.1255496523105701,
          1.1656054314719215,
          -0.6129034501836317,
          -0.629216183370437,
          -0.6073399976273386,
          1.8639308196488213,
          0.2867514857577595,
          0.8401257870911673,
          -0.10536946095031792,
          0.6797613470589414,
          0.5336194715918102,
          1.2559348778753936,
          0.4923636697054773,
          -2.161063539331115,
          0.0728617663004551,
          0.8364208839679473,
          -0.12832774187838877,
          1.900093292135524,
          -0.8740842697369767,
          2.2417282144106516,
          -0.38953536213565704,
          -0.23976651362572157,
          -1.5826663125676441,
          -0.3209706218622201,
          0.2105394304809266,
          -1.031877527830503,
          1.4878929073514255,
          0.8602115753808353,
          -1.1136405139370515,
          0.8825996436964001,
          -1.7428085811833083,
          -0.15635544863752787,
          0.7490067955117746,
          -0.3239075025790853,
          0.038532297017919166,
          1.3993657988093093,
          1.1992934839067848,
          -0.36249786145583274,
          2.4394185211403494,
          -0.1793756206531476,
          -0.4576517146060599,
          0.09262337925826437,
          -0.011713327619057282,
          -0.3156445170519262,
          -0.29876236993757893,
          -0.6478579022789553,
          0.7517042293677587,
          1.081513421865064,
          0.44739213512439696,
          -0.9448629749815547,
          -0.575126837808124,
          -0.05765011398142731,
          -0.2820600532547387,
          -0.19546551834527293,
          1.589656469566828,
          -0.20582042289236055,
          -1.2982061633734652,
          -1.2146393062199856,
          0.32144986438176754,
          -0.48218801944586104,
          0.5457219900911298,
          0.9457138531063372,
          -0.04393831853309557
         ],
         "xaxis": "x2",
         "y": [
          -0.6695219310356675,
          -0.29192670023127143,
          -0.9831645059332843,
          0.013262990475593704,
          0.5649025921315125,
          0.8064216811322935,
          -0.29053318946379497,
          -1.4553394975965468,
          -0.9334780727469513,
          0.15212781268808825,
          -0.12953561519924947,
          -0.07330120498823028,
          -1.3212460499566323,
          0.5375075631006219,
          -1.5383600487242233,
          1.6479766696245695,
          -1.5151166106018252,
          -0.9487373016303247,
          0.9868363720026039,
          0.8271021762057945,
          0.532847912728279,
          -1.215084246154703,
          -1.06990447666004,
          -0.20423732405811862,
          0.25645744237289564,
          1.1652515725779797,
          0.8666463172667327,
          0.9183747549879647,
          0.6504874381746459,
          -0.8243955949582988,
          0.31764589789799386,
          0.32842115742546457,
          -0.4879250309366784,
          0.9660099268240899,
          -0.4349598763157151,
          0.14565487905762764,
          0.7436189282138251,
          0.9409054661531387,
          -0.6465452666750505,
          -0.0024073828422344406,
          1.7067230767581596,
          -0.4121497707683924,
          -0.11389940712513696,
          -1.798138144899698,
          0.48662376592093887,
          1.0405713605422415,
          1.9209486289049162,
          0.6143066558160502,
          1.533611421591724,
          0.281317373014399,
          0.04453499041913694,
          0.3254655849440727,
          -1.7235950007111245,
          1.0474474785050598,
          0.9103859418107295,
          0.8525517635466807,
          -0.30410879772455135,
          1.6990988245338592,
          -1.4839797836397264,
          0.3832562237229985,
          0.7053168306901907,
          0.4203017735137733,
          0.5074159914678656,
          -0.959297650112034,
          -3.033106810373578,
          -1.1905978134391508,
          -0.28594306994798296,
          1.0009980764514175,
          0.10196558416155194,
          -0.4481953355572154,
          1.561038458049401,
          -1.8510860765324897,
          -0.6915435845117376,
          -1.1887437544871862,
          -0.20891836331908248,
          -1.5645319943763776,
          -0.5071826248289197,
          0.9745002772010514,
          0.5654902978301094,
          1.2781291327972075,
          -0.28550517136639925,
          0.15340572181957526,
          0.8636950655469798,
          -0.5646385664757835,
          2.5955468026902735,
          0.5495383901436504,
          0.12991333229427834,
          1.885651971234061,
          2.3101851334619705,
          -0.7212478669014187,
          1.2248866341084266,
          -0.07861993937764342,
          -1.632126443311677,
          0.817222682609708,
          -1.4875712692802876,
          -0.8284793569588998,
          -0.6147511519801087,
          -0.6260783806020203,
          0.0761575550680676,
          0.6386446816040392
         ],
         "yaxis": "y2"
        },
        {
         "line": {
          "color": "rgba(128, 128, 128, 1.0)",
          "dash": "solid",
          "shape": "linear",
          "width": 1.3
         },
         "marker": {
          "size": 2,
          "symbol": "circle"
         },
         "mode": "markers",
         "name": "A",
         "text": "",
         "type": "scatter",
         "x": [
          -1.269296989698203,
          -1.0080155890415854,
          -1.2042570137460005,
          -0.7523343489817734,
          -0.43020462934314735,
          0.3336358016540321,
          0.9395270060313918,
          -0.49396707631428755,
          1.6854042714870956,
          -1.1519275853360607,
          1.3934045042570897,
          0.41327568923473623,
          -0.7783005854279369,
          1.130081211873553,
          -0.5391255834525343,
          -1.241927709895697,
          0.13955167791054937,
          -0.545540348829611,
          -1.5323182277994851,
          1.1854413681856415,
          -0.6103588791438502,
          -0.05502047698401375,
          -1.5526275593486056,
          -0.2296797508695521,
          0.42418074561004593,
          -0.17475197660334327,
          1.1584780930831238,
          0.5291031129691107,
          -0.860917543530964,
          -0.5501337209076124,
          -0.3655464719441802,
          -0.7017880883634365,
          -0.20726908200891606,
          0.13086443709116227,
          -0.7948409026450902,
          0.13715348885403136,
          -0.18601720000085128,
          -0.6150416483220277,
          0.009023116028630363,
          1.0263941390302942,
          -1.2203155657290143,
          1.4563242070698132,
          -1.1176481610187825,
          0.034278414357095194,
          0.6829624892908408,
          0.07445020981186903,
          0.11345731746352025,
          0.6556803556150275,
          0.7211537051814578,
          -0.35752406419099997,
          -0.6093112408885526,
          -1.6364807636898486,
          1.5664007238603521,
          0.9084975527662472,
          -1.8669852044506083,
          -0.8659287608402915,
          -0.31128769379773674,
          0.040145949957772986,
          0.036577475753940075,
          -0.9236678953434068,
          0.22220728705653234,
          -1.6188305639741225,
          -0.7335202363998974,
          0.15511513807471974,
          0.48027922168551607,
          -1.6651611092745204,
          0.7190382345271333,
          0.25825484044436614,
          -0.5386584077017231,
          1.0122525311422148,
          0.37467011145341017,
          -0.00030687665539106085,
          -1.6767773623260784,
          -1.8392357566091053,
          0.07766647630689674,
          1.4902596513380661,
          -1.6311786209709138,
          0.9477701170146784,
          -1.8396926513227327,
          -1.010497166273908,
          -1.81161046210009,
          0.9594559363722026,
          -1.7961997808579593,
          0.7675702455962152,
          -1.2348867296957946,
          -0.9138298167524127,
          -1.0390963379177798,
          0.1060596221344798,
          -0.2506563770654563,
          0.8216316586155562,
          1.7058220161915616,
          0.9136846788674235,
          0.3334144082451351,
          0.41767936627934976,
          0.12838805206541762,
          -0.2924064851651061,
          -1.6972340857693768,
          -1.5325355411904735,
          -0.4389991758348614,
          -1.1817206651105758
         ],
         "xaxis": "x3",
         "y": [
          -0.6695219310356675,
          -0.29192670023127143,
          -0.9831645059332843,
          0.013262990475593704,
          0.5649025921315125,
          0.8064216811322935,
          -0.29053318946379497,
          -1.4553394975965468,
          -0.9334780727469513,
          0.15212781268808825,
          -0.12953561519924947,
          -0.07330120498823028,
          -1.3212460499566323,
          0.5375075631006219,
          -1.5383600487242233,
          1.6479766696245695,
          -1.5151166106018252,
          -0.9487373016303247,
          0.9868363720026039,
          0.8271021762057945,
          0.532847912728279,
          -1.215084246154703,
          -1.06990447666004,
          -0.20423732405811862,
          0.25645744237289564,
          1.1652515725779797,
          0.8666463172667327,
          0.9183747549879647,
          0.6504874381746459,
          -0.8243955949582988,
          0.31764589789799386,
          0.32842115742546457,
          -0.4879250309366784,
          0.9660099268240899,
          -0.4349598763157151,
          0.14565487905762764,
          0.7436189282138251,
          0.9409054661531387,
          -0.6465452666750505,
          -0.0024073828422344406,
          1.7067230767581596,
          -0.4121497707683924,
          -0.11389940712513696,
          -1.798138144899698,
          0.48662376592093887,
          1.0405713605422415,
          1.9209486289049162,
          0.6143066558160502,
          1.533611421591724,
          0.281317373014399,
          0.04453499041913694,
          0.3254655849440727,
          -1.7235950007111245,
          1.0474474785050598,
          0.9103859418107295,
          0.8525517635466807,
          -0.30410879772455135,
          1.6990988245338592,
          -1.4839797836397264,
          0.3832562237229985,
          0.7053168306901907,
          0.4203017735137733,
          0.5074159914678656,
          -0.959297650112034,
          -3.033106810373578,
          -1.1905978134391508,
          -0.28594306994798296,
          1.0009980764514175,
          0.10196558416155194,
          -0.4481953355572154,
          1.561038458049401,
          -1.8510860765324897,
          -0.6915435845117376,
          -1.1887437544871862,
          -0.20891836331908248,
          -1.5645319943763776,
          -0.5071826248289197,
          0.9745002772010514,
          0.5654902978301094,
          1.2781291327972075,
          -0.28550517136639925,
          0.15340572181957526,
          0.8636950655469798,
          -0.5646385664757835,
          2.5955468026902735,
          0.5495383901436504,
          0.12991333229427834,
          1.885651971234061,
          2.3101851334619705,
          -0.7212478669014187,
          1.2248866341084266,
          -0.07861993937764342,
          -1.632126443311677,
          0.817222682609708,
          -1.4875712692802876,
          -0.8284793569588998,
          -0.6147511519801087,
          -0.6260783806020203,
          0.0761575550680676,
          0.6386446816040392
         ],
         "yaxis": "y3"
        },
        {
         "line": {
          "color": "rgba(128, 128, 128, 1.0)",
          "dash": "solid",
          "shape": "linear",
          "width": 1.3
         },
         "marker": {
          "size": 2,
          "symbol": "circle"
         },
         "mode": "markers",
         "name": "A",
         "text": "",
         "type": "scatter",
         "x": [
          0.3812242838491141,
          -0.46340357752793787,
          0.6167444489705141,
          1.0798134526870786,
          -1.4383366016769608,
          -0.7361847830897679,
          2.3926937180300576,
          0.7997596315884576,
          0.9207699908520541,
          0.8639841881702542,
          1.6216363166918863,
          -1.658601034201354,
          -0.7597785877173346,
          -0.4102533812305416,
          0.5259605163022608,
          0.4287236850308033,
          -1.0877905044395537,
          2.0723107094458215,
          -1.073937365541676,
          0.9090998699879687,
          -0.7365230727418189,
          1.040202698275768,
          0.8204697656486994,
          -0.6963766707216732,
          0.39686804299343503,
          0.02889397227904667,
          -0.32677751267453886,
          0.9912327592305462,
          -1.185623785364478,
          -0.13573714074175933,
          1.1486149200459752,
          -0.571162372365066,
          -0.406611360087898,
          -0.758176841987634,
          -0.6455399059030006,
          0.8548512825947828,
          0.5569022011999537,
          -1.159823177041537,
          1.8830257525414391,
          -0.9404633198474414,
          -0.32257735955203637,
          0.8375001716829175,
          -0.1605020062779592,
          -0.2942706397337943,
          1.4009698986932337,
          2.623490062841327,
          -0.08985049905516779,
          -0.4496582857338749,
          -0.8109345730362918,
          1.5277398283314625,
          2.341514349168089,
          0.5352238093734683,
          1.256757727466578,
          0.9176449769963769,
          -1.1453322650658793,
          0.9991968398333853,
          0.5578987916969835,
          0.45388482402783614,
          -0.2682435766762213,
          0.7438000253557365,
          -0.2967607836800882,
          1.7268350191622517,
          -0.5917860546489776,
          0.47380353405943,
          0.5570674383756229,
          0.3242084476632031,
          0.5287385057838155,
          0.14919247882928582,
          -0.8717080064057061,
          0.7834537736924412,
          -0.7041471911231447,
          1.1436549519895929,
          0.5388796697878669,
          0.3799859314064505,
          0.3643418097463149,
          1.3424987987656682,
          -1.244258220048376,
          0.02933955219689519,
          -1.0777066760772744,
          0.10359043065109746,
          -0.5614476219557705,
          -0.8699752902071215,
          -0.6413276178619316,
          0.43718978272824965,
          -0.3737487996766362,
          -0.8583767570606211,
          0.14824534717413057,
          -1.10762636358596,
          -1.7960195726187764,
          1.0788831365163554,
          0.42016061176645664,
          -2.105084978836787,
          -0.8603565150921293,
          0.11601266319846247,
          0.2056840418518598,
          -1.5238397181474899,
          -0.7819901822944672,
          -0.05187577552743315,
          1.3765943230152595,
          -0.1532464682524686
         ],
         "xaxis": "x4",
         "y": [
          -0.6695219310356675,
          -0.29192670023127143,
          -0.9831645059332843,
          0.013262990475593704,
          0.5649025921315125,
          0.8064216811322935,
          -0.29053318946379497,
          -1.4553394975965468,
          -0.9334780727469513,
          0.15212781268808825,
          -0.12953561519924947,
          -0.07330120498823028,
          -1.3212460499566323,
          0.5375075631006219,
          -1.5383600487242233,
          1.6479766696245695,
          -1.5151166106018252,
          -0.9487373016303247,
          0.9868363720026039,
          0.8271021762057945,
          0.532847912728279,
          -1.215084246154703,
          -1.06990447666004,
          -0.20423732405811862,
          0.25645744237289564,
          1.1652515725779797,
          0.8666463172667327,
          0.9183747549879647,
          0.6504874381746459,
          -0.8243955949582988,
          0.31764589789799386,
          0.32842115742546457,
          -0.4879250309366784,
          0.9660099268240899,
          -0.4349598763157151,
          0.14565487905762764,
          0.7436189282138251,
          0.9409054661531387,
          -0.6465452666750505,
          -0.0024073828422344406,
          1.7067230767581596,
          -0.4121497707683924,
          -0.11389940712513696,
          -1.798138144899698,
          0.48662376592093887,
          1.0405713605422415,
          1.9209486289049162,
          0.6143066558160502,
          1.533611421591724,
          0.281317373014399,
          0.04453499041913694,
          0.3254655849440727,
          -1.7235950007111245,
          1.0474474785050598,
          0.9103859418107295,
          0.8525517635466807,
          -0.30410879772455135,
          1.6990988245338592,
          -1.4839797836397264,
          0.3832562237229985,
          0.7053168306901907,
          0.4203017735137733,
          0.5074159914678656,
          -0.959297650112034,
          -3.033106810373578,
          -1.1905978134391508,
          -0.28594306994798296,
          1.0009980764514175,
          0.10196558416155194,
          -0.4481953355572154,
          1.561038458049401,
          -1.8510860765324897,
          -0.6915435845117376,
          -1.1887437544871862,
          -0.20891836331908248,
          -1.5645319943763776,
          -0.5071826248289197,
          0.9745002772010514,
          0.5654902978301094,
          1.2781291327972075,
          -0.28550517136639925,
          0.15340572181957526,
          0.8636950655469798,
          -0.5646385664757835,
          2.5955468026902735,
          0.5495383901436504,
          0.12991333229427834,
          1.885651971234061,
          2.3101851334619705,
          -0.7212478669014187,
          1.2248866341084266,
          -0.07861993937764342,
          -1.632126443311677,
          0.817222682609708,
          -1.4875712692802876,
          -0.8284793569588998,
          -0.6147511519801087,
          -0.6260783806020203,
          0.0761575550680676,
          0.6386446816040392
         ],
         "yaxis": "y4"
        },
        {
         "line": {
          "color": "rgba(128, 128, 128, 1.0)",
          "dash": "solid",
          "shape": "linear",
          "width": 1.3
         },
         "marker": {
          "size": 2,
          "symbol": "circle"
         },
         "mode": "markers",
         "name": "B",
         "text": "",
         "type": "scatter",
         "x": [
          -0.6695219310356675,
          -0.29192670023127143,
          -0.9831645059332843,
          0.013262990475593704,
          0.5649025921315125,
          0.8064216811322935,
          -0.29053318946379497,
          -1.4553394975965468,
          -0.9334780727469513,
          0.15212781268808825,
          -0.12953561519924947,
          -0.07330120498823028,
          -1.3212460499566323,
          0.5375075631006219,
          -1.5383600487242233,
          1.6479766696245695,
          -1.5151166106018252,
          -0.9487373016303247,
          0.9868363720026039,
          0.8271021762057945,
          0.532847912728279,
          -1.215084246154703,
          -1.06990447666004,
          -0.20423732405811862,
          0.25645744237289564,
          1.1652515725779797,
          0.8666463172667327,
          0.9183747549879647,
          0.6504874381746459,
          -0.8243955949582988,
          0.31764589789799386,
          0.32842115742546457,
          -0.4879250309366784,
          0.9660099268240899,
          -0.4349598763157151,
          0.14565487905762764,
          0.7436189282138251,
          0.9409054661531387,
          -0.6465452666750505,
          -0.0024073828422344406,
          1.7067230767581596,
          -0.4121497707683924,
          -0.11389940712513696,
          -1.798138144899698,
          0.48662376592093887,
          1.0405713605422415,
          1.9209486289049162,
          0.6143066558160502,
          1.533611421591724,
          0.281317373014399,
          0.04453499041913694,
          0.3254655849440727,
          -1.7235950007111245,
          1.0474474785050598,
          0.9103859418107295,
          0.8525517635466807,
          -0.30410879772455135,
          1.6990988245338592,
          -1.4839797836397264,
          0.3832562237229985,
          0.7053168306901907,
          0.4203017735137733,
          0.5074159914678656,
          -0.959297650112034,
          -3.033106810373578,
          -1.1905978134391508,
          -0.28594306994798296,
          1.0009980764514175,
          0.10196558416155194,
          -0.4481953355572154,
          1.561038458049401,
          -1.8510860765324897,
          -0.6915435845117376,
          -1.1887437544871862,
          -0.20891836331908248,
          -1.5645319943763776,
          -0.5071826248289197,
          0.9745002772010514,
          0.5654902978301094,
          1.2781291327972075,
          -0.28550517136639925,
          0.15340572181957526,
          0.8636950655469798,
          -0.5646385664757835,
          2.5955468026902735,
          0.5495383901436504,
          0.12991333229427834,
          1.885651971234061,
          2.3101851334619705,
          -0.7212478669014187,
          1.2248866341084266,
          -0.07861993937764342,
          -1.632126443311677,
          0.817222682609708,
          -1.4875712692802876,
          -0.8284793569588998,
          -0.6147511519801087,
          -0.6260783806020203,
          0.0761575550680676,
          0.6386446816040392
         ],
         "xaxis": "x5",
         "y": [
          -0.047249781195183846,
          0.5807979722191119,
          -0.5840803964125373,
          -2.0256441041451843,
          -2.717758433269804,
          0.8087501871373753,
          0.6808476657323692,
          -1.4517045352576345,
          -1.077566689559306,
          0.5761038177773498,
          -1.7365254614618182,
          -0.18196412399397116,
          0.6326136100827379,
          1.1507282085712174,
          0.5898260705822608,
          0.10035344857577091,
          -1.619410125275257,
          0.6674956593402991,
          -1.1198386404292284,
          -1.2510378091859844,
          0.8895570166309362,
          -0.3692521794513197,
          -0.930071334761612,
          1.0351120663640652,
          -0.1391421027530557,
          0.5966769499472159,
          0.07951570107527746,
          1.039322440493506,
          -1.0403484710164908,
          -0.008916864350763918,
          0.7605828958467573,
          1.316981609729183,
          0.18141931559657465,
          0.04412730738103606,
          0.6215623194712838,
          0.8297396307092603,
          -1.0976640935673252,
          1.1255496523105701,
          1.1656054314719215,
          -0.6129034501836317,
          -0.629216183370437,
          -0.6073399976273386,
          1.8639308196488213,
          0.2867514857577595,
          0.8401257870911673,
          -0.10536946095031792,
          0.6797613470589414,
          0.5336194715918102,
          1.2559348778753936,
          0.4923636697054773,
          -2.161063539331115,
          0.0728617663004551,
          0.8364208839679473,
          -0.12832774187838877,
          1.900093292135524,
          -0.8740842697369767,
          2.2417282144106516,
          -0.38953536213565704,
          -0.23976651362572157,
          -1.5826663125676441,
          -0.3209706218622201,
          0.2105394304809266,
          -1.031877527830503,
          1.4878929073514255,
          0.8602115753808353,
          -1.1136405139370515,
          0.8825996436964001,
          -1.7428085811833083,
          -0.15635544863752787,
          0.7490067955117746,
          -0.3239075025790853,
          0.038532297017919166,
          1.3993657988093093,
          1.1992934839067848,
          -0.36249786145583274,
          2.4394185211403494,
          -0.1793756206531476,
          -0.4576517146060599,
          0.09262337925826437,
          -0.011713327619057282,
          -0.3156445170519262,
          -0.29876236993757893,
          -0.6478579022789553,
          0.7517042293677587,
          1.081513421865064,
          0.44739213512439696,
          -0.9448629749815547,
          -0.575126837808124,
          -0.05765011398142731,
          -0.2820600532547387,
          -0.19546551834527293,
          1.589656469566828,
          -0.20582042289236055,
          -1.2982061633734652,
          -1.2146393062199856,
          0.32144986438176754,
          -0.48218801944586104,
          0.5457219900911298,
          0.9457138531063372,
          -0.04393831853309557
         ],
         "yaxis": "y5"
        },
        {
         "histfunc": "count",
         "histnorm": "",
         "marker": {
          "color": "rgba(55, 128, 191, 1.0)",
          "line": {
           "color": "#4D5663",
           "width": 1.3
          }
         },
         "name": "B",
         "nbinsx": 10,
         "opacity": 0.8,
         "orientation": "v",
         "type": "histogram",
         "x": [
          -0.047249781195183846,
          0.5807979722191119,
          -0.5840803964125373,
          -2.0256441041451843,
          -2.717758433269804,
          0.8087501871373753,
          0.6808476657323692,
          -1.4517045352576345,
          -1.077566689559306,
          0.5761038177773498,
          -1.7365254614618182,
          -0.18196412399397116,
          0.6326136100827379,
          1.1507282085712174,
          0.5898260705822608,
          0.10035344857577091,
          -1.619410125275257,
          0.6674956593402991,
          -1.1198386404292284,
          -1.2510378091859844,
          0.8895570166309362,
          -0.3692521794513197,
          -0.930071334761612,
          1.0351120663640652,
          -0.1391421027530557,
          0.5966769499472159,
          0.07951570107527746,
          1.039322440493506,
          -1.0403484710164908,
          -0.008916864350763918,
          0.7605828958467573,
          1.316981609729183,
          0.18141931559657465,
          0.04412730738103606,
          0.6215623194712838,
          0.8297396307092603,
          -1.0976640935673252,
          1.1255496523105701,
          1.1656054314719215,
          -0.6129034501836317,
          -0.629216183370437,
          -0.6073399976273386,
          1.8639308196488213,
          0.2867514857577595,
          0.8401257870911673,
          -0.10536946095031792,
          0.6797613470589414,
          0.5336194715918102,
          1.2559348778753936,
          0.4923636697054773,
          -2.161063539331115,
          0.0728617663004551,
          0.8364208839679473,
          -0.12832774187838877,
          1.900093292135524,
          -0.8740842697369767,
          2.2417282144106516,
          -0.38953536213565704,
          -0.23976651362572157,
          -1.5826663125676441,
          -0.3209706218622201,
          0.2105394304809266,
          -1.031877527830503,
          1.4878929073514255,
          0.8602115753808353,
          -1.1136405139370515,
          0.8825996436964001,
          -1.7428085811833083,
          -0.15635544863752787,
          0.7490067955117746,
          -0.3239075025790853,
          0.038532297017919166,
          1.3993657988093093,
          1.1992934839067848,
          -0.36249786145583274,
          2.4394185211403494,
          -0.1793756206531476,
          -0.4576517146060599,
          0.09262337925826437,
          -0.011713327619057282,
          -0.3156445170519262,
          -0.29876236993757893,
          -0.6478579022789553,
          0.7517042293677587,
          1.081513421865064,
          0.44739213512439696,
          -0.9448629749815547,
          -0.575126837808124,
          -0.05765011398142731,
          -0.2820600532547387,
          -0.19546551834527293,
          1.589656469566828,
          -0.20582042289236055,
          -1.2982061633734652,
          -1.2146393062199856,
          0.32144986438176754,
          -0.48218801944586104,
          0.5457219900911298,
          0.9457138531063372,
          -0.04393831853309557
         ],
         "xaxis": "x6",
         "yaxis": "y6"
        },
        {
         "line": {
          "color": "rgba(128, 128, 128, 1.0)",
          "dash": "solid",
          "shape": "linear",
          "width": 1.3
         },
         "marker": {
          "size": 2,
          "symbol": "circle"
         },
         "mode": "markers",
         "name": "B",
         "text": "",
         "type": "scatter",
         "x": [
          -1.269296989698203,
          -1.0080155890415854,
          -1.2042570137460005,
          -0.7523343489817734,
          -0.43020462934314735,
          0.3336358016540321,
          0.9395270060313918,
          -0.49396707631428755,
          1.6854042714870956,
          -1.1519275853360607,
          1.3934045042570897,
          0.41327568923473623,
          -0.7783005854279369,
          1.130081211873553,
          -0.5391255834525343,
          -1.241927709895697,
          0.13955167791054937,
          -0.545540348829611,
          -1.5323182277994851,
          1.1854413681856415,
          -0.6103588791438502,
          -0.05502047698401375,
          -1.5526275593486056,
          -0.2296797508695521,
          0.42418074561004593,
          -0.17475197660334327,
          1.1584780930831238,
          0.5291031129691107,
          -0.860917543530964,
          -0.5501337209076124,
          -0.3655464719441802,
          -0.7017880883634365,
          -0.20726908200891606,
          0.13086443709116227,
          -0.7948409026450902,
          0.13715348885403136,
          -0.18601720000085128,
          -0.6150416483220277,
          0.009023116028630363,
          1.0263941390302942,
          -1.2203155657290143,
          1.4563242070698132,
          -1.1176481610187825,
          0.034278414357095194,
          0.6829624892908408,
          0.07445020981186903,
          0.11345731746352025,
          0.6556803556150275,
          0.7211537051814578,
          -0.35752406419099997,
          -0.6093112408885526,
          -1.6364807636898486,
          1.5664007238603521,
          0.9084975527662472,
          -1.8669852044506083,
          -0.8659287608402915,
          -0.31128769379773674,
          0.040145949957772986,
          0.036577475753940075,
          -0.9236678953434068,
          0.22220728705653234,
          -1.6188305639741225,
          -0.7335202363998974,
          0.15511513807471974,
          0.48027922168551607,
          -1.6651611092745204,
          0.7190382345271333,
          0.25825484044436614,
          -0.5386584077017231,
          1.0122525311422148,
          0.37467011145341017,
          -0.00030687665539106085,
          -1.6767773623260784,
          -1.8392357566091053,
          0.07766647630689674,
          1.4902596513380661,
          -1.6311786209709138,
          0.9477701170146784,
          -1.8396926513227327,
          -1.010497166273908,
          -1.81161046210009,
          0.9594559363722026,
          -1.7961997808579593,
          0.7675702455962152,
          -1.2348867296957946,
          -0.9138298167524127,
          -1.0390963379177798,
          0.1060596221344798,
          -0.2506563770654563,
          0.8216316586155562,
          1.7058220161915616,
          0.9136846788674235,
          0.3334144082451351,
          0.41767936627934976,
          0.12838805206541762,
          -0.2924064851651061,
          -1.6972340857693768,
          -1.5325355411904735,
          -0.4389991758348614,
          -1.1817206651105758
         ],
         "xaxis": "x7",
         "y": [
          -0.047249781195183846,
          0.5807979722191119,
          -0.5840803964125373,
          -2.0256441041451843,
          -2.717758433269804,
          0.8087501871373753,
          0.6808476657323692,
          -1.4517045352576345,
          -1.077566689559306,
          0.5761038177773498,
          -1.7365254614618182,
          -0.18196412399397116,
          0.6326136100827379,
          1.1507282085712174,
          0.5898260705822608,
          0.10035344857577091,
          -1.619410125275257,
          0.6674956593402991,
          -1.1198386404292284,
          -1.2510378091859844,
          0.8895570166309362,
          -0.3692521794513197,
          -0.930071334761612,
          1.0351120663640652,
          -0.1391421027530557,
          0.5966769499472159,
          0.07951570107527746,
          1.039322440493506,
          -1.0403484710164908,
          -0.008916864350763918,
          0.7605828958467573,
          1.316981609729183,
          0.18141931559657465,
          0.04412730738103606,
          0.6215623194712838,
          0.8297396307092603,
          -1.0976640935673252,
          1.1255496523105701,
          1.1656054314719215,
          -0.6129034501836317,
          -0.629216183370437,
          -0.6073399976273386,
          1.8639308196488213,
          0.2867514857577595,
          0.8401257870911673,
          -0.10536946095031792,
          0.6797613470589414,
          0.5336194715918102,
          1.2559348778753936,
          0.4923636697054773,
          -2.161063539331115,
          0.0728617663004551,
          0.8364208839679473,
          -0.12832774187838877,
          1.900093292135524,
          -0.8740842697369767,
          2.2417282144106516,
          -0.38953536213565704,
          -0.23976651362572157,
          -1.5826663125676441,
          -0.3209706218622201,
          0.2105394304809266,
          -1.031877527830503,
          1.4878929073514255,
          0.8602115753808353,
          -1.1136405139370515,
          0.8825996436964001,
          -1.7428085811833083,
          -0.15635544863752787,
          0.7490067955117746,
          -0.3239075025790853,
          0.038532297017919166,
          1.3993657988093093,
          1.1992934839067848,
          -0.36249786145583274,
          2.4394185211403494,
          -0.1793756206531476,
          -0.4576517146060599,
          0.09262337925826437,
          -0.011713327619057282,
          -0.3156445170519262,
          -0.29876236993757893,
          -0.6478579022789553,
          0.7517042293677587,
          1.081513421865064,
          0.44739213512439696,
          -0.9448629749815547,
          -0.575126837808124,
          -0.05765011398142731,
          -0.2820600532547387,
          -0.19546551834527293,
          1.589656469566828,
          -0.20582042289236055,
          -1.2982061633734652,
          -1.2146393062199856,
          0.32144986438176754,
          -0.48218801944586104,
          0.5457219900911298,
          0.9457138531063372,
          -0.04393831853309557
         ],
         "yaxis": "y7"
        },
        {
         "line": {
          "color": "rgba(128, 128, 128, 1.0)",
          "dash": "solid",
          "shape": "linear",
          "width": 1.3
         },
         "marker": {
          "size": 2,
          "symbol": "circle"
         },
         "mode": "markers",
         "name": "B",
         "text": "",
         "type": "scatter",
         "x": [
          0.3812242838491141,
          -0.46340357752793787,
          0.6167444489705141,
          1.0798134526870786,
          -1.4383366016769608,
          -0.7361847830897679,
          2.3926937180300576,
          0.7997596315884576,
          0.9207699908520541,
          0.8639841881702542,
          1.6216363166918863,
          -1.658601034201354,
          -0.7597785877173346,
          -0.4102533812305416,
          0.5259605163022608,
          0.4287236850308033,
          -1.0877905044395537,
          2.0723107094458215,
          -1.073937365541676,
          0.9090998699879687,
          -0.7365230727418189,
          1.040202698275768,
          0.8204697656486994,
          -0.6963766707216732,
          0.39686804299343503,
          0.02889397227904667,
          -0.32677751267453886,
          0.9912327592305462,
          -1.185623785364478,
          -0.13573714074175933,
          1.1486149200459752,
          -0.571162372365066,
          -0.406611360087898,
          -0.758176841987634,
          -0.6455399059030006,
          0.8548512825947828,
          0.5569022011999537,
          -1.159823177041537,
          1.8830257525414391,
          -0.9404633198474414,
          -0.32257735955203637,
          0.8375001716829175,
          -0.1605020062779592,
          -0.2942706397337943,
          1.4009698986932337,
          2.623490062841327,
          -0.08985049905516779,
          -0.4496582857338749,
          -0.8109345730362918,
          1.5277398283314625,
          2.341514349168089,
          0.5352238093734683,
          1.256757727466578,
          0.9176449769963769,
          -1.1453322650658793,
          0.9991968398333853,
          0.5578987916969835,
          0.45388482402783614,
          -0.2682435766762213,
          0.7438000253557365,
          -0.2967607836800882,
          1.7268350191622517,
          -0.5917860546489776,
          0.47380353405943,
          0.5570674383756229,
          0.3242084476632031,
          0.5287385057838155,
          0.14919247882928582,
          -0.8717080064057061,
          0.7834537736924412,
          -0.7041471911231447,
          1.1436549519895929,
          0.5388796697878669,
          0.3799859314064505,
          0.3643418097463149,
          1.3424987987656682,
          -1.244258220048376,
          0.02933955219689519,
          -1.0777066760772744,
          0.10359043065109746,
          -0.5614476219557705,
          -0.8699752902071215,
          -0.6413276178619316,
          0.43718978272824965,
          -0.3737487996766362,
          -0.8583767570606211,
          0.14824534717413057,
          -1.10762636358596,
          -1.7960195726187764,
          1.0788831365163554,
          0.42016061176645664,
          -2.105084978836787,
          -0.8603565150921293,
          0.11601266319846247,
          0.2056840418518598,
          -1.5238397181474899,
          -0.7819901822944672,
          -0.05187577552743315,
          1.3765943230152595,
          -0.1532464682524686
         ],
         "xaxis": "x8",
         "y": [
          -0.047249781195183846,
          0.5807979722191119,
          -0.5840803964125373,
          -2.0256441041451843,
          -2.717758433269804,
          0.8087501871373753,
          0.6808476657323692,
          -1.4517045352576345,
          -1.077566689559306,
          0.5761038177773498,
          -1.7365254614618182,
          -0.18196412399397116,
          0.6326136100827379,
          1.1507282085712174,
          0.5898260705822608,
          0.10035344857577091,
          -1.619410125275257,
          0.6674956593402991,
          -1.1198386404292284,
          -1.2510378091859844,
          0.8895570166309362,
          -0.3692521794513197,
          -0.930071334761612,
          1.0351120663640652,
          -0.1391421027530557,
          0.5966769499472159,
          0.07951570107527746,
          1.039322440493506,
          -1.0403484710164908,
          -0.008916864350763918,
          0.7605828958467573,
          1.316981609729183,
          0.18141931559657465,
          0.04412730738103606,
          0.6215623194712838,
          0.8297396307092603,
          -1.0976640935673252,
          1.1255496523105701,
          1.1656054314719215,
          -0.6129034501836317,
          -0.629216183370437,
          -0.6073399976273386,
          1.8639308196488213,
          0.2867514857577595,
          0.8401257870911673,
          -0.10536946095031792,
          0.6797613470589414,
          0.5336194715918102,
          1.2559348778753936,
          0.4923636697054773,
          -2.161063539331115,
          0.0728617663004551,
          0.8364208839679473,
          -0.12832774187838877,
          1.900093292135524,
          -0.8740842697369767,
          2.2417282144106516,
          -0.38953536213565704,
          -0.23976651362572157,
          -1.5826663125676441,
          -0.3209706218622201,
          0.2105394304809266,
          -1.031877527830503,
          1.4878929073514255,
          0.8602115753808353,
          -1.1136405139370515,
          0.8825996436964001,
          -1.7428085811833083,
          -0.15635544863752787,
          0.7490067955117746,
          -0.3239075025790853,
          0.038532297017919166,
          1.3993657988093093,
          1.1992934839067848,
          -0.36249786145583274,
          2.4394185211403494,
          -0.1793756206531476,
          -0.4576517146060599,
          0.09262337925826437,
          -0.011713327619057282,
          -0.3156445170519262,
          -0.29876236993757893,
          -0.6478579022789553,
          0.7517042293677587,
          1.081513421865064,
          0.44739213512439696,
          -0.9448629749815547,
          -0.575126837808124,
          -0.05765011398142731,
          -0.2820600532547387,
          -0.19546551834527293,
          1.589656469566828,
          -0.20582042289236055,
          -1.2982061633734652,
          -1.2146393062199856,
          0.32144986438176754,
          -0.48218801944586104,
          0.5457219900911298,
          0.9457138531063372,
          -0.04393831853309557
         ],
         "yaxis": "y8"
        },
        {
         "line": {
          "color": "rgba(128, 128, 128, 1.0)",
          "dash": "solid",
          "shape": "linear",
          "width": 1.3
         },
         "marker": {
          "size": 2,
          "symbol": "circle"
         },
         "mode": "markers",
         "name": "C",
         "text": "",
         "type": "scatter",
         "x": [
          -0.6695219310356675,
          -0.29192670023127143,
          -0.9831645059332843,
          0.013262990475593704,
          0.5649025921315125,
          0.8064216811322935,
          -0.29053318946379497,
          -1.4553394975965468,
          -0.9334780727469513,
          0.15212781268808825,
          -0.12953561519924947,
          -0.07330120498823028,
          -1.3212460499566323,
          0.5375075631006219,
          -1.5383600487242233,
          1.6479766696245695,
          -1.5151166106018252,
          -0.9487373016303247,
          0.9868363720026039,
          0.8271021762057945,
          0.532847912728279,
          -1.215084246154703,
          -1.06990447666004,
          -0.20423732405811862,
          0.25645744237289564,
          1.1652515725779797,
          0.8666463172667327,
          0.9183747549879647,
          0.6504874381746459,
          -0.8243955949582988,
          0.31764589789799386,
          0.32842115742546457,
          -0.4879250309366784,
          0.9660099268240899,
          -0.4349598763157151,
          0.14565487905762764,
          0.7436189282138251,
          0.9409054661531387,
          -0.6465452666750505,
          -0.0024073828422344406,
          1.7067230767581596,
          -0.4121497707683924,
          -0.11389940712513696,
          -1.798138144899698,
          0.48662376592093887,
          1.0405713605422415,
          1.9209486289049162,
          0.6143066558160502,
          1.533611421591724,
          0.281317373014399,
          0.04453499041913694,
          0.3254655849440727,
          -1.7235950007111245,
          1.0474474785050598,
          0.9103859418107295,
          0.8525517635466807,
          -0.30410879772455135,
          1.6990988245338592,
          -1.4839797836397264,
          0.3832562237229985,
          0.7053168306901907,
          0.4203017735137733,
          0.5074159914678656,
          -0.959297650112034,
          -3.033106810373578,
          -1.1905978134391508,
          -0.28594306994798296,
          1.0009980764514175,
          0.10196558416155194,
          -0.4481953355572154,
          1.561038458049401,
          -1.8510860765324897,
          -0.6915435845117376,
          -1.1887437544871862,
          -0.20891836331908248,
          -1.5645319943763776,
          -0.5071826248289197,
          0.9745002772010514,
          0.5654902978301094,
          1.2781291327972075,
          -0.28550517136639925,
          0.15340572181957526,
          0.8636950655469798,
          -0.5646385664757835,
          2.5955468026902735,
          0.5495383901436504,
          0.12991333229427834,
          1.885651971234061,
          2.3101851334619705,
          -0.7212478669014187,
          1.2248866341084266,
          -0.07861993937764342,
          -1.632126443311677,
          0.817222682609708,
          -1.4875712692802876,
          -0.8284793569588998,
          -0.6147511519801087,
          -0.6260783806020203,
          0.0761575550680676,
          0.6386446816040392
         ],
         "xaxis": "x9",
         "y": [
          -1.269296989698203,
          -1.0080155890415854,
          -1.2042570137460005,
          -0.7523343489817734,
          -0.43020462934314735,
          0.3336358016540321,
          0.9395270060313918,
          -0.49396707631428755,
          1.6854042714870956,
          -1.1519275853360607,
          1.3934045042570897,
          0.41327568923473623,
          -0.7783005854279369,
          1.130081211873553,
          -0.5391255834525343,
          -1.241927709895697,
          0.13955167791054937,
          -0.545540348829611,
          -1.5323182277994851,
          1.1854413681856415,
          -0.6103588791438502,
          -0.05502047698401375,
          -1.5526275593486056,
          -0.2296797508695521,
          0.42418074561004593,
          -0.17475197660334327,
          1.1584780930831238,
          0.5291031129691107,
          -0.860917543530964,
          -0.5501337209076124,
          -0.3655464719441802,
          -0.7017880883634365,
          -0.20726908200891606,
          0.13086443709116227,
          -0.7948409026450902,
          0.13715348885403136,
          -0.18601720000085128,
          -0.6150416483220277,
          0.009023116028630363,
          1.0263941390302942,
          -1.2203155657290143,
          1.4563242070698132,
          -1.1176481610187825,
          0.034278414357095194,
          0.6829624892908408,
          0.07445020981186903,
          0.11345731746352025,
          0.6556803556150275,
          0.7211537051814578,
          -0.35752406419099997,
          -0.6093112408885526,
          -1.6364807636898486,
          1.5664007238603521,
          0.9084975527662472,
          -1.8669852044506083,
          -0.8659287608402915,
          -0.31128769379773674,
          0.040145949957772986,
          0.036577475753940075,
          -0.9236678953434068,
          0.22220728705653234,
          -1.6188305639741225,
          -0.7335202363998974,
          0.15511513807471974,
          0.48027922168551607,
          -1.6651611092745204,
          0.7190382345271333,
          0.25825484044436614,
          -0.5386584077017231,
          1.0122525311422148,
          0.37467011145341017,
          -0.00030687665539106085,
          -1.6767773623260784,
          -1.8392357566091053,
          0.07766647630689674,
          1.4902596513380661,
          -1.6311786209709138,
          0.9477701170146784,
          -1.8396926513227327,
          -1.010497166273908,
          -1.81161046210009,
          0.9594559363722026,
          -1.7961997808579593,
          0.7675702455962152,
          -1.2348867296957946,
          -0.9138298167524127,
          -1.0390963379177798,
          0.1060596221344798,
          -0.2506563770654563,
          0.8216316586155562,
          1.7058220161915616,
          0.9136846788674235,
          0.3334144082451351,
          0.41767936627934976,
          0.12838805206541762,
          -0.2924064851651061,
          -1.6972340857693768,
          -1.5325355411904735,
          -0.4389991758348614,
          -1.1817206651105758
         ],
         "yaxis": "y9"
        },
        {
         "line": {
          "color": "rgba(128, 128, 128, 1.0)",
          "dash": "solid",
          "shape": "linear",
          "width": 1.3
         },
         "marker": {
          "size": 2,
          "symbol": "circle"
         },
         "mode": "markers",
         "name": "C",
         "text": "",
         "type": "scatter",
         "x": [
          -0.047249781195183846,
          0.5807979722191119,
          -0.5840803964125373,
          -2.0256441041451843,
          -2.717758433269804,
          0.8087501871373753,
          0.6808476657323692,
          -1.4517045352576345,
          -1.077566689559306,
          0.5761038177773498,
          -1.7365254614618182,
          -0.18196412399397116,
          0.6326136100827379,
          1.1507282085712174,
          0.5898260705822608,
          0.10035344857577091,
          -1.619410125275257,
          0.6674956593402991,
          -1.1198386404292284,
          -1.2510378091859844,
          0.8895570166309362,
          -0.3692521794513197,
          -0.930071334761612,
          1.0351120663640652,
          -0.1391421027530557,
          0.5966769499472159,
          0.07951570107527746,
          1.039322440493506,
          -1.0403484710164908,
          -0.008916864350763918,
          0.7605828958467573,
          1.316981609729183,
          0.18141931559657465,
          0.04412730738103606,
          0.6215623194712838,
          0.8297396307092603,
          -1.0976640935673252,
          1.1255496523105701,
          1.1656054314719215,
          -0.6129034501836317,
          -0.629216183370437,
          -0.6073399976273386,
          1.8639308196488213,
          0.2867514857577595,
          0.8401257870911673,
          -0.10536946095031792,
          0.6797613470589414,
          0.5336194715918102,
          1.2559348778753936,
          0.4923636697054773,
          -2.161063539331115,
          0.0728617663004551,
          0.8364208839679473,
          -0.12832774187838877,
          1.900093292135524,
          -0.8740842697369767,
          2.2417282144106516,
          -0.38953536213565704,
          -0.23976651362572157,
          -1.5826663125676441,
          -0.3209706218622201,
          0.2105394304809266,
          -1.031877527830503,
          1.4878929073514255,
          0.8602115753808353,
          -1.1136405139370515,
          0.8825996436964001,
          -1.7428085811833083,
          -0.15635544863752787,
          0.7490067955117746,
          -0.3239075025790853,
          0.038532297017919166,
          1.3993657988093093,
          1.1992934839067848,
          -0.36249786145583274,
          2.4394185211403494,
          -0.1793756206531476,
          -0.4576517146060599,
          0.09262337925826437,
          -0.011713327619057282,
          -0.3156445170519262,
          -0.29876236993757893,
          -0.6478579022789553,
          0.7517042293677587,
          1.081513421865064,
          0.44739213512439696,
          -0.9448629749815547,
          -0.575126837808124,
          -0.05765011398142731,
          -0.2820600532547387,
          -0.19546551834527293,
          1.589656469566828,
          -0.20582042289236055,
          -1.2982061633734652,
          -1.2146393062199856,
          0.32144986438176754,
          -0.48218801944586104,
          0.5457219900911298,
          0.9457138531063372,
          -0.04393831853309557
         ],
         "xaxis": "x10",
         "y": [
          -1.269296989698203,
          -1.0080155890415854,
          -1.2042570137460005,
          -0.7523343489817734,
          -0.43020462934314735,
          0.3336358016540321,
          0.9395270060313918,
          -0.49396707631428755,
          1.6854042714870956,
          -1.1519275853360607,
          1.3934045042570897,
          0.41327568923473623,
          -0.7783005854279369,
          1.130081211873553,
          -0.5391255834525343,
          -1.241927709895697,
          0.13955167791054937,
          -0.545540348829611,
          -1.5323182277994851,
          1.1854413681856415,
          -0.6103588791438502,
          -0.05502047698401375,
          -1.5526275593486056,
          -0.2296797508695521,
          0.42418074561004593,
          -0.17475197660334327,
          1.1584780930831238,
          0.5291031129691107,
          -0.860917543530964,
          -0.5501337209076124,
          -0.3655464719441802,
          -0.7017880883634365,
          -0.20726908200891606,
          0.13086443709116227,
          -0.7948409026450902,
          0.13715348885403136,
          -0.18601720000085128,
          -0.6150416483220277,
          0.009023116028630363,
          1.0263941390302942,
          -1.2203155657290143,
          1.4563242070698132,
          -1.1176481610187825,
          0.034278414357095194,
          0.6829624892908408,
          0.07445020981186903,
          0.11345731746352025,
          0.6556803556150275,
          0.7211537051814578,
          -0.35752406419099997,
          -0.6093112408885526,
          -1.6364807636898486,
          1.5664007238603521,
          0.9084975527662472,
          -1.8669852044506083,
          -0.8659287608402915,
          -0.31128769379773674,
          0.040145949957772986,
          0.036577475753940075,
          -0.9236678953434068,
          0.22220728705653234,
          -1.6188305639741225,
          -0.7335202363998974,
          0.15511513807471974,
          0.48027922168551607,
          -1.6651611092745204,
          0.7190382345271333,
          0.25825484044436614,
          -0.5386584077017231,
          1.0122525311422148,
          0.37467011145341017,
          -0.00030687665539106085,
          -1.6767773623260784,
          -1.8392357566091053,
          0.07766647630689674,
          1.4902596513380661,
          -1.6311786209709138,
          0.9477701170146784,
          -1.8396926513227327,
          -1.010497166273908,
          -1.81161046210009,
          0.9594559363722026,
          -1.7961997808579593,
          0.7675702455962152,
          -1.2348867296957946,
          -0.9138298167524127,
          -1.0390963379177798,
          0.1060596221344798,
          -0.2506563770654563,
          0.8216316586155562,
          1.7058220161915616,
          0.9136846788674235,
          0.3334144082451351,
          0.41767936627934976,
          0.12838805206541762,
          -0.2924064851651061,
          -1.6972340857693768,
          -1.5325355411904735,
          -0.4389991758348614,
          -1.1817206651105758
         ],
         "yaxis": "y10"
        },
        {
         "histfunc": "count",
         "histnorm": "",
         "marker": {
          "color": "rgba(50, 171, 96, 1.0)",
          "line": {
           "color": "#4D5663",
           "width": 1.3
          }
         },
         "name": "C",
         "nbinsx": 10,
         "opacity": 0.8,
         "orientation": "v",
         "type": "histogram",
         "x": [
          -1.269296989698203,
          -1.0080155890415854,
          -1.2042570137460005,
          -0.7523343489817734,
          -0.43020462934314735,
          0.3336358016540321,
          0.9395270060313918,
          -0.49396707631428755,
          1.6854042714870956,
          -1.1519275853360607,
          1.3934045042570897,
          0.41327568923473623,
          -0.7783005854279369,
          1.130081211873553,
          -0.5391255834525343,
          -1.241927709895697,
          0.13955167791054937,
          -0.545540348829611,
          -1.5323182277994851,
          1.1854413681856415,
          -0.6103588791438502,
          -0.05502047698401375,
          -1.5526275593486056,
          -0.2296797508695521,
          0.42418074561004593,
          -0.17475197660334327,
          1.1584780930831238,
          0.5291031129691107,
          -0.860917543530964,
          -0.5501337209076124,
          -0.3655464719441802,
          -0.7017880883634365,
          -0.20726908200891606,
          0.13086443709116227,
          -0.7948409026450902,
          0.13715348885403136,
          -0.18601720000085128,
          -0.6150416483220277,
          0.009023116028630363,
          1.0263941390302942,
          -1.2203155657290143,
          1.4563242070698132,
          -1.1176481610187825,
          0.034278414357095194,
          0.6829624892908408,
          0.07445020981186903,
          0.11345731746352025,
          0.6556803556150275,
          0.7211537051814578,
          -0.35752406419099997,
          -0.6093112408885526,
          -1.6364807636898486,
          1.5664007238603521,
          0.9084975527662472,
          -1.8669852044506083,
          -0.8659287608402915,
          -0.31128769379773674,
          0.040145949957772986,
          0.036577475753940075,
          -0.9236678953434068,
          0.22220728705653234,
          -1.6188305639741225,
          -0.7335202363998974,
          0.15511513807471974,
          0.48027922168551607,
          -1.6651611092745204,
          0.7190382345271333,
          0.25825484044436614,
          -0.5386584077017231,
          1.0122525311422148,
          0.37467011145341017,
          -0.00030687665539106085,
          -1.6767773623260784,
          -1.8392357566091053,
          0.07766647630689674,
          1.4902596513380661,
          -1.6311786209709138,
          0.9477701170146784,
          -1.8396926513227327,
          -1.010497166273908,
          -1.81161046210009,
          0.9594559363722026,
          -1.7961997808579593,
          0.7675702455962152,
          -1.2348867296957946,
          -0.9138298167524127,
          -1.0390963379177798,
          0.1060596221344798,
          -0.2506563770654563,
          0.8216316586155562,
          1.7058220161915616,
          0.9136846788674235,
          0.3334144082451351,
          0.41767936627934976,
          0.12838805206541762,
          -0.2924064851651061,
          -1.6972340857693768,
          -1.5325355411904735,
          -0.4389991758348614,
          -1.1817206651105758
         ],
         "xaxis": "x11",
         "yaxis": "y11"
        },
        {
         "line": {
          "color": "rgba(128, 128, 128, 1.0)",
          "dash": "solid",
          "shape": "linear",
          "width": 1.3
         },
         "marker": {
          "size": 2,
          "symbol": "circle"
         },
         "mode": "markers",
         "name": "C",
         "text": "",
         "type": "scatter",
         "x": [
          0.3812242838491141,
          -0.46340357752793787,
          0.6167444489705141,
          1.0798134526870786,
          -1.4383366016769608,
          -0.7361847830897679,
          2.3926937180300576,
          0.7997596315884576,
          0.9207699908520541,
          0.8639841881702542,
          1.6216363166918863,
          -1.658601034201354,
          -0.7597785877173346,
          -0.4102533812305416,
          0.5259605163022608,
          0.4287236850308033,
          -1.0877905044395537,
          2.0723107094458215,
          -1.073937365541676,
          0.9090998699879687,
          -0.7365230727418189,
          1.040202698275768,
          0.8204697656486994,
          -0.6963766707216732,
          0.39686804299343503,
          0.02889397227904667,
          -0.32677751267453886,
          0.9912327592305462,
          -1.185623785364478,
          -0.13573714074175933,
          1.1486149200459752,
          -0.571162372365066,
          -0.406611360087898,
          -0.758176841987634,
          -0.6455399059030006,
          0.8548512825947828,
          0.5569022011999537,
          -1.159823177041537,
          1.8830257525414391,
          -0.9404633198474414,
          -0.32257735955203637,
          0.8375001716829175,
          -0.1605020062779592,
          -0.2942706397337943,
          1.4009698986932337,
          2.623490062841327,
          -0.08985049905516779,
          -0.4496582857338749,
          -0.8109345730362918,
          1.5277398283314625,
          2.341514349168089,
          0.5352238093734683,
          1.256757727466578,
          0.9176449769963769,
          -1.1453322650658793,
          0.9991968398333853,
          0.5578987916969835,
          0.45388482402783614,
          -0.2682435766762213,
          0.7438000253557365,
          -0.2967607836800882,
          1.7268350191622517,
          -0.5917860546489776,
          0.47380353405943,
          0.5570674383756229,
          0.3242084476632031,
          0.5287385057838155,
          0.14919247882928582,
          -0.8717080064057061,
          0.7834537736924412,
          -0.7041471911231447,
          1.1436549519895929,
          0.5388796697878669,
          0.3799859314064505,
          0.3643418097463149,
          1.3424987987656682,
          -1.244258220048376,
          0.02933955219689519,
          -1.0777066760772744,
          0.10359043065109746,
          -0.5614476219557705,
          -0.8699752902071215,
          -0.6413276178619316,
          0.43718978272824965,
          -0.3737487996766362,
          -0.8583767570606211,
          0.14824534717413057,
          -1.10762636358596,
          -1.7960195726187764,
          1.0788831365163554,
          0.42016061176645664,
          -2.105084978836787,
          -0.8603565150921293,
          0.11601266319846247,
          0.2056840418518598,
          -1.5238397181474899,
          -0.7819901822944672,
          -0.05187577552743315,
          1.3765943230152595,
          -0.1532464682524686
         ],
         "xaxis": "x12",
         "y": [
          -1.269296989698203,
          -1.0080155890415854,
          -1.2042570137460005,
          -0.7523343489817734,
          -0.43020462934314735,
          0.3336358016540321,
          0.9395270060313918,
          -0.49396707631428755,
          1.6854042714870956,
          -1.1519275853360607,
          1.3934045042570897,
          0.41327568923473623,
          -0.7783005854279369,
          1.130081211873553,
          -0.5391255834525343,
          -1.241927709895697,
          0.13955167791054937,
          -0.545540348829611,
          -1.5323182277994851,
          1.1854413681856415,
          -0.6103588791438502,
          -0.05502047698401375,
          -1.5526275593486056,
          -0.2296797508695521,
          0.42418074561004593,
          -0.17475197660334327,
          1.1584780930831238,
          0.5291031129691107,
          -0.860917543530964,
          -0.5501337209076124,
          -0.3655464719441802,
          -0.7017880883634365,
          -0.20726908200891606,
          0.13086443709116227,
          -0.7948409026450902,
          0.13715348885403136,
          -0.18601720000085128,
          -0.6150416483220277,
          0.009023116028630363,
          1.0263941390302942,
          -1.2203155657290143,
          1.4563242070698132,
          -1.1176481610187825,
          0.034278414357095194,
          0.6829624892908408,
          0.07445020981186903,
          0.11345731746352025,
          0.6556803556150275,
          0.7211537051814578,
          -0.35752406419099997,
          -0.6093112408885526,
          -1.6364807636898486,
          1.5664007238603521,
          0.9084975527662472,
          -1.8669852044506083,
          -0.8659287608402915,
          -0.31128769379773674,
          0.040145949957772986,
          0.036577475753940075,
          -0.9236678953434068,
          0.22220728705653234,
          -1.6188305639741225,
          -0.7335202363998974,
          0.15511513807471974,
          0.48027922168551607,
          -1.6651611092745204,
          0.7190382345271333,
          0.25825484044436614,
          -0.5386584077017231,
          1.0122525311422148,
          0.37467011145341017,
          -0.00030687665539106085,
          -1.6767773623260784,
          -1.8392357566091053,
          0.07766647630689674,
          1.4902596513380661,
          -1.6311786209709138,
          0.9477701170146784,
          -1.8396926513227327,
          -1.010497166273908,
          -1.81161046210009,
          0.9594559363722026,
          -1.7961997808579593,
          0.7675702455962152,
          -1.2348867296957946,
          -0.9138298167524127,
          -1.0390963379177798,
          0.1060596221344798,
          -0.2506563770654563,
          0.8216316586155562,
          1.7058220161915616,
          0.9136846788674235,
          0.3334144082451351,
          0.41767936627934976,
          0.12838805206541762,
          -0.2924064851651061,
          -1.6972340857693768,
          -1.5325355411904735,
          -0.4389991758348614,
          -1.1817206651105758
         ],
         "yaxis": "y12"
        },
        {
         "line": {
          "color": "rgba(128, 128, 128, 1.0)",
          "dash": "solid",
          "shape": "linear",
          "width": 1.3
         },
         "marker": {
          "size": 2,
          "symbol": "circle"
         },
         "mode": "markers",
         "name": "D",
         "text": "",
         "type": "scatter",
         "x": [
          -0.6695219310356675,
          -0.29192670023127143,
          -0.9831645059332843,
          0.013262990475593704,
          0.5649025921315125,
          0.8064216811322935,
          -0.29053318946379497,
          -1.4553394975965468,
          -0.9334780727469513,
          0.15212781268808825,
          -0.12953561519924947,
          -0.07330120498823028,
          -1.3212460499566323,
          0.5375075631006219,
          -1.5383600487242233,
          1.6479766696245695,
          -1.5151166106018252,
          -0.9487373016303247,
          0.9868363720026039,
          0.8271021762057945,
          0.532847912728279,
          -1.215084246154703,
          -1.06990447666004,
          -0.20423732405811862,
          0.25645744237289564,
          1.1652515725779797,
          0.8666463172667327,
          0.9183747549879647,
          0.6504874381746459,
          -0.8243955949582988,
          0.31764589789799386,
          0.32842115742546457,
          -0.4879250309366784,
          0.9660099268240899,
          -0.4349598763157151,
          0.14565487905762764,
          0.7436189282138251,
          0.9409054661531387,
          -0.6465452666750505,
          -0.0024073828422344406,
          1.7067230767581596,
          -0.4121497707683924,
          -0.11389940712513696,
          -1.798138144899698,
          0.48662376592093887,
          1.0405713605422415,
          1.9209486289049162,
          0.6143066558160502,
          1.533611421591724,
          0.281317373014399,
          0.04453499041913694,
          0.3254655849440727,
          -1.7235950007111245,
          1.0474474785050598,
          0.9103859418107295,
          0.8525517635466807,
          -0.30410879772455135,
          1.6990988245338592,
          -1.4839797836397264,
          0.3832562237229985,
          0.7053168306901907,
          0.4203017735137733,
          0.5074159914678656,
          -0.959297650112034,
          -3.033106810373578,
          -1.1905978134391508,
          -0.28594306994798296,
          1.0009980764514175,
          0.10196558416155194,
          -0.4481953355572154,
          1.561038458049401,
          -1.8510860765324897,
          -0.6915435845117376,
          -1.1887437544871862,
          -0.20891836331908248,
          -1.5645319943763776,
          -0.5071826248289197,
          0.9745002772010514,
          0.5654902978301094,
          1.2781291327972075,
          -0.28550517136639925,
          0.15340572181957526,
          0.8636950655469798,
          -0.5646385664757835,
          2.5955468026902735,
          0.5495383901436504,
          0.12991333229427834,
          1.885651971234061,
          2.3101851334619705,
          -0.7212478669014187,
          1.2248866341084266,
          -0.07861993937764342,
          -1.632126443311677,
          0.817222682609708,
          -1.4875712692802876,
          -0.8284793569588998,
          -0.6147511519801087,
          -0.6260783806020203,
          0.0761575550680676,
          0.6386446816040392
         ],
         "xaxis": "x13",
         "y": [
          0.3812242838491141,
          -0.46340357752793787,
          0.6167444489705141,
          1.0798134526870786,
          -1.4383366016769608,
          -0.7361847830897679,
          2.3926937180300576,
          0.7997596315884576,
          0.9207699908520541,
          0.8639841881702542,
          1.6216363166918863,
          -1.658601034201354,
          -0.7597785877173346,
          -0.4102533812305416,
          0.5259605163022608,
          0.4287236850308033,
          -1.0877905044395537,
          2.0723107094458215,
          -1.073937365541676,
          0.9090998699879687,
          -0.7365230727418189,
          1.040202698275768,
          0.8204697656486994,
          -0.6963766707216732,
          0.39686804299343503,
          0.02889397227904667,
          -0.32677751267453886,
          0.9912327592305462,
          -1.185623785364478,
          -0.13573714074175933,
          1.1486149200459752,
          -0.571162372365066,
          -0.406611360087898,
          -0.758176841987634,
          -0.6455399059030006,
          0.8548512825947828,
          0.5569022011999537,
          -1.159823177041537,
          1.8830257525414391,
          -0.9404633198474414,
          -0.32257735955203637,
          0.8375001716829175,
          -0.1605020062779592,
          -0.2942706397337943,
          1.4009698986932337,
          2.623490062841327,
          -0.08985049905516779,
          -0.4496582857338749,
          -0.8109345730362918,
          1.5277398283314625,
          2.341514349168089,
          0.5352238093734683,
          1.256757727466578,
          0.9176449769963769,
          -1.1453322650658793,
          0.9991968398333853,
          0.5578987916969835,
          0.45388482402783614,
          -0.2682435766762213,
          0.7438000253557365,
          -0.2967607836800882,
          1.7268350191622517,
          -0.5917860546489776,
          0.47380353405943,
          0.5570674383756229,
          0.3242084476632031,
          0.5287385057838155,
          0.14919247882928582,
          -0.8717080064057061,
          0.7834537736924412,
          -0.7041471911231447,
          1.1436549519895929,
          0.5388796697878669,
          0.3799859314064505,
          0.3643418097463149,
          1.3424987987656682,
          -1.244258220048376,
          0.02933955219689519,
          -1.0777066760772744,
          0.10359043065109746,
          -0.5614476219557705,
          -0.8699752902071215,
          -0.6413276178619316,
          0.43718978272824965,
          -0.3737487996766362,
          -0.8583767570606211,
          0.14824534717413057,
          -1.10762636358596,
          -1.7960195726187764,
          1.0788831365163554,
          0.42016061176645664,
          -2.105084978836787,
          -0.8603565150921293,
          0.11601266319846247,
          0.2056840418518598,
          -1.5238397181474899,
          -0.7819901822944672,
          -0.05187577552743315,
          1.3765943230152595,
          -0.1532464682524686
         ],
         "yaxis": "y13"
        },
        {
         "line": {
          "color": "rgba(128, 128, 128, 1.0)",
          "dash": "solid",
          "shape": "linear",
          "width": 1.3
         },
         "marker": {
          "size": 2,
          "symbol": "circle"
         },
         "mode": "markers",
         "name": "D",
         "text": "",
         "type": "scatter",
         "x": [
          -0.047249781195183846,
          0.5807979722191119,
          -0.5840803964125373,
          -2.0256441041451843,
          -2.717758433269804,
          0.8087501871373753,
          0.6808476657323692,
          -1.4517045352576345,
          -1.077566689559306,
          0.5761038177773498,
          -1.7365254614618182,
          -0.18196412399397116,
          0.6326136100827379,
          1.1507282085712174,
          0.5898260705822608,
          0.10035344857577091,
          -1.619410125275257,
          0.6674956593402991,
          -1.1198386404292284,
          -1.2510378091859844,
          0.8895570166309362,
          -0.3692521794513197,
          -0.930071334761612,
          1.0351120663640652,
          -0.1391421027530557,
          0.5966769499472159,
          0.07951570107527746,
          1.039322440493506,
          -1.0403484710164908,
          -0.008916864350763918,
          0.7605828958467573,
          1.316981609729183,
          0.18141931559657465,
          0.04412730738103606,
          0.6215623194712838,
          0.8297396307092603,
          -1.0976640935673252,
          1.1255496523105701,
          1.1656054314719215,
          -0.6129034501836317,
          -0.629216183370437,
          -0.6073399976273386,
          1.8639308196488213,
          0.2867514857577595,
          0.8401257870911673,
          -0.10536946095031792,
          0.6797613470589414,
          0.5336194715918102,
          1.2559348778753936,
          0.4923636697054773,
          -2.161063539331115,
          0.0728617663004551,
          0.8364208839679473,
          -0.12832774187838877,
          1.900093292135524,
          -0.8740842697369767,
          2.2417282144106516,
          -0.38953536213565704,
          -0.23976651362572157,
          -1.5826663125676441,
          -0.3209706218622201,
          0.2105394304809266,
          -1.031877527830503,
          1.4878929073514255,
          0.8602115753808353,
          -1.1136405139370515,
          0.8825996436964001,
          -1.7428085811833083,
          -0.15635544863752787,
          0.7490067955117746,
          -0.3239075025790853,
          0.038532297017919166,
          1.3993657988093093,
          1.1992934839067848,
          -0.36249786145583274,
          2.4394185211403494,
          -0.1793756206531476,
          -0.4576517146060599,
          0.09262337925826437,
          -0.011713327619057282,
          -0.3156445170519262,
          -0.29876236993757893,
          -0.6478579022789553,
          0.7517042293677587,
          1.081513421865064,
          0.44739213512439696,
          -0.9448629749815547,
          -0.575126837808124,
          -0.05765011398142731,
          -0.2820600532547387,
          -0.19546551834527293,
          1.589656469566828,
          -0.20582042289236055,
          -1.2982061633734652,
          -1.2146393062199856,
          0.32144986438176754,
          -0.48218801944586104,
          0.5457219900911298,
          0.9457138531063372,
          -0.04393831853309557
         ],
         "xaxis": "x14",
         "y": [
          0.3812242838491141,
          -0.46340357752793787,
          0.6167444489705141,
          1.0798134526870786,
          -1.4383366016769608,
          -0.7361847830897679,
          2.3926937180300576,
          0.7997596315884576,
          0.9207699908520541,
          0.8639841881702542,
          1.6216363166918863,
          -1.658601034201354,
          -0.7597785877173346,
          -0.4102533812305416,
          0.5259605163022608,
          0.4287236850308033,
          -1.0877905044395537,
          2.0723107094458215,
          -1.073937365541676,
          0.9090998699879687,
          -0.7365230727418189,
          1.040202698275768,
          0.8204697656486994,
          -0.6963766707216732,
          0.39686804299343503,
          0.02889397227904667,
          -0.32677751267453886,
          0.9912327592305462,
          -1.185623785364478,
          -0.13573714074175933,
          1.1486149200459752,
          -0.571162372365066,
          -0.406611360087898,
          -0.758176841987634,
          -0.6455399059030006,
          0.8548512825947828,
          0.5569022011999537,
          -1.159823177041537,
          1.8830257525414391,
          -0.9404633198474414,
          -0.32257735955203637,
          0.8375001716829175,
          -0.1605020062779592,
          -0.2942706397337943,
          1.4009698986932337,
          2.623490062841327,
          -0.08985049905516779,
          -0.4496582857338749,
          -0.8109345730362918,
          1.5277398283314625,
          2.341514349168089,
          0.5352238093734683,
          1.256757727466578,
          0.9176449769963769,
          -1.1453322650658793,
          0.9991968398333853,
          0.5578987916969835,
          0.45388482402783614,
          -0.2682435766762213,
          0.7438000253557365,
          -0.2967607836800882,
          1.7268350191622517,
          -0.5917860546489776,
          0.47380353405943,
          0.5570674383756229,
          0.3242084476632031,
          0.5287385057838155,
          0.14919247882928582,
          -0.8717080064057061,
          0.7834537736924412,
          -0.7041471911231447,
          1.1436549519895929,
          0.5388796697878669,
          0.3799859314064505,
          0.3643418097463149,
          1.3424987987656682,
          -1.244258220048376,
          0.02933955219689519,
          -1.0777066760772744,
          0.10359043065109746,
          -0.5614476219557705,
          -0.8699752902071215,
          -0.6413276178619316,
          0.43718978272824965,
          -0.3737487996766362,
          -0.8583767570606211,
          0.14824534717413057,
          -1.10762636358596,
          -1.7960195726187764,
          1.0788831365163554,
          0.42016061176645664,
          -2.105084978836787,
          -0.8603565150921293,
          0.11601266319846247,
          0.2056840418518598,
          -1.5238397181474899,
          -0.7819901822944672,
          -0.05187577552743315,
          1.3765943230152595,
          -0.1532464682524686
         ],
         "yaxis": "y14"
        },
        {
         "line": {
          "color": "rgba(128, 128, 128, 1.0)",
          "dash": "solid",
          "shape": "linear",
          "width": 1.3
         },
         "marker": {
          "size": 2,
          "symbol": "circle"
         },
         "mode": "markers",
         "name": "D",
         "text": "",
         "type": "scatter",
         "x": [
          -1.269296989698203,
          -1.0080155890415854,
          -1.2042570137460005,
          -0.7523343489817734,
          -0.43020462934314735,
          0.3336358016540321,
          0.9395270060313918,
          -0.49396707631428755,
          1.6854042714870956,
          -1.1519275853360607,
          1.3934045042570897,
          0.41327568923473623,
          -0.7783005854279369,
          1.130081211873553,
          -0.5391255834525343,
          -1.241927709895697,
          0.13955167791054937,
          -0.545540348829611,
          -1.5323182277994851,
          1.1854413681856415,
          -0.6103588791438502,
          -0.05502047698401375,
          -1.5526275593486056,
          -0.2296797508695521,
          0.42418074561004593,
          -0.17475197660334327,
          1.1584780930831238,
          0.5291031129691107,
          -0.860917543530964,
          -0.5501337209076124,
          -0.3655464719441802,
          -0.7017880883634365,
          -0.20726908200891606,
          0.13086443709116227,
          -0.7948409026450902,
          0.13715348885403136,
          -0.18601720000085128,
          -0.6150416483220277,
          0.009023116028630363,
          1.0263941390302942,
          -1.2203155657290143,
          1.4563242070698132,
          -1.1176481610187825,
          0.034278414357095194,
          0.6829624892908408,
          0.07445020981186903,
          0.11345731746352025,
          0.6556803556150275,
          0.7211537051814578,
          -0.35752406419099997,
          -0.6093112408885526,
          -1.6364807636898486,
          1.5664007238603521,
          0.9084975527662472,
          -1.8669852044506083,
          -0.8659287608402915,
          -0.31128769379773674,
          0.040145949957772986,
          0.036577475753940075,
          -0.9236678953434068,
          0.22220728705653234,
          -1.6188305639741225,
          -0.7335202363998974,
          0.15511513807471974,
          0.48027922168551607,
          -1.6651611092745204,
          0.7190382345271333,
          0.25825484044436614,
          -0.5386584077017231,
          1.0122525311422148,
          0.37467011145341017,
          -0.00030687665539106085,
          -1.6767773623260784,
          -1.8392357566091053,
          0.07766647630689674,
          1.4902596513380661,
          -1.6311786209709138,
          0.9477701170146784,
          -1.8396926513227327,
          -1.010497166273908,
          -1.81161046210009,
          0.9594559363722026,
          -1.7961997808579593,
          0.7675702455962152,
          -1.2348867296957946,
          -0.9138298167524127,
          -1.0390963379177798,
          0.1060596221344798,
          -0.2506563770654563,
          0.8216316586155562,
          1.7058220161915616,
          0.9136846788674235,
          0.3334144082451351,
          0.41767936627934976,
          0.12838805206541762,
          -0.2924064851651061,
          -1.6972340857693768,
          -1.5325355411904735,
          -0.4389991758348614,
          -1.1817206651105758
         ],
         "xaxis": "x15",
         "y": [
          0.3812242838491141,
          -0.46340357752793787,
          0.6167444489705141,
          1.0798134526870786,
          -1.4383366016769608,
          -0.7361847830897679,
          2.3926937180300576,
          0.7997596315884576,
          0.9207699908520541,
          0.8639841881702542,
          1.6216363166918863,
          -1.658601034201354,
          -0.7597785877173346,
          -0.4102533812305416,
          0.5259605163022608,
          0.4287236850308033,
          -1.0877905044395537,
          2.0723107094458215,
          -1.073937365541676,
          0.9090998699879687,
          -0.7365230727418189,
          1.040202698275768,
          0.8204697656486994,
          -0.6963766707216732,
          0.39686804299343503,
          0.02889397227904667,
          -0.32677751267453886,
          0.9912327592305462,
          -1.185623785364478,
          -0.13573714074175933,
          1.1486149200459752,
          -0.571162372365066,
          -0.406611360087898,
          -0.758176841987634,
          -0.6455399059030006,
          0.8548512825947828,
          0.5569022011999537,
          -1.159823177041537,
          1.8830257525414391,
          -0.9404633198474414,
          -0.32257735955203637,
          0.8375001716829175,
          -0.1605020062779592,
          -0.2942706397337943,
          1.4009698986932337,
          2.623490062841327,
          -0.08985049905516779,
          -0.4496582857338749,
          -0.8109345730362918,
          1.5277398283314625,
          2.341514349168089,
          0.5352238093734683,
          1.256757727466578,
          0.9176449769963769,
          -1.1453322650658793,
          0.9991968398333853,
          0.5578987916969835,
          0.45388482402783614,
          -0.2682435766762213,
          0.7438000253557365,
          -0.2967607836800882,
          1.7268350191622517,
          -0.5917860546489776,
          0.47380353405943,
          0.5570674383756229,
          0.3242084476632031,
          0.5287385057838155,
          0.14919247882928582,
          -0.8717080064057061,
          0.7834537736924412,
          -0.7041471911231447,
          1.1436549519895929,
          0.5388796697878669,
          0.3799859314064505,
          0.3643418097463149,
          1.3424987987656682,
          -1.244258220048376,
          0.02933955219689519,
          -1.0777066760772744,
          0.10359043065109746,
          -0.5614476219557705,
          -0.8699752902071215,
          -0.6413276178619316,
          0.43718978272824965,
          -0.3737487996766362,
          -0.8583767570606211,
          0.14824534717413057,
          -1.10762636358596,
          -1.7960195726187764,
          1.0788831365163554,
          0.42016061176645664,
          -2.105084978836787,
          -0.8603565150921293,
          0.11601266319846247,
          0.2056840418518598,
          -1.5238397181474899,
          -0.7819901822944672,
          -0.05187577552743315,
          1.3765943230152595,
          -0.1532464682524686
         ],
         "yaxis": "y15"
        },
        {
         "histfunc": "count",
         "histnorm": "",
         "marker": {
          "color": "rgba(128, 0, 128, 1.0)",
          "line": {
           "color": "#4D5663",
           "width": 1.3
          }
         },
         "name": "D",
         "nbinsx": 10,
         "opacity": 0.8,
         "orientation": "v",
         "type": "histogram",
         "x": [
          0.3812242838491141,
          -0.46340357752793787,
          0.6167444489705141,
          1.0798134526870786,
          -1.4383366016769608,
          -0.7361847830897679,
          2.3926937180300576,
          0.7997596315884576,
          0.9207699908520541,
          0.8639841881702542,
          1.6216363166918863,
          -1.658601034201354,
          -0.7597785877173346,
          -0.4102533812305416,
          0.5259605163022608,
          0.4287236850308033,
          -1.0877905044395537,
          2.0723107094458215,
          -1.073937365541676,
          0.9090998699879687,
          -0.7365230727418189,
          1.040202698275768,
          0.8204697656486994,
          -0.6963766707216732,
          0.39686804299343503,
          0.02889397227904667,
          -0.32677751267453886,
          0.9912327592305462,
          -1.185623785364478,
          -0.13573714074175933,
          1.1486149200459752,
          -0.571162372365066,
          -0.406611360087898,
          -0.758176841987634,
          -0.6455399059030006,
          0.8548512825947828,
          0.5569022011999537,
          -1.159823177041537,
          1.8830257525414391,
          -0.9404633198474414,
          -0.32257735955203637,
          0.8375001716829175,
          -0.1605020062779592,
          -0.2942706397337943,
          1.4009698986932337,
          2.623490062841327,
          -0.08985049905516779,
          -0.4496582857338749,
          -0.8109345730362918,
          1.5277398283314625,
          2.341514349168089,
          0.5352238093734683,
          1.256757727466578,
          0.9176449769963769,
          -1.1453322650658793,
          0.9991968398333853,
          0.5578987916969835,
          0.45388482402783614,
          -0.2682435766762213,
          0.7438000253557365,
          -0.2967607836800882,
          1.7268350191622517,
          -0.5917860546489776,
          0.47380353405943,
          0.5570674383756229,
          0.3242084476632031,
          0.5287385057838155,
          0.14919247882928582,
          -0.8717080064057061,
          0.7834537736924412,
          -0.7041471911231447,
          1.1436549519895929,
          0.5388796697878669,
          0.3799859314064505,
          0.3643418097463149,
          1.3424987987656682,
          -1.244258220048376,
          0.02933955219689519,
          -1.0777066760772744,
          0.10359043065109746,
          -0.5614476219557705,
          -0.8699752902071215,
          -0.6413276178619316,
          0.43718978272824965,
          -0.3737487996766362,
          -0.8583767570606211,
          0.14824534717413057,
          -1.10762636358596,
          -1.7960195726187764,
          1.0788831365163554,
          0.42016061176645664,
          -2.105084978836787,
          -0.8603565150921293,
          0.11601266319846247,
          0.2056840418518598,
          -1.5238397181474899,
          -0.7819901822944672,
          -0.05187577552743315,
          1.3765943230152595,
          -0.1532464682524686
         ],
         "xaxis": "x16",
         "yaxis": "y16"
        }
       ],
       "layout": {
        "bargap": 0.02,
        "legend": {
         "bgcolor": "#F5F6F9",
         "font": {
          "color": "#4D5663"
         }
        },
        "paper_bgcolor": "#F5F6F9",
        "plot_bgcolor": "#F5F6F9",
        "showlegend": false,
        "template": {
         "data": {
          "bar": [
           {
            "error_x": {
             "color": "#2a3f5f"
            },
            "error_y": {
             "color": "#2a3f5f"
            },
            "marker": {
             "line": {
              "color": "#E5ECF6",
              "width": 0.5
             },
             "pattern": {
              "fillmode": "overlay",
              "size": 10,
              "solidity": 0.2
             }
            },
            "type": "bar"
           }
          ],
          "barpolar": [
           {
            "marker": {
             "line": {
              "color": "#E5ECF6",
              "width": 0.5
             },
             "pattern": {
              "fillmode": "overlay",
              "size": 10,
              "solidity": 0.2
             }
            },
            "type": "barpolar"
           }
          ],
          "carpet": [
           {
            "aaxis": {
             "endlinecolor": "#2a3f5f",
             "gridcolor": "white",
             "linecolor": "white",
             "minorgridcolor": "white",
             "startlinecolor": "#2a3f5f"
            },
            "baxis": {
             "endlinecolor": "#2a3f5f",
             "gridcolor": "white",
             "linecolor": "white",
             "minorgridcolor": "white",
             "startlinecolor": "#2a3f5f"
            },
            "type": "carpet"
           }
          ],
          "choropleth": [
           {
            "colorbar": {
             "outlinewidth": 0,
             "ticks": ""
            },
            "type": "choropleth"
           }
          ],
          "contour": [
           {
            "colorbar": {
             "outlinewidth": 0,
             "ticks": ""
            },
            "colorscale": [
             [
              0,
              "#0d0887"
             ],
             [
              0.1111111111111111,
              "#46039f"
             ],
             [
              0.2222222222222222,
              "#7201a8"
             ],
             [
              0.3333333333333333,
              "#9c179e"
             ],
             [
              0.4444444444444444,
              "#bd3786"
             ],
             [
              0.5555555555555556,
              "#d8576b"
             ],
             [
              0.6666666666666666,
              "#ed7953"
             ],
             [
              0.7777777777777778,
              "#fb9f3a"
             ],
             [
              0.8888888888888888,
              "#fdca26"
             ],
             [
              1,
              "#f0f921"
             ]
            ],
            "type": "contour"
           }
          ],
          "contourcarpet": [
           {
            "colorbar": {
             "outlinewidth": 0,
             "ticks": ""
            },
            "type": "contourcarpet"
           }
          ],
          "heatmap": [
           {
            "colorbar": {
             "outlinewidth": 0,
             "ticks": ""
            },
            "colorscale": [
             [
              0,
              "#0d0887"
             ],
             [
              0.1111111111111111,
              "#46039f"
             ],
             [
              0.2222222222222222,
              "#7201a8"
             ],
             [
              0.3333333333333333,
              "#9c179e"
             ],
             [
              0.4444444444444444,
              "#bd3786"
             ],
             [
              0.5555555555555556,
              "#d8576b"
             ],
             [
              0.6666666666666666,
              "#ed7953"
             ],
             [
              0.7777777777777778,
              "#fb9f3a"
             ],
             [
              0.8888888888888888,
              "#fdca26"
             ],
             [
              1,
              "#f0f921"
             ]
            ],
            "type": "heatmap"
           }
          ],
          "heatmapgl": [
           {
            "colorbar": {
             "outlinewidth": 0,
             "ticks": ""
            },
            "colorscale": [
             [
              0,
              "#0d0887"
             ],
             [
              0.1111111111111111,
              "#46039f"
             ],
             [
              0.2222222222222222,
              "#7201a8"
             ],
             [
              0.3333333333333333,
              "#9c179e"
             ],
             [
              0.4444444444444444,
              "#bd3786"
             ],
             [
              0.5555555555555556,
              "#d8576b"
             ],
             [
              0.6666666666666666,
              "#ed7953"
             ],
             [
              0.7777777777777778,
              "#fb9f3a"
             ],
             [
              0.8888888888888888,
              "#fdca26"
             ],
             [
              1,
              "#f0f921"
             ]
            ],
            "type": "heatmapgl"
           }
          ],
          "histogram": [
           {
            "marker": {
             "pattern": {
              "fillmode": "overlay",
              "size": 10,
              "solidity": 0.2
             }
            },
            "type": "histogram"
           }
          ],
          "histogram2d": [
           {
            "colorbar": {
             "outlinewidth": 0,
             "ticks": ""
            },
            "colorscale": [
             [
              0,
              "#0d0887"
             ],
             [
              0.1111111111111111,
              "#46039f"
             ],
             [
              0.2222222222222222,
              "#7201a8"
             ],
             [
              0.3333333333333333,
              "#9c179e"
             ],
             [
              0.4444444444444444,
              "#bd3786"
             ],
             [
              0.5555555555555556,
              "#d8576b"
             ],
             [
              0.6666666666666666,
              "#ed7953"
             ],
             [
              0.7777777777777778,
              "#fb9f3a"
             ],
             [
              0.8888888888888888,
              "#fdca26"
             ],
             [
              1,
              "#f0f921"
             ]
            ],
            "type": "histogram2d"
           }
          ],
          "histogram2dcontour": [
           {
            "colorbar": {
             "outlinewidth": 0,
             "ticks": ""
            },
            "colorscale": [
             [
              0,
              "#0d0887"
             ],
             [
              0.1111111111111111,
              "#46039f"
             ],
             [
              0.2222222222222222,
              "#7201a8"
             ],
             [
              0.3333333333333333,
              "#9c179e"
             ],
             [
              0.4444444444444444,
              "#bd3786"
             ],
             [
              0.5555555555555556,
              "#d8576b"
             ],
             [
              0.6666666666666666,
              "#ed7953"
             ],
             [
              0.7777777777777778,
              "#fb9f3a"
             ],
             [
              0.8888888888888888,
              "#fdca26"
             ],
             [
              1,
              "#f0f921"
             ]
            ],
            "type": "histogram2dcontour"
           }
          ],
          "mesh3d": [
           {
            "colorbar": {
             "outlinewidth": 0,
             "ticks": ""
            },
            "type": "mesh3d"
           }
          ],
          "parcoords": [
           {
            "line": {
             "colorbar": {
              "outlinewidth": 0,
              "ticks": ""
             }
            },
            "type": "parcoords"
           }
          ],
          "pie": [
           {
            "automargin": true,
            "type": "pie"
           }
          ],
          "scatter": [
           {
            "fillpattern": {
             "fillmode": "overlay",
             "size": 10,
             "solidity": 0.2
            },
            "type": "scatter"
           }
          ],
          "scatter3d": [
           {
            "line": {
             "colorbar": {
              "outlinewidth": 0,
              "ticks": ""
             }
            },
            "marker": {
             "colorbar": {
              "outlinewidth": 0,
              "ticks": ""
             }
            },
            "type": "scatter3d"
           }
          ],
          "scattercarpet": [
           {
            "marker": {
             "colorbar": {
              "outlinewidth": 0,
              "ticks": ""
             }
            },
            "type": "scattercarpet"
           }
          ],
          "scattergeo": [
           {
            "marker": {
             "colorbar": {
              "outlinewidth": 0,
              "ticks": ""
             }
            },
            "type": "scattergeo"
           }
          ],
          "scattergl": [
           {
            "marker": {
             "colorbar": {
              "outlinewidth": 0,
              "ticks": ""
             }
            },
            "type": "scattergl"
           }
          ],
          "scattermapbox": [
           {
            "marker": {
             "colorbar": {
              "outlinewidth": 0,
              "ticks": ""
             }
            },
            "type": "scattermapbox"
           }
          ],
          "scatterpolar": [
           {
            "marker": {
             "colorbar": {
              "outlinewidth": 0,
              "ticks": ""
             }
            },
            "type": "scatterpolar"
           }
          ],
          "scatterpolargl": [
           {
            "marker": {
             "colorbar": {
              "outlinewidth": 0,
              "ticks": ""
             }
            },
            "type": "scatterpolargl"
           }
          ],
          "scatterternary": [
           {
            "marker": {
             "colorbar": {
              "outlinewidth": 0,
              "ticks": ""
             }
            },
            "type": "scatterternary"
           }
          ],
          "surface": [
           {
            "colorbar": {
             "outlinewidth": 0,
             "ticks": ""
            },
            "colorscale": [
             [
              0,
              "#0d0887"
             ],
             [
              0.1111111111111111,
              "#46039f"
             ],
             [
              0.2222222222222222,
              "#7201a8"
             ],
             [
              0.3333333333333333,
              "#9c179e"
             ],
             [
              0.4444444444444444,
              "#bd3786"
             ],
             [
              0.5555555555555556,
              "#d8576b"
             ],
             [
              0.6666666666666666,
              "#ed7953"
             ],
             [
              0.7777777777777778,
              "#fb9f3a"
             ],
             [
              0.8888888888888888,
              "#fdca26"
             ],
             [
              1,
              "#f0f921"
             ]
            ],
            "type": "surface"
           }
          ],
          "table": [
           {
            "cells": {
             "fill": {
              "color": "#EBF0F8"
             },
             "line": {
              "color": "white"
             }
            },
            "header": {
             "fill": {
              "color": "#C8D4E3"
             },
             "line": {
              "color": "white"
             }
            },
            "type": "table"
           }
          ]
         },
         "layout": {
          "annotationdefaults": {
           "arrowcolor": "#2a3f5f",
           "arrowhead": 0,
           "arrowwidth": 1
          },
          "autotypenumbers": "strict",
          "coloraxis": {
           "colorbar": {
            "outlinewidth": 0,
            "ticks": ""
           }
          },
          "colorscale": {
           "diverging": [
            [
             0,
             "#8e0152"
            ],
            [
             0.1,
             "#c51b7d"
            ],
            [
             0.2,
             "#de77ae"
            ],
            [
             0.3,
             "#f1b6da"
            ],
            [
             0.4,
             "#fde0ef"
            ],
            [
             0.5,
             "#f7f7f7"
            ],
            [
             0.6,
             "#e6f5d0"
            ],
            [
             0.7,
             "#b8e186"
            ],
            [
             0.8,
             "#7fbc41"
            ],
            [
             0.9,
             "#4d9221"
            ],
            [
             1,
             "#276419"
            ]
           ],
           "sequential": [
            [
             0,
             "#0d0887"
            ],
            [
             0.1111111111111111,
             "#46039f"
            ],
            [
             0.2222222222222222,
             "#7201a8"
            ],
            [
             0.3333333333333333,
             "#9c179e"
            ],
            [
             0.4444444444444444,
             "#bd3786"
            ],
            [
             0.5555555555555556,
             "#d8576b"
            ],
            [
             0.6666666666666666,
             "#ed7953"
            ],
            [
             0.7777777777777778,
             "#fb9f3a"
            ],
            [
             0.8888888888888888,
             "#fdca26"
            ],
            [
             1,
             "#f0f921"
            ]
           ],
           "sequentialminus": [
            [
             0,
             "#0d0887"
            ],
            [
             0.1111111111111111,
             "#46039f"
            ],
            [
             0.2222222222222222,
             "#7201a8"
            ],
            [
             0.3333333333333333,
             "#9c179e"
            ],
            [
             0.4444444444444444,
             "#bd3786"
            ],
            [
             0.5555555555555556,
             "#d8576b"
            ],
            [
             0.6666666666666666,
             "#ed7953"
            ],
            [
             0.7777777777777778,
             "#fb9f3a"
            ],
            [
             0.8888888888888888,
             "#fdca26"
            ],
            [
             1,
             "#f0f921"
            ]
           ]
          },
          "colorway": [
           "#636efa",
           "#EF553B",
           "#00cc96",
           "#ab63fa",
           "#FFA15A",
           "#19d3f3",
           "#FF6692",
           "#B6E880",
           "#FF97FF",
           "#FECB52"
          ],
          "font": {
           "color": "#2a3f5f"
          },
          "geo": {
           "bgcolor": "white",
           "lakecolor": "white",
           "landcolor": "#E5ECF6",
           "showlakes": true,
           "showland": true,
           "subunitcolor": "white"
          },
          "hoverlabel": {
           "align": "left"
          },
          "hovermode": "closest",
          "mapbox": {
           "style": "light"
          },
          "paper_bgcolor": "white",
          "plot_bgcolor": "#E5ECF6",
          "polar": {
           "angularaxis": {
            "gridcolor": "white",
            "linecolor": "white",
            "ticks": ""
           },
           "bgcolor": "#E5ECF6",
           "radialaxis": {
            "gridcolor": "white",
            "linecolor": "white",
            "ticks": ""
           }
          },
          "scene": {
           "xaxis": {
            "backgroundcolor": "#E5ECF6",
            "gridcolor": "white",
            "gridwidth": 2,
            "linecolor": "white",
            "showbackground": true,
            "ticks": "",
            "zerolinecolor": "white"
           },
           "yaxis": {
            "backgroundcolor": "#E5ECF6",
            "gridcolor": "white",
            "gridwidth": 2,
            "linecolor": "white",
            "showbackground": true,
            "ticks": "",
            "zerolinecolor": "white"
           },
           "zaxis": {
            "backgroundcolor": "#E5ECF6",
            "gridcolor": "white",
            "gridwidth": 2,
            "linecolor": "white",
            "showbackground": true,
            "ticks": "",
            "zerolinecolor": "white"
           }
          },
          "shapedefaults": {
           "line": {
            "color": "#2a3f5f"
           }
          },
          "ternary": {
           "aaxis": {
            "gridcolor": "white",
            "linecolor": "white",
            "ticks": ""
           },
           "baxis": {
            "gridcolor": "white",
            "linecolor": "white",
            "ticks": ""
           },
           "bgcolor": "#E5ECF6",
           "caxis": {
            "gridcolor": "white",
            "linecolor": "white",
            "ticks": ""
           }
          },
          "title": {
           "x": 0.05
          },
          "xaxis": {
           "automargin": true,
           "gridcolor": "white",
           "linecolor": "white",
           "ticks": "",
           "title": {
            "standoff": 15
           },
           "zerolinecolor": "white",
           "zerolinewidth": 2
          },
          "yaxis": {
           "automargin": true,
           "gridcolor": "white",
           "linecolor": "white",
           "ticks": "",
           "title": {
            "standoff": 15
           },
           "zerolinecolor": "white",
           "zerolinewidth": 2
          }
         }
        },
        "title": {
         "font": {
          "color": "#4D5663"
         }
        },
        "xaxis": {
         "anchor": "y",
         "domain": [
          0,
          0.2125
         ],
         "gridcolor": "#E1E5ED",
         "showgrid": false,
         "tickfont": {
          "color": "#4D5663"
         },
         "title": {
          "font": {
           "color": "#4D5663"
          },
          "text": ""
         },
         "zerolinecolor": "#E1E5ED"
        },
        "xaxis10": {
         "anchor": "y10",
         "domain": [
          0.2625,
          0.475
         ],
         "gridcolor": "#E1E5ED",
         "showgrid": false,
         "tickfont": {
          "color": "#4D5663"
         },
         "title": {
          "font": {
           "color": "#4D5663"
          },
          "text": ""
         },
         "zerolinecolor": "#E1E5ED"
        },
        "xaxis11": {
         "anchor": "y11",
         "domain": [
          0.525,
          0.7375
         ],
         "gridcolor": "#E1E5ED",
         "showgrid": false,
         "tickfont": {
          "color": "#4D5663"
         },
         "title": {
          "font": {
           "color": "#4D5663"
          },
          "text": ""
         },
         "zerolinecolor": "#E1E5ED"
        },
        "xaxis12": {
         "anchor": "y12",
         "domain": [
          0.7875,
          1
         ],
         "gridcolor": "#E1E5ED",
         "showgrid": false,
         "tickfont": {
          "color": "#4D5663"
         },
         "title": {
          "font": {
           "color": "#4D5663"
          },
          "text": ""
         },
         "zerolinecolor": "#E1E5ED"
        },
        "xaxis13": {
         "anchor": "y13",
         "domain": [
          0,
          0.2125
         ],
         "gridcolor": "#E1E5ED",
         "showgrid": false,
         "tickfont": {
          "color": "#4D5663"
         },
         "title": {
          "font": {
           "color": "#4D5663"
          },
          "text": ""
         },
         "zerolinecolor": "#E1E5ED"
        },
        "xaxis14": {
         "anchor": "y14",
         "domain": [
          0.2625,
          0.475
         ],
         "gridcolor": "#E1E5ED",
         "showgrid": false,
         "tickfont": {
          "color": "#4D5663"
         },
         "title": {
          "font": {
           "color": "#4D5663"
          },
          "text": ""
         },
         "zerolinecolor": "#E1E5ED"
        },
        "xaxis15": {
         "anchor": "y15",
         "domain": [
          0.525,
          0.7375
         ],
         "gridcolor": "#E1E5ED",
         "showgrid": false,
         "tickfont": {
          "color": "#4D5663"
         },
         "title": {
          "font": {
           "color": "#4D5663"
          },
          "text": ""
         },
         "zerolinecolor": "#E1E5ED"
        },
        "xaxis16": {
         "anchor": "y16",
         "domain": [
          0.7875,
          1
         ],
         "gridcolor": "#E1E5ED",
         "showgrid": false,
         "tickfont": {
          "color": "#4D5663"
         },
         "title": {
          "font": {
           "color": "#4D5663"
          },
          "text": ""
         },
         "zerolinecolor": "#E1E5ED"
        },
        "xaxis2": {
         "anchor": "y2",
         "domain": [
          0.2625,
          0.475
         ],
         "gridcolor": "#E1E5ED",
         "showgrid": false,
         "tickfont": {
          "color": "#4D5663"
         },
         "title": {
          "font": {
           "color": "#4D5663"
          },
          "text": ""
         },
         "zerolinecolor": "#E1E5ED"
        },
        "xaxis3": {
         "anchor": "y3",
         "domain": [
          0.525,
          0.7375
         ],
         "gridcolor": "#E1E5ED",
         "showgrid": false,
         "tickfont": {
          "color": "#4D5663"
         },
         "title": {
          "font": {
           "color": "#4D5663"
          },
          "text": ""
         },
         "zerolinecolor": "#E1E5ED"
        },
        "xaxis4": {
         "anchor": "y4",
         "domain": [
          0.7875,
          1
         ],
         "gridcolor": "#E1E5ED",
         "showgrid": false,
         "tickfont": {
          "color": "#4D5663"
         },
         "title": {
          "font": {
           "color": "#4D5663"
          },
          "text": ""
         },
         "zerolinecolor": "#E1E5ED"
        },
        "xaxis5": {
         "anchor": "y5",
         "domain": [
          0,
          0.2125
         ],
         "gridcolor": "#E1E5ED",
         "showgrid": false,
         "tickfont": {
          "color": "#4D5663"
         },
         "title": {
          "font": {
           "color": "#4D5663"
          },
          "text": ""
         },
         "zerolinecolor": "#E1E5ED"
        },
        "xaxis6": {
         "anchor": "y6",
         "domain": [
          0.2625,
          0.475
         ],
         "gridcolor": "#E1E5ED",
         "showgrid": false,
         "tickfont": {
          "color": "#4D5663"
         },
         "title": {
          "font": {
           "color": "#4D5663"
          },
          "text": ""
         },
         "zerolinecolor": "#E1E5ED"
        },
        "xaxis7": {
         "anchor": "y7",
         "domain": [
          0.525,
          0.7375
         ],
         "gridcolor": "#E1E5ED",
         "showgrid": false,
         "tickfont": {
          "color": "#4D5663"
         },
         "title": {
          "font": {
           "color": "#4D5663"
          },
          "text": ""
         },
         "zerolinecolor": "#E1E5ED"
        },
        "xaxis8": {
         "anchor": "y8",
         "domain": [
          0.7875,
          1
         ],
         "gridcolor": "#E1E5ED",
         "showgrid": false,
         "tickfont": {
          "color": "#4D5663"
         },
         "title": {
          "font": {
           "color": "#4D5663"
          },
          "text": ""
         },
         "zerolinecolor": "#E1E5ED"
        },
        "xaxis9": {
         "anchor": "y9",
         "domain": [
          0,
          0.2125
         ],
         "gridcolor": "#E1E5ED",
         "showgrid": false,
         "tickfont": {
          "color": "#4D5663"
         },
         "title": {
          "font": {
           "color": "#4D5663"
          },
          "text": ""
         },
         "zerolinecolor": "#E1E5ED"
        },
        "yaxis": {
         "anchor": "x",
         "domain": [
          0.8025,
          1
         ],
         "gridcolor": "#E1E5ED",
         "showgrid": false,
         "tickfont": {
          "color": "#4D5663"
         },
         "title": {
          "font": {
           "color": "#4D5663"
          },
          "text": ""
         },
         "zerolinecolor": "#E1E5ED"
        },
        "yaxis10": {
         "anchor": "x10",
         "domain": [
          0.2675,
          0.465
         ],
         "gridcolor": "#E1E5ED",
         "showgrid": false,
         "tickfont": {
          "color": "#4D5663"
         },
         "title": {
          "font": {
           "color": "#4D5663"
          },
          "text": ""
         },
         "zerolinecolor": "#E1E5ED"
        },
        "yaxis11": {
         "anchor": "x11",
         "domain": [
          0.2675,
          0.465
         ],
         "gridcolor": "#E1E5ED",
         "showgrid": false,
         "tickfont": {
          "color": "#4D5663"
         },
         "title": {
          "font": {
           "color": "#4D5663"
          },
          "text": ""
         },
         "zerolinecolor": "#E1E5ED"
        },
        "yaxis12": {
         "anchor": "x12",
         "domain": [
          0.2675,
          0.465
         ],
         "gridcolor": "#E1E5ED",
         "showgrid": false,
         "tickfont": {
          "color": "#4D5663"
         },
         "title": {
          "font": {
           "color": "#4D5663"
          },
          "text": ""
         },
         "zerolinecolor": "#E1E5ED"
        },
        "yaxis13": {
         "anchor": "x13",
         "domain": [
          0,
          0.1975
         ],
         "gridcolor": "#E1E5ED",
         "showgrid": false,
         "tickfont": {
          "color": "#4D5663"
         },
         "title": {
          "font": {
           "color": "#4D5663"
          },
          "text": ""
         },
         "zerolinecolor": "#E1E5ED"
        },
        "yaxis14": {
         "anchor": "x14",
         "domain": [
          0,
          0.1975
         ],
         "gridcolor": "#E1E5ED",
         "showgrid": false,
         "tickfont": {
          "color": "#4D5663"
         },
         "title": {
          "font": {
           "color": "#4D5663"
          },
          "text": ""
         },
         "zerolinecolor": "#E1E5ED"
        },
        "yaxis15": {
         "anchor": "x15",
         "domain": [
          0,
          0.1975
         ],
         "gridcolor": "#E1E5ED",
         "showgrid": false,
         "tickfont": {
          "color": "#4D5663"
         },
         "title": {
          "font": {
           "color": "#4D5663"
          },
          "text": ""
         },
         "zerolinecolor": "#E1E5ED"
        },
        "yaxis16": {
         "anchor": "x16",
         "domain": [
          0,
          0.1975
         ],
         "gridcolor": "#E1E5ED",
         "showgrid": false,
         "tickfont": {
          "color": "#4D5663"
         },
         "title": {
          "font": {
           "color": "#4D5663"
          },
          "text": ""
         },
         "zerolinecolor": "#E1E5ED"
        },
        "yaxis2": {
         "anchor": "x2",
         "domain": [
          0.8025,
          1
         ],
         "gridcolor": "#E1E5ED",
         "showgrid": false,
         "tickfont": {
          "color": "#4D5663"
         },
         "title": {
          "font": {
           "color": "#4D5663"
          },
          "text": ""
         },
         "zerolinecolor": "#E1E5ED"
        },
        "yaxis3": {
         "anchor": "x3",
         "domain": [
          0.8025,
          1
         ],
         "gridcolor": "#E1E5ED",
         "showgrid": false,
         "tickfont": {
          "color": "#4D5663"
         },
         "title": {
          "font": {
           "color": "#4D5663"
          },
          "text": ""
         },
         "zerolinecolor": "#E1E5ED"
        },
        "yaxis4": {
         "anchor": "x4",
         "domain": [
          0.8025,
          1
         ],
         "gridcolor": "#E1E5ED",
         "showgrid": false,
         "tickfont": {
          "color": "#4D5663"
         },
         "title": {
          "font": {
           "color": "#4D5663"
          },
          "text": ""
         },
         "zerolinecolor": "#E1E5ED"
        },
        "yaxis5": {
         "anchor": "x5",
         "domain": [
          0.535,
          0.7325
         ],
         "gridcolor": "#E1E5ED",
         "showgrid": false,
         "tickfont": {
          "color": "#4D5663"
         },
         "title": {
          "font": {
           "color": "#4D5663"
          },
          "text": ""
         },
         "zerolinecolor": "#E1E5ED"
        },
        "yaxis6": {
         "anchor": "x6",
         "domain": [
          0.535,
          0.7325
         ],
         "gridcolor": "#E1E5ED",
         "showgrid": false,
         "tickfont": {
          "color": "#4D5663"
         },
         "title": {
          "font": {
           "color": "#4D5663"
          },
          "text": ""
         },
         "zerolinecolor": "#E1E5ED"
        },
        "yaxis7": {
         "anchor": "x7",
         "domain": [
          0.535,
          0.7325
         ],
         "gridcolor": "#E1E5ED",
         "showgrid": false,
         "tickfont": {
          "color": "#4D5663"
         },
         "title": {
          "font": {
           "color": "#4D5663"
          },
          "text": ""
         },
         "zerolinecolor": "#E1E5ED"
        },
        "yaxis8": {
         "anchor": "x8",
         "domain": [
          0.535,
          0.7325
         ],
         "gridcolor": "#E1E5ED",
         "showgrid": false,
         "tickfont": {
          "color": "#4D5663"
         },
         "title": {
          "font": {
           "color": "#4D5663"
          },
          "text": ""
         },
         "zerolinecolor": "#E1E5ED"
        },
        "yaxis9": {
         "anchor": "x9",
         "domain": [
          0.2675,
          0.465
         ],
         "gridcolor": "#E1E5ED",
         "showgrid": false,
         "tickfont": {
          "color": "#4D5663"
         },
         "title": {
          "font": {
           "color": "#4D5663"
          },
          "text": ""
         },
         "zerolinecolor": "#E1E5ED"
        }
       }
      },
      "text/html": [
       "<div>                            <div id=\"e457ac87-7d89-4640-848b-f7eddf114624\" class=\"plotly-graph-div\" style=\"height:525px; width:100%;\"></div>            <script type=\"text/javascript\">                require([\"plotly\"], function(Plotly) {                    window.PLOTLYENV=window.PLOTLYENV || {};\n",
       "                    window.PLOTLYENV.BASE_URL='https://plot.ly';                                    if (document.getElementById(\"e457ac87-7d89-4640-848b-f7eddf114624\")) {                    Plotly.newPlot(                        \"e457ac87-7d89-4640-848b-f7eddf114624\",                        [{\"histfunc\":\"count\",\"histnorm\":\"\",\"marker\":{\"color\":\"rgba(255, 153, 51, 1.0)\",\"line\":{\"color\":\"#4D5663\",\"width\":1.3}},\"name\":\"A\",\"nbinsx\":10,\"opacity\":0.8,\"orientation\":\"v\",\"x\":[-0.6695219310356675,-0.29192670023127143,-0.9831645059332843,0.013262990475593704,0.5649025921315125,0.8064216811322935,-0.29053318946379497,-1.4553394975965468,-0.9334780727469513,0.15212781268808825,-0.12953561519924947,-0.07330120498823028,-1.3212460499566323,0.5375075631006219,-1.5383600487242233,1.6479766696245695,-1.5151166106018252,-0.9487373016303247,0.9868363720026039,0.8271021762057945,0.532847912728279,-1.215084246154703,-1.06990447666004,-0.20423732405811862,0.25645744237289564,1.1652515725779797,0.8666463172667327,0.9183747549879647,0.6504874381746459,-0.8243955949582988,0.31764589789799386,0.32842115742546457,-0.4879250309366784,0.9660099268240899,-0.4349598763157151,0.14565487905762764,0.7436189282138251,0.9409054661531387,-0.6465452666750505,-0.0024073828422344406,1.7067230767581596,-0.4121497707683924,-0.11389940712513696,-1.798138144899698,0.48662376592093887,1.0405713605422415,1.9209486289049162,0.6143066558160502,1.533611421591724,0.281317373014399,0.04453499041913694,0.3254655849440727,-1.7235950007111245,1.0474474785050598,0.9103859418107295,0.8525517635466807,-0.30410879772455135,1.6990988245338592,-1.4839797836397264,0.3832562237229985,0.7053168306901907,0.4203017735137733,0.5074159914678656,-0.959297650112034,-3.033106810373578,-1.1905978134391508,-0.28594306994798296,1.0009980764514175,0.10196558416155194,-0.4481953355572154,1.561038458049401,-1.8510860765324897,-0.6915435845117376,-1.1887437544871862,-0.20891836331908248,-1.5645319943763776,-0.5071826248289197,0.9745002772010514,0.5654902978301094,1.2781291327972075,-0.28550517136639925,0.15340572181957526,0.8636950655469798,-0.5646385664757835,2.5955468026902735,0.5495383901436504,0.12991333229427834,1.885651971234061,2.3101851334619705,-0.7212478669014187,1.2248866341084266,-0.07861993937764342,-1.632126443311677,0.817222682609708,-1.4875712692802876,-0.8284793569588998,-0.6147511519801087,-0.6260783806020203,0.0761575550680676,0.6386446816040392],\"xaxis\":\"x\",\"yaxis\":\"y\",\"type\":\"histogram\"},{\"line\":{\"color\":\"rgba(128, 128, 128, 1.0)\",\"dash\":\"solid\",\"shape\":\"linear\",\"width\":1.3},\"marker\":{\"size\":2,\"symbol\":\"circle\"},\"mode\":\"markers\",\"name\":\"A\",\"text\":\"\",\"x\":[-0.047249781195183846,0.5807979722191119,-0.5840803964125373,-2.0256441041451843,-2.717758433269804,0.8087501871373753,0.6808476657323692,-1.4517045352576345,-1.077566689559306,0.5761038177773498,-1.7365254614618182,-0.18196412399397116,0.6326136100827379,1.1507282085712174,0.5898260705822608,0.10035344857577091,-1.619410125275257,0.6674956593402991,-1.1198386404292284,-1.2510378091859844,0.8895570166309362,-0.3692521794513197,-0.930071334761612,1.0351120663640652,-0.1391421027530557,0.5966769499472159,0.07951570107527746,1.039322440493506,-1.0403484710164908,-0.008916864350763918,0.7605828958467573,1.316981609729183,0.18141931559657465,0.04412730738103606,0.6215623194712838,0.8297396307092603,-1.0976640935673252,1.1255496523105701,1.1656054314719215,-0.6129034501836317,-0.629216183370437,-0.6073399976273386,1.8639308196488213,0.2867514857577595,0.8401257870911673,-0.10536946095031792,0.6797613470589414,0.5336194715918102,1.2559348778753936,0.4923636697054773,-2.161063539331115,0.0728617663004551,0.8364208839679473,-0.12832774187838877,1.900093292135524,-0.8740842697369767,2.2417282144106516,-0.38953536213565704,-0.23976651362572157,-1.5826663125676441,-0.3209706218622201,0.2105394304809266,-1.031877527830503,1.4878929073514255,0.8602115753808353,-1.1136405139370515,0.8825996436964001,-1.7428085811833083,-0.15635544863752787,0.7490067955117746,-0.3239075025790853,0.038532297017919166,1.3993657988093093,1.1992934839067848,-0.36249786145583274,2.4394185211403494,-0.1793756206531476,-0.4576517146060599,0.09262337925826437,-0.011713327619057282,-0.3156445170519262,-0.29876236993757893,-0.6478579022789553,0.7517042293677587,1.081513421865064,0.44739213512439696,-0.9448629749815547,-0.575126837808124,-0.05765011398142731,-0.2820600532547387,-0.19546551834527293,1.589656469566828,-0.20582042289236055,-1.2982061633734652,-1.2146393062199856,0.32144986438176754,-0.48218801944586104,0.5457219900911298,0.9457138531063372,-0.04393831853309557],\"xaxis\":\"x2\",\"y\":[-0.6695219310356675,-0.29192670023127143,-0.9831645059332843,0.013262990475593704,0.5649025921315125,0.8064216811322935,-0.29053318946379497,-1.4553394975965468,-0.9334780727469513,0.15212781268808825,-0.12953561519924947,-0.07330120498823028,-1.3212460499566323,0.5375075631006219,-1.5383600487242233,1.6479766696245695,-1.5151166106018252,-0.9487373016303247,0.9868363720026039,0.8271021762057945,0.532847912728279,-1.215084246154703,-1.06990447666004,-0.20423732405811862,0.25645744237289564,1.1652515725779797,0.8666463172667327,0.9183747549879647,0.6504874381746459,-0.8243955949582988,0.31764589789799386,0.32842115742546457,-0.4879250309366784,0.9660099268240899,-0.4349598763157151,0.14565487905762764,0.7436189282138251,0.9409054661531387,-0.6465452666750505,-0.0024073828422344406,1.7067230767581596,-0.4121497707683924,-0.11389940712513696,-1.798138144899698,0.48662376592093887,1.0405713605422415,1.9209486289049162,0.6143066558160502,1.533611421591724,0.281317373014399,0.04453499041913694,0.3254655849440727,-1.7235950007111245,1.0474474785050598,0.9103859418107295,0.8525517635466807,-0.30410879772455135,1.6990988245338592,-1.4839797836397264,0.3832562237229985,0.7053168306901907,0.4203017735137733,0.5074159914678656,-0.959297650112034,-3.033106810373578,-1.1905978134391508,-0.28594306994798296,1.0009980764514175,0.10196558416155194,-0.4481953355572154,1.561038458049401,-1.8510860765324897,-0.6915435845117376,-1.1887437544871862,-0.20891836331908248,-1.5645319943763776,-0.5071826248289197,0.9745002772010514,0.5654902978301094,1.2781291327972075,-0.28550517136639925,0.15340572181957526,0.8636950655469798,-0.5646385664757835,2.5955468026902735,0.5495383901436504,0.12991333229427834,1.885651971234061,2.3101851334619705,-0.7212478669014187,1.2248866341084266,-0.07861993937764342,-1.632126443311677,0.817222682609708,-1.4875712692802876,-0.8284793569588998,-0.6147511519801087,-0.6260783806020203,0.0761575550680676,0.6386446816040392],\"yaxis\":\"y2\",\"type\":\"scatter\"},{\"line\":{\"color\":\"rgba(128, 128, 128, 1.0)\",\"dash\":\"solid\",\"shape\":\"linear\",\"width\":1.3},\"marker\":{\"size\":2,\"symbol\":\"circle\"},\"mode\":\"markers\",\"name\":\"A\",\"text\":\"\",\"x\":[-1.269296989698203,-1.0080155890415854,-1.2042570137460005,-0.7523343489817734,-0.43020462934314735,0.3336358016540321,0.9395270060313918,-0.49396707631428755,1.6854042714870956,-1.1519275853360607,1.3934045042570897,0.41327568923473623,-0.7783005854279369,1.130081211873553,-0.5391255834525343,-1.241927709895697,0.13955167791054937,-0.545540348829611,-1.5323182277994851,1.1854413681856415,-0.6103588791438502,-0.05502047698401375,-1.5526275593486056,-0.2296797508695521,0.42418074561004593,-0.17475197660334327,1.1584780930831238,0.5291031129691107,-0.860917543530964,-0.5501337209076124,-0.3655464719441802,-0.7017880883634365,-0.20726908200891606,0.13086443709116227,-0.7948409026450902,0.13715348885403136,-0.18601720000085128,-0.6150416483220277,0.009023116028630363,1.0263941390302942,-1.2203155657290143,1.4563242070698132,-1.1176481610187825,0.034278414357095194,0.6829624892908408,0.07445020981186903,0.11345731746352025,0.6556803556150275,0.7211537051814578,-0.35752406419099997,-0.6093112408885526,-1.6364807636898486,1.5664007238603521,0.9084975527662472,-1.8669852044506083,-0.8659287608402915,-0.31128769379773674,0.040145949957772986,0.036577475753940075,-0.9236678953434068,0.22220728705653234,-1.6188305639741225,-0.7335202363998974,0.15511513807471974,0.48027922168551607,-1.6651611092745204,0.7190382345271333,0.25825484044436614,-0.5386584077017231,1.0122525311422148,0.37467011145341017,-0.00030687665539106085,-1.6767773623260784,-1.8392357566091053,0.07766647630689674,1.4902596513380661,-1.6311786209709138,0.9477701170146784,-1.8396926513227327,-1.010497166273908,-1.81161046210009,0.9594559363722026,-1.7961997808579593,0.7675702455962152,-1.2348867296957946,-0.9138298167524127,-1.0390963379177798,0.1060596221344798,-0.2506563770654563,0.8216316586155562,1.7058220161915616,0.9136846788674235,0.3334144082451351,0.41767936627934976,0.12838805206541762,-0.2924064851651061,-1.6972340857693768,-1.5325355411904735,-0.4389991758348614,-1.1817206651105758],\"xaxis\":\"x3\",\"y\":[-0.6695219310356675,-0.29192670023127143,-0.9831645059332843,0.013262990475593704,0.5649025921315125,0.8064216811322935,-0.29053318946379497,-1.4553394975965468,-0.9334780727469513,0.15212781268808825,-0.12953561519924947,-0.07330120498823028,-1.3212460499566323,0.5375075631006219,-1.5383600487242233,1.6479766696245695,-1.5151166106018252,-0.9487373016303247,0.9868363720026039,0.8271021762057945,0.532847912728279,-1.215084246154703,-1.06990447666004,-0.20423732405811862,0.25645744237289564,1.1652515725779797,0.8666463172667327,0.9183747549879647,0.6504874381746459,-0.8243955949582988,0.31764589789799386,0.32842115742546457,-0.4879250309366784,0.9660099268240899,-0.4349598763157151,0.14565487905762764,0.7436189282138251,0.9409054661531387,-0.6465452666750505,-0.0024073828422344406,1.7067230767581596,-0.4121497707683924,-0.11389940712513696,-1.798138144899698,0.48662376592093887,1.0405713605422415,1.9209486289049162,0.6143066558160502,1.533611421591724,0.281317373014399,0.04453499041913694,0.3254655849440727,-1.7235950007111245,1.0474474785050598,0.9103859418107295,0.8525517635466807,-0.30410879772455135,1.6990988245338592,-1.4839797836397264,0.3832562237229985,0.7053168306901907,0.4203017735137733,0.5074159914678656,-0.959297650112034,-3.033106810373578,-1.1905978134391508,-0.28594306994798296,1.0009980764514175,0.10196558416155194,-0.4481953355572154,1.561038458049401,-1.8510860765324897,-0.6915435845117376,-1.1887437544871862,-0.20891836331908248,-1.5645319943763776,-0.5071826248289197,0.9745002772010514,0.5654902978301094,1.2781291327972075,-0.28550517136639925,0.15340572181957526,0.8636950655469798,-0.5646385664757835,2.5955468026902735,0.5495383901436504,0.12991333229427834,1.885651971234061,2.3101851334619705,-0.7212478669014187,1.2248866341084266,-0.07861993937764342,-1.632126443311677,0.817222682609708,-1.4875712692802876,-0.8284793569588998,-0.6147511519801087,-0.6260783806020203,0.0761575550680676,0.6386446816040392],\"yaxis\":\"y3\",\"type\":\"scatter\"},{\"line\":{\"color\":\"rgba(128, 128, 128, 1.0)\",\"dash\":\"solid\",\"shape\":\"linear\",\"width\":1.3},\"marker\":{\"size\":2,\"symbol\":\"circle\"},\"mode\":\"markers\",\"name\":\"A\",\"text\":\"\",\"x\":[0.3812242838491141,-0.46340357752793787,0.6167444489705141,1.0798134526870786,-1.4383366016769608,-0.7361847830897679,2.3926937180300576,0.7997596315884576,0.9207699908520541,0.8639841881702542,1.6216363166918863,-1.658601034201354,-0.7597785877173346,-0.4102533812305416,0.5259605163022608,0.4287236850308033,-1.0877905044395537,2.0723107094458215,-1.073937365541676,0.9090998699879687,-0.7365230727418189,1.040202698275768,0.8204697656486994,-0.6963766707216732,0.39686804299343503,0.02889397227904667,-0.32677751267453886,0.9912327592305462,-1.185623785364478,-0.13573714074175933,1.1486149200459752,-0.571162372365066,-0.406611360087898,-0.758176841987634,-0.6455399059030006,0.8548512825947828,0.5569022011999537,-1.159823177041537,1.8830257525414391,-0.9404633198474414,-0.32257735955203637,0.8375001716829175,-0.1605020062779592,-0.2942706397337943,1.4009698986932337,2.623490062841327,-0.08985049905516779,-0.4496582857338749,-0.8109345730362918,1.5277398283314625,2.341514349168089,0.5352238093734683,1.256757727466578,0.9176449769963769,-1.1453322650658793,0.9991968398333853,0.5578987916969835,0.45388482402783614,-0.2682435766762213,0.7438000253557365,-0.2967607836800882,1.7268350191622517,-0.5917860546489776,0.47380353405943,0.5570674383756229,0.3242084476632031,0.5287385057838155,0.14919247882928582,-0.8717080064057061,0.7834537736924412,-0.7041471911231447,1.1436549519895929,0.5388796697878669,0.3799859314064505,0.3643418097463149,1.3424987987656682,-1.244258220048376,0.02933955219689519,-1.0777066760772744,0.10359043065109746,-0.5614476219557705,-0.8699752902071215,-0.6413276178619316,0.43718978272824965,-0.3737487996766362,-0.8583767570606211,0.14824534717413057,-1.10762636358596,-1.7960195726187764,1.0788831365163554,0.42016061176645664,-2.105084978836787,-0.8603565150921293,0.11601266319846247,0.2056840418518598,-1.5238397181474899,-0.7819901822944672,-0.05187577552743315,1.3765943230152595,-0.1532464682524686],\"xaxis\":\"x4\",\"y\":[-0.6695219310356675,-0.29192670023127143,-0.9831645059332843,0.013262990475593704,0.5649025921315125,0.8064216811322935,-0.29053318946379497,-1.4553394975965468,-0.9334780727469513,0.15212781268808825,-0.12953561519924947,-0.07330120498823028,-1.3212460499566323,0.5375075631006219,-1.5383600487242233,1.6479766696245695,-1.5151166106018252,-0.9487373016303247,0.9868363720026039,0.8271021762057945,0.532847912728279,-1.215084246154703,-1.06990447666004,-0.20423732405811862,0.25645744237289564,1.1652515725779797,0.8666463172667327,0.9183747549879647,0.6504874381746459,-0.8243955949582988,0.31764589789799386,0.32842115742546457,-0.4879250309366784,0.9660099268240899,-0.4349598763157151,0.14565487905762764,0.7436189282138251,0.9409054661531387,-0.6465452666750505,-0.0024073828422344406,1.7067230767581596,-0.4121497707683924,-0.11389940712513696,-1.798138144899698,0.48662376592093887,1.0405713605422415,1.9209486289049162,0.6143066558160502,1.533611421591724,0.281317373014399,0.04453499041913694,0.3254655849440727,-1.7235950007111245,1.0474474785050598,0.9103859418107295,0.8525517635466807,-0.30410879772455135,1.6990988245338592,-1.4839797836397264,0.3832562237229985,0.7053168306901907,0.4203017735137733,0.5074159914678656,-0.959297650112034,-3.033106810373578,-1.1905978134391508,-0.28594306994798296,1.0009980764514175,0.10196558416155194,-0.4481953355572154,1.561038458049401,-1.8510860765324897,-0.6915435845117376,-1.1887437544871862,-0.20891836331908248,-1.5645319943763776,-0.5071826248289197,0.9745002772010514,0.5654902978301094,1.2781291327972075,-0.28550517136639925,0.15340572181957526,0.8636950655469798,-0.5646385664757835,2.5955468026902735,0.5495383901436504,0.12991333229427834,1.885651971234061,2.3101851334619705,-0.7212478669014187,1.2248866341084266,-0.07861993937764342,-1.632126443311677,0.817222682609708,-1.4875712692802876,-0.8284793569588998,-0.6147511519801087,-0.6260783806020203,0.0761575550680676,0.6386446816040392],\"yaxis\":\"y4\",\"type\":\"scatter\"},{\"line\":{\"color\":\"rgba(128, 128, 128, 1.0)\",\"dash\":\"solid\",\"shape\":\"linear\",\"width\":1.3},\"marker\":{\"size\":2,\"symbol\":\"circle\"},\"mode\":\"markers\",\"name\":\"B\",\"text\":\"\",\"x\":[-0.6695219310356675,-0.29192670023127143,-0.9831645059332843,0.013262990475593704,0.5649025921315125,0.8064216811322935,-0.29053318946379497,-1.4553394975965468,-0.9334780727469513,0.15212781268808825,-0.12953561519924947,-0.07330120498823028,-1.3212460499566323,0.5375075631006219,-1.5383600487242233,1.6479766696245695,-1.5151166106018252,-0.9487373016303247,0.9868363720026039,0.8271021762057945,0.532847912728279,-1.215084246154703,-1.06990447666004,-0.20423732405811862,0.25645744237289564,1.1652515725779797,0.8666463172667327,0.9183747549879647,0.6504874381746459,-0.8243955949582988,0.31764589789799386,0.32842115742546457,-0.4879250309366784,0.9660099268240899,-0.4349598763157151,0.14565487905762764,0.7436189282138251,0.9409054661531387,-0.6465452666750505,-0.0024073828422344406,1.7067230767581596,-0.4121497707683924,-0.11389940712513696,-1.798138144899698,0.48662376592093887,1.0405713605422415,1.9209486289049162,0.6143066558160502,1.533611421591724,0.281317373014399,0.04453499041913694,0.3254655849440727,-1.7235950007111245,1.0474474785050598,0.9103859418107295,0.8525517635466807,-0.30410879772455135,1.6990988245338592,-1.4839797836397264,0.3832562237229985,0.7053168306901907,0.4203017735137733,0.5074159914678656,-0.959297650112034,-3.033106810373578,-1.1905978134391508,-0.28594306994798296,1.0009980764514175,0.10196558416155194,-0.4481953355572154,1.561038458049401,-1.8510860765324897,-0.6915435845117376,-1.1887437544871862,-0.20891836331908248,-1.5645319943763776,-0.5071826248289197,0.9745002772010514,0.5654902978301094,1.2781291327972075,-0.28550517136639925,0.15340572181957526,0.8636950655469798,-0.5646385664757835,2.5955468026902735,0.5495383901436504,0.12991333229427834,1.885651971234061,2.3101851334619705,-0.7212478669014187,1.2248866341084266,-0.07861993937764342,-1.632126443311677,0.817222682609708,-1.4875712692802876,-0.8284793569588998,-0.6147511519801087,-0.6260783806020203,0.0761575550680676,0.6386446816040392],\"xaxis\":\"x5\",\"y\":[-0.047249781195183846,0.5807979722191119,-0.5840803964125373,-2.0256441041451843,-2.717758433269804,0.8087501871373753,0.6808476657323692,-1.4517045352576345,-1.077566689559306,0.5761038177773498,-1.7365254614618182,-0.18196412399397116,0.6326136100827379,1.1507282085712174,0.5898260705822608,0.10035344857577091,-1.619410125275257,0.6674956593402991,-1.1198386404292284,-1.2510378091859844,0.8895570166309362,-0.3692521794513197,-0.930071334761612,1.0351120663640652,-0.1391421027530557,0.5966769499472159,0.07951570107527746,1.039322440493506,-1.0403484710164908,-0.008916864350763918,0.7605828958467573,1.316981609729183,0.18141931559657465,0.04412730738103606,0.6215623194712838,0.8297396307092603,-1.0976640935673252,1.1255496523105701,1.1656054314719215,-0.6129034501836317,-0.629216183370437,-0.6073399976273386,1.8639308196488213,0.2867514857577595,0.8401257870911673,-0.10536946095031792,0.6797613470589414,0.5336194715918102,1.2559348778753936,0.4923636697054773,-2.161063539331115,0.0728617663004551,0.8364208839679473,-0.12832774187838877,1.900093292135524,-0.8740842697369767,2.2417282144106516,-0.38953536213565704,-0.23976651362572157,-1.5826663125676441,-0.3209706218622201,0.2105394304809266,-1.031877527830503,1.4878929073514255,0.8602115753808353,-1.1136405139370515,0.8825996436964001,-1.7428085811833083,-0.15635544863752787,0.7490067955117746,-0.3239075025790853,0.038532297017919166,1.3993657988093093,1.1992934839067848,-0.36249786145583274,2.4394185211403494,-0.1793756206531476,-0.4576517146060599,0.09262337925826437,-0.011713327619057282,-0.3156445170519262,-0.29876236993757893,-0.6478579022789553,0.7517042293677587,1.081513421865064,0.44739213512439696,-0.9448629749815547,-0.575126837808124,-0.05765011398142731,-0.2820600532547387,-0.19546551834527293,1.589656469566828,-0.20582042289236055,-1.2982061633734652,-1.2146393062199856,0.32144986438176754,-0.48218801944586104,0.5457219900911298,0.9457138531063372,-0.04393831853309557],\"yaxis\":\"y5\",\"type\":\"scatter\"},{\"histfunc\":\"count\",\"histnorm\":\"\",\"marker\":{\"color\":\"rgba(55, 128, 191, 1.0)\",\"line\":{\"color\":\"#4D5663\",\"width\":1.3}},\"name\":\"B\",\"nbinsx\":10,\"opacity\":0.8,\"orientation\":\"v\",\"x\":[-0.047249781195183846,0.5807979722191119,-0.5840803964125373,-2.0256441041451843,-2.717758433269804,0.8087501871373753,0.6808476657323692,-1.4517045352576345,-1.077566689559306,0.5761038177773498,-1.7365254614618182,-0.18196412399397116,0.6326136100827379,1.1507282085712174,0.5898260705822608,0.10035344857577091,-1.619410125275257,0.6674956593402991,-1.1198386404292284,-1.2510378091859844,0.8895570166309362,-0.3692521794513197,-0.930071334761612,1.0351120663640652,-0.1391421027530557,0.5966769499472159,0.07951570107527746,1.039322440493506,-1.0403484710164908,-0.008916864350763918,0.7605828958467573,1.316981609729183,0.18141931559657465,0.04412730738103606,0.6215623194712838,0.8297396307092603,-1.0976640935673252,1.1255496523105701,1.1656054314719215,-0.6129034501836317,-0.629216183370437,-0.6073399976273386,1.8639308196488213,0.2867514857577595,0.8401257870911673,-0.10536946095031792,0.6797613470589414,0.5336194715918102,1.2559348778753936,0.4923636697054773,-2.161063539331115,0.0728617663004551,0.8364208839679473,-0.12832774187838877,1.900093292135524,-0.8740842697369767,2.2417282144106516,-0.38953536213565704,-0.23976651362572157,-1.5826663125676441,-0.3209706218622201,0.2105394304809266,-1.031877527830503,1.4878929073514255,0.8602115753808353,-1.1136405139370515,0.8825996436964001,-1.7428085811833083,-0.15635544863752787,0.7490067955117746,-0.3239075025790853,0.038532297017919166,1.3993657988093093,1.1992934839067848,-0.36249786145583274,2.4394185211403494,-0.1793756206531476,-0.4576517146060599,0.09262337925826437,-0.011713327619057282,-0.3156445170519262,-0.29876236993757893,-0.6478579022789553,0.7517042293677587,1.081513421865064,0.44739213512439696,-0.9448629749815547,-0.575126837808124,-0.05765011398142731,-0.2820600532547387,-0.19546551834527293,1.589656469566828,-0.20582042289236055,-1.2982061633734652,-1.2146393062199856,0.32144986438176754,-0.48218801944586104,0.5457219900911298,0.9457138531063372,-0.04393831853309557],\"xaxis\":\"x6\",\"yaxis\":\"y6\",\"type\":\"histogram\"},{\"line\":{\"color\":\"rgba(128, 128, 128, 1.0)\",\"dash\":\"solid\",\"shape\":\"linear\",\"width\":1.3},\"marker\":{\"size\":2,\"symbol\":\"circle\"},\"mode\":\"markers\",\"name\":\"B\",\"text\":\"\",\"x\":[-1.269296989698203,-1.0080155890415854,-1.2042570137460005,-0.7523343489817734,-0.43020462934314735,0.3336358016540321,0.9395270060313918,-0.49396707631428755,1.6854042714870956,-1.1519275853360607,1.3934045042570897,0.41327568923473623,-0.7783005854279369,1.130081211873553,-0.5391255834525343,-1.241927709895697,0.13955167791054937,-0.545540348829611,-1.5323182277994851,1.1854413681856415,-0.6103588791438502,-0.05502047698401375,-1.5526275593486056,-0.2296797508695521,0.42418074561004593,-0.17475197660334327,1.1584780930831238,0.5291031129691107,-0.860917543530964,-0.5501337209076124,-0.3655464719441802,-0.7017880883634365,-0.20726908200891606,0.13086443709116227,-0.7948409026450902,0.13715348885403136,-0.18601720000085128,-0.6150416483220277,0.009023116028630363,1.0263941390302942,-1.2203155657290143,1.4563242070698132,-1.1176481610187825,0.034278414357095194,0.6829624892908408,0.07445020981186903,0.11345731746352025,0.6556803556150275,0.7211537051814578,-0.35752406419099997,-0.6093112408885526,-1.6364807636898486,1.5664007238603521,0.9084975527662472,-1.8669852044506083,-0.8659287608402915,-0.31128769379773674,0.040145949957772986,0.036577475753940075,-0.9236678953434068,0.22220728705653234,-1.6188305639741225,-0.7335202363998974,0.15511513807471974,0.48027922168551607,-1.6651611092745204,0.7190382345271333,0.25825484044436614,-0.5386584077017231,1.0122525311422148,0.37467011145341017,-0.00030687665539106085,-1.6767773623260784,-1.8392357566091053,0.07766647630689674,1.4902596513380661,-1.6311786209709138,0.9477701170146784,-1.8396926513227327,-1.010497166273908,-1.81161046210009,0.9594559363722026,-1.7961997808579593,0.7675702455962152,-1.2348867296957946,-0.9138298167524127,-1.0390963379177798,0.1060596221344798,-0.2506563770654563,0.8216316586155562,1.7058220161915616,0.9136846788674235,0.3334144082451351,0.41767936627934976,0.12838805206541762,-0.2924064851651061,-1.6972340857693768,-1.5325355411904735,-0.4389991758348614,-1.1817206651105758],\"xaxis\":\"x7\",\"y\":[-0.047249781195183846,0.5807979722191119,-0.5840803964125373,-2.0256441041451843,-2.717758433269804,0.8087501871373753,0.6808476657323692,-1.4517045352576345,-1.077566689559306,0.5761038177773498,-1.7365254614618182,-0.18196412399397116,0.6326136100827379,1.1507282085712174,0.5898260705822608,0.10035344857577091,-1.619410125275257,0.6674956593402991,-1.1198386404292284,-1.2510378091859844,0.8895570166309362,-0.3692521794513197,-0.930071334761612,1.0351120663640652,-0.1391421027530557,0.5966769499472159,0.07951570107527746,1.039322440493506,-1.0403484710164908,-0.008916864350763918,0.7605828958467573,1.316981609729183,0.18141931559657465,0.04412730738103606,0.6215623194712838,0.8297396307092603,-1.0976640935673252,1.1255496523105701,1.1656054314719215,-0.6129034501836317,-0.629216183370437,-0.6073399976273386,1.8639308196488213,0.2867514857577595,0.8401257870911673,-0.10536946095031792,0.6797613470589414,0.5336194715918102,1.2559348778753936,0.4923636697054773,-2.161063539331115,0.0728617663004551,0.8364208839679473,-0.12832774187838877,1.900093292135524,-0.8740842697369767,2.2417282144106516,-0.38953536213565704,-0.23976651362572157,-1.5826663125676441,-0.3209706218622201,0.2105394304809266,-1.031877527830503,1.4878929073514255,0.8602115753808353,-1.1136405139370515,0.8825996436964001,-1.7428085811833083,-0.15635544863752787,0.7490067955117746,-0.3239075025790853,0.038532297017919166,1.3993657988093093,1.1992934839067848,-0.36249786145583274,2.4394185211403494,-0.1793756206531476,-0.4576517146060599,0.09262337925826437,-0.011713327619057282,-0.3156445170519262,-0.29876236993757893,-0.6478579022789553,0.7517042293677587,1.081513421865064,0.44739213512439696,-0.9448629749815547,-0.575126837808124,-0.05765011398142731,-0.2820600532547387,-0.19546551834527293,1.589656469566828,-0.20582042289236055,-1.2982061633734652,-1.2146393062199856,0.32144986438176754,-0.48218801944586104,0.5457219900911298,0.9457138531063372,-0.04393831853309557],\"yaxis\":\"y7\",\"type\":\"scatter\"},{\"line\":{\"color\":\"rgba(128, 128, 128, 1.0)\",\"dash\":\"solid\",\"shape\":\"linear\",\"width\":1.3},\"marker\":{\"size\":2,\"symbol\":\"circle\"},\"mode\":\"markers\",\"name\":\"B\",\"text\":\"\",\"x\":[0.3812242838491141,-0.46340357752793787,0.6167444489705141,1.0798134526870786,-1.4383366016769608,-0.7361847830897679,2.3926937180300576,0.7997596315884576,0.9207699908520541,0.8639841881702542,1.6216363166918863,-1.658601034201354,-0.7597785877173346,-0.4102533812305416,0.5259605163022608,0.4287236850308033,-1.0877905044395537,2.0723107094458215,-1.073937365541676,0.9090998699879687,-0.7365230727418189,1.040202698275768,0.8204697656486994,-0.6963766707216732,0.39686804299343503,0.02889397227904667,-0.32677751267453886,0.9912327592305462,-1.185623785364478,-0.13573714074175933,1.1486149200459752,-0.571162372365066,-0.406611360087898,-0.758176841987634,-0.6455399059030006,0.8548512825947828,0.5569022011999537,-1.159823177041537,1.8830257525414391,-0.9404633198474414,-0.32257735955203637,0.8375001716829175,-0.1605020062779592,-0.2942706397337943,1.4009698986932337,2.623490062841327,-0.08985049905516779,-0.4496582857338749,-0.8109345730362918,1.5277398283314625,2.341514349168089,0.5352238093734683,1.256757727466578,0.9176449769963769,-1.1453322650658793,0.9991968398333853,0.5578987916969835,0.45388482402783614,-0.2682435766762213,0.7438000253557365,-0.2967607836800882,1.7268350191622517,-0.5917860546489776,0.47380353405943,0.5570674383756229,0.3242084476632031,0.5287385057838155,0.14919247882928582,-0.8717080064057061,0.7834537736924412,-0.7041471911231447,1.1436549519895929,0.5388796697878669,0.3799859314064505,0.3643418097463149,1.3424987987656682,-1.244258220048376,0.02933955219689519,-1.0777066760772744,0.10359043065109746,-0.5614476219557705,-0.8699752902071215,-0.6413276178619316,0.43718978272824965,-0.3737487996766362,-0.8583767570606211,0.14824534717413057,-1.10762636358596,-1.7960195726187764,1.0788831365163554,0.42016061176645664,-2.105084978836787,-0.8603565150921293,0.11601266319846247,0.2056840418518598,-1.5238397181474899,-0.7819901822944672,-0.05187577552743315,1.3765943230152595,-0.1532464682524686],\"xaxis\":\"x8\",\"y\":[-0.047249781195183846,0.5807979722191119,-0.5840803964125373,-2.0256441041451843,-2.717758433269804,0.8087501871373753,0.6808476657323692,-1.4517045352576345,-1.077566689559306,0.5761038177773498,-1.7365254614618182,-0.18196412399397116,0.6326136100827379,1.1507282085712174,0.5898260705822608,0.10035344857577091,-1.619410125275257,0.6674956593402991,-1.1198386404292284,-1.2510378091859844,0.8895570166309362,-0.3692521794513197,-0.930071334761612,1.0351120663640652,-0.1391421027530557,0.5966769499472159,0.07951570107527746,1.039322440493506,-1.0403484710164908,-0.008916864350763918,0.7605828958467573,1.316981609729183,0.18141931559657465,0.04412730738103606,0.6215623194712838,0.8297396307092603,-1.0976640935673252,1.1255496523105701,1.1656054314719215,-0.6129034501836317,-0.629216183370437,-0.6073399976273386,1.8639308196488213,0.2867514857577595,0.8401257870911673,-0.10536946095031792,0.6797613470589414,0.5336194715918102,1.2559348778753936,0.4923636697054773,-2.161063539331115,0.0728617663004551,0.8364208839679473,-0.12832774187838877,1.900093292135524,-0.8740842697369767,2.2417282144106516,-0.38953536213565704,-0.23976651362572157,-1.5826663125676441,-0.3209706218622201,0.2105394304809266,-1.031877527830503,1.4878929073514255,0.8602115753808353,-1.1136405139370515,0.8825996436964001,-1.7428085811833083,-0.15635544863752787,0.7490067955117746,-0.3239075025790853,0.038532297017919166,1.3993657988093093,1.1992934839067848,-0.36249786145583274,2.4394185211403494,-0.1793756206531476,-0.4576517146060599,0.09262337925826437,-0.011713327619057282,-0.3156445170519262,-0.29876236993757893,-0.6478579022789553,0.7517042293677587,1.081513421865064,0.44739213512439696,-0.9448629749815547,-0.575126837808124,-0.05765011398142731,-0.2820600532547387,-0.19546551834527293,1.589656469566828,-0.20582042289236055,-1.2982061633734652,-1.2146393062199856,0.32144986438176754,-0.48218801944586104,0.5457219900911298,0.9457138531063372,-0.04393831853309557],\"yaxis\":\"y8\",\"type\":\"scatter\"},{\"line\":{\"color\":\"rgba(128, 128, 128, 1.0)\",\"dash\":\"solid\",\"shape\":\"linear\",\"width\":1.3},\"marker\":{\"size\":2,\"symbol\":\"circle\"},\"mode\":\"markers\",\"name\":\"C\",\"text\":\"\",\"x\":[-0.6695219310356675,-0.29192670023127143,-0.9831645059332843,0.013262990475593704,0.5649025921315125,0.8064216811322935,-0.29053318946379497,-1.4553394975965468,-0.9334780727469513,0.15212781268808825,-0.12953561519924947,-0.07330120498823028,-1.3212460499566323,0.5375075631006219,-1.5383600487242233,1.6479766696245695,-1.5151166106018252,-0.9487373016303247,0.9868363720026039,0.8271021762057945,0.532847912728279,-1.215084246154703,-1.06990447666004,-0.20423732405811862,0.25645744237289564,1.1652515725779797,0.8666463172667327,0.9183747549879647,0.6504874381746459,-0.8243955949582988,0.31764589789799386,0.32842115742546457,-0.4879250309366784,0.9660099268240899,-0.4349598763157151,0.14565487905762764,0.7436189282138251,0.9409054661531387,-0.6465452666750505,-0.0024073828422344406,1.7067230767581596,-0.4121497707683924,-0.11389940712513696,-1.798138144899698,0.48662376592093887,1.0405713605422415,1.9209486289049162,0.6143066558160502,1.533611421591724,0.281317373014399,0.04453499041913694,0.3254655849440727,-1.7235950007111245,1.0474474785050598,0.9103859418107295,0.8525517635466807,-0.30410879772455135,1.6990988245338592,-1.4839797836397264,0.3832562237229985,0.7053168306901907,0.4203017735137733,0.5074159914678656,-0.959297650112034,-3.033106810373578,-1.1905978134391508,-0.28594306994798296,1.0009980764514175,0.10196558416155194,-0.4481953355572154,1.561038458049401,-1.8510860765324897,-0.6915435845117376,-1.1887437544871862,-0.20891836331908248,-1.5645319943763776,-0.5071826248289197,0.9745002772010514,0.5654902978301094,1.2781291327972075,-0.28550517136639925,0.15340572181957526,0.8636950655469798,-0.5646385664757835,2.5955468026902735,0.5495383901436504,0.12991333229427834,1.885651971234061,2.3101851334619705,-0.7212478669014187,1.2248866341084266,-0.07861993937764342,-1.632126443311677,0.817222682609708,-1.4875712692802876,-0.8284793569588998,-0.6147511519801087,-0.6260783806020203,0.0761575550680676,0.6386446816040392],\"xaxis\":\"x9\",\"y\":[-1.269296989698203,-1.0080155890415854,-1.2042570137460005,-0.7523343489817734,-0.43020462934314735,0.3336358016540321,0.9395270060313918,-0.49396707631428755,1.6854042714870956,-1.1519275853360607,1.3934045042570897,0.41327568923473623,-0.7783005854279369,1.130081211873553,-0.5391255834525343,-1.241927709895697,0.13955167791054937,-0.545540348829611,-1.5323182277994851,1.1854413681856415,-0.6103588791438502,-0.05502047698401375,-1.5526275593486056,-0.2296797508695521,0.42418074561004593,-0.17475197660334327,1.1584780930831238,0.5291031129691107,-0.860917543530964,-0.5501337209076124,-0.3655464719441802,-0.7017880883634365,-0.20726908200891606,0.13086443709116227,-0.7948409026450902,0.13715348885403136,-0.18601720000085128,-0.6150416483220277,0.009023116028630363,1.0263941390302942,-1.2203155657290143,1.4563242070698132,-1.1176481610187825,0.034278414357095194,0.6829624892908408,0.07445020981186903,0.11345731746352025,0.6556803556150275,0.7211537051814578,-0.35752406419099997,-0.6093112408885526,-1.6364807636898486,1.5664007238603521,0.9084975527662472,-1.8669852044506083,-0.8659287608402915,-0.31128769379773674,0.040145949957772986,0.036577475753940075,-0.9236678953434068,0.22220728705653234,-1.6188305639741225,-0.7335202363998974,0.15511513807471974,0.48027922168551607,-1.6651611092745204,0.7190382345271333,0.25825484044436614,-0.5386584077017231,1.0122525311422148,0.37467011145341017,-0.00030687665539106085,-1.6767773623260784,-1.8392357566091053,0.07766647630689674,1.4902596513380661,-1.6311786209709138,0.9477701170146784,-1.8396926513227327,-1.010497166273908,-1.81161046210009,0.9594559363722026,-1.7961997808579593,0.7675702455962152,-1.2348867296957946,-0.9138298167524127,-1.0390963379177798,0.1060596221344798,-0.2506563770654563,0.8216316586155562,1.7058220161915616,0.9136846788674235,0.3334144082451351,0.41767936627934976,0.12838805206541762,-0.2924064851651061,-1.6972340857693768,-1.5325355411904735,-0.4389991758348614,-1.1817206651105758],\"yaxis\":\"y9\",\"type\":\"scatter\"},{\"line\":{\"color\":\"rgba(128, 128, 128, 1.0)\",\"dash\":\"solid\",\"shape\":\"linear\",\"width\":1.3},\"marker\":{\"size\":2,\"symbol\":\"circle\"},\"mode\":\"markers\",\"name\":\"C\",\"text\":\"\",\"x\":[-0.047249781195183846,0.5807979722191119,-0.5840803964125373,-2.0256441041451843,-2.717758433269804,0.8087501871373753,0.6808476657323692,-1.4517045352576345,-1.077566689559306,0.5761038177773498,-1.7365254614618182,-0.18196412399397116,0.6326136100827379,1.1507282085712174,0.5898260705822608,0.10035344857577091,-1.619410125275257,0.6674956593402991,-1.1198386404292284,-1.2510378091859844,0.8895570166309362,-0.3692521794513197,-0.930071334761612,1.0351120663640652,-0.1391421027530557,0.5966769499472159,0.07951570107527746,1.039322440493506,-1.0403484710164908,-0.008916864350763918,0.7605828958467573,1.316981609729183,0.18141931559657465,0.04412730738103606,0.6215623194712838,0.8297396307092603,-1.0976640935673252,1.1255496523105701,1.1656054314719215,-0.6129034501836317,-0.629216183370437,-0.6073399976273386,1.8639308196488213,0.2867514857577595,0.8401257870911673,-0.10536946095031792,0.6797613470589414,0.5336194715918102,1.2559348778753936,0.4923636697054773,-2.161063539331115,0.0728617663004551,0.8364208839679473,-0.12832774187838877,1.900093292135524,-0.8740842697369767,2.2417282144106516,-0.38953536213565704,-0.23976651362572157,-1.5826663125676441,-0.3209706218622201,0.2105394304809266,-1.031877527830503,1.4878929073514255,0.8602115753808353,-1.1136405139370515,0.8825996436964001,-1.7428085811833083,-0.15635544863752787,0.7490067955117746,-0.3239075025790853,0.038532297017919166,1.3993657988093093,1.1992934839067848,-0.36249786145583274,2.4394185211403494,-0.1793756206531476,-0.4576517146060599,0.09262337925826437,-0.011713327619057282,-0.3156445170519262,-0.29876236993757893,-0.6478579022789553,0.7517042293677587,1.081513421865064,0.44739213512439696,-0.9448629749815547,-0.575126837808124,-0.05765011398142731,-0.2820600532547387,-0.19546551834527293,1.589656469566828,-0.20582042289236055,-1.2982061633734652,-1.2146393062199856,0.32144986438176754,-0.48218801944586104,0.5457219900911298,0.9457138531063372,-0.04393831853309557],\"xaxis\":\"x10\",\"y\":[-1.269296989698203,-1.0080155890415854,-1.2042570137460005,-0.7523343489817734,-0.43020462934314735,0.3336358016540321,0.9395270060313918,-0.49396707631428755,1.6854042714870956,-1.1519275853360607,1.3934045042570897,0.41327568923473623,-0.7783005854279369,1.130081211873553,-0.5391255834525343,-1.241927709895697,0.13955167791054937,-0.545540348829611,-1.5323182277994851,1.1854413681856415,-0.6103588791438502,-0.05502047698401375,-1.5526275593486056,-0.2296797508695521,0.42418074561004593,-0.17475197660334327,1.1584780930831238,0.5291031129691107,-0.860917543530964,-0.5501337209076124,-0.3655464719441802,-0.7017880883634365,-0.20726908200891606,0.13086443709116227,-0.7948409026450902,0.13715348885403136,-0.18601720000085128,-0.6150416483220277,0.009023116028630363,1.0263941390302942,-1.2203155657290143,1.4563242070698132,-1.1176481610187825,0.034278414357095194,0.6829624892908408,0.07445020981186903,0.11345731746352025,0.6556803556150275,0.7211537051814578,-0.35752406419099997,-0.6093112408885526,-1.6364807636898486,1.5664007238603521,0.9084975527662472,-1.8669852044506083,-0.8659287608402915,-0.31128769379773674,0.040145949957772986,0.036577475753940075,-0.9236678953434068,0.22220728705653234,-1.6188305639741225,-0.7335202363998974,0.15511513807471974,0.48027922168551607,-1.6651611092745204,0.7190382345271333,0.25825484044436614,-0.5386584077017231,1.0122525311422148,0.37467011145341017,-0.00030687665539106085,-1.6767773623260784,-1.8392357566091053,0.07766647630689674,1.4902596513380661,-1.6311786209709138,0.9477701170146784,-1.8396926513227327,-1.010497166273908,-1.81161046210009,0.9594559363722026,-1.7961997808579593,0.7675702455962152,-1.2348867296957946,-0.9138298167524127,-1.0390963379177798,0.1060596221344798,-0.2506563770654563,0.8216316586155562,1.7058220161915616,0.9136846788674235,0.3334144082451351,0.41767936627934976,0.12838805206541762,-0.2924064851651061,-1.6972340857693768,-1.5325355411904735,-0.4389991758348614,-1.1817206651105758],\"yaxis\":\"y10\",\"type\":\"scatter\"},{\"histfunc\":\"count\",\"histnorm\":\"\",\"marker\":{\"color\":\"rgba(50, 171, 96, 1.0)\",\"line\":{\"color\":\"#4D5663\",\"width\":1.3}},\"name\":\"C\",\"nbinsx\":10,\"opacity\":0.8,\"orientation\":\"v\",\"x\":[-1.269296989698203,-1.0080155890415854,-1.2042570137460005,-0.7523343489817734,-0.43020462934314735,0.3336358016540321,0.9395270060313918,-0.49396707631428755,1.6854042714870956,-1.1519275853360607,1.3934045042570897,0.41327568923473623,-0.7783005854279369,1.130081211873553,-0.5391255834525343,-1.241927709895697,0.13955167791054937,-0.545540348829611,-1.5323182277994851,1.1854413681856415,-0.6103588791438502,-0.05502047698401375,-1.5526275593486056,-0.2296797508695521,0.42418074561004593,-0.17475197660334327,1.1584780930831238,0.5291031129691107,-0.860917543530964,-0.5501337209076124,-0.3655464719441802,-0.7017880883634365,-0.20726908200891606,0.13086443709116227,-0.7948409026450902,0.13715348885403136,-0.18601720000085128,-0.6150416483220277,0.009023116028630363,1.0263941390302942,-1.2203155657290143,1.4563242070698132,-1.1176481610187825,0.034278414357095194,0.6829624892908408,0.07445020981186903,0.11345731746352025,0.6556803556150275,0.7211537051814578,-0.35752406419099997,-0.6093112408885526,-1.6364807636898486,1.5664007238603521,0.9084975527662472,-1.8669852044506083,-0.8659287608402915,-0.31128769379773674,0.040145949957772986,0.036577475753940075,-0.9236678953434068,0.22220728705653234,-1.6188305639741225,-0.7335202363998974,0.15511513807471974,0.48027922168551607,-1.6651611092745204,0.7190382345271333,0.25825484044436614,-0.5386584077017231,1.0122525311422148,0.37467011145341017,-0.00030687665539106085,-1.6767773623260784,-1.8392357566091053,0.07766647630689674,1.4902596513380661,-1.6311786209709138,0.9477701170146784,-1.8396926513227327,-1.010497166273908,-1.81161046210009,0.9594559363722026,-1.7961997808579593,0.7675702455962152,-1.2348867296957946,-0.9138298167524127,-1.0390963379177798,0.1060596221344798,-0.2506563770654563,0.8216316586155562,1.7058220161915616,0.9136846788674235,0.3334144082451351,0.41767936627934976,0.12838805206541762,-0.2924064851651061,-1.6972340857693768,-1.5325355411904735,-0.4389991758348614,-1.1817206651105758],\"xaxis\":\"x11\",\"yaxis\":\"y11\",\"type\":\"histogram\"},{\"line\":{\"color\":\"rgba(128, 128, 128, 1.0)\",\"dash\":\"solid\",\"shape\":\"linear\",\"width\":1.3},\"marker\":{\"size\":2,\"symbol\":\"circle\"},\"mode\":\"markers\",\"name\":\"C\",\"text\":\"\",\"x\":[0.3812242838491141,-0.46340357752793787,0.6167444489705141,1.0798134526870786,-1.4383366016769608,-0.7361847830897679,2.3926937180300576,0.7997596315884576,0.9207699908520541,0.8639841881702542,1.6216363166918863,-1.658601034201354,-0.7597785877173346,-0.4102533812305416,0.5259605163022608,0.4287236850308033,-1.0877905044395537,2.0723107094458215,-1.073937365541676,0.9090998699879687,-0.7365230727418189,1.040202698275768,0.8204697656486994,-0.6963766707216732,0.39686804299343503,0.02889397227904667,-0.32677751267453886,0.9912327592305462,-1.185623785364478,-0.13573714074175933,1.1486149200459752,-0.571162372365066,-0.406611360087898,-0.758176841987634,-0.6455399059030006,0.8548512825947828,0.5569022011999537,-1.159823177041537,1.8830257525414391,-0.9404633198474414,-0.32257735955203637,0.8375001716829175,-0.1605020062779592,-0.2942706397337943,1.4009698986932337,2.623490062841327,-0.08985049905516779,-0.4496582857338749,-0.8109345730362918,1.5277398283314625,2.341514349168089,0.5352238093734683,1.256757727466578,0.9176449769963769,-1.1453322650658793,0.9991968398333853,0.5578987916969835,0.45388482402783614,-0.2682435766762213,0.7438000253557365,-0.2967607836800882,1.7268350191622517,-0.5917860546489776,0.47380353405943,0.5570674383756229,0.3242084476632031,0.5287385057838155,0.14919247882928582,-0.8717080064057061,0.7834537736924412,-0.7041471911231447,1.1436549519895929,0.5388796697878669,0.3799859314064505,0.3643418097463149,1.3424987987656682,-1.244258220048376,0.02933955219689519,-1.0777066760772744,0.10359043065109746,-0.5614476219557705,-0.8699752902071215,-0.6413276178619316,0.43718978272824965,-0.3737487996766362,-0.8583767570606211,0.14824534717413057,-1.10762636358596,-1.7960195726187764,1.0788831365163554,0.42016061176645664,-2.105084978836787,-0.8603565150921293,0.11601266319846247,0.2056840418518598,-1.5238397181474899,-0.7819901822944672,-0.05187577552743315,1.3765943230152595,-0.1532464682524686],\"xaxis\":\"x12\",\"y\":[-1.269296989698203,-1.0080155890415854,-1.2042570137460005,-0.7523343489817734,-0.43020462934314735,0.3336358016540321,0.9395270060313918,-0.49396707631428755,1.6854042714870956,-1.1519275853360607,1.3934045042570897,0.41327568923473623,-0.7783005854279369,1.130081211873553,-0.5391255834525343,-1.241927709895697,0.13955167791054937,-0.545540348829611,-1.5323182277994851,1.1854413681856415,-0.6103588791438502,-0.05502047698401375,-1.5526275593486056,-0.2296797508695521,0.42418074561004593,-0.17475197660334327,1.1584780930831238,0.5291031129691107,-0.860917543530964,-0.5501337209076124,-0.3655464719441802,-0.7017880883634365,-0.20726908200891606,0.13086443709116227,-0.7948409026450902,0.13715348885403136,-0.18601720000085128,-0.6150416483220277,0.009023116028630363,1.0263941390302942,-1.2203155657290143,1.4563242070698132,-1.1176481610187825,0.034278414357095194,0.6829624892908408,0.07445020981186903,0.11345731746352025,0.6556803556150275,0.7211537051814578,-0.35752406419099997,-0.6093112408885526,-1.6364807636898486,1.5664007238603521,0.9084975527662472,-1.8669852044506083,-0.8659287608402915,-0.31128769379773674,0.040145949957772986,0.036577475753940075,-0.9236678953434068,0.22220728705653234,-1.6188305639741225,-0.7335202363998974,0.15511513807471974,0.48027922168551607,-1.6651611092745204,0.7190382345271333,0.25825484044436614,-0.5386584077017231,1.0122525311422148,0.37467011145341017,-0.00030687665539106085,-1.6767773623260784,-1.8392357566091053,0.07766647630689674,1.4902596513380661,-1.6311786209709138,0.9477701170146784,-1.8396926513227327,-1.010497166273908,-1.81161046210009,0.9594559363722026,-1.7961997808579593,0.7675702455962152,-1.2348867296957946,-0.9138298167524127,-1.0390963379177798,0.1060596221344798,-0.2506563770654563,0.8216316586155562,1.7058220161915616,0.9136846788674235,0.3334144082451351,0.41767936627934976,0.12838805206541762,-0.2924064851651061,-1.6972340857693768,-1.5325355411904735,-0.4389991758348614,-1.1817206651105758],\"yaxis\":\"y12\",\"type\":\"scatter\"},{\"line\":{\"color\":\"rgba(128, 128, 128, 1.0)\",\"dash\":\"solid\",\"shape\":\"linear\",\"width\":1.3},\"marker\":{\"size\":2,\"symbol\":\"circle\"},\"mode\":\"markers\",\"name\":\"D\",\"text\":\"\",\"x\":[-0.6695219310356675,-0.29192670023127143,-0.9831645059332843,0.013262990475593704,0.5649025921315125,0.8064216811322935,-0.29053318946379497,-1.4553394975965468,-0.9334780727469513,0.15212781268808825,-0.12953561519924947,-0.07330120498823028,-1.3212460499566323,0.5375075631006219,-1.5383600487242233,1.6479766696245695,-1.5151166106018252,-0.9487373016303247,0.9868363720026039,0.8271021762057945,0.532847912728279,-1.215084246154703,-1.06990447666004,-0.20423732405811862,0.25645744237289564,1.1652515725779797,0.8666463172667327,0.9183747549879647,0.6504874381746459,-0.8243955949582988,0.31764589789799386,0.32842115742546457,-0.4879250309366784,0.9660099268240899,-0.4349598763157151,0.14565487905762764,0.7436189282138251,0.9409054661531387,-0.6465452666750505,-0.0024073828422344406,1.7067230767581596,-0.4121497707683924,-0.11389940712513696,-1.798138144899698,0.48662376592093887,1.0405713605422415,1.9209486289049162,0.6143066558160502,1.533611421591724,0.281317373014399,0.04453499041913694,0.3254655849440727,-1.7235950007111245,1.0474474785050598,0.9103859418107295,0.8525517635466807,-0.30410879772455135,1.6990988245338592,-1.4839797836397264,0.3832562237229985,0.7053168306901907,0.4203017735137733,0.5074159914678656,-0.959297650112034,-3.033106810373578,-1.1905978134391508,-0.28594306994798296,1.0009980764514175,0.10196558416155194,-0.4481953355572154,1.561038458049401,-1.8510860765324897,-0.6915435845117376,-1.1887437544871862,-0.20891836331908248,-1.5645319943763776,-0.5071826248289197,0.9745002772010514,0.5654902978301094,1.2781291327972075,-0.28550517136639925,0.15340572181957526,0.8636950655469798,-0.5646385664757835,2.5955468026902735,0.5495383901436504,0.12991333229427834,1.885651971234061,2.3101851334619705,-0.7212478669014187,1.2248866341084266,-0.07861993937764342,-1.632126443311677,0.817222682609708,-1.4875712692802876,-0.8284793569588998,-0.6147511519801087,-0.6260783806020203,0.0761575550680676,0.6386446816040392],\"xaxis\":\"x13\",\"y\":[0.3812242838491141,-0.46340357752793787,0.6167444489705141,1.0798134526870786,-1.4383366016769608,-0.7361847830897679,2.3926937180300576,0.7997596315884576,0.9207699908520541,0.8639841881702542,1.6216363166918863,-1.658601034201354,-0.7597785877173346,-0.4102533812305416,0.5259605163022608,0.4287236850308033,-1.0877905044395537,2.0723107094458215,-1.073937365541676,0.9090998699879687,-0.7365230727418189,1.040202698275768,0.8204697656486994,-0.6963766707216732,0.39686804299343503,0.02889397227904667,-0.32677751267453886,0.9912327592305462,-1.185623785364478,-0.13573714074175933,1.1486149200459752,-0.571162372365066,-0.406611360087898,-0.758176841987634,-0.6455399059030006,0.8548512825947828,0.5569022011999537,-1.159823177041537,1.8830257525414391,-0.9404633198474414,-0.32257735955203637,0.8375001716829175,-0.1605020062779592,-0.2942706397337943,1.4009698986932337,2.623490062841327,-0.08985049905516779,-0.4496582857338749,-0.8109345730362918,1.5277398283314625,2.341514349168089,0.5352238093734683,1.256757727466578,0.9176449769963769,-1.1453322650658793,0.9991968398333853,0.5578987916969835,0.45388482402783614,-0.2682435766762213,0.7438000253557365,-0.2967607836800882,1.7268350191622517,-0.5917860546489776,0.47380353405943,0.5570674383756229,0.3242084476632031,0.5287385057838155,0.14919247882928582,-0.8717080064057061,0.7834537736924412,-0.7041471911231447,1.1436549519895929,0.5388796697878669,0.3799859314064505,0.3643418097463149,1.3424987987656682,-1.244258220048376,0.02933955219689519,-1.0777066760772744,0.10359043065109746,-0.5614476219557705,-0.8699752902071215,-0.6413276178619316,0.43718978272824965,-0.3737487996766362,-0.8583767570606211,0.14824534717413057,-1.10762636358596,-1.7960195726187764,1.0788831365163554,0.42016061176645664,-2.105084978836787,-0.8603565150921293,0.11601266319846247,0.2056840418518598,-1.5238397181474899,-0.7819901822944672,-0.05187577552743315,1.3765943230152595,-0.1532464682524686],\"yaxis\":\"y13\",\"type\":\"scatter\"},{\"line\":{\"color\":\"rgba(128, 128, 128, 1.0)\",\"dash\":\"solid\",\"shape\":\"linear\",\"width\":1.3},\"marker\":{\"size\":2,\"symbol\":\"circle\"},\"mode\":\"markers\",\"name\":\"D\",\"text\":\"\",\"x\":[-0.047249781195183846,0.5807979722191119,-0.5840803964125373,-2.0256441041451843,-2.717758433269804,0.8087501871373753,0.6808476657323692,-1.4517045352576345,-1.077566689559306,0.5761038177773498,-1.7365254614618182,-0.18196412399397116,0.6326136100827379,1.1507282085712174,0.5898260705822608,0.10035344857577091,-1.619410125275257,0.6674956593402991,-1.1198386404292284,-1.2510378091859844,0.8895570166309362,-0.3692521794513197,-0.930071334761612,1.0351120663640652,-0.1391421027530557,0.5966769499472159,0.07951570107527746,1.039322440493506,-1.0403484710164908,-0.008916864350763918,0.7605828958467573,1.316981609729183,0.18141931559657465,0.04412730738103606,0.6215623194712838,0.8297396307092603,-1.0976640935673252,1.1255496523105701,1.1656054314719215,-0.6129034501836317,-0.629216183370437,-0.6073399976273386,1.8639308196488213,0.2867514857577595,0.8401257870911673,-0.10536946095031792,0.6797613470589414,0.5336194715918102,1.2559348778753936,0.4923636697054773,-2.161063539331115,0.0728617663004551,0.8364208839679473,-0.12832774187838877,1.900093292135524,-0.8740842697369767,2.2417282144106516,-0.38953536213565704,-0.23976651362572157,-1.5826663125676441,-0.3209706218622201,0.2105394304809266,-1.031877527830503,1.4878929073514255,0.8602115753808353,-1.1136405139370515,0.8825996436964001,-1.7428085811833083,-0.15635544863752787,0.7490067955117746,-0.3239075025790853,0.038532297017919166,1.3993657988093093,1.1992934839067848,-0.36249786145583274,2.4394185211403494,-0.1793756206531476,-0.4576517146060599,0.09262337925826437,-0.011713327619057282,-0.3156445170519262,-0.29876236993757893,-0.6478579022789553,0.7517042293677587,1.081513421865064,0.44739213512439696,-0.9448629749815547,-0.575126837808124,-0.05765011398142731,-0.2820600532547387,-0.19546551834527293,1.589656469566828,-0.20582042289236055,-1.2982061633734652,-1.2146393062199856,0.32144986438176754,-0.48218801944586104,0.5457219900911298,0.9457138531063372,-0.04393831853309557],\"xaxis\":\"x14\",\"y\":[0.3812242838491141,-0.46340357752793787,0.6167444489705141,1.0798134526870786,-1.4383366016769608,-0.7361847830897679,2.3926937180300576,0.7997596315884576,0.9207699908520541,0.8639841881702542,1.6216363166918863,-1.658601034201354,-0.7597785877173346,-0.4102533812305416,0.5259605163022608,0.4287236850308033,-1.0877905044395537,2.0723107094458215,-1.073937365541676,0.9090998699879687,-0.7365230727418189,1.040202698275768,0.8204697656486994,-0.6963766707216732,0.39686804299343503,0.02889397227904667,-0.32677751267453886,0.9912327592305462,-1.185623785364478,-0.13573714074175933,1.1486149200459752,-0.571162372365066,-0.406611360087898,-0.758176841987634,-0.6455399059030006,0.8548512825947828,0.5569022011999537,-1.159823177041537,1.8830257525414391,-0.9404633198474414,-0.32257735955203637,0.8375001716829175,-0.1605020062779592,-0.2942706397337943,1.4009698986932337,2.623490062841327,-0.08985049905516779,-0.4496582857338749,-0.8109345730362918,1.5277398283314625,2.341514349168089,0.5352238093734683,1.256757727466578,0.9176449769963769,-1.1453322650658793,0.9991968398333853,0.5578987916969835,0.45388482402783614,-0.2682435766762213,0.7438000253557365,-0.2967607836800882,1.7268350191622517,-0.5917860546489776,0.47380353405943,0.5570674383756229,0.3242084476632031,0.5287385057838155,0.14919247882928582,-0.8717080064057061,0.7834537736924412,-0.7041471911231447,1.1436549519895929,0.5388796697878669,0.3799859314064505,0.3643418097463149,1.3424987987656682,-1.244258220048376,0.02933955219689519,-1.0777066760772744,0.10359043065109746,-0.5614476219557705,-0.8699752902071215,-0.6413276178619316,0.43718978272824965,-0.3737487996766362,-0.8583767570606211,0.14824534717413057,-1.10762636358596,-1.7960195726187764,1.0788831365163554,0.42016061176645664,-2.105084978836787,-0.8603565150921293,0.11601266319846247,0.2056840418518598,-1.5238397181474899,-0.7819901822944672,-0.05187577552743315,1.3765943230152595,-0.1532464682524686],\"yaxis\":\"y14\",\"type\":\"scatter\"},{\"line\":{\"color\":\"rgba(128, 128, 128, 1.0)\",\"dash\":\"solid\",\"shape\":\"linear\",\"width\":1.3},\"marker\":{\"size\":2,\"symbol\":\"circle\"},\"mode\":\"markers\",\"name\":\"D\",\"text\":\"\",\"x\":[-1.269296989698203,-1.0080155890415854,-1.2042570137460005,-0.7523343489817734,-0.43020462934314735,0.3336358016540321,0.9395270060313918,-0.49396707631428755,1.6854042714870956,-1.1519275853360607,1.3934045042570897,0.41327568923473623,-0.7783005854279369,1.130081211873553,-0.5391255834525343,-1.241927709895697,0.13955167791054937,-0.545540348829611,-1.5323182277994851,1.1854413681856415,-0.6103588791438502,-0.05502047698401375,-1.5526275593486056,-0.2296797508695521,0.42418074561004593,-0.17475197660334327,1.1584780930831238,0.5291031129691107,-0.860917543530964,-0.5501337209076124,-0.3655464719441802,-0.7017880883634365,-0.20726908200891606,0.13086443709116227,-0.7948409026450902,0.13715348885403136,-0.18601720000085128,-0.6150416483220277,0.009023116028630363,1.0263941390302942,-1.2203155657290143,1.4563242070698132,-1.1176481610187825,0.034278414357095194,0.6829624892908408,0.07445020981186903,0.11345731746352025,0.6556803556150275,0.7211537051814578,-0.35752406419099997,-0.6093112408885526,-1.6364807636898486,1.5664007238603521,0.9084975527662472,-1.8669852044506083,-0.8659287608402915,-0.31128769379773674,0.040145949957772986,0.036577475753940075,-0.9236678953434068,0.22220728705653234,-1.6188305639741225,-0.7335202363998974,0.15511513807471974,0.48027922168551607,-1.6651611092745204,0.7190382345271333,0.25825484044436614,-0.5386584077017231,1.0122525311422148,0.37467011145341017,-0.00030687665539106085,-1.6767773623260784,-1.8392357566091053,0.07766647630689674,1.4902596513380661,-1.6311786209709138,0.9477701170146784,-1.8396926513227327,-1.010497166273908,-1.81161046210009,0.9594559363722026,-1.7961997808579593,0.7675702455962152,-1.2348867296957946,-0.9138298167524127,-1.0390963379177798,0.1060596221344798,-0.2506563770654563,0.8216316586155562,1.7058220161915616,0.9136846788674235,0.3334144082451351,0.41767936627934976,0.12838805206541762,-0.2924064851651061,-1.6972340857693768,-1.5325355411904735,-0.4389991758348614,-1.1817206651105758],\"xaxis\":\"x15\",\"y\":[0.3812242838491141,-0.46340357752793787,0.6167444489705141,1.0798134526870786,-1.4383366016769608,-0.7361847830897679,2.3926937180300576,0.7997596315884576,0.9207699908520541,0.8639841881702542,1.6216363166918863,-1.658601034201354,-0.7597785877173346,-0.4102533812305416,0.5259605163022608,0.4287236850308033,-1.0877905044395537,2.0723107094458215,-1.073937365541676,0.9090998699879687,-0.7365230727418189,1.040202698275768,0.8204697656486994,-0.6963766707216732,0.39686804299343503,0.02889397227904667,-0.32677751267453886,0.9912327592305462,-1.185623785364478,-0.13573714074175933,1.1486149200459752,-0.571162372365066,-0.406611360087898,-0.758176841987634,-0.6455399059030006,0.8548512825947828,0.5569022011999537,-1.159823177041537,1.8830257525414391,-0.9404633198474414,-0.32257735955203637,0.8375001716829175,-0.1605020062779592,-0.2942706397337943,1.4009698986932337,2.623490062841327,-0.08985049905516779,-0.4496582857338749,-0.8109345730362918,1.5277398283314625,2.341514349168089,0.5352238093734683,1.256757727466578,0.9176449769963769,-1.1453322650658793,0.9991968398333853,0.5578987916969835,0.45388482402783614,-0.2682435766762213,0.7438000253557365,-0.2967607836800882,1.7268350191622517,-0.5917860546489776,0.47380353405943,0.5570674383756229,0.3242084476632031,0.5287385057838155,0.14919247882928582,-0.8717080064057061,0.7834537736924412,-0.7041471911231447,1.1436549519895929,0.5388796697878669,0.3799859314064505,0.3643418097463149,1.3424987987656682,-1.244258220048376,0.02933955219689519,-1.0777066760772744,0.10359043065109746,-0.5614476219557705,-0.8699752902071215,-0.6413276178619316,0.43718978272824965,-0.3737487996766362,-0.8583767570606211,0.14824534717413057,-1.10762636358596,-1.7960195726187764,1.0788831365163554,0.42016061176645664,-2.105084978836787,-0.8603565150921293,0.11601266319846247,0.2056840418518598,-1.5238397181474899,-0.7819901822944672,-0.05187577552743315,1.3765943230152595,-0.1532464682524686],\"yaxis\":\"y15\",\"type\":\"scatter\"},{\"histfunc\":\"count\",\"histnorm\":\"\",\"marker\":{\"color\":\"rgba(128, 0, 128, 1.0)\",\"line\":{\"color\":\"#4D5663\",\"width\":1.3}},\"name\":\"D\",\"nbinsx\":10,\"opacity\":0.8,\"orientation\":\"v\",\"x\":[0.3812242838491141,-0.46340357752793787,0.6167444489705141,1.0798134526870786,-1.4383366016769608,-0.7361847830897679,2.3926937180300576,0.7997596315884576,0.9207699908520541,0.8639841881702542,1.6216363166918863,-1.658601034201354,-0.7597785877173346,-0.4102533812305416,0.5259605163022608,0.4287236850308033,-1.0877905044395537,2.0723107094458215,-1.073937365541676,0.9090998699879687,-0.7365230727418189,1.040202698275768,0.8204697656486994,-0.6963766707216732,0.39686804299343503,0.02889397227904667,-0.32677751267453886,0.9912327592305462,-1.185623785364478,-0.13573714074175933,1.1486149200459752,-0.571162372365066,-0.406611360087898,-0.758176841987634,-0.6455399059030006,0.8548512825947828,0.5569022011999537,-1.159823177041537,1.8830257525414391,-0.9404633198474414,-0.32257735955203637,0.8375001716829175,-0.1605020062779592,-0.2942706397337943,1.4009698986932337,2.623490062841327,-0.08985049905516779,-0.4496582857338749,-0.8109345730362918,1.5277398283314625,2.341514349168089,0.5352238093734683,1.256757727466578,0.9176449769963769,-1.1453322650658793,0.9991968398333853,0.5578987916969835,0.45388482402783614,-0.2682435766762213,0.7438000253557365,-0.2967607836800882,1.7268350191622517,-0.5917860546489776,0.47380353405943,0.5570674383756229,0.3242084476632031,0.5287385057838155,0.14919247882928582,-0.8717080064057061,0.7834537736924412,-0.7041471911231447,1.1436549519895929,0.5388796697878669,0.3799859314064505,0.3643418097463149,1.3424987987656682,-1.244258220048376,0.02933955219689519,-1.0777066760772744,0.10359043065109746,-0.5614476219557705,-0.8699752902071215,-0.6413276178619316,0.43718978272824965,-0.3737487996766362,-0.8583767570606211,0.14824534717413057,-1.10762636358596,-1.7960195726187764,1.0788831365163554,0.42016061176645664,-2.105084978836787,-0.8603565150921293,0.11601266319846247,0.2056840418518598,-1.5238397181474899,-0.7819901822944672,-0.05187577552743315,1.3765943230152595,-0.1532464682524686],\"xaxis\":\"x16\",\"yaxis\":\"y16\",\"type\":\"histogram\"}],                        {\"bargap\":0.02,\"legend\":{\"bgcolor\":\"#F5F6F9\",\"font\":{\"color\":\"#4D5663\"}},\"paper_bgcolor\":\"#F5F6F9\",\"plot_bgcolor\":\"#F5F6F9\",\"showlegend\":false,\"template\":{\"data\":{\"barpolar\":[{\"marker\":{\"line\":{\"color\":\"#E5ECF6\",\"width\":0.5},\"pattern\":{\"fillmode\":\"overlay\",\"size\":10,\"solidity\":0.2}},\"type\":\"barpolar\"}],\"bar\":[{\"error_x\":{\"color\":\"#2a3f5f\"},\"error_y\":{\"color\":\"#2a3f5f\"},\"marker\":{\"line\":{\"color\":\"#E5ECF6\",\"width\":0.5},\"pattern\":{\"fillmode\":\"overlay\",\"size\":10,\"solidity\":0.2}},\"type\":\"bar\"}],\"carpet\":[{\"aaxis\":{\"endlinecolor\":\"#2a3f5f\",\"gridcolor\":\"white\",\"linecolor\":\"white\",\"minorgridcolor\":\"white\",\"startlinecolor\":\"#2a3f5f\"},\"baxis\":{\"endlinecolor\":\"#2a3f5f\",\"gridcolor\":\"white\",\"linecolor\":\"white\",\"minorgridcolor\":\"white\",\"startlinecolor\":\"#2a3f5f\"},\"type\":\"carpet\"}],\"choropleth\":[{\"colorbar\":{\"outlinewidth\":0,\"ticks\":\"\"},\"type\":\"choropleth\"}],\"contourcarpet\":[{\"colorbar\":{\"outlinewidth\":0,\"ticks\":\"\"},\"type\":\"contourcarpet\"}],\"contour\":[{\"colorbar\":{\"outlinewidth\":0,\"ticks\":\"\"},\"colorscale\":[[0.0,\"#0d0887\"],[0.1111111111111111,\"#46039f\"],[0.2222222222222222,\"#7201a8\"],[0.3333333333333333,\"#9c179e\"],[0.4444444444444444,\"#bd3786\"],[0.5555555555555556,\"#d8576b\"],[0.6666666666666666,\"#ed7953\"],[0.7777777777777778,\"#fb9f3a\"],[0.8888888888888888,\"#fdca26\"],[1.0,\"#f0f921\"]],\"type\":\"contour\"}],\"heatmapgl\":[{\"colorbar\":{\"outlinewidth\":0,\"ticks\":\"\"},\"colorscale\":[[0.0,\"#0d0887\"],[0.1111111111111111,\"#46039f\"],[0.2222222222222222,\"#7201a8\"],[0.3333333333333333,\"#9c179e\"],[0.4444444444444444,\"#bd3786\"],[0.5555555555555556,\"#d8576b\"],[0.6666666666666666,\"#ed7953\"],[0.7777777777777778,\"#fb9f3a\"],[0.8888888888888888,\"#fdca26\"],[1.0,\"#f0f921\"]],\"type\":\"heatmapgl\"}],\"heatmap\":[{\"colorbar\":{\"outlinewidth\":0,\"ticks\":\"\"},\"colorscale\":[[0.0,\"#0d0887\"],[0.1111111111111111,\"#46039f\"],[0.2222222222222222,\"#7201a8\"],[0.3333333333333333,\"#9c179e\"],[0.4444444444444444,\"#bd3786\"],[0.5555555555555556,\"#d8576b\"],[0.6666666666666666,\"#ed7953\"],[0.7777777777777778,\"#fb9f3a\"],[0.8888888888888888,\"#fdca26\"],[1.0,\"#f0f921\"]],\"type\":\"heatmap\"}],\"histogram2dcontour\":[{\"colorbar\":{\"outlinewidth\":0,\"ticks\":\"\"},\"colorscale\":[[0.0,\"#0d0887\"],[0.1111111111111111,\"#46039f\"],[0.2222222222222222,\"#7201a8\"],[0.3333333333333333,\"#9c179e\"],[0.4444444444444444,\"#bd3786\"],[0.5555555555555556,\"#d8576b\"],[0.6666666666666666,\"#ed7953\"],[0.7777777777777778,\"#fb9f3a\"],[0.8888888888888888,\"#fdca26\"],[1.0,\"#f0f921\"]],\"type\":\"histogram2dcontour\"}],\"histogram2d\":[{\"colorbar\":{\"outlinewidth\":0,\"ticks\":\"\"},\"colorscale\":[[0.0,\"#0d0887\"],[0.1111111111111111,\"#46039f\"],[0.2222222222222222,\"#7201a8\"],[0.3333333333333333,\"#9c179e\"],[0.4444444444444444,\"#bd3786\"],[0.5555555555555556,\"#d8576b\"],[0.6666666666666666,\"#ed7953\"],[0.7777777777777778,\"#fb9f3a\"],[0.8888888888888888,\"#fdca26\"],[1.0,\"#f0f921\"]],\"type\":\"histogram2d\"}],\"histogram\":[{\"marker\":{\"pattern\":{\"fillmode\":\"overlay\",\"size\":10,\"solidity\":0.2}},\"type\":\"histogram\"}],\"mesh3d\":[{\"colorbar\":{\"outlinewidth\":0,\"ticks\":\"\"},\"type\":\"mesh3d\"}],\"parcoords\":[{\"line\":{\"colorbar\":{\"outlinewidth\":0,\"ticks\":\"\"}},\"type\":\"parcoords\"}],\"pie\":[{\"automargin\":true,\"type\":\"pie\"}],\"scatter3d\":[{\"line\":{\"colorbar\":{\"outlinewidth\":0,\"ticks\":\"\"}},\"marker\":{\"colorbar\":{\"outlinewidth\":0,\"ticks\":\"\"}},\"type\":\"scatter3d\"}],\"scattercarpet\":[{\"marker\":{\"colorbar\":{\"outlinewidth\":0,\"ticks\":\"\"}},\"type\":\"scattercarpet\"}],\"scattergeo\":[{\"marker\":{\"colorbar\":{\"outlinewidth\":0,\"ticks\":\"\"}},\"type\":\"scattergeo\"}],\"scattergl\":[{\"marker\":{\"colorbar\":{\"outlinewidth\":0,\"ticks\":\"\"}},\"type\":\"scattergl\"}],\"scattermapbox\":[{\"marker\":{\"colorbar\":{\"outlinewidth\":0,\"ticks\":\"\"}},\"type\":\"scattermapbox\"}],\"scatterpolargl\":[{\"marker\":{\"colorbar\":{\"outlinewidth\":0,\"ticks\":\"\"}},\"type\":\"scatterpolargl\"}],\"scatterpolar\":[{\"marker\":{\"colorbar\":{\"outlinewidth\":0,\"ticks\":\"\"}},\"type\":\"scatterpolar\"}],\"scatter\":[{\"fillpattern\":{\"fillmode\":\"overlay\",\"size\":10,\"solidity\":0.2},\"type\":\"scatter\"}],\"scatterternary\":[{\"marker\":{\"colorbar\":{\"outlinewidth\":0,\"ticks\":\"\"}},\"type\":\"scatterternary\"}],\"surface\":[{\"colorbar\":{\"outlinewidth\":0,\"ticks\":\"\"},\"colorscale\":[[0.0,\"#0d0887\"],[0.1111111111111111,\"#46039f\"],[0.2222222222222222,\"#7201a8\"],[0.3333333333333333,\"#9c179e\"],[0.4444444444444444,\"#bd3786\"],[0.5555555555555556,\"#d8576b\"],[0.6666666666666666,\"#ed7953\"],[0.7777777777777778,\"#fb9f3a\"],[0.8888888888888888,\"#fdca26\"],[1.0,\"#f0f921\"]],\"type\":\"surface\"}],\"table\":[{\"cells\":{\"fill\":{\"color\":\"#EBF0F8\"},\"line\":{\"color\":\"white\"}},\"header\":{\"fill\":{\"color\":\"#C8D4E3\"},\"line\":{\"color\":\"white\"}},\"type\":\"table\"}]},\"layout\":{\"annotationdefaults\":{\"arrowcolor\":\"#2a3f5f\",\"arrowhead\":0,\"arrowwidth\":1},\"autotypenumbers\":\"strict\",\"coloraxis\":{\"colorbar\":{\"outlinewidth\":0,\"ticks\":\"\"}},\"colorscale\":{\"diverging\":[[0,\"#8e0152\"],[0.1,\"#c51b7d\"],[0.2,\"#de77ae\"],[0.3,\"#f1b6da\"],[0.4,\"#fde0ef\"],[0.5,\"#f7f7f7\"],[0.6,\"#e6f5d0\"],[0.7,\"#b8e186\"],[0.8,\"#7fbc41\"],[0.9,\"#4d9221\"],[1,\"#276419\"]],\"sequential\":[[0.0,\"#0d0887\"],[0.1111111111111111,\"#46039f\"],[0.2222222222222222,\"#7201a8\"],[0.3333333333333333,\"#9c179e\"],[0.4444444444444444,\"#bd3786\"],[0.5555555555555556,\"#d8576b\"],[0.6666666666666666,\"#ed7953\"],[0.7777777777777778,\"#fb9f3a\"],[0.8888888888888888,\"#fdca26\"],[1.0,\"#f0f921\"]],\"sequentialminus\":[[0.0,\"#0d0887\"],[0.1111111111111111,\"#46039f\"],[0.2222222222222222,\"#7201a8\"],[0.3333333333333333,\"#9c179e\"],[0.4444444444444444,\"#bd3786\"],[0.5555555555555556,\"#d8576b\"],[0.6666666666666666,\"#ed7953\"],[0.7777777777777778,\"#fb9f3a\"],[0.8888888888888888,\"#fdca26\"],[1.0,\"#f0f921\"]]},\"colorway\":[\"#636efa\",\"#EF553B\",\"#00cc96\",\"#ab63fa\",\"#FFA15A\",\"#19d3f3\",\"#FF6692\",\"#B6E880\",\"#FF97FF\",\"#FECB52\"],\"font\":{\"color\":\"#2a3f5f\"},\"geo\":{\"bgcolor\":\"white\",\"lakecolor\":\"white\",\"landcolor\":\"#E5ECF6\",\"showlakes\":true,\"showland\":true,\"subunitcolor\":\"white\"},\"hoverlabel\":{\"align\":\"left\"},\"hovermode\":\"closest\",\"mapbox\":{\"style\":\"light\"},\"paper_bgcolor\":\"white\",\"plot_bgcolor\":\"#E5ECF6\",\"polar\":{\"angularaxis\":{\"gridcolor\":\"white\",\"linecolor\":\"white\",\"ticks\":\"\"},\"bgcolor\":\"#E5ECF6\",\"radialaxis\":{\"gridcolor\":\"white\",\"linecolor\":\"white\",\"ticks\":\"\"}},\"scene\":{\"xaxis\":{\"backgroundcolor\":\"#E5ECF6\",\"gridcolor\":\"white\",\"gridwidth\":2,\"linecolor\":\"white\",\"showbackground\":true,\"ticks\":\"\",\"zerolinecolor\":\"white\"},\"yaxis\":{\"backgroundcolor\":\"#E5ECF6\",\"gridcolor\":\"white\",\"gridwidth\":2,\"linecolor\":\"white\",\"showbackground\":true,\"ticks\":\"\",\"zerolinecolor\":\"white\"},\"zaxis\":{\"backgroundcolor\":\"#E5ECF6\",\"gridcolor\":\"white\",\"gridwidth\":2,\"linecolor\":\"white\",\"showbackground\":true,\"ticks\":\"\",\"zerolinecolor\":\"white\"}},\"shapedefaults\":{\"line\":{\"color\":\"#2a3f5f\"}},\"ternary\":{\"aaxis\":{\"gridcolor\":\"white\",\"linecolor\":\"white\",\"ticks\":\"\"},\"baxis\":{\"gridcolor\":\"white\",\"linecolor\":\"white\",\"ticks\":\"\"},\"bgcolor\":\"#E5ECF6\",\"caxis\":{\"gridcolor\":\"white\",\"linecolor\":\"white\",\"ticks\":\"\"}},\"title\":{\"x\":0.05},\"xaxis\":{\"automargin\":true,\"gridcolor\":\"white\",\"linecolor\":\"white\",\"ticks\":\"\",\"title\":{\"standoff\":15},\"zerolinecolor\":\"white\",\"zerolinewidth\":2},\"yaxis\":{\"automargin\":true,\"gridcolor\":\"white\",\"linecolor\":\"white\",\"ticks\":\"\",\"title\":{\"standoff\":15},\"zerolinecolor\":\"white\",\"zerolinewidth\":2}}},\"title\":{\"font\":{\"color\":\"#4D5663\"}},\"xaxis\":{\"anchor\":\"y\",\"domain\":[0.0,0.2125],\"gridcolor\":\"#E1E5ED\",\"showgrid\":false,\"tickfont\":{\"color\":\"#4D5663\"},\"title\":{\"font\":{\"color\":\"#4D5663\"},\"text\":\"\"},\"zerolinecolor\":\"#E1E5ED\"},\"yaxis\":{\"anchor\":\"x\",\"domain\":[0.8025,1.0],\"gridcolor\":\"#E1E5ED\",\"showgrid\":false,\"tickfont\":{\"color\":\"#4D5663\"},\"title\":{\"font\":{\"color\":\"#4D5663\"},\"text\":\"\"},\"zerolinecolor\":\"#E1E5ED\"},\"xaxis2\":{\"anchor\":\"y2\",\"domain\":[0.2625,0.475],\"gridcolor\":\"#E1E5ED\",\"showgrid\":false,\"tickfont\":{\"color\":\"#4D5663\"},\"title\":{\"font\":{\"color\":\"#4D5663\"},\"text\":\"\"},\"zerolinecolor\":\"#E1E5ED\"},\"yaxis2\":{\"anchor\":\"x2\",\"domain\":[0.8025,1.0],\"gridcolor\":\"#E1E5ED\",\"showgrid\":false,\"tickfont\":{\"color\":\"#4D5663\"},\"title\":{\"font\":{\"color\":\"#4D5663\"},\"text\":\"\"},\"zerolinecolor\":\"#E1E5ED\"},\"xaxis3\":{\"anchor\":\"y3\",\"domain\":[0.525,0.7375],\"gridcolor\":\"#E1E5ED\",\"showgrid\":false,\"tickfont\":{\"color\":\"#4D5663\"},\"title\":{\"font\":{\"color\":\"#4D5663\"},\"text\":\"\"},\"zerolinecolor\":\"#E1E5ED\"},\"yaxis3\":{\"anchor\":\"x3\",\"domain\":[0.8025,1.0],\"gridcolor\":\"#E1E5ED\",\"showgrid\":false,\"tickfont\":{\"color\":\"#4D5663\"},\"title\":{\"font\":{\"color\":\"#4D5663\"},\"text\":\"\"},\"zerolinecolor\":\"#E1E5ED\"},\"xaxis4\":{\"anchor\":\"y4\",\"domain\":[0.7875,1.0],\"gridcolor\":\"#E1E5ED\",\"showgrid\":false,\"tickfont\":{\"color\":\"#4D5663\"},\"title\":{\"font\":{\"color\":\"#4D5663\"},\"text\":\"\"},\"zerolinecolor\":\"#E1E5ED\"},\"yaxis4\":{\"anchor\":\"x4\",\"domain\":[0.8025,1.0],\"gridcolor\":\"#E1E5ED\",\"showgrid\":false,\"tickfont\":{\"color\":\"#4D5663\"},\"title\":{\"font\":{\"color\":\"#4D5663\"},\"text\":\"\"},\"zerolinecolor\":\"#E1E5ED\"},\"xaxis5\":{\"anchor\":\"y5\",\"domain\":[0.0,0.2125],\"gridcolor\":\"#E1E5ED\",\"showgrid\":false,\"tickfont\":{\"color\":\"#4D5663\"},\"title\":{\"font\":{\"color\":\"#4D5663\"},\"text\":\"\"},\"zerolinecolor\":\"#E1E5ED\"},\"yaxis5\":{\"anchor\":\"x5\",\"domain\":[0.535,0.7325],\"gridcolor\":\"#E1E5ED\",\"showgrid\":false,\"tickfont\":{\"color\":\"#4D5663\"},\"title\":{\"font\":{\"color\":\"#4D5663\"},\"text\":\"\"},\"zerolinecolor\":\"#E1E5ED\"},\"xaxis6\":{\"anchor\":\"y6\",\"domain\":[0.2625,0.475],\"gridcolor\":\"#E1E5ED\",\"showgrid\":false,\"tickfont\":{\"color\":\"#4D5663\"},\"title\":{\"font\":{\"color\":\"#4D5663\"},\"text\":\"\"},\"zerolinecolor\":\"#E1E5ED\"},\"yaxis6\":{\"anchor\":\"x6\",\"domain\":[0.535,0.7325],\"gridcolor\":\"#E1E5ED\",\"showgrid\":false,\"tickfont\":{\"color\":\"#4D5663\"},\"title\":{\"font\":{\"color\":\"#4D5663\"},\"text\":\"\"},\"zerolinecolor\":\"#E1E5ED\"},\"xaxis7\":{\"anchor\":\"y7\",\"domain\":[0.525,0.7375],\"gridcolor\":\"#E1E5ED\",\"showgrid\":false,\"tickfont\":{\"color\":\"#4D5663\"},\"title\":{\"font\":{\"color\":\"#4D5663\"},\"text\":\"\"},\"zerolinecolor\":\"#E1E5ED\"},\"yaxis7\":{\"anchor\":\"x7\",\"domain\":[0.535,0.7325],\"gridcolor\":\"#E1E5ED\",\"showgrid\":false,\"tickfont\":{\"color\":\"#4D5663\"},\"title\":{\"font\":{\"color\":\"#4D5663\"},\"text\":\"\"},\"zerolinecolor\":\"#E1E5ED\"},\"xaxis8\":{\"anchor\":\"y8\",\"domain\":[0.7875,1.0],\"gridcolor\":\"#E1E5ED\",\"showgrid\":false,\"tickfont\":{\"color\":\"#4D5663\"},\"title\":{\"font\":{\"color\":\"#4D5663\"},\"text\":\"\"},\"zerolinecolor\":\"#E1E5ED\"},\"yaxis8\":{\"anchor\":\"x8\",\"domain\":[0.535,0.7325],\"gridcolor\":\"#E1E5ED\",\"showgrid\":false,\"tickfont\":{\"color\":\"#4D5663\"},\"title\":{\"font\":{\"color\":\"#4D5663\"},\"text\":\"\"},\"zerolinecolor\":\"#E1E5ED\"},\"xaxis9\":{\"anchor\":\"y9\",\"domain\":[0.0,0.2125],\"gridcolor\":\"#E1E5ED\",\"showgrid\":false,\"tickfont\":{\"color\":\"#4D5663\"},\"title\":{\"font\":{\"color\":\"#4D5663\"},\"text\":\"\"},\"zerolinecolor\":\"#E1E5ED\"},\"yaxis9\":{\"anchor\":\"x9\",\"domain\":[0.2675,0.465],\"gridcolor\":\"#E1E5ED\",\"showgrid\":false,\"tickfont\":{\"color\":\"#4D5663\"},\"title\":{\"font\":{\"color\":\"#4D5663\"},\"text\":\"\"},\"zerolinecolor\":\"#E1E5ED\"},\"xaxis10\":{\"anchor\":\"y10\",\"domain\":[0.2625,0.475],\"gridcolor\":\"#E1E5ED\",\"showgrid\":false,\"tickfont\":{\"color\":\"#4D5663\"},\"title\":{\"font\":{\"color\":\"#4D5663\"},\"text\":\"\"},\"zerolinecolor\":\"#E1E5ED\"},\"yaxis10\":{\"anchor\":\"x10\",\"domain\":[0.2675,0.465],\"gridcolor\":\"#E1E5ED\",\"showgrid\":false,\"tickfont\":{\"color\":\"#4D5663\"},\"title\":{\"font\":{\"color\":\"#4D5663\"},\"text\":\"\"},\"zerolinecolor\":\"#E1E5ED\"},\"xaxis11\":{\"anchor\":\"y11\",\"domain\":[0.525,0.7375],\"gridcolor\":\"#E1E5ED\",\"showgrid\":false,\"tickfont\":{\"color\":\"#4D5663\"},\"title\":{\"font\":{\"color\":\"#4D5663\"},\"text\":\"\"},\"zerolinecolor\":\"#E1E5ED\"},\"yaxis11\":{\"anchor\":\"x11\",\"domain\":[0.2675,0.465],\"gridcolor\":\"#E1E5ED\",\"showgrid\":false,\"tickfont\":{\"color\":\"#4D5663\"},\"title\":{\"font\":{\"color\":\"#4D5663\"},\"text\":\"\"},\"zerolinecolor\":\"#E1E5ED\"},\"xaxis12\":{\"anchor\":\"y12\",\"domain\":[0.7875,1.0],\"gridcolor\":\"#E1E5ED\",\"showgrid\":false,\"tickfont\":{\"color\":\"#4D5663\"},\"title\":{\"font\":{\"color\":\"#4D5663\"},\"text\":\"\"},\"zerolinecolor\":\"#E1E5ED\"},\"yaxis12\":{\"anchor\":\"x12\",\"domain\":[0.2675,0.465],\"gridcolor\":\"#E1E5ED\",\"showgrid\":false,\"tickfont\":{\"color\":\"#4D5663\"},\"title\":{\"font\":{\"color\":\"#4D5663\"},\"text\":\"\"},\"zerolinecolor\":\"#E1E5ED\"},\"xaxis13\":{\"anchor\":\"y13\",\"domain\":[0.0,0.2125],\"gridcolor\":\"#E1E5ED\",\"showgrid\":false,\"tickfont\":{\"color\":\"#4D5663\"},\"title\":{\"font\":{\"color\":\"#4D5663\"},\"text\":\"\"},\"zerolinecolor\":\"#E1E5ED\"},\"yaxis13\":{\"anchor\":\"x13\",\"domain\":[0.0,0.1975],\"gridcolor\":\"#E1E5ED\",\"showgrid\":false,\"tickfont\":{\"color\":\"#4D5663\"},\"title\":{\"font\":{\"color\":\"#4D5663\"},\"text\":\"\"},\"zerolinecolor\":\"#E1E5ED\"},\"xaxis14\":{\"anchor\":\"y14\",\"domain\":[0.2625,0.475],\"gridcolor\":\"#E1E5ED\",\"showgrid\":false,\"tickfont\":{\"color\":\"#4D5663\"},\"title\":{\"font\":{\"color\":\"#4D5663\"},\"text\":\"\"},\"zerolinecolor\":\"#E1E5ED\"},\"yaxis14\":{\"anchor\":\"x14\",\"domain\":[0.0,0.1975],\"gridcolor\":\"#E1E5ED\",\"showgrid\":false,\"tickfont\":{\"color\":\"#4D5663\"},\"title\":{\"font\":{\"color\":\"#4D5663\"},\"text\":\"\"},\"zerolinecolor\":\"#E1E5ED\"},\"xaxis15\":{\"anchor\":\"y15\",\"domain\":[0.525,0.7375],\"gridcolor\":\"#E1E5ED\",\"showgrid\":false,\"tickfont\":{\"color\":\"#4D5663\"},\"title\":{\"font\":{\"color\":\"#4D5663\"},\"text\":\"\"},\"zerolinecolor\":\"#E1E5ED\"},\"yaxis15\":{\"anchor\":\"x15\",\"domain\":[0.0,0.1975],\"gridcolor\":\"#E1E5ED\",\"showgrid\":false,\"tickfont\":{\"color\":\"#4D5663\"},\"title\":{\"font\":{\"color\":\"#4D5663\"},\"text\":\"\"},\"zerolinecolor\":\"#E1E5ED\"},\"xaxis16\":{\"anchor\":\"y16\",\"domain\":[0.7875,1.0],\"gridcolor\":\"#E1E5ED\",\"showgrid\":false,\"tickfont\":{\"color\":\"#4D5663\"},\"title\":{\"font\":{\"color\":\"#4D5663\"},\"text\":\"\"},\"zerolinecolor\":\"#E1E5ED\"},\"yaxis16\":{\"anchor\":\"x16\",\"domain\":[0.0,0.1975],\"gridcolor\":\"#E1E5ED\",\"showgrid\":false,\"tickfont\":{\"color\":\"#4D5663\"},\"title\":{\"font\":{\"color\":\"#4D5663\"},\"text\":\"\"},\"zerolinecolor\":\"#E1E5ED\"}},                        {\"showLink\": true, \"linkText\": \"Export to plot.ly\", \"plotlyServerURL\": \"https://plot.ly\", \"responsive\": true}                    ).then(function(){\n",
       "                            \n",
       "var gd = document.getElementById('e457ac87-7d89-4640-848b-f7eddf114624');\n",
       "var x = new MutationObserver(function (mutations, observer) {{\n",
       "        var display = window.getComputedStyle(gd).display;\n",
       "        if (!display || display === 'none') {{\n",
       "            console.log([gd, 'removed!']);\n",
       "            Plotly.purge(gd);\n",
       "            observer.disconnect();\n",
       "        }}\n",
       "}});\n",
       "\n",
       "// Listen for the removal of the full notebook cells\n",
       "var notebookContainer = gd.closest('#notebook-container');\n",
       "if (notebookContainer) {{\n",
       "    x.observe(notebookContainer, {childList: true});\n",
       "}}\n",
       "\n",
       "// Listen for the clearing of the current output cell\n",
       "var outputEl = gd.closest('.output');\n",
       "if (outputEl) {{\n",
       "    x.observe(outputEl, {childList: true});\n",
       "}}\n",
       "\n",
       "                        })                };                });            </script>        </div>"
      ]
     },
     "metadata": {},
     "output_type": "display_data"
    }
   ],
   "source": [
    "df.scatter_matrix()"
   ]
  },
  {
   "cell_type": "code",
   "execution_count": null,
   "id": "6b410955",
   "metadata": {},
   "outputs": [],
   "source": []
  },
  {
   "cell_type": "code",
   "execution_count": null,
   "id": "53f135ea",
   "metadata": {},
   "outputs": [],
   "source": []
  },
  {
   "cell_type": "code",
   "execution_count": null,
   "id": "8f9f16d1",
   "metadata": {},
   "outputs": [],
   "source": []
  },
  {
   "cell_type": "code",
   "execution_count": null,
   "id": "d5cb8575",
   "metadata": {},
   "outputs": [],
   "source": []
  },
  {
   "cell_type": "code",
   "execution_count": null,
   "id": "b5d9a9b4",
   "metadata": {},
   "outputs": [],
   "source": []
  },
  {
   "cell_type": "code",
   "execution_count": null,
   "id": "32224ed1",
   "metadata": {},
   "outputs": [],
   "source": []
  },
  {
   "cell_type": "code",
   "execution_count": null,
   "id": "b8adcb4f",
   "metadata": {},
   "outputs": [],
   "source": []
  },
  {
   "cell_type": "code",
   "execution_count": null,
   "id": "d8655eb8",
   "metadata": {},
   "outputs": [],
   "source": []
  },
  {
   "cell_type": "code",
   "execution_count": null,
   "id": "200c41b4",
   "metadata": {},
   "outputs": [],
   "source": []
  },
  {
   "cell_type": "code",
   "execution_count": null,
   "id": "1208690e",
   "metadata": {},
   "outputs": [],
   "source": []
  },
  {
   "cell_type": "code",
   "execution_count": null,
   "id": "fa88589e",
   "metadata": {},
   "outputs": [],
   "source": []
  },
  {
   "cell_type": "code",
   "execution_count": null,
   "id": "d1906a82",
   "metadata": {},
   "outputs": [],
   "source": []
  },
  {
   "cell_type": "code",
   "execution_count": null,
   "id": "55e3db8d",
   "metadata": {},
   "outputs": [],
   "source": []
  },
  {
   "cell_type": "code",
   "execution_count": null,
   "id": "7d1fe630",
   "metadata": {},
   "outputs": [],
   "source": []
  },
  {
   "cell_type": "code",
   "execution_count": null,
   "id": "2c0f638a",
   "metadata": {},
   "outputs": [],
   "source": []
  },
  {
   "cell_type": "code",
   "execution_count": null,
   "id": "2423fb1a",
   "metadata": {},
   "outputs": [],
   "source": []
  },
  {
   "cell_type": "code",
   "execution_count": null,
   "id": "7099475d",
   "metadata": {},
   "outputs": [],
   "source": []
  }
 ],
 "metadata": {
  "kernelspec": {
   "display_name": "Python 3 (ipykernel)",
   "language": "python",
   "name": "python3"
  },
  "language_info": {
   "codemirror_mode": {
    "name": "ipython",
    "version": 3
   },
   "file_extension": ".py",
   "mimetype": "text/x-python",
   "name": "python",
   "nbconvert_exporter": "python",
   "pygments_lexer": "ipython3",
   "version": "3.9.13"
  }
 },
 "nbformat": 4,
 "nbformat_minor": 5
}
