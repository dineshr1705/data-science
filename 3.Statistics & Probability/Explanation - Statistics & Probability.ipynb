{
 "cells": [
  {
   "cell_type": "code",
   "execution_count": 2,
   "id": "5e3e61be",
   "metadata": {},
   "outputs": [],
   "source": [
    "import numpy as np\n",
    "from scipy.stats import sem"
   ]
  },
  {
   "cell_type": "markdown",
   "id": "b2e1e39c",
   "metadata": {},
   "source": [
    "## count,len,mean,sum,standard deviation,standard error of mean"
   ]
  },
  {
   "cell_type": "code",
   "execution_count": 3,
   "id": "b2706434",
   "metadata": {},
   "outputs": [],
   "source": [
    "x = [8.0,1,2.5,4,'NAN',28.0]\n",
    "x1 = [8.0,1,2.5,4,28.0]"
   ]
  },
  {
   "cell_type": "code",
   "execution_count": 4,
   "id": "747cb806",
   "metadata": {},
   "outputs": [
    {
     "name": "stdout",
     "output_type": "stream",
     "text": [
      "1\n",
      "6\n"
     ]
    }
   ],
   "source": [
    "# count the NAN values\n",
    "print(x.count('NAN'))\n",
    "\n",
    "#count the total len of arrary\n",
    "print(len(x))"
   ]
  },
  {
   "cell_type": "code",
   "execution_count": 12,
   "id": "a8a2fe0e",
   "metadata": {},
   "outputs": [
    {
     "name": "stdout",
     "output_type": "stream",
     "text": [
      "8.7\n",
      "43.5\n",
      "9.927738916792684\n",
      "4.963869458396342\n"
     ]
    }
   ],
   "source": [
    "#print the mean value of array\n",
    "print(np.mean(x1))\n",
    "\n",
    "#print sum of the values\n",
    "print(np.sum(x1))\n",
    "\n",
    "#print standard deviation of values\n",
    "print(np.std(x1))\n",
    "\n",
    "#print standard error of mean \n",
    "print(sem(x1))"
   ]
  },
  {
   "cell_type": "code",
   "execution_count": null,
   "id": "9fc208d0",
   "metadata": {},
   "outputs": [],
   "source": []
  },
  {
   "cell_type": "code",
   "execution_count": 13,
   "id": "84284de1",
   "metadata": {},
   "outputs": [],
   "source": [
    "from scipy.stats import t"
   ]
  },
  {
   "cell_type": "markdown",
   "id": "3b45a1da",
   "metadata": {},
   "source": [
    "## degree of freedom(dof), confidence interval"
   ]
  },
  {
   "cell_type": "code",
   "execution_count": 14,
   "id": "8658d087",
   "metadata": {},
   "outputs": [],
   "source": [
    "y = np.array([1,2,3,4,5])"
   ]
  },
  {
   "cell_type": "code",
   "execution_count": 15,
   "id": "73ddd021",
   "metadata": {},
   "outputs": [],
   "source": [
    "m = np.mean(y)\n",
    "s = sem(y)\n",
    "# degree of freedom(dof)\n",
    "dof = len(y)-1\n",
    "#confidence interval\n",
    "confidence = 0.95"
   ]
  },
  {
   "cell_type": "code",
   "execution_count": 17,
   "id": "07e84e99",
   "metadata": {},
   "outputs": [
    {
     "name": "stdout",
     "output_type": "stream",
     "text": [
      "(1.036756838522439, 4.9632431614775605)\n",
      "1\n",
      "5\n",
      "4\n",
      "3.0\n"
     ]
    }
   ],
   "source": [
    "#confidence interval\n",
    "ci = t.interval(confidence,dof,loc = m,scale =s)\n",
    "print(ci)\n",
    "print(np.min(y))\n",
    "print(np.max(y))\n",
    "print(np.max(y)-np.min(y))\n",
    "print(np.median(y))"
   ]
  },
  {
   "cell_type": "code",
   "execution_count": null,
   "id": "7475318b",
   "metadata": {},
   "outputs": [],
   "source": []
  },
  {
   "cell_type": "markdown",
   "id": "500720f3",
   "metadata": {},
   "source": [
    "## Percentile , Variance , Mode , Multimode"
   ]
  },
  {
   "cell_type": "code",
   "execution_count": 45,
   "id": "d0bdbabe",
   "metadata": {},
   "outputs": [],
   "source": [
    "import statistics"
   ]
  },
  {
   "cell_type": "code",
   "execution_count": 28,
   "id": "a8ea1e2b",
   "metadata": {},
   "outputs": [],
   "source": [
    "d = np.array([1,2,3,4,5,6,3])"
   ]
  },
  {
   "cell_type": "code",
   "execution_count": 29,
   "id": "6b106fa0",
   "metadata": {},
   "outputs": [
    {
     "name": "stdout",
     "output_type": "stream",
     "text": [
      "10th percentile: 1.6\n"
     ]
    }
   ],
   "source": [
    "print(\"10th percentile:\",np.percentile(d,10))"
   ]
  },
  {
   "cell_type": "code",
   "execution_count": 30,
   "id": "8b237670",
   "metadata": {},
   "outputs": [
    {
     "name": "stdout",
     "output_type": "stream",
     "text": [
      "25th percentile: 2.5\n"
     ]
    }
   ],
   "source": [
    "print(\"25th percentile:\",np.percentile(d,25))"
   ]
  },
  {
   "cell_type": "code",
   "execution_count": 31,
   "id": "e4d10a4f",
   "metadata": {},
   "outputs": [
    {
     "name": "stdout",
     "output_type": "stream",
     "text": [
      "50th percentile: 3.0\n"
     ]
    }
   ],
   "source": [
    "print(\"50th percentile:\",np.percentile(d,50))"
   ]
  },
  {
   "cell_type": "code",
   "execution_count": 32,
   "id": "1b419644",
   "metadata": {},
   "outputs": [
    {
     "name": "stdout",
     "output_type": "stream",
     "text": [
      "75th percentile: 4.5\n"
     ]
    }
   ],
   "source": [
    "print(\"75th percentile:\",np.percentile(d,75))"
   ]
  },
  {
   "cell_type": "code",
   "execution_count": 33,
   "id": "b8ffb291",
   "metadata": {},
   "outputs": [
    {
     "name": "stdout",
     "output_type": "stream",
     "text": [
      "90th percentile: 5.4\n"
     ]
    }
   ],
   "source": [
    "print(\"90th percentile:\",np.percentile(d,90))"
   ]
  },
  {
   "cell_type": "code",
   "execution_count": 34,
   "id": "6668afc3",
   "metadata": {},
   "outputs": [
    {
     "name": "stdout",
     "output_type": "stream",
     "text": [
      "variance 2.5306122448979593\n"
     ]
    }
   ],
   "source": [
    "# variance avlue\n",
    "print(\"variance\",(np.var(d)))"
   ]
  },
  {
   "cell_type": "code",
   "execution_count": 46,
   "id": "d661ac3d",
   "metadata": {},
   "outputs": [
    {
     "name": "stdout",
     "output_type": "stream",
     "text": [
      "mode 3\n"
     ]
    }
   ],
   "source": [
    "#mode value\n",
    "print(\"mode\",(statistics.mode(d)))"
   ]
  },
  {
   "cell_type": "code",
   "execution_count": 47,
   "id": "47a59848",
   "metadata": {},
   "outputs": [],
   "source": [
    "d = np.array([1,2,3,4,5,6,3,4])"
   ]
  },
  {
   "cell_type": "code",
   "execution_count": 48,
   "id": "8579fcbb",
   "metadata": {},
   "outputs": [
    {
     "name": "stdout",
     "output_type": "stream",
     "text": [
      "multimode [3, 4]\n"
     ]
    }
   ],
   "source": [
    "# multimode function\n",
    "print(\"multimode\",(statistics.multimode(d)))"
   ]
  },
  {
   "cell_type": "code",
   "execution_count": null,
   "id": "3c5b66a6",
   "metadata": {},
   "outputs": [],
   "source": []
  },
  {
   "cell_type": "markdown",
   "id": "a008d6d2",
   "metadata": {},
   "source": [
    "## Inter quartile range(IQR)"
   ]
  },
  {
   "cell_type": "code",
   "execution_count": 49,
   "id": "1f63c337",
   "metadata": {},
   "outputs": [],
   "source": [
    "from scipy import stats"
   ]
  },
  {
   "cell_type": "code",
   "execution_count": 57,
   "id": "84a4cb79",
   "metadata": {},
   "outputs": [],
   "source": [
    "data = [32,36,46,56,69,75,79,88,89,91,92,93,96,97,101,105,112,116]"
   ]
  },
  {
   "cell_type": "code",
   "execution_count": 58,
   "id": "a8eec424",
   "metadata": {},
   "outputs": [],
   "source": [
    "IQR = stats.iqr(data,interpolation = 'midpoint')"
   ]
  },
  {
   "cell_type": "code",
   "execution_count": 59,
   "id": "386985cc",
   "metadata": {},
   "outputs": [
    {
     "name": "stdout",
     "output_type": "stream",
     "text": [
      "24.5\n"
     ]
    }
   ],
   "source": [
    "print(IQR)"
   ]
  },
  {
   "cell_type": "code",
   "execution_count": null,
   "id": "84b138fd",
   "metadata": {},
   "outputs": [],
   "source": []
  },
  {
   "cell_type": "code",
   "execution_count": null,
   "id": "2678fce0",
   "metadata": {},
   "outputs": [],
   "source": []
  },
  {
   "cell_type": "markdown",
   "id": "0cb049ec",
   "metadata": {},
   "source": [
    "# Skewness\n",
    "## Types\n",
    "\n",
    "### No Skewness\n",
    "### Left Skewness (-)\n",
    "### Right Skewness (+)"
   ]
  },
  {
   "cell_type": "code",
   "execution_count": 65,
   "id": "ce01e055",
   "metadata": {},
   "outputs": [],
   "source": [
    "from scipy.stats import skew\n",
    "import seaborn as sns"
   ]
  },
  {
   "cell_type": "code",
   "execution_count": 66,
   "id": "c0f21d6e",
   "metadata": {},
   "outputs": [],
   "source": [
    "s = [1,2,3,4,5]"
   ]
  },
  {
   "cell_type": "code",
   "execution_count": 67,
   "id": "dc43e6f8",
   "metadata": {},
   "outputs": [
    {
     "name": "stdout",
     "output_type": "stream",
     "text": [
      "0.0\n"
     ]
    }
   ],
   "source": [
    "skew1 = skew(s)\n",
    "print(skew1)"
   ]
  },
  {
   "cell_type": "code",
   "execution_count": null,
   "id": "b4c2e5a6",
   "metadata": {},
   "outputs": [],
   "source": []
  },
  {
   "cell_type": "code",
   "execution_count": 68,
   "id": "be8576d3",
   "metadata": {},
   "outputs": [],
   "source": [
    "d = [2,8,0,4,1,9,9,0]"
   ]
  },
  {
   "cell_type": "code",
   "execution_count": 70,
   "id": "c5798f6d",
   "metadata": {},
   "outputs": [
    {
     "name": "stdout",
     "output_type": "stream",
     "text": [
      "0.2650554122698573\n"
     ]
    }
   ],
   "source": [
    "skew2 = skew(d)\n",
    "print(skew2)"
   ]
  },
  {
   "cell_type": "code",
   "execution_count": null,
   "id": "d83977a9",
   "metadata": {},
   "outputs": [],
   "source": []
  }
 ],
 "metadata": {
  "kernelspec": {
   "display_name": "Python 3 (ipykernel)",
   "language": "python",
   "name": "python3"
  },
  "language_info": {
   "codemirror_mode": {
    "name": "ipython",
    "version": 3
   },
   "file_extension": ".py",
   "mimetype": "text/x-python",
   "name": "python",
   "nbconvert_exporter": "python",
   "pygments_lexer": "ipython3",
   "version": "3.9.13"
  }
 },
 "nbformat": 4,
 "nbformat_minor": 5
}
